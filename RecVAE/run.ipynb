{
 "cells": [
  {
   "cell_type": "code",
   "execution_count": null,
   "id": "b286fb25-a646-4577-aeed-8f8c3151afbd",
   "metadata": {},
   "outputs": [],
   "source": [
    "# Code taken from https://github.com/ilya-shenbin/RecVAE/blob/master/run.py"
   ]
  },
  {
   "cell_type": "code",
   "execution_count": 1,
   "id": "184f2fcf-d57e-4832-b154-43dda5c2e32c",
   "metadata": {},
   "outputs": [
    {
     "name": "stderr",
     "output_type": "stream",
     "text": [
      "/home/pmoritz/miniconda3/envs/torch/lib/python3.9/site-packages/tqdm/auto.py:22: TqdmWarning: IProgress not found. Please update jupyter and ipywidgets. See https://ipywidgets.readthedocs.io/en/stable/user_install.html\n",
      "  from .autonotebook import tqdm as notebook_tqdm\n"
     ]
    }
   ],
   "source": [
    "import numpy as np\n",
    "import pandas as pd\n",
    "import scipy.sparse as sc\n",
    "from bottleneck import argpartition\n",
    "import sys\n",
    "import timeit, time\n",
    "\n",
    "import torch\n",
    "from torch import optim\n",
    "\n",
    "import random\n",
    "from copy import deepcopy\n",
    "\n",
    "from utils import get_data, ndcg, recall\n",
    "from model import VAE\n",
    "\n",
    "sys.path.insert(0, '/home/pmoritz/dev/modsem')\n",
    "\n",
    "from metrics import Recall, NDCG"
   ]
  },
  {
   "cell_type": "code",
   "execution_count": 2,
   "id": "b76ab752-013a-4b1a-b08a-f94cd9ce8a59",
   "metadata": {},
   "outputs": [
    {
     "data": {
      "text/plain": [
       "<torch._C.Generator at 0x7fbfa58acdf0>"
      ]
     },
     "execution_count": 2,
     "metadata": {},
     "output_type": "execute_result"
    }
   ],
   "source": [
    "seed = 1337\n",
    "random.seed(seed)\n",
    "np.random.seed(seed)\n",
    "torch.manual_seed(seed)"
   ]
  },
  {
   "cell_type": "code",
   "execution_count": 3,
   "id": "e323d8d3-b75a-4d91-8307-6464ca74678b",
   "metadata": {},
   "outputs": [],
   "source": [
    "def parse_data(data: pd.DataFrame, uid_str: str, sid_str: str, nItems):\n",
    "        nUsers = len(data[uid_str].unique())\n",
    "        users = data[uid_str].astype('category').cat.codes.values\n",
    "        items = data[sid_str].values\n",
    "        vals = np.ones(len(data))\n",
    "        X = sc.csr_matrix((vals, (users, items)), shape=(nUsers, nItems), dtype=np.float32)\n",
    "        return X"
   ]
  },
  {
   "cell_type": "code",
   "execution_count": 4,
   "id": "911468e6-4b18-4ad3-8824-f66e60672748",
   "metadata": {},
   "outputs": [
    {
     "name": "stdout",
     "output_type": "stream",
     "text": [
      "/home/pmoritz/dev/modsem/RecVAE\n"
     ]
    }
   ],
   "source": [
    "!pwd"
   ]
  },
  {
   "cell_type": "code",
   "execution_count": 5,
   "id": "ebafef9d-0d2f-4b00-a2f6-3eab9cc8ec75",
   "metadata": {},
   "outputs": [],
   "source": [
    "device = torch.device(\"cuda:0\")"
   ]
  },
  {
   "cell_type": "code",
   "execution_count": 6,
   "id": "1045d909-9fa2-4441-be3a-88dc227f8bf5",
   "metadata": {},
   "outputs": [],
   "source": [
    "def generate(batch_size, device, data_in, data_out=None, shuffle=False, samples_perc_per_epoch=1):\n",
    "    assert 0 < samples_perc_per_epoch <= 1\n",
    "    \n",
    "    total_samples = data_in.shape[0]\n",
    "    samples_per_epoch = int(total_samples * samples_perc_per_epoch)\n",
    "    \n",
    "    if shuffle:\n",
    "        idxlist = np.arange(total_samples)\n",
    "        np.random.shuffle(idxlist)\n",
    "        idxlist = idxlist[:samples_per_epoch]\n",
    "    else:\n",
    "        idxlist = np.arange(samples_per_epoch)\n",
    "    \n",
    "    for st_idx in range(0, samples_per_epoch, batch_size):\n",
    "        end_idx = min(st_idx + batch_size, samples_per_epoch)\n",
    "        idx = idxlist[st_idx:end_idx]\n",
    "\n",
    "        yield Batch(device, idx, data_in, data_out)"
   ]
  },
  {
   "cell_type": "code",
   "execution_count": 7,
   "id": "a7275812-0181-4d63-86f1-cff6d737dcee",
   "metadata": {},
   "outputs": [],
   "source": [
    "class Batch:\n",
    "    def __init__(self, device, idx, data_in, data_out=None):\n",
    "        self._device = device\n",
    "        self._idx = idx\n",
    "        self._data_in = data_in\n",
    "        self._data_out = data_out\n",
    "    \n",
    "    def get_idx(self):\n",
    "        return self._idx\n",
    "    \n",
    "    def get_idx_to_dev(self):\n",
    "        return torch.LongTensor(self.get_idx()).to(self._device)\n",
    "        \n",
    "    def get_ratings(self, is_out=False):\n",
    "        data = self._data_out if is_out else self._data_in\n",
    "        return data[self._idx]\n",
    "    \n",
    "    def get_ratings_to_dev(self, is_out=False):\n",
    "        return torch.Tensor(\n",
    "            self.get_ratings(is_out).toarray()\n",
    "        ).to(self._device)"
   ]
  },
  {
   "cell_type": "code",
   "execution_count": 8,
   "id": "e3a21dba-cb28-47df-afd8-7e8b28bd27c7",
   "metadata": {},
   "outputs": [],
   "source": [
    "def evaluate(model, data_in, data_out, metrics, samples_perc_per_epoch=1, batch_size=500):\n",
    "    metrics = deepcopy(metrics)\n",
    "    model.eval()\n",
    "    \n",
    "    for m in metrics:\n",
    "        m['score'] = []\n",
    "    \n",
    "    for batch in generate(batch_size=batch_size,\n",
    "                          device=device,\n",
    "                          data_in=data_in,\n",
    "                          data_out=data_out,\n",
    "                          samples_perc_per_epoch=samples_perc_per_epoch\n",
    "                         ):\n",
    "        \n",
    "        ratings_in = batch.get_ratings_to_dev()\n",
    "        ratings_out = batch.get_ratings(is_out=True)\n",
    "    \n",
    "        ratings_pred = model(ratings_in, calculate_loss=False).cpu().detach().numpy()\n",
    "        \n",
    "        if not (data_in is data_out):\n",
    "            ratings_pred[batch.get_ratings().nonzero()] = -np.inf\n",
    "            \n",
    "        for m in metrics:\n",
    "            m['score'].append(m['metric'](ratings_pred, ratings_out, k=m['k']))\n",
    "\n",
    "    for m in metrics:\n",
    "        m['score'] = np.concatenate(m['score']).mean()\n",
    "        \n",
    "    return [x['score'] for x in metrics]"
   ]
  },
  {
   "cell_type": "code",
   "execution_count": 9,
   "id": "83e65513-8402-46df-b08b-4a183703b0e9",
   "metadata": {},
   "outputs": [],
   "source": [
    "def evaluate_custom(model, data_in, data_out, device, metrics_lst = ['Recall(k=20)', 'Recall(k=50)', 'NDCG(k=100)',], samples_perc_per_epoch=1, batch_size=500):\n",
    "    model.to(device)\n",
    "    model.eval()\n",
    "    metric_callers = {}\n",
    "    scores = {}\n",
    "    max_topk = 0\n",
    "    for metric in metrics_lst:\n",
    "        try:\n",
    "            metric_callers[metric] = eval(metric)\n",
    "            max_topk = max(max_topk, int(metric.split(\"k=\")[-1].strip(\")\")))\n",
    "            scores[metric] = []\n",
    "        except:\n",
    "            raise NotImplementedError('metrics={} not implemented.'.format(metric))\n",
    "    \n",
    "    for batch in generate(batch_size=batch_size,\n",
    "                          device=device,\n",
    "                          data_in=data_in,\n",
    "                          data_out=data_out,\n",
    "                          samples_perc_per_epoch=samples_perc_per_epoch\n",
    "                         ):\n",
    "        \n",
    "        ratings_in = batch.get_ratings_to_dev()\n",
    "        ratings_out = batch.get_ratings(is_out=True)\n",
    "    \n",
    "        ratings_pred = model(ratings_in, calculate_loss=False).cpu().detach().numpy()\n",
    "                \n",
    "        if not (data_in is data_out):\n",
    "            ratings_pred[batch.get_ratings().nonzero()] = -np.inf\n",
    "            \n",
    "        \n",
    "        topk = argpartition(-ratings_pred, max_topk - 1, axis=1)[:, :max_topk]\n",
    "\n",
    "        # we need to sort manually\n",
    "        n_batch = ratings_out.shape[0]\n",
    "        sorted_idx = (-ratings_pred)[np.arange(n_batch)[:, None], topk].argsort()\n",
    "        topk = topk[np.arange(n_batch)[:, None], sorted_idx]\n",
    "        \n",
    "        for row in range(ratings_out.shape[0]):\n",
    "            pred_items = topk[row, :]\n",
    "            ratings_out_row  = ratings_out[row, :]\n",
    "            _, true_items, _ = sc.find(ratings_out_row)\n",
    "            \n",
    "            for metric in metrics_lst:\n",
    "                scores[metric].append(metric_callers[metric](pred_items, true_items))\n",
    "\n",
    "    for metric in scores.keys():\n",
    "        scores[metric] = np.mean(scores[metric])\n",
    "        \n",
    "    return scores"
   ]
  },
  {
   "cell_type": "code",
   "execution_count": 10,
   "id": "62ab04cf-42d0-434a-a33f-4202757fc7b5",
   "metadata": {},
   "outputs": [],
   "source": [
    "def timeit_dense_VAE(model_best, device, X_test_tr, n_users_test, max_k = 100):\n",
    "    model_best.to(device=device)\n",
    "    model_best.eval()\n",
    "    \n",
    "    rng = np.random.default_rng(seed=42)\n",
    "    rand_batch_idx = rng.integers(low=0, high=n_users_test, size=1000)\n",
    "    rand_query_idx = rng.integers(low=0, high=n_users_test, size=10)\n",
    "    batch = torch.Tensor(X_test_tr[rand_batch_idx, :].toarray()).to(device) # dense batch\n",
    "    \n",
    "    def pred_batch():\n",
    "        pred = model_best(batch, calculate_loss=False).detach()\n",
    "        pred[batch != 0.] = -torch.inf \n",
    "        _, max_ind = pred.topk(k=max_k, axis=1)\n",
    "\n",
    "    timer = timeit.Timer(pred_batch)\n",
    "    n_timer, _ = timer.autorange()\n",
    "    batch_time = min(timer.repeat(repeat=7, number=n_timer)) / n_timer\n",
    "\n",
    "    times, indexes = [], []\n",
    "    for rand_int in rand_query_idx:\n",
    "        query = torch.Tensor(X_test_tr[rand_int, :].toarray()).to(device)\n",
    "\n",
    "        def pred_query():\n",
    "            pred = model_best(query, calculate_loss=False).detach()\n",
    "            pred[query != 0.] = -torch.inf \n",
    "            _, max_ind = pred.topk(k=max_k)\n",
    "\n",
    "        timer = timeit.Timer(pred_query)\n",
    "        n_timer, _ = timer.autorange()\n",
    "        query_time_run = min(timer.repeat(repeat=7, number=n_timer)) / n_timer\n",
    "\n",
    "        times.append(query_time_run)\n",
    "        indexes.append(rand_int)\n",
    "\n",
    "    query_time = np.average(times) \n",
    "    return batch_time, query_time"
   ]
  },
  {
   "cell_type": "code",
   "execution_count": 11,
   "id": "8b149418-b8c1-494e-ab9d-721864a99b9b",
   "metadata": {},
   "outputs": [],
   "source": [
    "def run(model, opts, train_data, batch_size, n_epochs, beta, gamma, dropout_rate):\n",
    "    model.train()\n",
    "    for epoch in range(n_epochs):\n",
    "        for batch in generate(batch_size=batch_size, device=device, data_in=train_data, shuffle=True):\n",
    "            ratings = batch.get_ratings_to_dev()\n",
    "\n",
    "            for optimizer in opts:\n",
    "                optimizer.zero_grad()\n",
    "                \n",
    "            _, loss = model(ratings, beta=beta, gamma=gamma, dropout_rate=dropout_rate)\n",
    "            loss.backward()\n",
    "            \n",
    "            for optimizer in opts:\n",
    "                optimizer.step()"
   ]
  },
  {
   "cell_type": "markdown",
   "id": "f2aae9b9-ebaa-42b6-b9a8-2a4b47295468",
   "metadata": {},
   "source": [
    "### ML20M"
   ]
  },
  {
   "cell_type": "code",
   "execution_count": 14,
   "id": "85a8b9c5-6202-480b-8153-55e24a4610fe",
   "metadata": {},
   "outputs": [],
   "source": [
    "train_ML20M   = pd.read_csv('/home/pmoritz/dev/modsem/data/ml-20m/train.csv')\n",
    "val_tr_ML20M  = pd.read_csv('/home/pmoritz/dev/modsem/data/ml-20m/validation_tr.csv')\n",
    "val_te_ML20M  = pd.read_csv('/home/pmoritz/dev/modsem/data/ml-20m/validation_te.csv')\n",
    "test_tr_ML20M = pd.read_csv('/home/pmoritz/dev/modsem/data/ml-20m/test_tr.csv')\n",
    "test_te_ML20M = pd.read_csv('/home/pmoritz/dev/modsem/data/ml-20m/test_te.csv')\n",
    "\n",
    "train_data = parse_data(train_ML20M, \n",
    "                        uid_str='uid', \n",
    "                        sid_str='sid', \n",
    "                        nItems=len(train_ML20M.sid.unique()))\n",
    "valid_in_data = parse_data(val_tr_ML20M, \n",
    "                           uid_str='uid', \n",
    "                           sid_str='sid', \n",
    "                           nItems=len(train_ML20M.sid.unique()))\n",
    "valid_out_data = parse_data(val_te_ML20M, \n",
    "                            uid_str='uid', \n",
    "                            sid_str='sid', \n",
    "                            nItems=len(train_ML20M.sid.unique()))\n",
    "test_in_data = parse_data(test_tr_ML20M, \n",
    "                          uid_str='uid', \n",
    "                          sid_str='sid', \n",
    "                          nItems=len(train_ML20M.sid.unique()))\n",
    "test_out_data = parse_data(test_te_ML20M, \n",
    "                           uid_str='uid', \n",
    "                           sid_str='sid', \n",
    "                           nItems=len(train_ML20M.sid.unique()))"
   ]
  },
  {
   "cell_type": "code",
   "execution_count": 15,
   "id": "40953d41-a2f3-43de-8034-d720ca030580",
   "metadata": {},
   "outputs": [],
   "source": [
    "model_kwargs = {\n",
    "    'hidden_dim': 600,\n",
    "    'latent_dim': 200,\n",
    "    'input_dim': train_data.shape[1]\n",
    "}"
   ]
  },
  {
   "cell_type": "code",
   "execution_count": 16,
   "id": "4d1ff5f5-191e-472f-9fd1-5c3979eb8ec9",
   "metadata": {},
   "outputs": [],
   "source": [
    "metrics = [{'metric': ndcg, 'k': 100}]\n",
    "\n",
    "best_ndcg = -np.inf\n",
    "train_scores, valid_scores = [], []\n",
    "\n",
    "model = VAE(**model_kwargs).to(device)\n",
    "model_best = VAE(**model_kwargs).to(device)\n",
    "\n",
    "learning_kwargs = {\n",
    "    'model': model,\n",
    "    'train_data': train_data,\n",
    "    'batch_size': 500,\n",
    "    'beta': None,\n",
    "    'gamma': 0.005\n",
    "}\n",
    "\n",
    "learningrate=5e-4\n",
    "\n",
    "decoder_params = set(model.decoder.parameters())\n",
    "encoder_params = set(model.encoder.parameters())\n",
    "\n",
    "optimizer_encoder = optim.Adam(encoder_params, lr=learningrate)\n",
    "optimizer_decoder = optim.Adam(decoder_params, lr=learningrate)"
   ]
  },
  {
   "cell_type": "code",
   "execution_count": 17,
   "id": "225be08f-09fb-42f3-80da-01d08ab466ee",
   "metadata": {},
   "outputs": [],
   "source": [
    "n_epochs = 50\n",
    "not_alternating = False\n",
    "n_enc_epochs = 3\n",
    "n_dec_epochs = 1"
   ]
  },
  {
   "cell_type": "code",
   "execution_count": 18,
   "id": "c02794a5-4688-48f0-9670-56ed2f2891dd",
   "metadata": {},
   "outputs": [
    {
     "name": "stdout",
     "output_type": "stream",
     "text": [
      "epoch 0 | valid ndcg@100: 0.3302 | best valid: 0.3302 | train ndcg@100: 0.7137\n",
      "epoch 1 | valid ndcg@100: 0.3962 | best valid: 0.3962 | train ndcg@100: 0.7631\n",
      "epoch 2 | valid ndcg@100: 0.4132 | best valid: 0.4132 | train ndcg@100: 0.7726\n",
      "epoch 3 | valid ndcg@100: 0.4226 | best valid: 0.4226 | train ndcg@100: 0.7813\n",
      "epoch 4 | valid ndcg@100: 0.4279 | best valid: 0.4279 | train ndcg@100: 0.7859\n",
      "epoch 5 | valid ndcg@100: 0.4326 | best valid: 0.4326 | train ndcg@100: 0.7895\n",
      "epoch 6 | valid ndcg@100: 0.4342 | best valid: 0.4342 | train ndcg@100: 0.7943\n",
      "epoch 7 | valid ndcg@100: 0.4372 | best valid: 0.4372 | train ndcg@100: 0.7993\n",
      "epoch 8 | valid ndcg@100: 0.4391 | best valid: 0.4391 | train ndcg@100: 0.8030\n",
      "epoch 9 | valid ndcg@100: 0.4402 | best valid: 0.4402 | train ndcg@100: 0.8055\n",
      "epoch 10 | valid ndcg@100: 0.4413 | best valid: 0.4413 | train ndcg@100: 0.8079\n",
      "epoch 11 | valid ndcg@100: 0.4420 | best valid: 0.4420 | train ndcg@100: 0.8113\n",
      "epoch 12 | valid ndcg@100: 0.4427 | best valid: 0.4427 | train ndcg@100: 0.8144\n",
      "epoch 13 | valid ndcg@100: 0.4433 | best valid: 0.4433 | train ndcg@100: 0.8161\n",
      "epoch 14 | valid ndcg@100: 0.4434 | best valid: 0.4434 | train ndcg@100: 0.8192\n",
      "epoch 15 | valid ndcg@100: 0.4449 | best valid: 0.4449 | train ndcg@100: 0.8218\n",
      "epoch 16 | valid ndcg@100: 0.4455 | best valid: 0.4455 | train ndcg@100: 0.8234\n",
      "epoch 17 | valid ndcg@100: 0.4457 | best valid: 0.4457 | train ndcg@100: 0.8245\n",
      "epoch 18 | valid ndcg@100: 0.4455 | best valid: 0.4457 | train ndcg@100: 0.8264\n",
      "epoch 19 | valid ndcg@100: 0.4469 | best valid: 0.4469 | train ndcg@100: 0.8271\n",
      "epoch 20 | valid ndcg@100: 0.4472 | best valid: 0.4472 | train ndcg@100: 0.8291\n",
      "epoch 21 | valid ndcg@100: 0.4475 | best valid: 0.4475 | train ndcg@100: 0.8289\n",
      "epoch 22 | valid ndcg@100: 0.4471 | best valid: 0.4475 | train ndcg@100: 0.8305\n",
      "epoch 23 | valid ndcg@100: 0.4473 | best valid: 0.4475 | train ndcg@100: 0.8330\n",
      "epoch 24 | valid ndcg@100: 0.4480 | best valid: 0.4480 | train ndcg@100: 0.8319\n",
      "epoch 25 | valid ndcg@100: 0.4488 | best valid: 0.4488 | train ndcg@100: 0.8351\n",
      "epoch 26 | valid ndcg@100: 0.4480 | best valid: 0.4488 | train ndcg@100: 0.8337\n",
      "epoch 27 | valid ndcg@100: 0.4486 | best valid: 0.4488 | train ndcg@100: 0.8358\n",
      "epoch 28 | valid ndcg@100: 0.4487 | best valid: 0.4488 | train ndcg@100: 0.8372\n",
      "epoch 29 | valid ndcg@100: 0.4487 | best valid: 0.4488 | train ndcg@100: 0.8385\n",
      "epoch 30 | valid ndcg@100: 0.4488 | best valid: 0.4488 | train ndcg@100: 0.8390\n",
      "epoch 31 | valid ndcg@100: 0.4495 | best valid: 0.4495 | train ndcg@100: 0.8394\n",
      "epoch 32 | valid ndcg@100: 0.4495 | best valid: 0.4495 | train ndcg@100: 0.8395\n",
      "epoch 33 | valid ndcg@100: 0.4493 | best valid: 0.4495 | train ndcg@100: 0.8397\n",
      "epoch 34 | valid ndcg@100: 0.4491 | best valid: 0.4495 | train ndcg@100: 0.8392\n",
      "epoch 35 | valid ndcg@100: 0.4491 | best valid: 0.4495 | train ndcg@100: 0.8406\n",
      "epoch 36 | valid ndcg@100: 0.4493 | best valid: 0.4495 | train ndcg@100: 0.8421\n",
      "epoch 37 | valid ndcg@100: 0.4502 | best valid: 0.4502 | train ndcg@100: 0.8429\n",
      "epoch 38 | valid ndcg@100: 0.4488 | best valid: 0.4502 | train ndcg@100: 0.8422\n",
      "epoch 39 | valid ndcg@100: 0.4488 | best valid: 0.4502 | train ndcg@100: 0.8426\n",
      "epoch 40 | valid ndcg@100: 0.4495 | best valid: 0.4502 | train ndcg@100: 0.8433\n",
      "epoch 41 | valid ndcg@100: 0.4496 | best valid: 0.4502 | train ndcg@100: 0.8422\n",
      "epoch 42 | valid ndcg@100: 0.4500 | best valid: 0.4502 | train ndcg@100: 0.8437\n",
      "epoch 43 | valid ndcg@100: 0.4503 | best valid: 0.4503 | train ndcg@100: 0.8436\n",
      "epoch 44 | valid ndcg@100: 0.4495 | best valid: 0.4503 | train ndcg@100: 0.8434\n",
      "epoch 45 | valid ndcg@100: 0.4503 | best valid: 0.4503 | train ndcg@100: 0.8439\n",
      "epoch 46 | valid ndcg@100: 0.4502 | best valid: 0.4503 | train ndcg@100: 0.8441\n",
      "epoch 47 | valid ndcg@100: 0.4501 | best valid: 0.4503 | train ndcg@100: 0.8441\n",
      "epoch 48 | valid ndcg@100: 0.4501 | best valid: 0.4503 | train ndcg@100: 0.8448\n",
      "epoch 49 | valid ndcg@100: 0.4501 | best valid: 0.4503 | train ndcg@100: 0.8442\n",
      "Training time: 13.93min\n"
     ]
    }
   ],
   "source": [
    "start = time.time()\n",
    "for epoch in range(n_epochs):\n",
    "\n",
    "    if not_alternating:\n",
    "        run(opts=[optimizer_encoder, optimizer_decoder], n_epochs=1, dropout_rate=0.5, **learning_kwargs)\n",
    "    else:\n",
    "        run(opts=[optimizer_encoder], n_epochs=n_enc_epochs, dropout_rate=0.5, **learning_kwargs)\n",
    "        model.update_prior()\n",
    "        run(opts=[optimizer_decoder], n_epochs=n_dec_epochs, dropout_rate=0, **learning_kwargs)\n",
    "\n",
    "    train_scores.append(\n",
    "        evaluate(model, train_data, train_data, metrics, 0.01)[0]\n",
    "    )\n",
    "    valid_scores.append(\n",
    "        evaluate(model, valid_in_data, valid_out_data, metrics, 1)[0]\n",
    "    )\n",
    "    \n",
    "    if valid_scores[-1] > best_ndcg:\n",
    "        best_ndcg = valid_scores[-1]\n",
    "        model_best.load_state_dict(deepcopy(model.state_dict()))\n",
    "        \n",
    "\n",
    "    print(f'epoch {epoch} | valid ndcg@100: {valid_scores[-1]:.4f} | ' +\n",
    "          f'best valid: {best_ndcg:.4f} | train ndcg@100: {train_scores[-1]:.4f}')\n",
    "    \n",
    "end = time.time()    \n",
    "print(f'Training time: {(end-start) / 60:.2f}min')"
   ]
  },
  {
   "cell_type": "code",
   "execution_count": 19,
   "id": "0c8ba00a-24cb-439d-941b-7a7be527d6d2",
   "metadata": {},
   "outputs": [
    {
     "name": "stdout",
     "output_type": "stream",
     "text": [
      "ndcg@100:\t0.4428\n",
      "recall@20:\t0.4142\n",
      "recall@50:\t0.5543\n"
     ]
    }
   ],
   "source": [
    "test_metrics = [{'metric': ndcg, 'k': 100}, {'metric': recall, 'k': 20}, {'metric': recall, 'k': 50}]\n",
    "\n",
    "final_scores = evaluate(model_best, test_in_data, test_out_data, test_metrics)\n",
    "\n",
    "for metric, score in zip(test_metrics, final_scores):\n",
    "    print(f\"{metric['metric'].__name__}@{metric['k']}:\\t{score:.4f}\")"
   ]
  },
  {
   "cell_type": "code",
   "execution_count": 20,
   "id": "389be92b-ab97-4567-968b-e281f805b845",
   "metadata": {},
   "outputs": [
    {
     "data": {
      "text/plain": [
       "{'Recall(k=20)': 0.41422593409041947,\n",
       " 'Recall(k=50)': 0.554342493936054,\n",
       " 'NDCG(k=100)': 0.44284833890062303}"
      ]
     },
     "execution_count": 20,
     "metadata": {},
     "output_type": "execute_result"
    }
   ],
   "source": [
    "evaluate_custom(model_best, test_in_data, test_out_data, device=device)"
   ]
  },
  {
   "cell_type": "code",
   "execution_count": 21,
   "id": "5ef356a2-9117-4fd2-9f35-1fa5b53318b0",
   "metadata": {},
   "outputs": [
    {
     "data": {
      "text/plain": [
       "(0.007734691119985655, 0.00048638614479568787)"
      ]
     },
     "execution_count": 21,
     "metadata": {},
     "output_type": "execute_result"
    }
   ],
   "source": [
    "timeit_dense_VAE(model_best, \n",
    "                 device=device, #this is the gpu\n",
    "                 X_test_tr=test_in_data, \n",
    "                 n_users_test=test_in_data.shape[0], \n",
    "                 max_k = 100)"
   ]
  },
  {
   "cell_type": "code",
   "execution_count": 22,
   "id": "57a3e7ea-6e55-4afa-a284-007131de7c9c",
   "metadata": {},
   "outputs": [],
   "source": [
    "torch.save(model_best.state_dict(), 'ml20m_best')"
   ]
  },
  {
   "cell_type": "code",
   "execution_count": null,
   "id": "18e3eded-5d2d-4204-a5d3-d2117ca1852f",
   "metadata": {},
   "outputs": [],
   "source": []
  },
  {
   "cell_type": "code",
   "execution_count": null,
   "id": "5a0a6ba1-95f6-4aa4-a7b1-335ae10926c1",
   "metadata": {},
   "outputs": [],
   "source": []
  },
  {
   "cell_type": "markdown",
   "id": "9958c9e7-4523-40ee-904d-04c58d21d9cb",
   "metadata": {},
   "source": [
    "### Netflix"
   ]
  },
  {
   "cell_type": "code",
   "execution_count": 27,
   "id": "dc20134e-150b-4995-ba51-cf6f111d3936",
   "metadata": {},
   "outputs": [],
   "source": [
    "train_netflix = pd.read_csv('/home/pmoritz/dev/modsem/data/netflix/train.csv')\n",
    "val_tr_netflix = pd.read_csv('/home/pmoritz/dev/modsem/data/netflix/validation_tr.csv')\n",
    "val_te_netflix = pd.read_csv('/home/pmoritz/dev/modsem/data/netflix/validation_te.csv')\n",
    "test_tr_netflix = pd.read_csv('/home/pmoritz/dev/modsem/data/netflix/test_tr.csv')\n",
    "test_te_netflix = pd.read_csv('/home/pmoritz/dev/modsem/data/netflix/test_te.csv')\n",
    "\n",
    "train_data = parse_data(train_netflix, \n",
    "                        uid_str='uid', \n",
    "                        sid_str='sid', \n",
    "                        nItems=len(train_netflix.sid.unique()))\n",
    "\n",
    "valid_in_data = parse_data(val_tr_netflix, \n",
    "                           uid_str='uid', \n",
    "                           sid_str='sid', \n",
    "                           nItems=len(train_netflix.sid.unique()))\n",
    "\n",
    "valid_out_data = parse_data(val_te_netflix, \n",
    "                            uid_str='uid', \n",
    "                            sid_str='sid', \n",
    "                            nItems=len(train_netflix.sid.unique()))\n",
    "\n",
    "test_in_data = parse_data(test_tr_netflix, \n",
    "                          uid_str='uid', \n",
    "                          sid_str='sid', \n",
    "                          nItems=len(train_netflix.sid.unique()))\n",
    "\n",
    "test_out_data = parse_data(test_te_netflix, \n",
    "                           uid_str='uid', \n",
    "                           sid_str='sid', \n",
    "                           nItems=len(train_netflix.sid.unique()))"
   ]
  },
  {
   "cell_type": "code",
   "execution_count": 28,
   "id": "e63f4341-61b6-4455-83e7-c77fc8195e37",
   "metadata": {},
   "outputs": [],
   "source": [
    "model_kwargs = {\n",
    "    'hidden_dim': 600,\n",
    "    'latent_dim': 200,\n",
    "    'input_dim': train_data.shape[1]\n",
    "}"
   ]
  },
  {
   "cell_type": "code",
   "execution_count": 29,
   "id": "b107317d-9c5f-48ec-b393-da4fa9abf526",
   "metadata": {},
   "outputs": [],
   "source": [
    "metrics = [{'metric': ndcg, 'k': 100}]\n",
    "\n",
    "best_ndcg = -np.inf\n",
    "train_scores, valid_scores = [], []\n",
    "\n",
    "model = VAE(**model_kwargs).to(device)\n",
    "model_best = VAE(**model_kwargs).to(device)\n",
    "\n",
    "learning_kwargs = {\n",
    "    'model': model,\n",
    "    'train_data': train_data,\n",
    "    'batch_size': 500,\n",
    "    'beta': None,\n",
    "    'gamma': 0.0035\n",
    "}\n",
    "\n",
    "learningrate=5e-4\n",
    "\n",
    "decoder_params = set(model.decoder.parameters())\n",
    "encoder_params = set(model.encoder.parameters())\n",
    "\n",
    "optimizer_encoder = optim.Adam(encoder_params, lr=learningrate)\n",
    "optimizer_decoder = optim.Adam(decoder_params, lr=learningrate)"
   ]
  },
  {
   "cell_type": "code",
   "execution_count": 30,
   "id": "34c4756b-b3ac-4352-8a06-750b625403be",
   "metadata": {},
   "outputs": [],
   "source": [
    "n_epochs = 50\n",
    "not_alternating = False\n",
    "n_enc_epochs = 3\n",
    "n_dec_epochs = 1"
   ]
  },
  {
   "cell_type": "code",
   "execution_count": 31,
   "id": "c7f4cfc7-b888-4e76-b47c-0b04e7f6f23b",
   "metadata": {},
   "outputs": [
    {
     "name": "stdout",
     "output_type": "stream",
     "text": [
      "epoch 0 | valid ndcg@100: 0.3057 | best valid: 0.3057 | train ndcg@100: 0.6948\n",
      "epoch 1 | valid ndcg@100: 0.3627 | best valid: 0.3627 | train ndcg@100: 0.7410\n",
      "epoch 2 | valid ndcg@100: 0.3750 | best valid: 0.3750 | train ndcg@100: 0.7548\n",
      "epoch 3 | valid ndcg@100: 0.3804 | best valid: 0.3804 | train ndcg@100: 0.7608\n",
      "epoch 4 | valid ndcg@100: 0.3830 | best valid: 0.3830 | train ndcg@100: 0.7660\n",
      "epoch 5 | valid ndcg@100: 0.3851 | best valid: 0.3851 | train ndcg@100: 0.7727\n",
      "epoch 6 | valid ndcg@100: 0.3868 | best valid: 0.3868 | train ndcg@100: 0.7760\n",
      "epoch 7 | valid ndcg@100: 0.3877 | best valid: 0.3877 | train ndcg@100: 0.7798\n",
      "epoch 8 | valid ndcg@100: 0.3884 | best valid: 0.3884 | train ndcg@100: 0.7828\n",
      "epoch 9 | valid ndcg@100: 0.3896 | best valid: 0.3896 | train ndcg@100: 0.7852\n",
      "epoch 10 | valid ndcg@100: 0.3898 | best valid: 0.3898 | train ndcg@100: 0.7887\n",
      "epoch 11 | valid ndcg@100: 0.3905 | best valid: 0.3905 | train ndcg@100: 0.7897\n",
      "epoch 12 | valid ndcg@100: 0.3908 | best valid: 0.3908 | train ndcg@100: 0.7905\n",
      "epoch 13 | valid ndcg@100: 0.3915 | best valid: 0.3915 | train ndcg@100: 0.7933\n",
      "epoch 14 | valid ndcg@100: 0.3918 | best valid: 0.3918 | train ndcg@100: 0.7955\n",
      "epoch 15 | valid ndcg@100: 0.3918 | best valid: 0.3918 | train ndcg@100: 0.7959\n",
      "epoch 16 | valid ndcg@100: 0.3921 | best valid: 0.3921 | train ndcg@100: 0.7973\n",
      "epoch 17 | valid ndcg@100: 0.3920 | best valid: 0.3921 | train ndcg@100: 0.7979\n",
      "epoch 18 | valid ndcg@100: 0.3923 | best valid: 0.3923 | train ndcg@100: 0.7986\n",
      "epoch 19 | valid ndcg@100: 0.3922 | best valid: 0.3923 | train ndcg@100: 0.7987\n",
      "epoch 20 | valid ndcg@100: 0.3927 | best valid: 0.3927 | train ndcg@100: 0.7987\n",
      "epoch 21 | valid ndcg@100: 0.3926 | best valid: 0.3927 | train ndcg@100: 0.8005\n",
      "epoch 22 | valid ndcg@100: 0.3929 | best valid: 0.3929 | train ndcg@100: 0.8002\n",
      "epoch 23 | valid ndcg@100: 0.3930 | best valid: 0.3930 | train ndcg@100: 0.7989\n",
      "epoch 24 | valid ndcg@100: 0.3932 | best valid: 0.3932 | train ndcg@100: 0.8007\n",
      "epoch 25 | valid ndcg@100: 0.3934 | best valid: 0.3934 | train ndcg@100: 0.8009\n",
      "epoch 26 | valid ndcg@100: 0.3934 | best valid: 0.3934 | train ndcg@100: 0.8009\n",
      "epoch 27 | valid ndcg@100: 0.3934 | best valid: 0.3934 | train ndcg@100: 0.8004\n",
      "epoch 28 | valid ndcg@100: 0.3937 | best valid: 0.3937 | train ndcg@100: 0.8007\n",
      "epoch 29 | valid ndcg@100: 0.3936 | best valid: 0.3937 | train ndcg@100: 0.8010\n",
      "epoch 30 | valid ndcg@100: 0.3934 | best valid: 0.3937 | train ndcg@100: 0.8018\n",
      "epoch 31 | valid ndcg@100: 0.3937 | best valid: 0.3937 | train ndcg@100: 0.8019\n",
      "epoch 32 | valid ndcg@100: 0.3938 | best valid: 0.3938 | train ndcg@100: 0.7998\n",
      "epoch 33 | valid ndcg@100: 0.3936 | best valid: 0.3938 | train ndcg@100: 0.8000\n",
      "epoch 34 | valid ndcg@100: 0.3932 | best valid: 0.3938 | train ndcg@100: 0.8013\n",
      "epoch 35 | valid ndcg@100: 0.3935 | best valid: 0.3938 | train ndcg@100: 0.8008\n",
      "epoch 36 | valid ndcg@100: 0.3934 | best valid: 0.3938 | train ndcg@100: 0.8007\n",
      "epoch 37 | valid ndcg@100: 0.3936 | best valid: 0.3938 | train ndcg@100: 0.8002\n",
      "epoch 38 | valid ndcg@100: 0.3934 | best valid: 0.3938 | train ndcg@100: 0.8011\n",
      "epoch 39 | valid ndcg@100: 0.3938 | best valid: 0.3938 | train ndcg@100: 0.8003\n",
      "epoch 40 | valid ndcg@100: 0.3939 | best valid: 0.3939 | train ndcg@100: 0.8003\n",
      "epoch 41 | valid ndcg@100: 0.3936 | best valid: 0.3939 | train ndcg@100: 0.7996\n",
      "epoch 42 | valid ndcg@100: 0.3938 | best valid: 0.3939 | train ndcg@100: 0.7996\n",
      "epoch 43 | valid ndcg@100: 0.3938 | best valid: 0.3939 | train ndcg@100: 0.7998\n",
      "epoch 44 | valid ndcg@100: 0.3935 | best valid: 0.3939 | train ndcg@100: 0.7985\n",
      "epoch 45 | valid ndcg@100: 0.3935 | best valid: 0.3939 | train ndcg@100: 0.7988\n",
      "epoch 46 | valid ndcg@100: 0.3934 | best valid: 0.3939 | train ndcg@100: 0.7988\n",
      "epoch 47 | valid ndcg@100: 0.3935 | best valid: 0.3939 | train ndcg@100: 0.7974\n",
      "epoch 48 | valid ndcg@100: 0.3936 | best valid: 0.3939 | train ndcg@100: 0.7973\n",
      "epoch 49 | valid ndcg@100: 0.3939 | best valid: 0.3939 | train ndcg@100: 0.7972\n",
      "Training time: 42.69min\n"
     ]
    }
   ],
   "source": [
    "start = time.time()\n",
    "for epoch in range(n_epochs):\n",
    "\n",
    "    if not_alternating:\n",
    "        run(opts=[optimizer_encoder, optimizer_decoder], n_epochs=1, dropout_rate=0.5, **learning_kwargs)\n",
    "    else:\n",
    "        run(opts=[optimizer_encoder], n_epochs=n_enc_epochs, dropout_rate=0.5, **learning_kwargs)\n",
    "        model.update_prior()\n",
    "        run(opts=[optimizer_decoder], n_epochs=n_dec_epochs, dropout_rate=0, **learning_kwargs)\n",
    "\n",
    "    train_scores.append(\n",
    "        evaluate(model, train_data, train_data, metrics, 0.01)[0]\n",
    "    )\n",
    "    valid_scores.append(\n",
    "        evaluate(model, valid_in_data, valid_out_data, metrics, 1)[0]\n",
    "    )\n",
    "    \n",
    "    if valid_scores[-1] > best_ndcg:\n",
    "        best_ndcg = valid_scores[-1]\n",
    "        model_best.load_state_dict(deepcopy(model.state_dict()))\n",
    "        \n",
    "\n",
    "    print(f'epoch {epoch} | valid ndcg@100: {valid_scores[-1]:.4f} | ' +\n",
    "          f'best valid: {best_ndcg:.4f} | train ndcg@100: {train_scores[-1]:.4f}')\n",
    "    \n",
    "end = time.time()    \n",
    "print(f'Training time: {(end-start) / 60:.2f}min')"
   ]
  },
  {
   "cell_type": "code",
   "execution_count": 32,
   "id": "a29d6968-da49-4bc6-9b5d-8eb9630e259b",
   "metadata": {},
   "outputs": [
    {
     "name": "stdout",
     "output_type": "stream",
     "text": [
      "ndcg@100:\t0.3948\n",
      "recall@20:\t0.3627\n",
      "recall@50:\t0.4533\n"
     ]
    }
   ],
   "source": [
    "test_metrics = [{'metric': ndcg, 'k': 100}, {'metric': recall, 'k': 20}, {'metric': recall, 'k': 50}]\n",
    "\n",
    "final_scores = evaluate(model_best, test_in_data, test_out_data, test_metrics)\n",
    "\n",
    "for metric, score in zip(test_metrics, final_scores):\n",
    "    print(f\"{metric['metric'].__name__}@{metric['k']}:\\t{score:.4f}\")"
   ]
  },
  {
   "cell_type": "code",
   "execution_count": 33,
   "id": "36267e34-21ca-4ba6-8c70-e7b40936b14d",
   "metadata": {},
   "outputs": [
    {
     "data": {
      "text/plain": [
       "{'Recall(k=20)': 0.36266024174140277,\n",
       " 'Recall(k=50)': 0.4533128744640806,\n",
       " 'NDCG(k=100)': 0.39479793227199245}"
      ]
     },
     "execution_count": 33,
     "metadata": {},
     "output_type": "execute_result"
    }
   ],
   "source": [
    "evaluate_custom(model_best, test_in_data, test_out_data, device=device)"
   ]
  },
  {
   "cell_type": "code",
   "execution_count": 34,
   "id": "ef298c8f-f629-4b57-9196-1969960dd580",
   "metadata": {},
   "outputs": [
    {
     "data": {
      "text/plain": [
       "(0.007009308699925896, 0.0004477705160010373)"
      ]
     },
     "execution_count": 34,
     "metadata": {},
     "output_type": "execute_result"
    }
   ],
   "source": [
    "timeit_dense_VAE(model_best, \n",
    "                 device=device, #this is the gpu\n",
    "                 X_test_tr=test_in_data, \n",
    "                 n_users_test=test_in_data.shape[0], \n",
    "                 max_k = 100)"
   ]
  },
  {
   "cell_type": "code",
   "execution_count": 35,
   "id": "4a84f4d1-c0b4-4711-b47a-658b7355f18d",
   "metadata": {},
   "outputs": [],
   "source": [
    "torch.save(model_best.state_dict(), 'netflix_best')"
   ]
  },
  {
   "cell_type": "code",
   "execution_count": null,
   "id": "c58e2b56-84c2-4e49-b809-a9389b04e0f1",
   "metadata": {},
   "outputs": [],
   "source": []
  },
  {
   "cell_type": "code",
   "execution_count": null,
   "id": "c83aba6d-8c6a-46f3-a3b8-7a430de2575e",
   "metadata": {},
   "outputs": [],
   "source": []
  },
  {
   "cell_type": "code",
   "execution_count": null,
   "id": "e27cfc30-4d51-470f-8a33-c7d333124c94",
   "metadata": {},
   "outputs": [],
   "source": []
  },
  {
   "cell_type": "markdown",
   "id": "84f7ca01-50f2-41b3-be08-589794f3d6cb",
   "metadata": {
    "tags": []
   },
   "source": [
    "### MSD"
   ]
  },
  {
   "cell_type": "code",
   "execution_count": 12,
   "id": "f05da158-62b9-40f9-8c95-12e168b3beaa",
   "metadata": {},
   "outputs": [],
   "source": [
    "train_msd = pd.read_csv('/home/pmoritz/dev/modsem/data/msd/train.csv')\n",
    "val_tr_msd = pd.read_csv('/home/pmoritz/dev/modsem/data/msd/validation_tr.csv')\n",
    "val_te_msd = pd.read_csv('/home/pmoritz/dev/modsem/data/msd/validation_te.csv')\n",
    "test_tr_msd = pd.read_csv('/home/pmoritz/dev/modsem/data/msd/test_tr.csv')\n",
    "test_te_msd = pd.read_csv('/home/pmoritz/dev/modsem/data/msd/test_te.csv')\n",
    "\n",
    "train_data = parse_data(train_msd, \n",
    "                        uid_str='uid', \n",
    "                        sid_str='sid', \n",
    "                        nItems=len(train_msd.sid.unique()))\n",
    "\n",
    "valid_in_data = parse_data(val_tr_msd, \n",
    "                           uid_str='uid', \n",
    "                           sid_str='sid', \n",
    "                           nItems=len(train_msd.sid.unique()))\n",
    "\n",
    "valid_out_data = parse_data(val_te_msd, \n",
    "                            uid_str='uid', \n",
    "                            sid_str='sid', \n",
    "                            nItems=len(train_msd.sid.unique()))\n",
    "\n",
    "test_in_data = parse_data(test_tr_msd, \n",
    "                          uid_str='uid', \n",
    "                          sid_str='sid', \n",
    "                          nItems=len(train_msd.sid.unique()))\n",
    "\n",
    "test_out_data = parse_data(test_te_msd, \n",
    "                           uid_str='uid', \n",
    "                           sid_str='sid', \n",
    "                           nItems=len(train_msd.sid.unique()))"
   ]
  },
  {
   "cell_type": "code",
   "execution_count": 13,
   "id": "563534ec-9b78-4d9c-bc98-49f68d0e9de5",
   "metadata": {},
   "outputs": [],
   "source": [
    "model_kwargs = {\n",
    "    'hidden_dim': 600,\n",
    "    'latent_dim': 200,\n",
    "    'input_dim': train_data.shape[1]\n",
    "}"
   ]
  },
  {
   "cell_type": "code",
   "execution_count": 14,
   "id": "23b75a10-0747-4cb9-b2a3-30b56bb0ac3d",
   "metadata": {},
   "outputs": [],
   "source": [
    "metrics = [{'metric': ndcg, 'k': 100}]\n",
    "\n",
    "best_ndcg = -np.inf\n",
    "train_scores, valid_scores = [], []\n",
    "\n",
    "model = VAE(**model_kwargs).to(device)\n",
    "model_best = VAE(**model_kwargs).to(device)\n",
    "\n",
    "learning_kwargs = {\n",
    "    'model': model,\n",
    "    'train_data': train_data,\n",
    "    'batch_size': 500,\n",
    "    'beta': None,\n",
    "    'gamma': 0.01\n",
    "}\n",
    "\n",
    "learningrate=5e-4\n",
    "\n",
    "decoder_params = set(model.decoder.parameters())\n",
    "encoder_params = set(model.encoder.parameters())\n",
    "\n",
    "optimizer_encoder = optim.Adam(encoder_params, lr=learningrate)\n",
    "optimizer_decoder = optim.Adam(decoder_params, lr=learningrate)"
   ]
  },
  {
   "cell_type": "code",
   "execution_count": 15,
   "id": "9475b5da-46ea-4791-96a9-14228d754b03",
   "metadata": {},
   "outputs": [],
   "source": [
    "n_epochs = 100\n",
    "not_alternating = False\n",
    "n_enc_epochs = 3\n",
    "n_dec_epochs = 1"
   ]
  },
  {
   "cell_type": "code",
   "execution_count": 16,
   "id": "9300fd4d-4307-4b4e-961d-727b6ddd1dcb",
   "metadata": {},
   "outputs": [
    {
     "name": "stdout",
     "output_type": "stream",
     "text": [
      "epoch 0 | valid ndcg@100: 0.1130 | best valid: 0.1130 | train ndcg@100: 0.2387\n",
      "epoch 1 | valid ndcg@100: 0.2672 | best valid: 0.2672 | train ndcg@100: 0.5032\n",
      "epoch 2 | valid ndcg@100: 0.2923 | best valid: 0.2923 | train ndcg@100: 0.5589\n",
      "epoch 3 | valid ndcg@100: 0.3033 | best valid: 0.3033 | train ndcg@100: 0.5875\n",
      "epoch 4 | valid ndcg@100: 0.3086 | best valid: 0.3086 | train ndcg@100: 0.6045\n",
      "epoch 5 | valid ndcg@100: 0.3127 | best valid: 0.3127 | train ndcg@100: 0.6170\n",
      "epoch 6 | valid ndcg@100: 0.3155 | best valid: 0.3155 | train ndcg@100: 0.6283\n",
      "epoch 7 | valid ndcg@100: 0.3176 | best valid: 0.3176 | train ndcg@100: 0.6379\n",
      "epoch 8 | valid ndcg@100: 0.3191 | best valid: 0.3191 | train ndcg@100: 0.6455\n",
      "epoch 9 | valid ndcg@100: 0.3205 | best valid: 0.3205 | train ndcg@100: 0.6520\n",
      "epoch 10 | valid ndcg@100: 0.3211 | best valid: 0.3211 | train ndcg@100: 0.6567\n",
      "epoch 11 | valid ndcg@100: 0.3218 | best valid: 0.3218 | train ndcg@100: 0.6614\n",
      "epoch 12 | valid ndcg@100: 0.3225 | best valid: 0.3225 | train ndcg@100: 0.6649\n",
      "epoch 13 | valid ndcg@100: 0.3228 | best valid: 0.3228 | train ndcg@100: 0.6677\n",
      "epoch 14 | valid ndcg@100: 0.3231 | best valid: 0.3231 | train ndcg@100: 0.6710\n",
      "epoch 15 | valid ndcg@100: 0.3233 | best valid: 0.3233 | train ndcg@100: 0.6742\n",
      "epoch 16 | valid ndcg@100: 0.3238 | best valid: 0.3238 | train ndcg@100: 0.6771\n",
      "epoch 17 | valid ndcg@100: 0.3240 | best valid: 0.3240 | train ndcg@100: 0.6788\n",
      "epoch 18 | valid ndcg@100: 0.3243 | best valid: 0.3243 | train ndcg@100: 0.6800\n",
      "epoch 19 | valid ndcg@100: 0.3244 | best valid: 0.3244 | train ndcg@100: 0.6820\n",
      "epoch 20 | valid ndcg@100: 0.3247 | best valid: 0.3247 | train ndcg@100: 0.6839\n",
      "epoch 21 | valid ndcg@100: 0.3246 | best valid: 0.3247 | train ndcg@100: 0.6856\n",
      "epoch 22 | valid ndcg@100: 0.3246 | best valid: 0.3247 | train ndcg@100: 0.6875\n",
      "epoch 23 | valid ndcg@100: 0.3248 | best valid: 0.3248 | train ndcg@100: 0.6881\n",
      "epoch 24 | valid ndcg@100: 0.3250 | best valid: 0.3250 | train ndcg@100: 0.6888\n",
      "epoch 25 | valid ndcg@100: 0.3249 | best valid: 0.3250 | train ndcg@100: 0.6902\n",
      "epoch 26 | valid ndcg@100: 0.3250 | best valid: 0.3250 | train ndcg@100: 0.6917\n",
      "epoch 27 | valid ndcg@100: 0.3248 | best valid: 0.3250 | train ndcg@100: 0.6929\n",
      "epoch 28 | valid ndcg@100: 0.3253 | best valid: 0.3253 | train ndcg@100: 0.6922\n",
      "epoch 29 | valid ndcg@100: 0.3253 | best valid: 0.3253 | train ndcg@100: 0.6934\n",
      "epoch 30 | valid ndcg@100: 0.3255 | best valid: 0.3255 | train ndcg@100: 0.6951\n",
      "epoch 31 | valid ndcg@100: 0.3254 | best valid: 0.3255 | train ndcg@100: 0.6956\n",
      "epoch 32 | valid ndcg@100: 0.3255 | best valid: 0.3255 | train ndcg@100: 0.6959\n",
      "epoch 33 | valid ndcg@100: 0.3253 | best valid: 0.3255 | train ndcg@100: 0.6960\n",
      "epoch 34 | valid ndcg@100: 0.3254 | best valid: 0.3255 | train ndcg@100: 0.6958\n",
      "epoch 35 | valid ndcg@100: 0.3255 | best valid: 0.3255 | train ndcg@100: 0.6970\n",
      "epoch 36 | valid ndcg@100: 0.3256 | best valid: 0.3256 | train ndcg@100: 0.6967\n",
      "epoch 37 | valid ndcg@100: 0.3256 | best valid: 0.3256 | train ndcg@100: 0.6972\n",
      "epoch 38 | valid ndcg@100: 0.3257 | best valid: 0.3257 | train ndcg@100: 0.6982\n",
      "epoch 39 | valid ndcg@100: 0.3262 | best valid: 0.3262 | train ndcg@100: 0.6988\n",
      "epoch 40 | valid ndcg@100: 0.3259 | best valid: 0.3262 | train ndcg@100: 0.6994\n",
      "epoch 41 | valid ndcg@100: 0.3259 | best valid: 0.3262 | train ndcg@100: 0.6994\n",
      "epoch 42 | valid ndcg@100: 0.3258 | best valid: 0.3262 | train ndcg@100: 0.7001\n",
      "epoch 43 | valid ndcg@100: 0.3259 | best valid: 0.3262 | train ndcg@100: 0.7000\n",
      "epoch 44 | valid ndcg@100: 0.3260 | best valid: 0.3262 | train ndcg@100: 0.7001\n",
      "epoch 45 | valid ndcg@100: 0.3257 | best valid: 0.3262 | train ndcg@100: 0.6994\n",
      "epoch 46 | valid ndcg@100: 0.3259 | best valid: 0.3262 | train ndcg@100: 0.6994\n",
      "epoch 47 | valid ndcg@100: 0.3260 | best valid: 0.3262 | train ndcg@100: 0.6995\n",
      "epoch 48 | valid ndcg@100: 0.3259 | best valid: 0.3262 | train ndcg@100: 0.7001\n",
      "epoch 49 | valid ndcg@100: 0.3260 | best valid: 0.3262 | train ndcg@100: 0.7006\n",
      "epoch 50 | valid ndcg@100: 0.3259 | best valid: 0.3262 | train ndcg@100: 0.7005\n",
      "epoch 51 | valid ndcg@100: 0.3258 | best valid: 0.3262 | train ndcg@100: 0.7008\n",
      "epoch 52 | valid ndcg@100: 0.3259 | best valid: 0.3262 | train ndcg@100: 0.7005\n",
      "epoch 53 | valid ndcg@100: 0.3261 | best valid: 0.3262 | train ndcg@100: 0.6998\n",
      "epoch 54 | valid ndcg@100: 0.3258 | best valid: 0.3262 | train ndcg@100: 0.7003\n",
      "epoch 55 | valid ndcg@100: 0.3260 | best valid: 0.3262 | train ndcg@100: 0.7000\n",
      "epoch 56 | valid ndcg@100: 0.3261 | best valid: 0.3262 | train ndcg@100: 0.6999\n",
      "epoch 57 | valid ndcg@100: 0.3262 | best valid: 0.3262 | train ndcg@100: 0.6996\n",
      "epoch 58 | valid ndcg@100: 0.3262 | best valid: 0.3262 | train ndcg@100: 0.7003\n",
      "epoch 59 | valid ndcg@100: 0.3262 | best valid: 0.3262 | train ndcg@100: 0.7002\n",
      "epoch 60 | valid ndcg@100: 0.3261 | best valid: 0.3262 | train ndcg@100: 0.6996\n",
      "epoch 61 | valid ndcg@100: 0.3258 | best valid: 0.3262 | train ndcg@100: 0.6996\n",
      "epoch 62 | valid ndcg@100: 0.3260 | best valid: 0.3262 | train ndcg@100: 0.6992\n",
      "epoch 63 | valid ndcg@100: 0.3263 | best valid: 0.3263 | train ndcg@100: 0.6998\n",
      "epoch 64 | valid ndcg@100: 0.3263 | best valid: 0.3263 | train ndcg@100: 0.6993\n",
      "epoch 65 | valid ndcg@100: 0.3262 | best valid: 0.3263 | train ndcg@100: 0.6986\n",
      "epoch 66 | valid ndcg@100: 0.3263 | best valid: 0.3263 | train ndcg@100: 0.6978\n",
      "epoch 67 | valid ndcg@100: 0.3263 | best valid: 0.3263 | train ndcg@100: 0.6979\n",
      "epoch 68 | valid ndcg@100: 0.3265 | best valid: 0.3265 | train ndcg@100: 0.6973\n",
      "epoch 69 | valid ndcg@100: 0.3263 | best valid: 0.3265 | train ndcg@100: 0.6975\n",
      "epoch 70 | valid ndcg@100: 0.3263 | best valid: 0.3265 | train ndcg@100: 0.6976\n",
      "epoch 71 | valid ndcg@100: 0.3262 | best valid: 0.3265 | train ndcg@100: 0.6976\n",
      "epoch 72 | valid ndcg@100: 0.3261 | best valid: 0.3265 | train ndcg@100: 0.6966\n",
      "epoch 73 | valid ndcg@100: 0.3263 | best valid: 0.3265 | train ndcg@100: 0.6969\n",
      "epoch 74 | valid ndcg@100: 0.3263 | best valid: 0.3265 | train ndcg@100: 0.6959\n",
      "epoch 75 | valid ndcg@100: 0.3264 | best valid: 0.3265 | train ndcg@100: 0.6953\n",
      "epoch 76 | valid ndcg@100: 0.3262 | best valid: 0.3265 | train ndcg@100: 0.6947\n",
      "epoch 77 | valid ndcg@100: 0.3264 | best valid: 0.3265 | train ndcg@100: 0.6953\n",
      "epoch 78 | valid ndcg@100: 0.3261 | best valid: 0.3265 | train ndcg@100: 0.6948\n",
      "epoch 79 | valid ndcg@100: 0.3261 | best valid: 0.3265 | train ndcg@100: 0.6935\n",
      "epoch 80 | valid ndcg@100: 0.3263 | best valid: 0.3265 | train ndcg@100: 0.6936\n",
      "epoch 81 | valid ndcg@100: 0.3263 | best valid: 0.3265 | train ndcg@100: 0.6936\n",
      "epoch 82 | valid ndcg@100: 0.3262 | best valid: 0.3265 | train ndcg@100: 0.6937\n",
      "epoch 83 | valid ndcg@100: 0.3260 | best valid: 0.3265 | train ndcg@100: 0.6925\n",
      "epoch 84 | valid ndcg@100: 0.3262 | best valid: 0.3265 | train ndcg@100: 0.6918\n",
      "epoch 85 | valid ndcg@100: 0.3261 | best valid: 0.3265 | train ndcg@100: 0.6916\n",
      "epoch 86 | valid ndcg@100: 0.3262 | best valid: 0.3265 | train ndcg@100: 0.6919\n",
      "epoch 87 | valid ndcg@100: 0.3261 | best valid: 0.3265 | train ndcg@100: 0.6908\n",
      "epoch 88 | valid ndcg@100: 0.3263 | best valid: 0.3265 | train ndcg@100: 0.6906\n",
      "epoch 89 | valid ndcg@100: 0.3261 | best valid: 0.3265 | train ndcg@100: 0.6901\n",
      "epoch 90 | valid ndcg@100: 0.3262 | best valid: 0.3265 | train ndcg@100: 0.6896\n",
      "epoch 91 | valid ndcg@100: 0.3260 | best valid: 0.3265 | train ndcg@100: 0.6897\n",
      "epoch 92 | valid ndcg@100: 0.3260 | best valid: 0.3265 | train ndcg@100: 0.6885\n",
      "epoch 93 | valid ndcg@100: 0.3259 | best valid: 0.3265 | train ndcg@100: 0.6885\n",
      "epoch 94 | valid ndcg@100: 0.3261 | best valid: 0.3265 | train ndcg@100: 0.6875\n",
      "epoch 95 | valid ndcg@100: 0.3262 | best valid: 0.3265 | train ndcg@100: 0.6881\n",
      "epoch 96 | valid ndcg@100: 0.3264 | best valid: 0.3265 | train ndcg@100: 0.6873\n",
      "epoch 97 | valid ndcg@100: 0.3260 | best valid: 0.3265 | train ndcg@100: 0.6872\n",
      "epoch 98 | valid ndcg@100: 0.3261 | best valid: 0.3265 | train ndcg@100: 0.6879\n",
      "epoch 99 | valid ndcg@100: 0.3260 | best valid: 0.3265 | train ndcg@100: 0.6863\n",
      "Training time: 226.33min\n"
     ]
    }
   ],
   "source": [
    "start = time.time()\n",
    "for epoch in range(n_epochs):\n",
    "\n",
    "    if not_alternating:\n",
    "        run(opts=[optimizer_encoder, optimizer_decoder], n_epochs=1, dropout_rate=0.5, **learning_kwargs)\n",
    "    else:\n",
    "        run(opts=[optimizer_encoder], n_epochs=n_enc_epochs, dropout_rate=0.5, **learning_kwargs)\n",
    "        model.update_prior()\n",
    "        run(opts=[optimizer_decoder], n_epochs=n_dec_epochs, dropout_rate=0, **learning_kwargs)\n",
    "\n",
    "    train_scores.append(\n",
    "        evaluate(model, train_data, train_data, metrics, 0.01)[0]\n",
    "    )\n",
    "    valid_scores.append(\n",
    "        evaluate(model, valid_in_data, valid_out_data, metrics, 1)[0]\n",
    "    )\n",
    "    \n",
    "    if valid_scores[-1] > best_ndcg:\n",
    "        best_ndcg = valid_scores[-1]\n",
    "        model_best.load_state_dict(deepcopy(model.state_dict()))\n",
    "        \n",
    "\n",
    "    print(f'epoch {epoch} | valid ndcg@100: {valid_scores[-1]:.4f} | ' +\n",
    "          f'best valid: {best_ndcg:.4f} | train ndcg@100: {train_scores[-1]:.4f}')\n",
    "    \n",
    "end = time.time()    \n",
    "print(f'Training time: {(end-start) / 60:.2f}min')"
   ]
  },
  {
   "cell_type": "code",
   "execution_count": 17,
   "id": "4b9c1dd1-23d8-4020-a7c2-fa34a219f1a5",
   "metadata": {},
   "outputs": [
    {
     "name": "stdout",
     "output_type": "stream",
     "text": [
      "ndcg@100:\t0.3271\n",
      "recall@20:\t0.2771\n",
      "recall@50:\t0.3754\n"
     ]
    }
   ],
   "source": [
    "test_metrics = [{'metric': ndcg, 'k': 100}, {'metric': recall, 'k': 20}, {'metric': recall, 'k': 50}]\n",
    "\n",
    "final_scores = evaluate(model_best, test_in_data, test_out_data, test_metrics)\n",
    "\n",
    "for metric, score in zip(test_metrics, final_scores):\n",
    "    print(f\"{metric['metric'].__name__}@{metric['k']}:\\t{score:.4f}\")"
   ]
  },
  {
   "cell_type": "code",
   "execution_count": 18,
   "id": "1a936506-c9ad-4425-89fd-166f1b74c5b7",
   "metadata": {},
   "outputs": [
    {
     "data": {
      "text/plain": [
       "{'Recall(k=20)': 0.27711796495266,\n",
       " 'Recall(k=50)': 0.37538190093131724,\n",
       " 'NDCG(k=100)': 0.32709714843412047}"
      ]
     },
     "execution_count": 18,
     "metadata": {},
     "output_type": "execute_result"
    }
   ],
   "source": [
    "evaluate_custom(model_best, test_in_data, test_out_data, device=device)"
   ]
  },
  {
   "cell_type": "code",
   "execution_count": 19,
   "id": "04e35824-5dca-4708-bb95-23e7b545d7fe",
   "metadata": {},
   "outputs": [
    {
     "data": {
      "text/plain": [
       "(0.025336070849880342, 0.0005171066488008364)"
      ]
     },
     "execution_count": 19,
     "metadata": {},
     "output_type": "execute_result"
    }
   ],
   "source": [
    "timeit_dense_VAE(model_best, \n",
    "                 device=device, #this is the gpu\n",
    "                 X_test_tr=test_in_data, \n",
    "                 n_users_test=test_in_data.shape[0], \n",
    "                 max_k = 100)"
   ]
  },
  {
   "cell_type": "code",
   "execution_count": 20,
   "id": "07b82037-554c-41d9-9aa8-7de9d30a4988",
   "metadata": {},
   "outputs": [],
   "source": [
    "torch.save(model_best.state_dict(), 'msd_best')"
   ]
  },
  {
   "cell_type": "code",
   "execution_count": null,
   "id": "09254583-3e48-4557-b5c1-ca39b0ce04c4",
   "metadata": {},
   "outputs": [],
   "source": []
  }
 ],
 "metadata": {
  "kernelspec": {
   "display_name": "Python 3 (ipykernel)",
   "language": "python",
   "name": "python3"
  },
  "language_info": {
   "codemirror_mode": {
    "name": "ipython",
    "version": 3
   },
   "file_extension": ".py",
   "mimetype": "text/x-python",
   "name": "python",
   "nbconvert_exporter": "python",
   "pygments_lexer": "ipython3",
   "version": "3.9.12"
  }
 },
 "nbformat": 4,
 "nbformat_minor": 5
}
