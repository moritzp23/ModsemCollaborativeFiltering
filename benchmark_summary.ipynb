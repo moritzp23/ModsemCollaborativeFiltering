{
 "cells": [
  {
   "cell_type": "code",
   "execution_count": 10,
   "id": "386e38d9-43e7-4345-bd98-3af0d418456d",
   "metadata": {},
   "outputs": [],
   "source": [
    "from Models import MostPopularRecommender, ItemKNN, MRFApprox, sparsify, sparsity_pattern_cov, DLAE, EDLAE, ADMM_EDLAE\n",
    "import pandas as pd\n",
    "import torch\n",
    "import numpy as np\n",
    "\n",
    "import matplotlib.pyplot as plt\n",
    "import timeit\n",
    "import time\n",
    "import scipy.sparse as sp\n",
    "from scipy.linalg import lu_solve\n",
    "from copy import deepcopy\n",
    "from bottleneck import argpartition\n",
    "from sparse_dot_topn import awesome_cossim_topn\n",
    "\n",
    "\n",
    "from scipy.linalg import lu_factor, lu_solve, cholesky, eigh\n",
    "from scipy.linalg.lapack import spotri\n",
    "\n",
    "from metrics import Recall, NDCG"
   ]
  },
  {
   "cell_type": "markdown",
   "id": "e590d025-1a30-4db4-a87d-87cdc40cb49d",
   "metadata": {},
   "source": [
    "# TODO"
   ]
  },
  {
   "cell_type": "markdown",
   "id": "a398342a-4ab9-42cd-b103-7d128387bd40",
   "metadata": {},
   "source": [
    "- MRF Grid search, benchmark\n",
    "- ItemKNN search\n",
    "- Matrix Factorization: Hyperparam Netflix, all Benchmarks, Research Question: speedup mit indirektem Loeser\n",
    "- bei Sparsen Modellen: Wie ist der Zusammenhang Sparsity Pattern <-> Speed des MV-Produktes"
   ]
  },
  {
   "cell_type": "markdown",
   "id": "8fe3d226-a7d4-49eb-9f6d-2a486c0240ab",
   "metadata": {},
   "source": [
    "# Note"
   ]
  },
  {
   "cell_type": "markdown",
   "id": "00ac5926-16b3-409a-9a4f-96247fdf71c7",
   "metadata": {},
   "source": [
    "This notebook does not contain any hyperparameter search. The sole purpose is reproduce the benchmark results for the already determined optimal hyperparameters."
   ]
  },
  {
   "cell_type": "markdown",
   "id": "27125740-40fb-4fc5-b7fb-0641d97e27c4",
   "metadata": {},
   "source": [
    "# Data"
   ]
  },
  {
   "cell_type": "code",
   "execution_count": 2,
   "id": "4cab6035-727e-4b87-844c-b6393624e359",
   "metadata": {},
   "outputs": [],
   "source": [
    "def parse_data(data: pd.DataFrame, uid_str: str, sid_str: str, nItems):\n",
    "        nUsers = len(data[uid_str].unique())\n",
    "        users = data[uid_str].astype('category').cat.codes.values\n",
    "        items = data[sid_str].values\n",
    "        vals = np.ones(len(data))\n",
    "        X = sp.csr_matrix((vals, (users, items)), shape=(nUsers, nItems), dtype=np.float32)\n",
    "        return X"
   ]
  },
  {
   "cell_type": "markdown",
   "id": "b1b1b748-d223-417f-bcfc-ea957ac3c9cb",
   "metadata": {},
   "source": [
    "## ML20M"
   ]
  },
  {
   "cell_type": "code",
   "execution_count": 3,
   "id": "037e6755-37ce-4108-947b-8a85311a7464",
   "metadata": {},
   "outputs": [],
   "source": [
    "train_ML20M = pd.read_csv('/home/pmoritz/dev/modsem/data/ml-20m/train.csv')\n",
    "val_tr_ML20M = pd.read_csv('/home/pmoritz/dev/modsem/data/ml-20m/validation_tr.csv')\n",
    "val_te_ML20M = pd.read_csv('/home/pmoritz/dev/modsem/data/ml-20m/validation_te.csv')\n",
    "test_tr_ML20M = pd.read_csv('/home/pmoritz/dev/modsem/data/ml-20m/test_tr.csv')\n",
    "test_te_ML20M = pd.read_csv('/home/pmoritz/dev/modsem/data/ml-20m/test_te.csv')\n",
    "metrics_lst = ['Recall(k=20)', 'Recall(k=50)', 'NDCG(k=100)',]\n",
    "\n",
    "X_train_ML20M = parse_data(train_ML20M, uid_str='uid', sid_str='sid', nItems=len(train_ML20M.sid.unique()))\n",
    "X_test_tr_ML20M = parse_data(test_tr_ML20M, uid_str='uid', sid_str='sid', nItems=len(train_ML20M.sid.unique()))\n",
    "X_test_te_ML20M = parse_data(test_te_ML20M, uid_str='uid', sid_str='sid', nItems=len(train_ML20M.sid.unique()))"
   ]
  },
  {
   "cell_type": "markdown",
   "id": "9f200cd3-fa8e-4018-9b2f-0f6030c717c4",
   "metadata": {},
   "source": [
    "## Netflix"
   ]
  },
  {
   "cell_type": "code",
   "execution_count": 4,
   "id": "8e8a1ea1-df2c-4abc-bf3a-cbd97c06ce74",
   "metadata": {},
   "outputs": [],
   "source": [
    "train_netflix = pd.read_csv('/home/pmoritz/dev/modsem/data/netflix/train.csv')\n",
    "val_tr_netflix = pd.read_csv('/home/pmoritz/dev/modsem/data/netflix/validation_tr.csv')\n",
    "val_te_netflix = pd.read_csv('/home/pmoritz/dev/modsem/data/netflix/validation_te.csv')\n",
    "test_tr_netflix = pd.read_csv('/home/pmoritz/dev/modsem/data/netflix/test_tr.csv')\n",
    "test_te_netflix = pd.read_csv('/home/pmoritz/dev/modsem/data/netflix/test_te.csv')\n",
    "metrics_lst = ['Recall(k=20)', 'Recall(k=50)', 'NDCG(k=100)',]\n",
    "\n",
    "X_train_netflix = parse_data(train_netflix, uid_str='uid', sid_str='sid', nItems=len(train_netflix.sid.unique()))\n",
    "X_test_tr_netflix = parse_data(test_tr_netflix, uid_str='uid', sid_str='sid', nItems=len(train_netflix.sid.unique()))\n",
    "X_test_te_netflix = parse_data(test_te_netflix, uid_str='uid', sid_str='sid', nItems=len(train_netflix.sid.unique()))"
   ]
  },
  {
   "cell_type": "markdown",
   "id": "b2d77b3e-0c5b-40f2-8747-e9fd6434f31d",
   "metadata": {},
   "source": [
    "## MSD"
   ]
  },
  {
   "cell_type": "code",
   "execution_count": 5,
   "id": "05f10bc3-fc59-46a2-93b0-3199c69294f4",
   "metadata": {},
   "outputs": [],
   "source": [
    "train_msd = pd.read_csv('/home/pmoritz/dev/modsem/data/msd/train.csv')\n",
    "val_tr_msd = pd.read_csv('/home/pmoritz/dev/modsem/data/msd/validation_tr.csv')\n",
    "val_te_msd = pd.read_csv('/home/pmoritz/dev/modsem/data/msd/validation_te.csv')\n",
    "test_tr_msd = pd.read_csv('/home/pmoritz/dev/modsem/data/msd/test_tr.csv')\n",
    "test_te_msd = pd.read_csv('/home/pmoritz/dev/modsem/data/msd/test_te.csv')\n",
    "metrics_lst = ['Recall(k=20)', 'Recall(k=50)', 'NDCG(k=100)',]\n",
    "\n",
    "X_train_msd = parse_data(train_msd, uid_str='uid', sid_str='sid', nItems=len(train_msd.sid.unique()))\n",
    "X_test_tr_msd = parse_data(test_tr_msd, uid_str='uid', sid_str='sid', nItems=len(train_msd.sid.unique()))\n",
    "X_test_te_msd = parse_data(test_te_msd, uid_str='uid', sid_str='sid', nItems=len(train_msd.sid.unique()))"
   ]
  },
  {
   "cell_type": "code",
   "execution_count": null,
   "id": "c97c94a5-90fd-41fa-a981-8acbcdd1e130",
   "metadata": {},
   "outputs": [],
   "source": []
  },
  {
   "cell_type": "markdown",
   "id": "c87ce601-eec8-4da0-ab99-4fa973e84d49",
   "metadata": {},
   "source": [
    "# Helper Functions"
   ]
  },
  {
   "cell_type": "code",
   "execution_count": 6,
   "id": "7decc4ca-8699-4834-860f-2d06007fe8db",
   "metadata": {},
   "outputs": [],
   "source": [
    "def timeit_dense(model_mat, X_test_tr, n_users_test, max_k = 100):\n",
    "    rng = np.random.default_rng(seed=42)\n",
    "    rand_batch_idx = rng.integers(low=0, high=n_users_test, size=1000)\n",
    "    rand_query_idx = rng.integers(low=0, high=n_users_test, size=10)\n",
    "    batch = X_test_tr[rand_batch_idx, :].toarray() # dense batch\n",
    "    \n",
    "    def pred_batch():\n",
    "        pred = np.dot(batch, model_mat)\n",
    "        pred[batch != 0.] = -np.inf\n",
    "        pred_ind = argpartition(-pred, max_k-1, axis=1)[:, :max_k]\n",
    "\n",
    "    timer = timeit.Timer(pred_batch)\n",
    "    n_timer, _ = timer.autorange()\n",
    "    batch_time = min(timer.repeat(repeat=7, number=n_timer)) / n_timer\n",
    "\n",
    "    times, indexes = [], []\n",
    "    for rand_int in rand_query_idx:\n",
    "        query = X_test_tr[rand_int].toarray().reshape(1,-1)\n",
    "\n",
    "        def pred_query():\n",
    "            pred = np.dot(query, model_mat)\n",
    "            pred[query != 0.] = -np.inf \n",
    "            max_ind = argpartition(-pred, max_k-1, axis=1)[:, :max_k]\n",
    "\n",
    "        timer = timeit.Timer(pred_query)\n",
    "        n_timer, _ = timer.autorange()\n",
    "        query_time_run = min(timer.repeat(repeat=7, number=n_timer)) / n_timer\n",
    "\n",
    "        times.append(query_time_run)\n",
    "        indexes.append(rand_int)\n",
    "\n",
    "    query_time = np.average(times) \n",
    "    return batch_time, query_time"
   ]
  },
  {
   "cell_type": "code",
   "execution_count": 7,
   "id": "380e6713-c654-44c8-a35c-cb35c42a6bf3",
   "metadata": {},
   "outputs": [],
   "source": [
    "def timeit_dense_lowrank(model_U, model_V, X_test_tr, n_users_test, max_k = 100):\n",
    "    rng = np.random.default_rng(seed=42)\n",
    "    rand_batch_idx = rng.integers(low=0, high=n_users_test, size=1000)\n",
    "    rand_query_idx = rng.integers(low=0, high=n_users_test, size=10)\n",
    "    batch = X_test_tr[rand_batch_idx, :].toarray() # dense batch\n",
    "    \n",
    "    def pred_batch():\n",
    "        pred = np.dot( np.dot(batch, model_U), model_V.T)\n",
    "        pred[batch != 0.] = -np.inf\n",
    "        pred_ind = argpartition(-pred, max_k-1, axis=1)[:, :max_k]\n",
    "\n",
    "    timer = timeit.Timer(pred_batch)\n",
    "    n_timer, _ = timer.autorange()\n",
    "    batch_time = min(timer.repeat(repeat=7, number=n_timer)) / n_timer\n",
    "\n",
    "    times, indexes = [], []\n",
    "    for rand_int in rand_query_idx:\n",
    "        query = X_test_tr[rand_int].toarray().reshape(1,-1)\n",
    "\n",
    "        def pred_query():\n",
    "            pred = np.dot( np.dot(query, model_U), model_V.T)\n",
    "            pred[query != 0.] = -np.inf \n",
    "            max_ind = argpartition(-pred, max_k-1, axis=1)[:, :max_k]\n",
    "\n",
    "        timer = timeit.Timer(pred_query)\n",
    "        n_timer, _ = timer.autorange()\n",
    "        query_time_run = min(timer.repeat(repeat=7, number=n_timer)) / n_timer\n",
    "\n",
    "        times.append(query_time_run)\n",
    "        indexes.append(rand_int)\n",
    "\n",
    "    query_time = np.average(times) \n",
    "    return batch_time, query_time"
   ]
  },
  {
   "cell_type": "code",
   "execution_count": 8,
   "id": "ac819d31-76fd-4156-ac76-cd255c346462",
   "metadata": {},
   "outputs": [],
   "source": [
    "def timeit_dense_lusolve(model, X_test, n_users_test, max_k = 100):\n",
    "    rng = np.random.default_rng(seed=42)\n",
    "    rand_batch_idx = rng.integers(low=0, high=n_users_test, size=1000)\n",
    "    rand_query_idx = rng.integers(low=0, high=n_users_test, size=10)\n",
    "    batch = X_test[rand_batch_idx, :].toarray() # dense batch\n",
    "    batch_T = batch.T\n",
    "    \n",
    "    def pred_batch():\n",
    "        pred = (batch_T - lu_solve((model.lu, model.piv), batch_T)).T\n",
    "        pred[batch != 0.] = -np.inf\n",
    "        pred_ind = argpartition(-pred, max_k-1, axis=1)[:, :max_k]\n",
    "\n",
    "    timer = timeit.Timer(pred_batch)\n",
    "    n_timer, _ = timer.autorange()\n",
    "    batch_time = min(timer.repeat(repeat=7, number=n_timer)) / n_timer\n",
    "\n",
    "    times, indexes = [], []\n",
    "    for rand_int in rand_query_idx:\n",
    "        query = X_test[rand_int].toarray().reshape(1,-1)\n",
    "        query_T = query.T\n",
    "\n",
    "        def pred_query():\n",
    "            pred = (query_T - lu_solve((model.lu, model.piv), query_T)).T\n",
    "            pred[query != 0.] = -np.inf \n",
    "            max_ind = argpartition(-pred, max_k-1, axis=1)[:, :max_k]\n",
    "\n",
    "        timer = timeit.Timer(pred_query)\n",
    "        n_timer, _ = timer.autorange()\n",
    "        query_time_run = min(timer.repeat(repeat=7, number=n_timer)) / n_timer\n",
    "\n",
    "        times.append(query_time_run)\n",
    "        indexes.append(rand_int)\n",
    "\n",
    "    query_time = np.average(times) \n",
    "    return batch_time, query_time"
   ]
  },
  {
   "cell_type": "code",
   "execution_count": 9,
   "id": "8c964b52-49d6-4300-8346-1a2e14100e87",
   "metadata": {},
   "outputs": [],
   "source": [
    "def timeit_sparse(model_sparse, X_test, n_users_test, max_k = 100, n_jobs=16):\n",
    "    \"\"\"\n",
    "    Suppa fast, using awesome_cossim_topn \n",
    "    \"\"\"\n",
    "    rng = np.random.default_rng(seed=42)\n",
    "    rand_batch_idx = rng.integers(low=0, high=n_users_test, size=1000)\n",
    "    rand_query_idx = rng.integers(low=0, high=n_users_test, size=10)\n",
    "    batch = X_test[rand_batch_idx, :] #sparse batch\n",
    "    sparse_id = sp.identity(model_sparse.shape[0], dtype=np.float32, format='csr')\n",
    "    \n",
    "    # need to define B this way, in order to remove the items with which the user interacted from the preds \n",
    "    # computed by awesome_cossim_topn\n",
    "    B = model_sparse - np.inf * sparse_id\n",
    "    \n",
    "    def pred_batch():\n",
    "        pred = awesome_cossim_topn(A=batch, B=B, ntop=max_k, use_threads=True, n_jobs=n_jobs).indices\n",
    "        \n",
    "    timer = timeit.Timer(pred_batch)\n",
    "    n_timer, _ = timer.autorange()\n",
    "    batch_time = min(timer.repeat(repeat=7, number=n_timer)) / n_timer\n",
    "    \n",
    "    times, indexes = [], []\n",
    "    for rand_int in rand_query_idx:\n",
    "        query = X_test[rand_int]\n",
    "        \n",
    "        def pred_query():\n",
    "            pred = awesome_cossim_topn(A=query, B=B, ntop=max_k, use_threads=False, n_jobs=1).indices\n",
    "        \n",
    "        timer = timeit.Timer(pred_query)\n",
    "        n_timer, _ = timer.autorange()\n",
    "        query_time_run = min(timer.repeat(repeat=7, number=n_timer)) / n_timer\n",
    "        \n",
    "        times.append(query_time_run)\n",
    "        indexes.append(rand_int)\n",
    "        \n",
    "    query_time = np.average(times) \n",
    "    return batch_time, query_time"
   ]
  },
  {
   "cell_type": "code",
   "execution_count": 10,
   "id": "49973709-6205-44c6-b767-12ab29d3d954",
   "metadata": {},
   "outputs": [],
   "source": [
    "def timeit_dense_VAE(model_best, device, X_test_tr, n_users_test, max_k = 100):\n",
    "    model_best.to(device=device)\n",
    "    model_best.eval()\n",
    "    \n",
    "    rng = np.random.default_rng(seed=42)\n",
    "    rand_batch_idx = rng.integers(low=0, high=n_users_test, size=1000)\n",
    "    rand_query_idx = rng.integers(low=0, high=n_users_test, size=10)\n",
    "    batch = torch.Tensor(X_test_tr[rand_batch_idx, :].toarray()).to(device) # dense batch\n",
    "    \n",
    "    def pred_batch():\n",
    "        pred = model_best(batch, calculate_loss=False).detach()\n",
    "        pred[batch != 0.] = -torch.inf \n",
    "        _, max_ind = pred.topk(k=max_k, axis=1)\n",
    "\n",
    "    timer = timeit.Timer(pred_batch)\n",
    "    n_timer, _ = timer.autorange()\n",
    "    batch_time = min(timer.repeat(repeat=7, number=n_timer)) / n_timer\n",
    "\n",
    "    times, indexes = [], []\n",
    "    for rand_int in rand_query_idx:\n",
    "        query = torch.Tensor(X_test_tr[rand_int, :].toarray()).to(device)\n",
    "\n",
    "        def pred_query():\n",
    "            pred = model_best(query, calculate_loss=False).detach()\n",
    "            pred[query != 0.] = -torch.inf \n",
    "            _, max_ind = pred.topk(k=max_k)\n",
    "\n",
    "        timer = timeit.Timer(pred_query)\n",
    "        n_timer, _ = timer.autorange()\n",
    "        query_time_run = min(timer.repeat(repeat=7, number=n_timer)) / n_timer\n",
    "\n",
    "        times.append(query_time_run)\n",
    "        indexes.append(rand_int)\n",
    "\n",
    "    query_time = np.average(times) \n",
    "    return batch_time, query_time"
   ]
  },
  {
   "cell_type": "markdown",
   "id": "a548b0d3-d1d1-4ae2-a653-93b2133703d3",
   "metadata": {},
   "source": [
    "# Models"
   ]
  },
  {
   "cell_type": "markdown",
   "id": "8404410a-aadd-469c-8f4c-429c77d865df",
   "metadata": {},
   "source": [
    "## Most Popular Recommender"
   ]
  },
  {
   "cell_type": "markdown",
   "id": "7f8e2bf8-356c-4c70-b063-da9282bb6a72",
   "metadata": {},
   "source": [
    "### ML20M"
   ]
  },
  {
   "cell_type": "code",
   "execution_count": 9,
   "id": "b405d14f-a1c8-4f1f-b0ea-efbce170785d",
   "metadata": {},
   "outputs": [
    {
     "name": "stdout",
     "output_type": "stream",
     "text": [
      "create lookup\n",
      "create true item df\n",
      "predicting\n",
      "predicting done, reindexing\n",
      "calculating metrics\n",
      "Numpy Most-Popular: Recall@20: 0.16179511, Recall@50: 0.23519126, NDCG@100: 0.19055265\n"
     ]
    }
   ],
   "source": [
    "model_pop = MostPopularRecommender(nItems=20108)\n",
    "model_pop.fit(train_ML20M, uid_str='uid', sid_str='sid')\n",
    "metr_pop = model_pop.evaluate_metrics(test_tr_ML20M, test_te_ML20M, 'uid', 'sid', metrics_lst)\n",
    "print(f\"Numpy Most-Popular: Recall@20: {metr_pop['Recall(k=20)']:.8f}, Recall@50: {metr_pop['Recall(k=50)']:.8f}, NDCG@100: {metr_pop['NDCG(k=100)']:.8f}\")"
   ]
  },
  {
   "cell_type": "markdown",
   "id": "a59fa937-d8f3-40b9-8174-b45d0ef79eab",
   "metadata": {},
   "source": [
    "### Netflix"
   ]
  },
  {
   "cell_type": "code",
   "execution_count": 12,
   "id": "0d52e030-09e4-4625-aa1e-3183e7f24016",
   "metadata": {},
   "outputs": [
    {
     "name": "stdout",
     "output_type": "stream",
     "text": [
      "create lookup\n",
      "create true item df\n",
      "predicting\n",
      "predicting done, reindexing\n",
      "calculating metrics\n",
      "Numpy Most-Popular: Recall@20: 0.11618164, Recall@50: 0.17488988, NDCG@100: 0.15873620\n"
     ]
    }
   ],
   "source": [
    "model_pop = MostPopularRecommender(nItems=17769)\n",
    "model_pop.fit(train_netflix, uid_str='uid', sid_str='sid')\n",
    "metr_pop = model_pop.evaluate_metrics(test_tr_netflix, test_te_netflix, 'uid', 'sid', metrics_lst)\n",
    "print(f\"Numpy Most-Popular: Recall@20: {metr_pop['Recall(k=20)']:.8f}, Recall@50: {metr_pop['Recall(k=50)']:.8f}, NDCG@100: {metr_pop['NDCG(k=100)']:.8f}\")"
   ]
  },
  {
   "cell_type": "markdown",
   "id": "62fe6e7f-444f-455d-b35c-ebbcd139957c",
   "metadata": {},
   "source": [
    "### MSD"
   ]
  },
  {
   "cell_type": "code",
   "execution_count": 13,
   "id": "21a3df0b-37c8-4f2c-a6ce-ac5d75a9e3d3",
   "metadata": {},
   "outputs": [
    {
     "name": "stdout",
     "output_type": "stream",
     "text": [
      "create lookup\n",
      "create true item df\n",
      "predicting\n",
      "predicting done, reindexing\n",
      "calculating metrics\n",
      "Numpy Most-Popular: Recall@20: 0.04266630, Recall@50: 0.06805783, NDCG@100: 0.05821317\n"
     ]
    }
   ],
   "source": [
    "model_pop = MostPopularRecommender(nItems=41140)\n",
    "model_pop.fit(train_msd, uid_str='uid', sid_str='sid')\n",
    "metr_pop = model_pop.evaluate_metrics(test_tr_msd, test_te_msd, 'uid', 'sid', metrics_lst)\n",
    "print(f\"Numpy Most-Popular: Recall@20: {metr_pop['Recall(k=20)']:.8f}, Recall@50: {metr_pop['Recall(k=50)']:.8f}, NDCG@100: {metr_pop['NDCG(k=100)']:.8f}\")"
   ]
  },
  {
   "cell_type": "markdown",
   "id": "b742573e-29e5-4459-9e45-bbbd111f7836",
   "metadata": {},
   "source": [
    "## ItemKNN"
   ]
  },
  {
   "cell_type": "markdown",
   "id": "99be7559-9bce-4775-a2fe-c9e05dd9044a",
   "metadata": {},
   "source": [
    "### ML20M"
   ]
  },
  {
   "cell_type": "code",
   "execution_count": null,
   "id": "74db9bf8-f016-4941-a32c-176c70382aab",
   "metadata": {},
   "outputs": [],
   "source": []
  },
  {
   "cell_type": "code",
   "execution_count": null,
   "id": "7d23fedf-dc65-407a-a82b-bd184df80dfa",
   "metadata": {},
   "outputs": [],
   "source": []
  },
  {
   "cell_type": "code",
   "execution_count": null,
   "id": "0aaa3477-7c8d-4248-a6d2-434522fcbb5e",
   "metadata": {},
   "outputs": [],
   "source": []
  },
  {
   "cell_type": "markdown",
   "id": "4b4683ad-088d-4414-844b-7447d4d2dad4",
   "metadata": {},
   "source": [
    "### Netflix"
   ]
  },
  {
   "cell_type": "code",
   "execution_count": null,
   "id": "c6976d7b-5bc3-4ebe-a285-c42b92ca4cb4",
   "metadata": {},
   "outputs": [],
   "source": []
  },
  {
   "cell_type": "code",
   "execution_count": null,
   "id": "59e52f30-1583-4754-a3e7-92c0d4ab454f",
   "metadata": {},
   "outputs": [],
   "source": []
  },
  {
   "cell_type": "code",
   "execution_count": null,
   "id": "71cf1248-e9df-434b-94e5-e992244625e3",
   "metadata": {},
   "outputs": [],
   "source": []
  },
  {
   "cell_type": "markdown",
   "id": "26b1f894-3992-4fa6-b164-67deecc5f136",
   "metadata": {},
   "source": [
    "### MSD"
   ]
  },
  {
   "cell_type": "markdown",
   "id": "5d8f121f-a886-4cc3-8c87-478a66001864",
   "metadata": {},
   "source": [
    "## Matrix Factorization"
   ]
  },
  {
   "cell_type": "code",
   "execution_count": null,
   "id": "77dca49c-8f73-4805-b520-7fe02aa948b4",
   "metadata": {},
   "outputs": [],
   "source": []
  },
  {
   "cell_type": "markdown",
   "id": "1ef112dc-2a90-40de-a235-7dc94d5e7e80",
   "metadata": {
    "tags": []
   },
   "source": [
    "## EDLAE\n",
    "Using the Hyperparameters that were provided in the paper. The EDLAE model uses a fast inverse routine based on scipys LAPACK api. This directly exploits the definiteness of the model-matrix."
   ]
  },
  {
   "cell_type": "markdown",
   "id": "f1a94782-5c3a-49c8-952d-3f3833aa412f",
   "metadata": {
    "tags": []
   },
   "source": [
    "### ML20M"
   ]
  },
  {
   "cell_type": "code",
   "execution_count": 5,
   "id": "1a491c50-9215-44d6-aea5-e026ab4786f5",
   "metadata": {
    "tags": []
   },
   "outputs": [
    {
     "name": "stdout",
     "output_type": "stream",
     "text": [
      "finished inverse computation\n",
      "create lookup\n",
      "create true item df\n",
      "predicting\n",
      "predicting done, reindexing\n",
      "calculating metrics\n",
      "My DLAE:  Recall@20: 0.39262427, Recall@50: 0.52320221, NDCG@100: 0.42414733\n"
     ]
    }
   ],
   "source": [
    "model_EDLAE = EDLAE(p=0.33, lmbda=300)\n",
    "model_EDLAE.fit(train_ML20M, uid_str='uid', sid_str='sid', nItems=20108)\n",
    "metr_EDLAE = model_EDLAE.evaluate_metrics(test_tr_ML20M, test_te_ML20M, 'uid', 'sid', metrics_lst)\n",
    "print(f'My DLAE:  Recall@20: {metr_EDLAE[\"Recall(k=20)\"]:.8f}, Recall@50: {metr_EDLAE[\"Recall(k=50)\"]:.8f}, NDCG@100: {metr_EDLAE[\"NDCG(k=100)\"]:.8f}')"
   ]
  },
  {
   "cell_type": "code",
   "execution_count": 7,
   "id": "e0e1ece9-cd7d-4336-89d7-95da78a4cc8f",
   "metadata": {},
   "outputs": [
    {
     "name": "stdout",
     "output_type": "stream",
     "text": [
      "Retrieval time for 1000 queries: 1.024047702999951 sec, Average retrieval time for 1 query: 0.03804571812000404 sec\n"
     ]
    }
   ],
   "source": [
    "batch_time, query_time = timeit_dense(\n",
    "                 model_mat = model_EDLAE.B,\n",
    "                 X_test_tr = X_test_tr_ML20M, \n",
    "                 n_users_test = X_test_tr_ML20M.shape[0], \n",
    "                 max_k = 100)\n",
    "\n",
    "print(f'Retrieval time for 1000 queries: {batch_time} sec, Average retrieval time for 1 query: {query_time} sec')"
   ]
  },
  {
   "cell_type": "code",
   "execution_count": null,
   "id": "64698737-9f5d-4930-b80b-f262b07baadd",
   "metadata": {},
   "outputs": [],
   "source": [
    "# Retrieval time for 1000 queries: 1.6952928089995112 sec, Average retrieval time for 1 query: 0.04276158154003497 sec"
   ]
  },
  {
   "cell_type": "markdown",
   "id": "9c44403b-3680-4bd1-8d4c-d5073f958655",
   "metadata": {
    "tags": []
   },
   "source": [
    "### Netflix"
   ]
  },
  {
   "cell_type": "code",
   "execution_count": 9,
   "id": "7aec66d1-6011-4a28-9498-a19a8f38686b",
   "metadata": {},
   "outputs": [
    {
     "name": "stdout",
     "output_type": "stream",
     "text": [
      "finished inverse computation\n",
      "create lookup\n",
      "create true item df\n",
      "predicting\n",
      "predicting done, reindexing\n",
      "calculating metrics\n",
      "My DLAE:  Recall@20: 0.36553381, Recall@50: 0.44917571, NDCG@100: 0.39768706\n"
     ]
    }
   ],
   "source": [
    "model_EDLAE = EDLAE(p=0.33, lmbda=500)\n",
    "model_EDLAE.fit(train_netflix, uid_str='uid', sid_str='sid', nItems=17769)\n",
    "metr_EDLAE = model_EDLAE.evaluate_metrics(test_tr_netflix, test_te_netflix, 'uid', 'sid', metrics_lst)\n",
    "print(f'My DLAE:  Recall@20: {metr_EDLAE[\"Recall(k=20)\"]:.8f}, Recall@50: {metr_EDLAE[\"Recall(k=50)\"]:.8f}, NDCG@100: {metr_EDLAE[\"NDCG(k=100)\"]:.8f}')"
   ]
  },
  {
   "cell_type": "code",
   "execution_count": 10,
   "id": "36627fe5-caa4-4d03-aeb4-6a6ccd7cf6e7",
   "metadata": {},
   "outputs": [
    {
     "name": "stdout",
     "output_type": "stream",
     "text": [
      "Retrieval time for 1000 queries: 0.974228961000108 sec, Average retrieval time for 1 query: 0.030050264259998582 sec\n"
     ]
    }
   ],
   "source": [
    "batch_time, query_time = timeit_dense(\n",
    "                 model_mat = model_EDLAE.B,\n",
    "                 X_test_tr = X_test_tr_netflix, \n",
    "                 n_users_test = X_test_tr_netflix.shape[0], \n",
    "                 max_k = 100)\n",
    "\n",
    "print(f'Retrieval time for 1000 queries: {batch_time} sec, Average retrieval time for 1 query: {query_time} sec')"
   ]
  },
  {
   "cell_type": "markdown",
   "id": "0960e8b4-98bc-43a3-8645-7f5c734739f2",
   "metadata": {
    "tags": []
   },
   "source": [
    "### MSD"
   ]
  },
  {
   "cell_type": "code",
   "execution_count": 15,
   "id": "cd64d1c8-a02d-4ad6-bc11-fc20551c295d",
   "metadata": {},
   "outputs": [
    {
     "name": "stdout",
     "output_type": "stream",
     "text": [
      "finished inverse computation\n",
      "create lookup\n",
      "create true item df\n",
      "predicting\n",
      "predicting done, reindexing\n",
      "calculating metrics\n",
      "My DLAE:  Recall@20: 0.33407616, Recall@50: 0.42947739, NDCG@100: 0.39150817\n"
     ]
    }
   ],
   "source": [
    "model_EDLAE = EDLAE(p=0.25, lmbda=70)\n",
    "model_EDLAE.fit(train_msd, uid_str='uid', sid_str='sid', nItems=41140)\n",
    "metr_EDLAE = model_EDLAE.evaluate_metrics(test_tr_msd, test_te_msd, 'uid', 'sid', metrics_lst)\n",
    "print(f'My DLAE:  Recall@20: {metr_EDLAE[\"Recall(k=20)\"]:.8f}, Recall@50: {metr_EDLAE[\"Recall(k=50)\"]:.8f}, NDCG@100: {metr_EDLAE[\"NDCG(k=100)\"]:.8f}')"
   ]
  },
  {
   "cell_type": "code",
   "execution_count": 16,
   "id": "e43cce83-bff8-41cc-87b3-7c8dd713bd85",
   "metadata": {},
   "outputs": [
    {
     "name": "stdout",
     "output_type": "stream",
     "text": [
      "Retrieval time for 1000 queries: 4.441371983999943 sec, Average retrieval time for 1 query: 0.18684247719993435 sec\n"
     ]
    }
   ],
   "source": [
    "batch_time, query_time = timeit_dense(\n",
    "                 model_mat = model_EDLAE.B,\n",
    "                 X_test_tr = X_test_tr_msd, \n",
    "                 n_users_test = X_test_tr_msd.shape[0], \n",
    "                 max_k = 100)\n",
    "\n",
    "print(f'Retrieval time for 1000 queries: {batch_time} sec, Average retrieval time for 1 query: {query_time} sec')"
   ]
  },
  {
   "cell_type": "code",
   "execution_count": null,
   "id": "ee2438a5-5546-491e-8c1b-08c95e744823",
   "metadata": {},
   "outputs": [],
   "source": [
    "# Retrieval time for 1000 queries: 6.8957461810000495 sec, Average retrieval time for 1 query: 0.2051606809999953 sec"
   ]
  },
  {
   "cell_type": "markdown",
   "id": "1cdef4ea-a436-49ed-9833-f39950d159be",
   "metadata": {
    "tags": []
   },
   "source": [
    "## DLAE"
   ]
  },
  {
   "cell_type": "markdown",
   "id": "1f510c74-0b27-43f1-9246-7bbb42a1dd24",
   "metadata": {
    "tags": []
   },
   "source": [
    "### ML20M"
   ]
  },
  {
   "cell_type": "code",
   "execution_count": 17,
   "id": "12ab38c2-f612-4c78-b946-bd834d252af2",
   "metadata": {},
   "outputs": [
    {
     "name": "stdout",
     "output_type": "stream",
     "text": [
      "create lookup\n",
      "create true item df\n",
      "predicting\n",
      "predicting done, reindexing\n",
      "calculating metrics\n",
      "My EASE:  Recall@20: 0.39083883, Recall@50: 0.52222514, NDCG@100: 0.42242085\n"
     ]
    }
   ],
   "source": [
    "model_DLAE = DLAE(p=0.33, lmbda=300, method='chol')\n",
    "model_DLAE.fit(train_ML20M, uid_str='uid', sid_str='sid', nItems=20108)\n",
    "metr_DLAE = model_DLAE.evaluate_metrics(test_tr_ML20M, test_te_ML20M, 'uid', 'sid', metrics_lst)\n",
    "print(f'My EASE:  Recall@20: {metr_DLAE[\"Recall(k=20)\"]:.8f}, Recall@50: {metr_DLAE[\"Recall(k=50)\"]:.8f}, NDCG@100: {metr_DLAE[\"NDCG(k=100)\"]:.8f}')"
   ]
  },
  {
   "cell_type": "code",
   "execution_count": 18,
   "id": "d916faa0-1774-4ebf-9e87-e492cdf58110",
   "metadata": {},
   "outputs": [
    {
     "name": "stdout",
     "output_type": "stream",
     "text": [
      "Retrieval time for 1000 queries: 1.4158661910000774 sec, Average retrieval time for 1 query: 0.04428897712001344 sec\n"
     ]
    }
   ],
   "source": [
    "batch_time, query_time = timeit_dense_lusolve(\n",
    "                 model = model_DLAE,\n",
    "                 X_test = model_DLAE.X_test, \n",
    "                 n_users_test = model_DLAE.X_test.shape[0], \n",
    "                 max_k = 100)\n",
    "\n",
    "print(f'Retrieval time for 1000 queries: {batch_time} sec, Average retrieval time for 1 query: {query_time} sec')"
   ]
  },
  {
   "cell_type": "markdown",
   "id": "b4335054-e68d-4aff-8c92-efa3ea0b4310",
   "metadata": {},
   "source": [
    "### Netflix"
   ]
  },
  {
   "cell_type": "code",
   "execution_count": 21,
   "id": "7f03e22a-a133-4c05-8938-d03d3dbf466c",
   "metadata": {},
   "outputs": [
    {
     "name": "stdout",
     "output_type": "stream",
     "text": [
      "create lookup\n",
      "create true item df\n",
      "predicting\n",
      "predicting done, reindexing\n",
      "calculating metrics\n",
      "My EASE:  Recall@20: 0.36200935, Recall@50: 0.44547859, NDCG@100: 0.39470801\n"
     ]
    }
   ],
   "source": [
    "model_DLAE = DLAE(p=0.33, lmbda=500, method='chol')\n",
    "model_DLAE.fit(train_netflix, uid_str='uid', sid_str='sid', nItems=17769)\n",
    "metr_DLAE = model_DLAE.evaluate_metrics(test_tr_netflix, test_te_netflix, 'uid', 'sid', metrics_lst)\n",
    "print(f'My EASE:  Recall@20: {metr_DLAE[\"Recall(k=20)\"]:.8f}, Recall@50: {metr_DLAE[\"Recall(k=50)\"]:.8f}, NDCG@100: {metr_DLAE[\"NDCG(k=100)\"]:.8f}')"
   ]
  },
  {
   "cell_type": "code",
   "execution_count": 22,
   "id": "c9d7c568-c645-4aa4-9d5e-9a6fccbef7e1",
   "metadata": {},
   "outputs": [
    {
     "name": "stdout",
     "output_type": "stream",
     "text": [
      "Retrieval time for 1000 queries: 1.1066707749996567 sec, Average retrieval time for 1 query: 0.033927167649994774 sec\n"
     ]
    }
   ],
   "source": [
    "batch_time, query_time = timeit_dense_lusolve(\n",
    "                 model = model_DLAE,\n",
    "                 X_test = model_DLAE.X_test, \n",
    "                 n_users_test = model_DLAE.X_test.shape[0], \n",
    "                 max_k = 100)\n",
    "\n",
    "print(f'Retrieval time for 1000 queries: {batch_time} sec, Average retrieval time for 1 query: {query_time} sec')"
   ]
  },
  {
   "cell_type": "markdown",
   "id": "4ea9257f-f3dd-4970-a7a1-67cd5f85969e",
   "metadata": {},
   "source": [
    "### MSD"
   ]
  },
  {
   "cell_type": "code",
   "execution_count": 23,
   "id": "96c7fe13-d821-4193-9f47-96686e35d75f",
   "metadata": {},
   "outputs": [
    {
     "name": "stdout",
     "output_type": "stream",
     "text": [
      "create lookup\n",
      "create true item df\n",
      "predicting\n",
      "predicting done, reindexing\n",
      "calculating metrics\n",
      "My EASE:  Recall@20: 0.32671274, Recall@50: 0.42409090, NDCG@100: 0.38436593\n"
     ]
    }
   ],
   "source": [
    "model_DLAE = DLAE(p=0.25, lmbda=70, method='chol')\n",
    "model_DLAE.fit(train_msd, uid_str='uid', sid_str='sid', nItems=41140)\n",
    "metr_DLAE = model_DLAE.evaluate_metrics(test_tr_msd, test_te_msd, 'uid', 'sid', metrics_lst)\n",
    "print(f'My EASE:  Recall@20: {metr_DLAE[\"Recall(k=20)\"]:.8f}, Recall@50: {metr_DLAE[\"Recall(k=50)\"]:.8f}, NDCG@100: {metr_DLAE[\"NDCG(k=100)\"]:.8f}')"
   ]
  },
  {
   "cell_type": "code",
   "execution_count": null,
   "id": "992ba866-bbda-43d8-bc46-5a468ce31481",
   "metadata": {},
   "outputs": [],
   "source": [
    "batch_time, query_time = timeit_dense_lusolve(\n",
    "                 model = model_DLAE,\n",
    "                 X_test = model_DLAE.X_test, \n",
    "                 n_users_test = model_DLAE.X_test.shape[0], \n",
    "                 max_k = 100)\n",
    "\n",
    "print(f'Retrieval time for 1000 queries: {batch_time} sec, Average retrieval time for 1 query: {query_time} sec')"
   ]
  },
  {
   "cell_type": "markdown",
   "id": "a6e4d2a0-3809-4856-a96c-d7545b09dbe8",
   "metadata": {
    "tags": []
   },
   "source": [
    "## EDLAE Low-Rank"
   ]
  },
  {
   "cell_type": "code",
   "execution_count": 9,
   "id": "2c7355d5-57fb-43d5-9fb9-b0befb30d083",
   "metadata": {},
   "outputs": [],
   "source": [
    "def run_lowrank_benchmark(path_to_BWV, result_path, X_test_tr, fitted_model, result_metrics, test_tr, test_te, k_vec = [10, 20, 50, 100, 200, 500, 1000, 2000, 5000, 10000, 20000]):\n",
    "    batch_times, query_times = [], []\n",
    "    recalls20, recalls50, ndcgs100 = [], [], []\n",
    "\n",
    "    batch_time, query_time = timeit_dense(\n",
    "                     model_mat = fitted_model.B,\n",
    "                     X_test_tr = X_test_tr, \n",
    "                     n_users_test = X_test_tr.shape[0], \n",
    "                     max_k = 100)\n",
    "\n",
    "    batch_times.append(batch_time)\n",
    "    query_times.append(query_time)\n",
    "    recalls20.append(result_metrics[\"Recall(k=20)\"])\n",
    "    recalls50.append(result_metrics[\"Recall(k=50)\"])\n",
    "    ndcgs100.append(result_metrics[\"NDCG(k=100)\"])\n",
    "    \n",
    "    B = np.load(file=f'{path_to_BWV}/B.npy',)\n",
    "    W = np.load(file=f'{path_to_BWV}/W.npy',)\n",
    "    V = np.load(file=f'{path_to_BWV}/V.npy',)\n",
    "\n",
    "    for k in k_vec:\n",
    "        print(f'Current {k}')\n",
    "        V_k = V[:, -k:]\n",
    "        U_k = np.dot(B, V_k)\n",
    "        batch_time, query_time = timeit_dense_lowrank(model_U=U_k, model_V=V_k, X_test_tr=X_test_tr, n_users_test=X_test_tr.shape[0], max_k = 100)\n",
    "\n",
    "        fitted_model.B = np.dot(U_k, V_k.T)\n",
    "        metr_EDLAE = fitted_model.evaluate_metrics(test_tr, test_te, 'uid', 'sid', metrics=['Recall(k=20)', 'Recall(k=50)', 'NDCG(k=100)',])\n",
    "\n",
    "        batch_times.append(batch_time)\n",
    "        query_times.append(query_time)\n",
    "        recalls20.append(metr_EDLAE[\"Recall(k=20)\"])\n",
    "        recalls50.append(metr_EDLAE[\"Recall(k=50)\"])\n",
    "        ndcgs100.append(metr_EDLAE[\"NDCG(k=100)\"])\n",
    "        \n",
    "    results = pd.DataFrame(\n",
    "                 {'k': [fitted_model.nItems] + k_vec,\n",
    "                  'Recall@20': recalls20,\n",
    "                  'Recall@50': recalls50,\n",
    "                  'NDCG@100': ndcgs100,\n",
    "                  'query time': query_times,\n",
    "                  'batch time': batch_times,})\n",
    "    results.to_csv(result_path, index=False)"
   ]
  },
  {
   "cell_type": "markdown",
   "id": "4310bb1d-ad1e-4300-9d15-dab17dcee1d3",
   "metadata": {
    "tags": []
   },
   "source": [
    "### ML20M"
   ]
  },
  {
   "cell_type": "markdown",
   "id": "28c6b57e-0a2b-452c-bde9-f105166c4d12",
   "metadata": {},
   "source": [
    "#### Eigendecomposition"
   ]
  },
  {
   "cell_type": "code",
   "execution_count": 7,
   "id": "bf9a164d-b2ab-47e7-aa74-b6840abffebd",
   "metadata": {},
   "outputs": [
    {
     "name": "stdout",
     "output_type": "stream",
     "text": [
      "finished inverse computation\n",
      "create lookup\n",
      "create true item df\n",
      "predicting\n",
      "predicting done, reindexing\n",
      "calculating metrics\n",
      "My EDLAE:  Recall@20: 0.39262427, Recall@50: 0.52320221, NDCG@100: 0.42414733\n"
     ]
    }
   ],
   "source": [
    "model_EDLAE = EDLAE(p=0.33, lmbda=300)\n",
    "model_EDLAE.fit(train_ML20M, uid_str='uid', sid_str='sid', nItems=20108, store_G_inv=True)\n",
    "metr_EDLAE = model_EDLAE.evaluate_metrics(test_tr_ML20M, test_te_ML20M, 'uid', 'sid', metrics_lst)\n",
    "print(f'My EDLAE:  Recall@20: {metr_EDLAE[\"Recall(k=20)\"]:.8f}, Recall@50: {metr_EDLAE[\"Recall(k=50)\"]:.8f}, NDCG@100: {metr_EDLAE[\"NDCG(k=100)\"]:.8f}')"
   ]
  },
  {
   "cell_type": "code",
   "execution_count": 10,
   "id": "dc6f5104-17d8-4d8a-8780-64502eecc139",
   "metadata": {},
   "outputs": [],
   "source": [
    "M = model_EDLAE.B.T @ model_EDLAE.G_inv @ model_EDLAE.B\n",
    "W, V = eigh(M, driver='evd')\n",
    "\n",
    "np.save(file='EDLAE_mat/ml20m/B.npy', arr=model_EDLAE.B)\n",
    "np.save(file='EDLAE_mat/ml20m/G_inv.npy', arr=model_EDLAE.G_inv)\n",
    "np.save(file='EDLAE_mat/ml20m/W.npy', arr=W)\n",
    "np.save(file='EDLAE_mat/ml20m/V.npy', arr=V)"
   ]
  },
  {
   "cell_type": "markdown",
   "id": "645d6d9b-1179-4623-89fa-3154f0d1c778",
   "metadata": {},
   "source": [
    "#### Benchmark"
   ]
  },
  {
   "cell_type": "code",
   "execution_count": 10,
   "id": "15a2f696-ec5c-46e9-9777-9ed51ba80dc5",
   "metadata": {
    "tags": []
   },
   "outputs": [
    {
     "name": "stdout",
     "output_type": "stream",
     "text": [
      "Current 10\n",
      "create lookup\n",
      "create true item df\n",
      "predicting\n",
      "predicting done, reindexing\n",
      "calculating metrics\n",
      "Current 20\n",
      "create lookup\n",
      "create true item df\n",
      "predicting\n",
      "predicting done, reindexing\n",
      "calculating metrics\n",
      "Current 50\n",
      "create lookup\n",
      "create true item df\n",
      "predicting\n",
      "predicting done, reindexing\n",
      "calculating metrics\n",
      "Current 100\n",
      "create lookup\n",
      "create true item df\n",
      "predicting\n",
      "predicting done, reindexing\n",
      "calculating metrics\n",
      "Current 200\n",
      "create lookup\n",
      "create true item df\n",
      "predicting\n",
      "predicting done, reindexing\n",
      "calculating metrics\n",
      "Current 500\n",
      "create lookup\n",
      "create true item df\n",
      "predicting\n",
      "predicting done, reindexing\n",
      "calculating metrics\n",
      "Current 1000\n",
      "create lookup\n",
      "create true item df\n",
      "predicting\n",
      "predicting done, reindexing\n",
      "calculating metrics\n",
      "Current 2000\n",
      "create lookup\n",
      "create true item df\n",
      "predicting\n",
      "predicting done, reindexing\n",
      "calculating metrics\n",
      "Current 5000\n",
      "create lookup\n",
      "create true item df\n",
      "predicting\n",
      "predicting done, reindexing\n",
      "calculating metrics\n",
      "Current 10000\n",
      "create lookup\n",
      "create true item df\n",
      "predicting\n",
      "predicting done, reindexing\n",
      "calculating metrics\n",
      "Current 20000\n",
      "create lookup\n",
      "create true item df\n",
      "predicting\n",
      "predicting done, reindexing\n",
      "calculating metrics\n"
     ]
    }
   ],
   "source": [
    "run_lowrank_benchmark(path_to_BWV='EDLAE_mat/ml20m', result_path='/home/pmoritz/dev/modsem/benchmarks/ml20m_lowrank.csv', \n",
    "                      X_test_tr=X_test_tr_ML20M, \n",
    "                      fitted_model=model_EDLAE, \n",
    "                      result_metrics=metr_EDLAE, \n",
    "                      test_tr=test_tr_ML20M, \n",
    "                      test_te=test_te_ML20M, \n",
    "                      k_vec = [10, 20, 50, 100, 200, 500, 1000, 2000, 5000, 10000, 20000])"
   ]
  },
  {
   "cell_type": "markdown",
   "id": "6c4c47a4-7c89-4818-8be6-53b49dfdec69",
   "metadata": {
    "tags": []
   },
   "source": [
    "### Netflix"
   ]
  },
  {
   "cell_type": "markdown",
   "id": "8f7932a1-56e0-44c4-98d4-632ed26b92cc",
   "metadata": {},
   "source": [
    "#### Eigendecomposition"
   ]
  },
  {
   "cell_type": "code",
   "execution_count": 14,
   "id": "b3215b53-e101-412b-b943-9d293193acc0",
   "metadata": {},
   "outputs": [
    {
     "name": "stdout",
     "output_type": "stream",
     "text": [
      "finished inverse computation\n",
      "create lookup\n",
      "create true item df\n",
      "predicting\n",
      "predicting done, reindexing\n",
      "calculating metrics\n",
      "My DLAE:  Recall@20: 0.36553381, Recall@50: 0.44917571, NDCG@100: 0.39768706\n"
     ]
    }
   ],
   "source": [
    "model_EDLAE = EDLAE(p=0.33, lmbda=500)\n",
    "model_EDLAE.fit(train_netflix, uid_str='uid', sid_str='sid', nItems=17769, store_G_inv=True)\n",
    "metr_EDLAE = model_EDLAE.evaluate_metrics(test_tr_netflix, test_te_netflix, 'uid', 'sid', metrics_lst)\n",
    "print(f'My DLAE:  Recall@20: {metr_EDLAE[\"Recall(k=20)\"]:.8f}, Recall@50: {metr_EDLAE[\"Recall(k=50)\"]:.8f}, NDCG@100: {metr_EDLAE[\"NDCG(k=100)\"]:.8f}')"
   ]
  },
  {
   "cell_type": "code",
   "execution_count": 6,
   "id": "8d4f7829-fca2-4bc3-9749-70ff44a0efe4",
   "metadata": {},
   "outputs": [],
   "source": [
    "M = model_EDLAE.B.T @ model_EDLAE.G_inv @ model_EDLAE.B\n",
    "W, V = eigh(M, driver='evd')\n",
    "\n",
    "np.save(file='EDLAE_mat/netflix/B.npy', arr=model_EDLAE.B)\n",
    "np.save(file='EDLAE_mat/netflix/G_inv.npy', arr=model_EDLAE.G_inv)\n",
    "np.save(file='EDLAE_mat/netflix/W.npy', arr=W)\n",
    "np.save(file='EDLAE_mat/netflix/V.npy', arr=V)"
   ]
  },
  {
   "cell_type": "markdown",
   "id": "8f77f254-ea8f-4013-a76b-ef42a7341fd8",
   "metadata": {},
   "source": [
    "#### Benchmark"
   ]
  },
  {
   "cell_type": "code",
   "execution_count": 15,
   "id": "20b2080d-ca27-47a1-96c6-51ae120d500a",
   "metadata": {},
   "outputs": [
    {
     "name": "stdout",
     "output_type": "stream",
     "text": [
      "Current 10\n",
      "create lookup\n",
      "create true item df\n",
      "predicting\n",
      "predicting done, reindexing\n",
      "calculating metrics\n",
      "Current 20\n",
      "create lookup\n",
      "create true item df\n",
      "predicting\n",
      "predicting done, reindexing\n",
      "calculating metrics\n",
      "Current 50\n",
      "create lookup\n",
      "create true item df\n",
      "predicting\n",
      "predicting done, reindexing\n",
      "calculating metrics\n",
      "Current 100\n",
      "create lookup\n",
      "create true item df\n",
      "predicting\n",
      "predicting done, reindexing\n",
      "calculating metrics\n",
      "Current 200\n",
      "create lookup\n",
      "create true item df\n",
      "predicting\n",
      "predicting done, reindexing\n",
      "calculating metrics\n",
      "Current 500\n",
      "create lookup\n",
      "create true item df\n",
      "predicting\n",
      "predicting done, reindexing\n",
      "calculating metrics\n",
      "Current 1000\n",
      "create lookup\n",
      "create true item df\n",
      "predicting\n",
      "predicting done, reindexing\n",
      "calculating metrics\n",
      "Current 2000\n",
      "create lookup\n",
      "create true item df\n",
      "predicting\n",
      "predicting done, reindexing\n",
      "calculating metrics\n",
      "Current 5000\n",
      "create lookup\n",
      "create true item df\n",
      "predicting\n",
      "predicting done, reindexing\n",
      "calculating metrics\n",
      "Current 10000\n",
      "create lookup\n",
      "create true item df\n",
      "predicting\n",
      "predicting done, reindexing\n",
      "calculating metrics\n",
      "Current 15000\n",
      "create lookup\n",
      "create true item df\n",
      "predicting\n",
      "predicting done, reindexing\n",
      "calculating metrics\n"
     ]
    }
   ],
   "source": [
    "run_lowrank_benchmark(path_to_BWV='EDLAE_mat/netflix', result_path='/home/pmoritz/dev/modsem/benchmarks/netflix_lowrank.csv', \n",
    "                      X_test_tr=X_test_tr_netflix, \n",
    "                      fitted_model=model_EDLAE, \n",
    "                      result_metrics=metr_EDLAE, \n",
    "                      test_tr=test_tr_netflix, \n",
    "                      test_te=test_te_netflix, \n",
    "                      k_vec = [10, 20, 50, 100, 200, 500, 1000, 2000, 5000, 10000, 15000])"
   ]
  },
  {
   "cell_type": "markdown",
   "id": "46fb7735-9cfd-4375-b5e6-205edd8b735c",
   "metadata": {
    "tags": []
   },
   "source": [
    "### MSD"
   ]
  },
  {
   "cell_type": "markdown",
   "id": "3431d81b-92d5-4dd5-b6ce-ad5e041333e2",
   "metadata": {},
   "source": [
    "#### Eigendecomposition"
   ]
  },
  {
   "cell_type": "code",
   "execution_count": 16,
   "id": "8ebe4c6d-6970-453b-af99-9a42f959c305",
   "metadata": {},
   "outputs": [
    {
     "name": "stdout",
     "output_type": "stream",
     "text": [
      "finished inverse computation\n",
      "create lookup\n",
      "create true item df\n",
      "predicting\n",
      "predicting done, reindexing\n",
      "calculating metrics\n",
      "My DLAE:  Recall@20: 0.33407616, Recall@50: 0.42947739, NDCG@100: 0.39150817\n"
     ]
    }
   ],
   "source": [
    "model_EDLAE = EDLAE(p=0.25, lmbda=70)\n",
    "model_EDLAE.fit(train_msd, uid_str='uid', sid_str='sid', nItems=41140, store_G_inv=True)\n",
    "metr_EDLAE = model_EDLAE.evaluate_metrics(test_tr_msd, test_te_msd, 'uid', 'sid', metrics_lst)\n",
    "print(f'My DLAE:  Recall@20: {metr_EDLAE[\"Recall(k=20)\"]:.8f}, Recall@50: {metr_EDLAE[\"Recall(k=50)\"]:.8f}, NDCG@100: {metr_EDLAE[\"NDCG(k=100)\"]:.8f}')"
   ]
  },
  {
   "cell_type": "code",
   "execution_count": 5,
   "id": "49363593-cac6-4427-bdc2-f2aad4b268d7",
   "metadata": {},
   "outputs": [],
   "source": [
    "M = model_EDLAE.B.T @ model_EDLAE.G_inv @ model_EDLAE.B\n",
    "W, V = eigh(M, driver='ev')\n",
    "\n",
    "np.save(file='EDLAE_mat/msd/B.npy', arr=model_EDLAE.B)\n",
    "np.save(file='EDLAE_mat/msd/G_inv.npy', arr=model_EDLAE.G_inv)\n",
    "np.save(file='EDLAE_mat/msd/W.npy', arr=W)\n",
    "np.save(file='EDLAE_mat/msd/V.npy', arr=V)"
   ]
  },
  {
   "cell_type": "markdown",
   "id": "636047ee-9e00-41f9-9457-3aab7b1732d6",
   "metadata": {},
   "source": [
    "#### Benchmark"
   ]
  },
  {
   "cell_type": "code",
   "execution_count": 17,
   "id": "fbf31414-729c-4485-b495-a9d9f2ccc755",
   "metadata": {},
   "outputs": [
    {
     "name": "stdout",
     "output_type": "stream",
     "text": [
      "Current 10\n",
      "create lookup\n",
      "create true item df\n",
      "predicting\n",
      "predicting done, reindexing\n",
      "calculating metrics\n",
      "Current 20\n",
      "create lookup\n",
      "create true item df\n",
      "predicting\n",
      "predicting done, reindexing\n",
      "calculating metrics\n",
      "Current 50\n",
      "create lookup\n",
      "create true item df\n",
      "predicting\n",
      "predicting done, reindexing\n",
      "calculating metrics\n",
      "Current 100\n",
      "create lookup\n",
      "create true item df\n",
      "predicting\n",
      "predicting done, reindexing\n",
      "calculating metrics\n",
      "Current 200\n",
      "create lookup\n",
      "create true item df\n",
      "predicting\n",
      "predicting done, reindexing\n",
      "calculating metrics\n",
      "Current 500\n",
      "create lookup\n",
      "create true item df\n",
      "predicting\n",
      "predicting done, reindexing\n",
      "calculating metrics\n",
      "Current 1000\n",
      "create lookup\n",
      "create true item df\n",
      "predicting\n",
      "predicting done, reindexing\n",
      "calculating metrics\n",
      "Current 2000\n",
      "create lookup\n",
      "create true item df\n",
      "predicting\n",
      "predicting done, reindexing\n",
      "calculating metrics\n",
      "Current 5000\n",
      "create lookup\n",
      "create true item df\n",
      "predicting\n",
      "predicting done, reindexing\n",
      "calculating metrics\n",
      "Current 10000\n",
      "create lookup\n",
      "create true item df\n",
      "predicting\n",
      "predicting done, reindexing\n",
      "calculating metrics\n",
      "Current 20000\n",
      "create lookup\n",
      "create true item df\n",
      "predicting\n",
      "predicting done, reindexing\n",
      "calculating metrics\n",
      "Current 30000\n",
      "create lookup\n",
      "create true item df\n",
      "predicting\n",
      "predicting done, reindexing\n",
      "calculating metrics\n"
     ]
    }
   ],
   "source": [
    "run_lowrank_benchmark(path_to_BWV='EDLAE_mat/msd', result_path='/home/pmoritz/dev/modsem/benchmarks/msd_lowrank.csv', \n",
    "                      X_test_tr=X_test_tr_msd, \n",
    "                      fitted_model=model_EDLAE, \n",
    "                      result_metrics=metr_EDLAE, \n",
    "                      test_tr=test_tr_msd, \n",
    "                      test_te=test_te_msd, \n",
    "                      k_vec = [10, 20, 50, 100, 200, 500, 1000, 2000, 5000, 10000, 20000, 30000])"
   ]
  },
  {
   "cell_type": "markdown",
   "id": "07bc3d55-825b-4477-ad69-6d99671e21d4",
   "metadata": {
    "jp-MarkdownHeadingCollapsed": true,
    "tags": []
   },
   "source": [
    "### Plot of the results"
   ]
  },
  {
   "cell_type": "code",
   "execution_count": null,
   "id": "31977493-11d0-4970-a706-b79bc1d5a2ef",
   "metadata": {},
   "outputs": [],
   "source": [
    "results_lowrank_ML20 = pd.read_csv('/home/pmoritz/dev/modsem/benchmarks/ml20m_lowrank.csv')\n",
    "results_lowrank_netflix = pd.read_csv('/home/pmoritz/dev/modsem/benchmarks/netflix_lowrank.csv')\n",
    "results_lowrank_msd = pd.read_csv('/home/pmoritz/dev/modsem/benchmarks/msd_lowrank.csv')\n",
    "\n",
    "results_lowrank_ML20.sort_values(by='k', inplace=True)\n",
    "results_lowrank_netflix.sort_values(by='k', inplace=True)\n",
    "results_lowrank_msd.sort_values(by='k', inplace=True)\n",
    "\n",
    "results_lowrank_ML20.reset_index(drop=True, inplace=True)\n",
    "results_lowrank_netflix.reset_index(drop=True, inplace=True)\n",
    "results_lowrank_msd.reset_index(drop=True, inplace=True)\n",
    "\n",
    "fig, ax = plt.subplots(2, 3, figsize=(30, 20))\n",
    "ax[1, 2].set_visible(False)\n",
    "\n",
    "ax[1, 0].set_position([0.24,0.125,0.228,0.343])\n",
    "ax[1, 1].set_position([0.55,0.125,0.228,0.343])\n",
    "\n",
    "ax[0, 0].plot(results_lowrank_ML20.k, results_lowrank_ML20['Recall@20'], marker='o', label='Recall@20')\n",
    "ax[0, 0].plot(results_lowrank_ML20.k, results_lowrank_ML20['Recall@50'], marker='o', label='Recall@50')\n",
    "ax[0, 0].plot(results_lowrank_ML20.k, results_lowrank_ML20['NDCG@100'], marker='o', label='NDCG@100')\n",
    "ax[0, 0].set_xlabel('Rank k')\n",
    "ax[0, 0].set_ylabel('Metrics')\n",
    "ax[0, 0].set_xscale('log')\n",
    "ax[0, 0].set_title('MovieLens20M \\nItems: 20,108, Users: 136,677, Interactions: 10M')\n",
    "ax[0, 0].legend()\n",
    "\n",
    "ax[0, 1].plot(results_lowrank_netflix.k, results_lowrank_netflix['Recall@20'], marker='o', label='Recall@20')\n",
    "ax[0, 1].plot(results_lowrank_netflix.k, results_lowrank_netflix['Recall@50'], marker='o', label='Recall@50')\n",
    "ax[0, 1].plot(results_lowrank_netflix.k, results_lowrank_netflix['NDCG@100'], marker='o', label='NDCG@100')\n",
    "ax[0, 1].set_xlabel('Rank k')\n",
    "ax[0, 1].set_ylabel('Metrics')\n",
    "ax[0, 1].set_xscale('log')\n",
    "ax[0, 1].set_title('Netflix Prize \\nItems: 17,769, Users: 463,435, Interactions: 57M')\n",
    "ax[0, 1].legend()\n",
    "\n",
    "ax[0, 2].plot(results_lowrank_msd.k, results_lowrank_msd['Recall@20'], marker='o', label='Recall@20')\n",
    "ax[0, 2].plot(results_lowrank_msd.k, results_lowrank_msd['Recall@50'], marker='o', label='Recall@50')\n",
    "ax[0, 2].plot(results_lowrank_msd.k, results_lowrank_msd['NDCG@100'], marker='o', label='NDCG@100')\n",
    "ax[0, 2].set_xlabel('Rank k')\n",
    "ax[0, 2].set_ylabel('Metrics')\n",
    "ax[0, 2].set_xscale('log')\n",
    "ax[0, 2].set_title('Million Songs \\nItems: 41,140, Users: 571,355, Interactions: 34M')\n",
    "ax[0, 2].legend()\n",
    "\n",
    "ax[1, 0].plot(results_lowrank_ML20.k, results_lowrank_ML20['query time'], marker='o', label='ML20M')\n",
    "ax[1, 0].plot(results_lowrank_netflix.k, results_lowrank_netflix['query time'], marker='o', label='Netflix')\n",
    "ax[1, 0].plot(results_lowrank_msd.k, results_lowrank_msd['query time'], marker='o', label='MSD')\n",
    "ax[1, 0].set_xlabel('Rank k')\n",
    "ax[1, 0].set_ylabel('Time [s]')\n",
    "ax[1, 0].set_xscale('log')\n",
    "ax[1, 0].set_yscale('log')\n",
    "ax[1, 0].set_title('Prediction time for one query')\n",
    "ax[1, 0].legend()\n",
    "\n",
    "ax[1, 1].plot(results_lowrank_ML20.k, results_lowrank_ML20['batch time'], marker='o', label='ML20M')\n",
    "ax[1, 1].plot(results_lowrank_netflix.k, results_lowrank_netflix['batch time'], marker='o', label='Netflix')\n",
    "ax[1, 1].plot(results_lowrank_msd.k, results_lowrank_msd['batch time'], marker='o', label='MSD')\n",
    "ax[1, 1].set_xlabel('Rank k')\n",
    "ax[1, 1].set_ylabel('Time [s]')\n",
    "ax[1, 1].set_xscale('log')\n",
    "ax[1, 1].set_yscale('log')\n",
    "ax[1, 1].set_title('Prediction time for 1000 queries')\n",
    "ax[1, 1].legend()\n",
    "\n",
    "plt.figtext(0.5, 0.07, \"The datapoint with the largest value of k is the full-rank model.\", ha=\"center\", fontsize=14,);"
   ]
  },
  {
   "cell_type": "markdown",
   "id": "690aa236-2c6c-4494-a863-c4386b2458dc",
   "metadata": {},
   "source": [
    "## EDLAE Sparse"
   ]
  },
  {
   "cell_type": "markdown",
   "id": "b8367f99-0d8d-46c2-9fa3-4ba3acf11e94",
   "metadata": {
    "tags": []
   },
   "source": [
    "#### Example"
   ]
  },
  {
   "cell_type": "code",
   "execution_count": 9,
   "id": "ba89df35-dcc8-4272-8d62-39f915fd6b09",
   "metadata": {},
   "outputs": [
    {
     "name": "stdout",
     "output_type": "stream",
     "text": [
      "finished inverse computation\n",
      "create lookup\n",
      "create true item df\n",
      "predicting\n",
      "predicting done, reindexing\n",
      "calculating metrics\n",
      "My EDLAE:  Recall@20: 0.39262427, Recall@50: 0.52320221, NDCG@100: 0.42414733\n"
     ]
    }
   ],
   "source": [
    "model_EDLAE = EDLAE(p=0.33, lmbda=300)\n",
    "model_EDLAE.fit(train_ML20M, uid_str='uid', sid_str='sid', nItems=20108)\n",
    "metr_EDLAE = model_EDLAE.evaluate_metrics(test_tr_ML20M, test_te_ML20M, 'uid', 'sid', metrics_lst)\n",
    "print(f'My EDLAE:  Recall@20: {metr_EDLAE[\"Recall(k=20)\"]:.8f}, Recall@50: {metr_EDLAE[\"Recall(k=50)\"]:.8f}, NDCG@100: {metr_EDLAE[\"NDCG(k=100)\"]:.8f}')"
   ]
  },
  {
   "cell_type": "code",
   "execution_count": 10,
   "id": "cf658ebc-7006-454b-8b35-dbf9ce9a9048",
   "metadata": {},
   "outputs": [
    {
     "name": "stdout",
     "output_type": "stream",
     "text": [
      "Number of items with more than 20108 entries in column: 0\n",
      "Resulting sparsity of A: 0.004983465752016889\n",
      "create lookup\n",
      "create true item df\n",
      "predicting\n",
      "predicting done, reindexing\n",
      "calculating metrics\n",
      "My EDLAE:  Recall@20: 0.38448743, Recall@50: 0.50804613, NDCG@100: 0.41366124\n"
     ]
    }
   ],
   "source": [
    "model_EDLAE.B = sparsify(model_EDLAE.B, threshold=0.00704, max_in_col=20108)\n",
    "model_EDLAE.B = model_EDLAE.B.toarray()\n",
    "metr_EDLAE = model_EDLAE.evaluate_metrics(test_tr_ML20M, test_te_ML20M, 'uid', 'sid', metrics_lst)\n",
    "print(f'My EDLAE:  Recall@20: {metr_EDLAE[\"Recall(k=20)\"]:.8f}, Recall@50: {metr_EDLAE[\"Recall(k=50)\"]:.8f}, NDCG@100: {metr_EDLAE[\"NDCG(k=100)\"]:.8f}')"
   ]
  },
  {
   "cell_type": "code",
   "execution_count": 11,
   "id": "68d1a539-8895-4a9e-9cab-a4bf08118c4a",
   "metadata": {},
   "outputs": [],
   "source": [
    "B_csr = sp.csr_matrix(model_EDLAE.B)"
   ]
  },
  {
   "cell_type": "code",
   "execution_count": null,
   "id": "d142426d-3a89-40d5-a001-712a87d32b1d",
   "metadata": {},
   "outputs": [],
   "source": []
  },
  {
   "cell_type": "markdown",
   "id": "ae2ac959-70bc-4167-8375-b9fd588f369c",
   "metadata": {
    "tags": []
   },
   "source": [
    "#### Test if the stuff used in run_sparse_straightforward_benchmark actually works"
   ]
  },
  {
   "cell_type": "code",
   "execution_count": 68,
   "id": "fbf7ebbe-5c05-46b3-ae92-46a543838653",
   "metadata": {},
   "outputs": [],
   "source": [
    "from metrics import Recall, NDCG\n",
    "from sparse_dot_topn import awesome_cossim_topn"
   ]
  },
  {
   "cell_type": "code",
   "execution_count": 81,
   "id": "12d99652-4d76-436b-bcf2-c20b7911a514",
   "metadata": {},
   "outputs": [
    {
     "name": "stdout",
     "output_type": "stream",
     "text": [
      "finished inverse computation\n",
      "Number of items with more than 20108 entries in column: 0\n",
      "Resulting sparsity of A: 0.004983465752016889\n"
     ]
    }
   ],
   "source": [
    "model_EDLAE = EDLAE(p=0.33, lmbda=300)\n",
    "model_EDLAE.fit(train_ML20M, uid_str='uid', sid_str='sid', nItems=20108)\n",
    "model_EDLAE.B = sparsify(model_EDLAE.B, threshold=0.00704, max_in_col=20108)\n",
    "B_csr = sp.csr_matrix(deepcopy(model_EDLAE.B))\n",
    "\n",
    "sparse_id = sp.identity(B_csr.shape[0], dtype=np.float32, format='csr')\n",
    "B_csr_thilde = B_csr - np.inf * sparse_id"
   ]
  },
  {
   "cell_type": "code",
   "execution_count": 82,
   "id": "f12c656c-a2f1-4f97-a9b2-c412c313b897",
   "metadata": {},
   "outputs": [],
   "source": [
    "top_k = awesome_cossim_topn(A=X_test_tr_ML20M, B=B_csr_thilde, ntop=100, use_threads=True, n_jobs=16)"
   ]
  },
  {
   "cell_type": "code",
   "execution_count": 83,
   "id": "0789a034-3697-4fee-9184-422b4134e426",
   "metadata": {},
   "outputs": [],
   "source": [
    "recall20 = Recall(k=20)\n",
    "recall50 = Recall(k=50)\n",
    "ndcg100 = NDCG(k=100)\n",
    "\n",
    "recall20_metr, recall50_metr, ndcg100_metr = [], [], []\n",
    "for row_idx in range(X_test_tr_ML20M.shape[0]):\n",
    "    pred_items = top_k[row_idx].indices\n",
    "    true_items = X_test_te_ML20M[row_idx].indices\n",
    "    \n",
    "    recall20_metr.append(recall20(pred_items, true_items))\n",
    "    recall50_metr.append(recall50(pred_items, true_items))\n",
    "    ndcg100_metr.append(ndcg100(pred_items, true_items))"
   ]
  },
  {
   "cell_type": "code",
   "execution_count": 84,
   "id": "caa589d5-f373-4bf7-82db-52ed1777cf3a",
   "metadata": {},
   "outputs": [
    {
     "data": {
      "text/plain": [
       "(0.38448743230840365, 0.5080461290209418, 0.4136612334564698)"
      ]
     },
     "execution_count": 84,
     "metadata": {},
     "output_type": "execute_result"
    }
   ],
   "source": [
    "np.mean(recall20_metr), np.mean(recall50_metr), np.mean(ndcg100_metr)"
   ]
  },
  {
   "cell_type": "code",
   "execution_count": null,
   "id": "77bb2163-3acf-4064-8fbb-f1e6b955a5bd",
   "metadata": {},
   "outputs": [],
   "source": []
  },
  {
   "cell_type": "markdown",
   "id": "75204934-7a96-4b71-9b84-f5fcce3ef4a7",
   "metadata": {
    "tags": []
   },
   "source": [
    "### Sparse Straightforward"
   ]
  },
  {
   "cell_type": "code",
   "execution_count": 11,
   "id": "8894f95d-b6fd-40f4-ae53-0de3605ef6bf",
   "metadata": {},
   "outputs": [],
   "source": [
    "def run_sparse_straightforward_benchmark(result_path, X_test_tr, fitted_model, test_tr, test_te, sparsity_threshold, max_in_col):\n",
    "    model_mat = deepcopy(fitted_model.B)\n",
    "    \n",
    "    sparsities, thresholds = [], []\n",
    "    batch_times, query_times = [], []\n",
    "    recall20, recall50, ndcg100 = [], [], []\n",
    "\n",
    "    for sparsity in sparsity_threshold:\n",
    "        print(f'Current Sparsity: {sparsity}')\n",
    "        threshold = sparsity_threshold[sparsity]\n",
    "        A = sparsify(model_mat, threshold=threshold, max_in_col=max_in_col)\n",
    "        fitted_model.B = np.zeros(model_mat.shape, dtype=np.float32)\n",
    "        fitted_model.B[A.nonzero()] = model_mat[A.nonzero()]\n",
    "        calc_sparsity = len(A.nonzero()[0]) / (fitted_model.B.shape[0] * fitted_model.B.shape[1])\n",
    "\n",
    "        batch_time, query_time = timeit_sparse(model_sparse = sp.csr_matrix(fitted_model.B), \n",
    "                                               X_test = X_test_tr, \n",
    "                                               n_users_test = X_test_tr.shape[0], max_k = 100)\n",
    "\n",
    "        metr_EDLAE = fitted_model.evaluate_metrics(test_tr, test_te, 'uid', 'sid', metrics=['Recall(k=20)', 'Recall(k=50)', 'NDCG(k=100)',])\n",
    "\n",
    "        sparsities.append(calc_sparsity)\n",
    "        thresholds.append(threshold)\n",
    "        batch_times.append(batch_time)\n",
    "        query_times.append(query_time)\n",
    "        recall20.append(metr_EDLAE[\"Recall(k=20)\"])\n",
    "        recall50.append(metr_EDLAE[\"Recall(k=50)\"])\n",
    "        ndcg100.append(metr_EDLAE[\"NDCG(k=100)\"])\n",
    "\n",
    "    results = pd.DataFrame({'sparsity': sparsities,\n",
    "                           'threshold': thresholds,\n",
    "                           'query_time': query_times, \n",
    "                           'batch_time': batch_times,\n",
    "                           'recall@20': recall20,\n",
    "                           'recall@50': recall50,\n",
    "                           'ndcg@100': ndcg100,})\n",
    "    results.to_csv(result_path, index=False, sep='|')    "
   ]
  },
  {
   "cell_type": "markdown",
   "id": "a5a4a7f2-aff6-459b-bbfa-48ce9faec899",
   "metadata": {
    "tags": []
   },
   "source": [
    "#### ML20M"
   ]
  },
  {
   "cell_type": "code",
   "execution_count": 85,
   "id": "7c7d19ac-8bc2-412f-9c92-8fcb5f2bd523",
   "metadata": {},
   "outputs": [
    {
     "name": "stdout",
     "output_type": "stream",
     "text": [
      "/home/pmoritz/dev/modsem\n"
     ]
    }
   ],
   "source": [
    "!pwd"
   ]
  },
  {
   "cell_type": "code",
   "execution_count": 86,
   "id": "7c730982-c6ea-439d-8185-dcd036fa2244",
   "metadata": {},
   "outputs": [
    {
     "name": "stdout",
     "output_type": "stream",
     "text": [
      "finished inverse computation\n"
     ]
    }
   ],
   "source": [
    "sparsity_threshold_ml20m = {0.1: 0.0122,\n",
    "                            0.5: 0.00704,\n",
    "                            1.0: 0.00522,\n",
    "                            2.0: 0.00366,\n",
    "                            5.0: 0.00208}\n",
    "\n",
    "model_EDLAE = EDLAE(p=0.33, lmbda=300)\n",
    "model_EDLAE.fit(train_ML20M, uid_str='uid', sid_str='sid', nItems=20108)"
   ]
  },
  {
   "cell_type": "code",
   "execution_count": 103,
   "id": "68586526-e2e4-4d5d-a9f9-749a01b94d22",
   "metadata": {
    "collapsed": true,
    "jupyter": {
     "outputs_hidden": true
    },
    "tags": []
   },
   "outputs": [
    {
     "name": "stdout",
     "output_type": "stream",
     "text": [
      "Current Sparsity: 0.1\n",
      "Number of items with more than 20108 entries in column: 0\n",
      "Resulting sparsity of A: 0.000995952174549456\n",
      "create lookup\n",
      "create true item df\n",
      "predicting\n",
      "predicting done, reindexing\n",
      "calculating metrics\n",
      "Current Sparsity: 0.5\n",
      "Number of items with more than 20108 entries in column: 0\n",
      "Resulting sparsity of A: 0.004983465752016889\n",
      "create lookup\n",
      "create true item df\n",
      "predicting\n",
      "predicting done, reindexing\n",
      "calculating metrics\n",
      "Current Sparsity: 1.0\n",
      "Number of items with more than 20108 entries in column: 0\n",
      "Resulting sparsity of A: 0.009972528394412365\n",
      "create lookup\n",
      "create true item df\n",
      "predicting\n",
      "predicting done, reindexing\n",
      "calculating metrics\n",
      "Current Sparsity: 2.0\n",
      "Number of items with more than 20108 entries in column: 0\n",
      "Resulting sparsity of A: 0.01997733227244849\n",
      "create lookup\n",
      "create true item df\n",
      "predicting\n",
      "predicting done, reindexing\n",
      "calculating metrics\n",
      "Current Sparsity: 5.0\n",
      "Number of items with more than 20108 entries in column: 0\n",
      "Resulting sparsity of A: 0.049846672409015184\n",
      "create lookup\n",
      "create true item df\n",
      "predicting\n",
      "predicting done, reindexing\n",
      "calculating metrics\n"
     ]
    }
   ],
   "source": [
    "run_sparse_straightforward_benchmark(result_path='/home/pmoritz/dev/modsem/benchmarks/ml20m_sparse_straightforward_new.csv', \n",
    "                                     X_test_tr=X_test_tr_ML20M, \n",
    "                                     fitted_model=model_EDLAE, \n",
    "                                     test_tr=test_tr_ML20M, \n",
    "                                     test_te=test_te_ML20M, \n",
    "                                     sparsity_threshold=sparsity_threshold_ml20m, \n",
    "                                     max_in_col=model_EDLAE.B.shape[0])"
   ]
  },
  {
   "cell_type": "code",
   "execution_count": 34,
   "id": "0b47994d-b9cf-4521-9f97-8b3090fc6771",
   "metadata": {},
   "outputs": [],
   "source": [
    "results_straightf_ml20m = pd.read_csv('/home/pmoritz/dev/modsem/benchmarks/ml20m_sparse_straightforward_new.csv', sep='|')"
   ]
  },
  {
   "cell_type": "code",
   "execution_count": 35,
   "id": "7d9599d4-1071-4b25-b1f2-8dc87f7fc997",
   "metadata": {},
   "outputs": [
    {
     "data": {
      "text/html": [
       "<div>\n",
       "<style scoped>\n",
       "    .dataframe tbody tr th:only-of-type {\n",
       "        vertical-align: middle;\n",
       "    }\n",
       "\n",
       "    .dataframe tbody tr th {\n",
       "        vertical-align: top;\n",
       "    }\n",
       "\n",
       "    .dataframe thead th {\n",
       "        text-align: right;\n",
       "    }\n",
       "</style>\n",
       "<table border=\"1\" class=\"dataframe\">\n",
       "  <thead>\n",
       "    <tr style=\"text-align: right;\">\n",
       "      <th></th>\n",
       "      <th>sparsity</th>\n",
       "      <th>threshold</th>\n",
       "      <th>query_time</th>\n",
       "      <th>batch_time</th>\n",
       "      <th>recall@20</th>\n",
       "      <th>recall@50</th>\n",
       "      <th>ndcg@100</th>\n",
       "    </tr>\n",
       "  </thead>\n",
       "  <tbody>\n",
       "    <tr>\n",
       "      <th>0</th>\n",
       "      <td>0.000996</td>\n",
       "      <td>0.01220</td>\n",
       "      <td>0.000038</td>\n",
       "      <td>0.002182</td>\n",
       "      <td>0.371671</td>\n",
       "      <td>0.493390</td>\n",
       "      <td>0.402077</td>\n",
       "    </tr>\n",
       "    <tr>\n",
       "      <th>1</th>\n",
       "      <td>0.004983</td>\n",
       "      <td>0.00704</td>\n",
       "      <td>0.000043</td>\n",
       "      <td>0.003903</td>\n",
       "      <td>0.384487</td>\n",
       "      <td>0.508046</td>\n",
       "      <td>0.413661</td>\n",
       "    </tr>\n",
       "    <tr>\n",
       "      <th>2</th>\n",
       "      <td>0.009973</td>\n",
       "      <td>0.00522</td>\n",
       "      <td>0.000049</td>\n",
       "      <td>0.005279</td>\n",
       "      <td>0.388080</td>\n",
       "      <td>0.513011</td>\n",
       "      <td>0.417549</td>\n",
       "    </tr>\n",
       "    <tr>\n",
       "      <th>3</th>\n",
       "      <td>0.019977</td>\n",
       "      <td>0.00366</td>\n",
       "      <td>0.000054</td>\n",
       "      <td>0.007732</td>\n",
       "      <td>0.390239</td>\n",
       "      <td>0.518839</td>\n",
       "      <td>0.420696</td>\n",
       "    </tr>\n",
       "    <tr>\n",
       "      <th>4</th>\n",
       "      <td>0.049847</td>\n",
       "      <td>0.00208</td>\n",
       "      <td>0.000077</td>\n",
       "      <td>0.013323</td>\n",
       "      <td>0.391565</td>\n",
       "      <td>0.522446</td>\n",
       "      <td>0.423361</td>\n",
       "    </tr>\n",
       "  </tbody>\n",
       "</table>\n",
       "</div>"
      ],
      "text/plain": [
       "   sparsity  threshold  query_time  batch_time  recall@20  recall@50  ndcg@100\n",
       "0  0.000996    0.01220    0.000038    0.002182   0.371671   0.493390  0.402077\n",
       "1  0.004983    0.00704    0.000043    0.003903   0.384487   0.508046  0.413661\n",
       "2  0.009973    0.00522    0.000049    0.005279   0.388080   0.513011  0.417549\n",
       "3  0.019977    0.00366    0.000054    0.007732   0.390239   0.518839  0.420696\n",
       "4  0.049847    0.00208    0.000077    0.013323   0.391565   0.522446  0.423361"
      ]
     },
     "execution_count": 35,
     "metadata": {},
     "output_type": "execute_result"
    }
   ],
   "source": [
    "results_straightf_ml20m"
   ]
  },
  {
   "cell_type": "markdown",
   "id": "cd2cc480-ee3e-4e36-87ad-59f3f23a87b8",
   "metadata": {
    "tags": []
   },
   "source": [
    "#### Netflix"
   ]
  },
  {
   "cell_type": "code",
   "execution_count": 16,
   "id": "64e4dff2-8c55-454f-9e1a-2bc50cb28817",
   "metadata": {},
   "outputs": [
    {
     "name": "stdout",
     "output_type": "stream",
     "text": [
      "finished inverse computation\n"
     ]
    }
   ],
   "source": [
    "sparsity_threshold_netflix = {0.1: 0.0129,\n",
    "                           0.5: 0.00791,\n",
    "                           1.0: 0.00621,\n",
    "                           2.0: 0.00467,\n",
    "                           5.0: 0.00292}\n",
    "\n",
    "model_EDLAE = EDLAE(p=0.33, lmbda=500)\n",
    "model_EDLAE.fit(train_netflix, uid_str='uid', sid_str='sid', nItems=17769)"
   ]
  },
  {
   "cell_type": "code",
   "execution_count": 17,
   "id": "b1f44ac0-6037-45f9-b97d-0738e1161928",
   "metadata": {},
   "outputs": [
    {
     "name": "stdout",
     "output_type": "stream",
     "text": [
      "Current Sparsity: 0.1\n",
      "Number of items with more than 17769 entries in column: 0\n",
      "Resulting sparsity of A: 0.000991643811199144\n",
      "create lookup\n",
      "create true item df\n",
      "predicting\n",
      "predicting done, reindexing\n",
      "calculating metrics\n",
      "Current Sparsity: 0.5\n",
      "Number of items with more than 17769 entries in column: 0\n",
      "Resulting sparsity of A: 0.004982394212131266\n",
      "create lookup\n",
      "create true item df\n",
      "predicting\n",
      "predicting done, reindexing\n",
      "calculating metrics\n",
      "Current Sparsity: 1.0\n",
      "Number of items with more than 17769 entries in column: 0\n",
      "Resulting sparsity of A: 0.009967857430720718\n",
      "create lookup\n",
      "create true item df\n",
      "predicting\n",
      "predicting done, reindexing\n",
      "calculating metrics\n",
      "Current Sparsity: 2.0\n",
      "Number of items with more than 17769 entries in column: 0\n",
      "Resulting sparsity of A: 0.01999267676149355\n",
      "create lookup\n",
      "create true item df\n",
      "predicting\n",
      "predicting done, reindexing\n",
      "calculating metrics\n",
      "Current Sparsity: 5.0\n",
      "Number of items with more than 17769 entries in column: 0\n",
      "Resulting sparsity of A: 0.04977902504227239\n",
      "create lookup\n",
      "create true item df\n",
      "predicting\n",
      "predicting done, reindexing\n",
      "calculating metrics\n"
     ]
    }
   ],
   "source": [
    "run_sparse_straightforward_benchmark(result_path='/home/pmoritz/dev/modsem/benchmarks/netflix_sparse_straightforward_new.csv', \n",
    "                                     X_test_tr=X_test_tr_netflix, \n",
    "                                     fitted_model=model_EDLAE, \n",
    "                                     test_tr=test_tr_netflix, \n",
    "                                     test_te=test_te_netflix, \n",
    "                                     sparsity_threshold=sparsity_threshold_netflix, \n",
    "                                     max_in_col=model_EDLAE.B.shape[0])"
   ]
  },
  {
   "cell_type": "code",
   "execution_count": 20,
   "id": "56ca1bfc-a5d2-4cf2-860a-723136576016",
   "metadata": {},
   "outputs": [],
   "source": [
    "results_straightf_netflix = pd.read_csv('/home/pmoritz/dev/modsem/benchmarks/netflix_sparse_straightforward_new.csv', sep='|')"
   ]
  },
  {
   "cell_type": "code",
   "execution_count": 21,
   "id": "520c275a-beaf-4b99-9c08-1b95c6262fbb",
   "metadata": {},
   "outputs": [
    {
     "data": {
      "text/html": [
       "<div>\n",
       "<style scoped>\n",
       "    .dataframe tbody tr th:only-of-type {\n",
       "        vertical-align: middle;\n",
       "    }\n",
       "\n",
       "    .dataframe tbody tr th {\n",
       "        vertical-align: top;\n",
       "    }\n",
       "\n",
       "    .dataframe thead th {\n",
       "        text-align: right;\n",
       "    }\n",
       "</style>\n",
       "<table border=\"1\" class=\"dataframe\">\n",
       "  <thead>\n",
       "    <tr style=\"text-align: right;\">\n",
       "      <th></th>\n",
       "      <th>sparsity</th>\n",
       "      <th>threshold</th>\n",
       "      <th>query_time</th>\n",
       "      <th>batch_time</th>\n",
       "      <th>recall@20</th>\n",
       "      <th>recall@50</th>\n",
       "      <th>ndcg@100</th>\n",
       "    </tr>\n",
       "  </thead>\n",
       "  <tbody>\n",
       "    <tr>\n",
       "      <th>0</th>\n",
       "      <td>0.000992</td>\n",
       "      <td>0.01290</td>\n",
       "      <td>0.000037</td>\n",
       "      <td>0.002497</td>\n",
       "      <td>0.344885</td>\n",
       "      <td>0.424491</td>\n",
       "      <td>0.376210</td>\n",
       "    </tr>\n",
       "    <tr>\n",
       "      <th>1</th>\n",
       "      <td>0.004982</td>\n",
       "      <td>0.00791</td>\n",
       "      <td>0.000041</td>\n",
       "      <td>0.003970</td>\n",
       "      <td>0.352183</td>\n",
       "      <td>0.434613</td>\n",
       "      <td>0.385183</td>\n",
       "    </tr>\n",
       "    <tr>\n",
       "      <th>2</th>\n",
       "      <td>0.009968</td>\n",
       "      <td>0.00621</td>\n",
       "      <td>0.000044</td>\n",
       "      <td>0.005168</td>\n",
       "      <td>0.355969</td>\n",
       "      <td>0.438597</td>\n",
       "      <td>0.388261</td>\n",
       "    </tr>\n",
       "    <tr>\n",
       "      <th>3</th>\n",
       "      <td>0.019993</td>\n",
       "      <td>0.00467</td>\n",
       "      <td>0.000049</td>\n",
       "      <td>0.006928</td>\n",
       "      <td>0.359929</td>\n",
       "      <td>0.442264</td>\n",
       "      <td>0.391517</td>\n",
       "    </tr>\n",
       "    <tr>\n",
       "      <th>4</th>\n",
       "      <td>0.049779</td>\n",
       "      <td>0.00292</td>\n",
       "      <td>0.000061</td>\n",
       "      <td>0.011384</td>\n",
       "      <td>0.363344</td>\n",
       "      <td>0.446394</td>\n",
       "      <td>0.395190</td>\n",
       "    </tr>\n",
       "  </tbody>\n",
       "</table>\n",
       "</div>"
      ],
      "text/plain": [
       "   sparsity  threshold  query_time  batch_time  recall@20  recall@50  ndcg@100\n",
       "0  0.000992    0.01290    0.000037    0.002497   0.344885   0.424491  0.376210\n",
       "1  0.004982    0.00791    0.000041    0.003970   0.352183   0.434613  0.385183\n",
       "2  0.009968    0.00621    0.000044    0.005168   0.355969   0.438597  0.388261\n",
       "3  0.019993    0.00467    0.000049    0.006928   0.359929   0.442264  0.391517\n",
       "4  0.049779    0.00292    0.000061    0.011384   0.363344   0.446394  0.395190"
      ]
     },
     "execution_count": 21,
     "metadata": {},
     "output_type": "execute_result"
    }
   ],
   "source": [
    "results_straightf_netflix"
   ]
  },
  {
   "cell_type": "markdown",
   "id": "7803d3c4-1d47-4917-82d4-eb14c5742151",
   "metadata": {
    "tags": []
   },
   "source": [
    "#### MSD"
   ]
  },
  {
   "cell_type": "code",
   "execution_count": 9,
   "id": "5663025d-82db-42d6-aa7f-9a5ec7a1c96e",
   "metadata": {},
   "outputs": [
    {
     "name": "stdout",
     "output_type": "stream",
     "text": [
      "finished inverse computation\n"
     ]
    }
   ],
   "source": [
    "sparsity_threshold_msd = {0.1: 0.0120,\n",
    "                          0.5: 0.00695,\n",
    "                          1.0: 0.00548,\n",
    "                          2.0: 0.00421,\n",
    "                          5.0: 0.00285}\n",
    "\n",
    "model_EDLAE = EDLAE(p=0.25, lmbda=70)\n",
    "model_EDLAE.fit(train_msd, uid_str='uid', sid_str='sid', nItems=41140)"
   ]
  },
  {
   "cell_type": "code",
   "execution_count": 10,
   "id": "ac286204-64c4-4524-9b66-6f15be75f2fa",
   "metadata": {},
   "outputs": [
    {
     "name": "stdout",
     "output_type": "stream",
     "text": [
      "Current Sparsity: 0.1\n",
      "Number of items with more than 41140 entries in column: 0\n",
      "Resulting sparsity of A: 0.0009962667051738152\n",
      "create lookup\n",
      "create true item df\n",
      "predicting\n",
      "predicting done, reindexing\n",
      "calculating metrics\n",
      "Current Sparsity: 0.5\n",
      "Number of items with more than 41140 entries in column: 0\n",
      "Resulting sparsity of A: 0.004999415657173567\n",
      "create lookup\n",
      "create true item df\n",
      "predicting\n",
      "predicting done, reindexing\n",
      "calculating metrics\n",
      "Current Sparsity: 1.0\n",
      "Number of items with more than 41140 entries in column: 0\n",
      "Resulting sparsity of A: 0.009965166313776381\n",
      "create lookup\n",
      "create true item df\n",
      "predicting\n",
      "predicting done, reindexing\n",
      "calculating metrics\n",
      "Current Sparsity: 2.0\n",
      "Number of items with more than 41140 entries in column: 0\n",
      "Resulting sparsity of A: 0.019910698354079374\n",
      "create lookup\n",
      "create true item df\n",
      "predicting\n",
      "predicting done, reindexing\n",
      "calculating metrics\n",
      "Current Sparsity: 5.0\n",
      "Number of items with more than 41140 entries in column: 0\n",
      "Resulting sparsity of A: 0.049860203216591605\n",
      "create lookup\n",
      "create true item df\n",
      "predicting\n",
      "predicting done, reindexing\n",
      "calculating metrics\n"
     ]
    }
   ],
   "source": [
    "run_sparse_straightforward_benchmark(result_path='/home/pmoritz/dev/modsem/benchmarks/msd_sparse_straightforward_new.csv', \n",
    "                                     X_test_tr=X_test_tr_msd, \n",
    "                                     fitted_model=model_EDLAE, \n",
    "                                     test_tr=test_tr_msd, \n",
    "                                     test_te=test_te_msd, \n",
    "                                     sparsity_threshold=sparsity_threshold_msd, \n",
    "                                     max_in_col=model_EDLAE.B.shape[0])"
   ]
  },
  {
   "cell_type": "code",
   "execution_count": 11,
   "id": "299a2248-622d-46d7-a4c9-7e9c96d013da",
   "metadata": {},
   "outputs": [],
   "source": [
    "results_straightf_msd = pd.read_csv('/home/pmoritz/dev/modsem/benchmarks/msd_sparse_straightforward_new.csv', sep='|')"
   ]
  },
  {
   "cell_type": "code",
   "execution_count": 12,
   "id": "086375cb-8107-48d7-bc66-b50c24032532",
   "metadata": {},
   "outputs": [
    {
     "data": {
      "text/html": [
       "<div>\n",
       "<style scoped>\n",
       "    .dataframe tbody tr th:only-of-type {\n",
       "        vertical-align: middle;\n",
       "    }\n",
       "\n",
       "    .dataframe tbody tr th {\n",
       "        vertical-align: top;\n",
       "    }\n",
       "\n",
       "    .dataframe thead th {\n",
       "        text-align: right;\n",
       "    }\n",
       "</style>\n",
       "<table border=\"1\" class=\"dataframe\">\n",
       "  <thead>\n",
       "    <tr style=\"text-align: right;\">\n",
       "      <th></th>\n",
       "      <th>sparsity</th>\n",
       "      <th>threshold</th>\n",
       "      <th>query_time</th>\n",
       "      <th>batch_time</th>\n",
       "      <th>recall@20</th>\n",
       "      <th>recall@50</th>\n",
       "      <th>ndcg@100</th>\n",
       "    </tr>\n",
       "  </thead>\n",
       "  <tbody>\n",
       "    <tr>\n",
       "      <th>0</th>\n",
       "      <td>0.000996</td>\n",
       "      <td>0.01200</td>\n",
       "      <td>0.000046</td>\n",
       "      <td>0.002143</td>\n",
       "      <td>0.329580</td>\n",
       "      <td>0.421199</td>\n",
       "      <td>0.385550</td>\n",
       "    </tr>\n",
       "    <tr>\n",
       "      <th>1</th>\n",
       "      <td>0.004999</td>\n",
       "      <td>0.00695</td>\n",
       "      <td>0.000061</td>\n",
       "      <td>0.005023</td>\n",
       "      <td>0.332307</td>\n",
       "      <td>0.425618</td>\n",
       "      <td>0.388885</td>\n",
       "    </tr>\n",
       "    <tr>\n",
       "      <th>2</th>\n",
       "      <td>0.009965</td>\n",
       "      <td>0.00548</td>\n",
       "      <td>0.000084</td>\n",
       "      <td>0.007808</td>\n",
       "      <td>0.332764</td>\n",
       "      <td>0.426840</td>\n",
       "      <td>0.389641</td>\n",
       "    </tr>\n",
       "    <tr>\n",
       "      <th>3</th>\n",
       "      <td>0.019911</td>\n",
       "      <td>0.00421</td>\n",
       "      <td>0.000122</td>\n",
       "      <td>0.012880</td>\n",
       "      <td>0.333207</td>\n",
       "      <td>0.427856</td>\n",
       "      <td>0.390281</td>\n",
       "    </tr>\n",
       "    <tr>\n",
       "      <th>4</th>\n",
       "      <td>0.049860</td>\n",
       "      <td>0.00285</td>\n",
       "      <td>0.000236</td>\n",
       "      <td>0.025263</td>\n",
       "      <td>0.333736</td>\n",
       "      <td>0.428533</td>\n",
       "      <td>0.390753</td>\n",
       "    </tr>\n",
       "  </tbody>\n",
       "</table>\n",
       "</div>"
      ],
      "text/plain": [
       "   sparsity  threshold  query_time  batch_time  recall@20  recall@50  ndcg@100\n",
       "0  0.000996    0.01200    0.000046    0.002143   0.329580   0.421199  0.385550\n",
       "1  0.004999    0.00695    0.000061    0.005023   0.332307   0.425618  0.388885\n",
       "2  0.009965    0.00548    0.000084    0.007808   0.332764   0.426840  0.389641\n",
       "3  0.019911    0.00421    0.000122    0.012880   0.333207   0.427856  0.390281\n",
       "4  0.049860    0.00285    0.000236    0.025263   0.333736   0.428533  0.390753"
      ]
     },
     "execution_count": 12,
     "metadata": {},
     "output_type": "execute_result"
    }
   ],
   "source": [
    "results_straightf_msd"
   ]
  },
  {
   "cell_type": "markdown",
   "id": "b411e1e6-6517-41f0-9c3c-ddd23429e7cd",
   "metadata": {},
   "source": [
    "### Covariance Based"
   ]
  },
  {
   "cell_type": "code",
   "execution_count": 10,
   "id": "7b8833ef-252a-43a5-8fe7-1e5703fd52f3",
   "metadata": {},
   "outputs": [],
   "source": [
    "def run_sparse_cov_benchmark(result_path, X_train, X_test_tr, fitted_model, test_tr, test_te, sparsity_threshold, max_in_col):\n",
    "    model_mat = deepcopy(fitted_model.B)\n",
    "    XtX = np.dot(X_train.T, X_train)\n",
    "    \n",
    "    sparsities, thresholds, alphas = [], [], []\n",
    "    batch_times, query_times = [], []\n",
    "    recall20, recall50, ndcg100 = [], [], []\n",
    "\n",
    "    for sparsity, thresh_alpha in sparsity_threshold.items():\n",
    "        threshold, alpha = thresh_alpha\n",
    "        print(f'Current Sparsity: {sparsity}')\n",
    "        A = sparsity_pattern_cov(XtX=deepcopy(XtX.toarray()), n_users=X_train.shape[0], \n",
    "                                 max_in_col=max_in_col, alpha=alpha, threshold=threshold)\n",
    "        fitted_model.B = np.zeros(model_mat.shape, dtype=np.float32)\n",
    "        fitted_model.B[A.nonzero()] = model_mat[A.nonzero()]\n",
    "        calc_sparsity = len(A.nonzero()[0]) / (fitted_model.B.shape[0] * fitted_model.B.shape[1])\n",
    "\n",
    "        batch_time, query_time = timeit_sparse(model_sparse = sp.csr_matrix(fitted_model.B), \n",
    "                                               X_test = X_test_tr, \n",
    "                                               n_users_test = X_test_tr.shape[0], max_k = 100)\n",
    "        #print(len(fitted_model.B.nonzero()[0]))\n",
    "        #print(fitted_model.evaluate_metrics(test_tr, test_te, 'uid', 'sid', metrics=['Recall(k=20)', 'Recall(k=50)', 'NDCG(k=100)',]))\n",
    "        res_metrics = fitted_model.evaluate_metrics(test_tr, test_te, 'uid', 'sid', metrics=['Recall(k=20)', 'Recall(k=50)', 'NDCG(k=100)',])\n",
    "        print(f'Metrics:  Recall@20: {res_metrics[\"Recall(k=20)\"]:.8f}, Recall@50: {res_metrics[\"Recall(k=50)\"]:.8f}, NDCG@100: {res_metrics[\"NDCG(k=100)\"]:.8f}')\n",
    "\n",
    "        sparsities.append(calc_sparsity)\n",
    "        thresholds.append(threshold)\n",
    "        alphas.append(alpha)\n",
    "        batch_times.append(batch_time)\n",
    "        query_times.append(query_time)\n",
    "        recall20.append(float(res_metrics[\"Recall(k=20)\"]))\n",
    "        recall50.append(float(res_metrics[\"Recall(k=50)\"]))\n",
    "        ndcg100.append(float(res_metrics[\"NDCG(k=100)\"]))\n",
    "\n",
    "    results = pd.DataFrame({'sparsity': sparsities,\n",
    "                           'threshold': thresholds,\n",
    "                           'alphas': alphas,\n",
    "                           'query_time': query_times, \n",
    "                           'batch_time': batch_times,\n",
    "                           'recall@20': recall20,\n",
    "                           'recall@50': recall50,\n",
    "                           'ndcg@100': ndcg100,})\n",
    "    results.to_csv(result_path, index=False, sep='|')    "
   ]
  },
  {
   "cell_type": "markdown",
   "id": "ed9da024-5bca-4271-9329-d9c7650c4d4b",
   "metadata": {
    "tags": []
   },
   "source": [
    "#### ML20M"
   ]
  },
  {
   "cell_type": "code",
   "execution_count": 29,
   "id": "68ab450a-a7b5-4765-b88c-a227744473ce",
   "metadata": {},
   "outputs": [],
   "source": [
    "hyperparam_search_ml20m = pd.read_csv(f'hyperparam_search/sparse_cov_ml20m.csv', sep='|')\n",
    "hyperparam_search_ml20m['sum'] = hyperparam_search_ml20m['recall@20'] + hyperparam_search_ml20m['recall@50'] + hyperparam_search_ml20m['ndcg@100']"
   ]
  },
  {
   "cell_type": "code",
   "execution_count": 30,
   "id": "bd038056-2ee7-4569-ab3c-9070b6304ca3",
   "metadata": {},
   "outputs": [
    {
     "data": {
      "text/html": [
       "<div>\n",
       "<style scoped>\n",
       "    .dataframe tbody tr th:only-of-type {\n",
       "        vertical-align: middle;\n",
       "    }\n",
       "\n",
       "    .dataframe tbody tr th {\n",
       "        vertical-align: top;\n",
       "    }\n",
       "\n",
       "    .dataframe thead th {\n",
       "        text-align: right;\n",
       "    }\n",
       "</style>\n",
       "<table border=\"1\" class=\"dataframe\">\n",
       "  <thead>\n",
       "    <tr style=\"text-align: right;\">\n",
       "      <th></th>\n",
       "      <th>sparsity</th>\n",
       "      <th>threshold</th>\n",
       "      <th>alpha</th>\n",
       "      <th>recall@20</th>\n",
       "      <th>recall@50</th>\n",
       "      <th>ndcg@100</th>\n",
       "      <th>sum</th>\n",
       "    </tr>\n",
       "  </thead>\n",
       "  <tbody>\n",
       "    <tr>\n",
       "      <th>16</th>\n",
       "      <td>5.0</td>\n",
       "      <td>1.6900</td>\n",
       "      <td>0.25</td>\n",
       "      <td>0.397238</td>\n",
       "      <td>0.524413</td>\n",
       "      <td>0.431641</td>\n",
       "      <td>1.353292</td>\n",
       "    </tr>\n",
       "    <tr>\n",
       "      <th>17</th>\n",
       "      <td>5.0</td>\n",
       "      <td>0.4480</td>\n",
       "      <td>0.50</td>\n",
       "      <td>0.397157</td>\n",
       "      <td>0.524133</td>\n",
       "      <td>0.431338</td>\n",
       "      <td>1.352628</td>\n",
       "    </tr>\n",
       "    <tr>\n",
       "      <th>18</th>\n",
       "      <td>5.0</td>\n",
       "      <td>0.1340</td>\n",
       "      <td>0.75</td>\n",
       "      <td>0.397297</td>\n",
       "      <td>0.523887</td>\n",
       "      <td>0.430737</td>\n",
       "      <td>1.351921</td>\n",
       "    </tr>\n",
       "    <tr>\n",
       "      <th>19</th>\n",
       "      <td>5.0</td>\n",
       "      <td>0.0399</td>\n",
       "      <td>1.00</td>\n",
       "      <td>0.394128</td>\n",
       "      <td>0.520827</td>\n",
       "      <td>0.428902</td>\n",
       "      <td>1.343857</td>\n",
       "    </tr>\n",
       "  </tbody>\n",
       "</table>\n",
       "</div>"
      ],
      "text/plain": [
       "    sparsity  threshold  alpha  recall@20  recall@50  ndcg@100       sum\n",
       "16       5.0     1.6900   0.25   0.397238   0.524413  0.431641  1.353292\n",
       "17       5.0     0.4480   0.50   0.397157   0.524133  0.431338  1.352628\n",
       "18       5.0     0.1340   0.75   0.397297   0.523887  0.430737  1.351921\n",
       "19       5.0     0.0399   1.00   0.394128   0.520827  0.428902  1.343857"
      ]
     },
     "execution_count": 30,
     "metadata": {},
     "output_type": "execute_result"
    }
   ],
   "source": [
    "hyperparam_search_ml20m[hyperparam_search_ml20m.sparsity == 5.0].sort_values(by='sum', ascending=False)"
   ]
  },
  {
   "cell_type": "code",
   "execution_count": 31,
   "id": "0da161c8-e00c-40ea-b60b-daa967204f10",
   "metadata": {},
   "outputs": [
    {
     "name": "stdout",
     "output_type": "stream",
     "text": [
      "finished inverse computation\n"
     ]
    }
   ],
   "source": [
    "sparsity_threshold_ml20m = {0.1: [6.580, 0.5],\n",
    "                            0.5: [2.64, 0.5],\n",
    "                            1.0: [9.23, 0.25],\n",
    "                            2.0: [4.73, 0.25],\n",
    "                            5.0: [1.69, 0.25]}\n",
    "\n",
    "model_EDLAE = EDLAE(p=0.33, lmbda=300)\n",
    "model_EDLAE.fit(train_ML20M, uid_str='uid', sid_str='sid', nItems=20108)"
   ]
  },
  {
   "cell_type": "code",
   "execution_count": 32,
   "id": "5c2ab358-1de2-4816-9241-959d711925f9",
   "metadata": {
    "collapsed": true,
    "jupyter": {
     "outputs_hidden": true
    },
    "tags": []
   },
   "outputs": [
    {
     "name": "stdout",
     "output_type": "stream",
     "text": [
      "Current Sparsity: 0.1\n",
      "Number of items with more than 20108 entries in column: 0\n",
      "Resulting sparsity of A: 0.0009986652937475607\n",
      "create lookup\n",
      "create true item df\n",
      "predicting\n",
      "predicting done, reindexing\n",
      "calculating metrics\n",
      "Metrics:  Recall@20: 0.37513973, Recall@50: 0.49318726, NDCG@100: 0.40111827\n",
      "Current Sparsity: 0.5\n",
      "Number of items with more than 20108 entries in column: 0\n",
      "Resulting sparsity of A: 0.004979679256581795\n",
      "create lookup\n",
      "create true item df\n",
      "predicting\n",
      "predicting done, reindexing\n",
      "calculating metrics\n",
      "Metrics:  Recall@20: 0.38730758, Recall@50: 0.51593067, NDCG@100: 0.41853007\n",
      "Current Sparsity: 1.0\n",
      "Number of items with more than 20108 entries in column: 0\n",
      "Resulting sparsity of A: 0.009999751095427441\n",
      "create lookup\n",
      "create true item df\n",
      "predicting\n",
      "predicting done, reindexing\n",
      "calculating metrics\n",
      "Metrics:  Recall@20: 0.39019983, Recall@50: 0.52001396, NDCG@100: 0.42119253\n",
      "Current Sparsity: 2.0\n",
      "Number of items with more than 20108 entries in column: 0\n",
      "Resulting sparsity of A: 0.019967788127520973\n",
      "create lookup\n",
      "create true item df\n",
      "predicting\n",
      "predicting done, reindexing\n",
      "calculating metrics\n",
      "Metrics:  Recall@20: 0.39189619, Recall@50: 0.52200896, NDCG@100: 0.42283212\n",
      "Current Sparsity: 5.0\n",
      "Number of items with more than 20108 entries in column: 0\n",
      "Resulting sparsity of A: 0.04984364519124082\n",
      "create lookup\n",
      "create true item df\n",
      "predicting\n",
      "predicting done, reindexing\n",
      "calculating metrics\n",
      "Metrics:  Recall@20: 0.39227162, Recall@50: 0.52288053, NDCG@100: 0.42381284\n"
     ]
    }
   ],
   "source": [
    "run_sparse_cov_benchmark(result_path='/home/pmoritz/dev/modsem/benchmarks/ml20m_sparse_cov_new.csv',  \n",
    "                                     X_train=X_train_ML20M, \n",
    "                                     X_test_tr=X_test_tr_ML20M, \n",
    "                                     fitted_model=model_EDLAE, \n",
    "                                     test_tr=test_tr_ML20M, \n",
    "                                     test_te=test_te_ML20M, \n",
    "                                     sparsity_threshold=sparsity_threshold_ml20m, \n",
    "                                     max_in_col=model_EDLAE.B.shape[0])"
   ]
  },
  {
   "cell_type": "code",
   "execution_count": 33,
   "id": "0e9f56d2-67c6-46b3-afb2-a95d607f5ba4",
   "metadata": {},
   "outputs": [],
   "source": [
    "results_sparsecov_ml20m = pd.read_csv('/home/pmoritz/dev/modsem/benchmarks/ml20m_sparse_cov_new.csv', sep='|')"
   ]
  },
  {
   "cell_type": "code",
   "execution_count": 34,
   "id": "d6489f38-76c3-4212-b35f-66160fdef6b8",
   "metadata": {},
   "outputs": [
    {
     "data": {
      "text/html": [
       "<div>\n",
       "<style scoped>\n",
       "    .dataframe tbody tr th:only-of-type {\n",
       "        vertical-align: middle;\n",
       "    }\n",
       "\n",
       "    .dataframe tbody tr th {\n",
       "        vertical-align: top;\n",
       "    }\n",
       "\n",
       "    .dataframe thead th {\n",
       "        text-align: right;\n",
       "    }\n",
       "</style>\n",
       "<table border=\"1\" class=\"dataframe\">\n",
       "  <thead>\n",
       "    <tr style=\"text-align: right;\">\n",
       "      <th></th>\n",
       "      <th>sparsity</th>\n",
       "      <th>threshold</th>\n",
       "      <th>alphas</th>\n",
       "      <th>query_time</th>\n",
       "      <th>batch_time</th>\n",
       "      <th>recall@20</th>\n",
       "      <th>recall@50</th>\n",
       "      <th>ndcg@100</th>\n",
       "    </tr>\n",
       "  </thead>\n",
       "  <tbody>\n",
       "    <tr>\n",
       "      <th>0</th>\n",
       "      <td>0.000999</td>\n",
       "      <td>6.58</td>\n",
       "      <td>0.50</td>\n",
       "      <td>0.000050</td>\n",
       "      <td>0.005312</td>\n",
       "      <td>0.375140</td>\n",
       "      <td>0.493187</td>\n",
       "      <td>0.401118</td>\n",
       "    </tr>\n",
       "    <tr>\n",
       "      <th>1</th>\n",
       "      <td>0.004980</td>\n",
       "      <td>2.64</td>\n",
       "      <td>0.50</td>\n",
       "      <td>0.000071</td>\n",
       "      <td>0.012431</td>\n",
       "      <td>0.387308</td>\n",
       "      <td>0.515931</td>\n",
       "      <td>0.418530</td>\n",
       "    </tr>\n",
       "    <tr>\n",
       "      <th>2</th>\n",
       "      <td>0.010000</td>\n",
       "      <td>9.23</td>\n",
       "      <td>0.25</td>\n",
       "      <td>0.000096</td>\n",
       "      <td>0.019320</td>\n",
       "      <td>0.390200</td>\n",
       "      <td>0.520014</td>\n",
       "      <td>0.421193</td>\n",
       "    </tr>\n",
       "    <tr>\n",
       "      <th>3</th>\n",
       "      <td>0.019968</td>\n",
       "      <td>4.73</td>\n",
       "      <td>0.25</td>\n",
       "      <td>0.000124</td>\n",
       "      <td>0.028070</td>\n",
       "      <td>0.391896</td>\n",
       "      <td>0.522009</td>\n",
       "      <td>0.422832</td>\n",
       "    </tr>\n",
       "    <tr>\n",
       "      <th>4</th>\n",
       "      <td>0.049844</td>\n",
       "      <td>1.69</td>\n",
       "      <td>0.25</td>\n",
       "      <td>0.000200</td>\n",
       "      <td>0.045912</td>\n",
       "      <td>0.392272</td>\n",
       "      <td>0.522881</td>\n",
       "      <td>0.423813</td>\n",
       "    </tr>\n",
       "  </tbody>\n",
       "</table>\n",
       "</div>"
      ],
      "text/plain": [
       "   sparsity  threshold  alphas  query_time  batch_time  recall@20  recall@50  \\\n",
       "0  0.000999       6.58    0.50    0.000050    0.005312   0.375140   0.493187   \n",
       "1  0.004980       2.64    0.50    0.000071    0.012431   0.387308   0.515931   \n",
       "2  0.010000       9.23    0.25    0.000096    0.019320   0.390200   0.520014   \n",
       "3  0.019968       4.73    0.25    0.000124    0.028070   0.391896   0.522009   \n",
       "4  0.049844       1.69    0.25    0.000200    0.045912   0.392272   0.522881   \n",
       "\n",
       "   ndcg@100  \n",
       "0  0.401118  \n",
       "1  0.418530  \n",
       "2  0.421193  \n",
       "3  0.422832  \n",
       "4  0.423813  "
      ]
     },
     "execution_count": 34,
     "metadata": {},
     "output_type": "execute_result"
    }
   ],
   "source": [
    "results_sparsecov_ml20m"
   ]
  },
  {
   "cell_type": "markdown",
   "id": "34246c90-6fd5-4ed9-b986-575e2c255743",
   "metadata": {
    "tags": []
   },
   "source": [
    "#### Netflix"
   ]
  },
  {
   "cell_type": "code",
   "execution_count": 19,
   "id": "23c47c97-8cea-4314-8e00-e846162553f4",
   "metadata": {},
   "outputs": [],
   "source": [
    "hyperparam_search_netflix = pd.read_csv(f'hyperparam_search/sparse_cov_nflx.csv', sep='|')\n",
    "hyperparam_search_netflix['sum'] = hyperparam_search_netflix['recall@20'] + hyperparam_search_netflix['recall@50'] + hyperparam_search_netflix['ndcg@100']"
   ]
  },
  {
   "cell_type": "code",
   "execution_count": 20,
   "id": "69023983-625d-4d24-a2b4-3307dff50ced",
   "metadata": {},
   "outputs": [
    {
     "data": {
      "text/html": [
       "<div>\n",
       "<style scoped>\n",
       "    .dataframe tbody tr th:only-of-type {\n",
       "        vertical-align: middle;\n",
       "    }\n",
       "\n",
       "    .dataframe tbody tr th {\n",
       "        vertical-align: top;\n",
       "    }\n",
       "\n",
       "    .dataframe thead th {\n",
       "        text-align: right;\n",
       "    }\n",
       "</style>\n",
       "<table border=\"1\" class=\"dataframe\">\n",
       "  <thead>\n",
       "    <tr style=\"text-align: right;\">\n",
       "      <th></th>\n",
       "      <th>sparsity</th>\n",
       "      <th>threshold</th>\n",
       "      <th>alpha</th>\n",
       "      <th>recall@20</th>\n",
       "      <th>recall@50</th>\n",
       "      <th>ndcg@100</th>\n",
       "      <th>sum</th>\n",
       "    </tr>\n",
       "  </thead>\n",
       "  <tbody>\n",
       "    <tr>\n",
       "      <th>17</th>\n",
       "      <td>5.0</td>\n",
       "      <td>1.764</td>\n",
       "      <td>0.50</td>\n",
       "      <td>0.364429</td>\n",
       "      <td>0.447388</td>\n",
       "      <td>0.396615</td>\n",
       "      <td>1.208432</td>\n",
       "    </tr>\n",
       "    <tr>\n",
       "      <th>18</th>\n",
       "      <td>5.0</td>\n",
       "      <td>0.260</td>\n",
       "      <td>0.75</td>\n",
       "      <td>0.364342</td>\n",
       "      <td>0.447346</td>\n",
       "      <td>0.396594</td>\n",
       "      <td>1.208281</td>\n",
       "    </tr>\n",
       "    <tr>\n",
       "      <th>16</th>\n",
       "      <td>5.0</td>\n",
       "      <td>12.420</td>\n",
       "      <td>0.25</td>\n",
       "      <td>0.364464</td>\n",
       "      <td>0.447053</td>\n",
       "      <td>0.396440</td>\n",
       "      <td>1.207958</td>\n",
       "    </tr>\n",
       "    <tr>\n",
       "      <th>19</th>\n",
       "      <td>5.0</td>\n",
       "      <td>0.043</td>\n",
       "      <td>1.00</td>\n",
       "      <td>0.363820</td>\n",
       "      <td>0.446956</td>\n",
       "      <td>0.396069</td>\n",
       "      <td>1.206845</td>\n",
       "    </tr>\n",
       "  </tbody>\n",
       "</table>\n",
       "</div>"
      ],
      "text/plain": [
       "    sparsity  threshold  alpha  recall@20  recall@50  ndcg@100       sum\n",
       "17       5.0      1.764   0.50   0.364429   0.447388  0.396615  1.208432\n",
       "18       5.0      0.260   0.75   0.364342   0.447346  0.396594  1.208281\n",
       "16       5.0     12.420   0.25   0.364464   0.447053  0.396440  1.207958\n",
       "19       5.0      0.043   1.00   0.363820   0.446956  0.396069  1.206845"
      ]
     },
     "execution_count": 20,
     "metadata": {},
     "output_type": "execute_result"
    }
   ],
   "source": [
    "hyperparam_search_netflix[hyperparam_search_netflix.sparsity == 5.0].sort_values(by='sum', ascending=False)"
   ]
  },
  {
   "cell_type": "code",
   "execution_count": 25,
   "id": "5bbb3dd4-0186-4eb6-872e-dcfe0cec67ae",
   "metadata": {},
   "outputs": [
    {
     "name": "stdout",
     "output_type": "stream",
     "text": [
      "finished inverse computation\n"
     ]
    }
   ],
   "source": [
    "sparsity_threshold_netflix = {0.1: [2.047, 0.75],\n",
    "                              0.5: [1.096, 0.75],\n",
    "                              1.0: [0.772, 0.75],\n",
    "                              2.0: [0.509, 0.75],\n",
    "                              5.0: [1.764, 0.5]}\n",
    "\n",
    "model_EDLAE = EDLAE(p=0.33, lmbda=500)\n",
    "model_EDLAE.fit(train_netflix, uid_str='uid', sid_str='sid', nItems=17769)"
   ]
  },
  {
   "cell_type": "code",
   "execution_count": 26,
   "id": "8427bfb9-cab1-457c-b0d4-316839b54595",
   "metadata": {},
   "outputs": [
    {
     "name": "stdout",
     "output_type": "stream",
     "text": [
      "Current Sparsity: 0.1\n",
      "Number of items with more than 17769 entries in column: 0\n",
      "Resulting sparsity of A: 0.000999688472090574\n",
      "create lookup\n",
      "create true item df\n",
      "predicting\n",
      "predicting done, reindexing\n",
      "calculating metrics\n",
      "Metrics:  Recall@20: 0.34568683, Recall@50: 0.42337809, NDCG@100: 0.37511258\n",
      "Current Sparsity: 0.5\n",
      "Number of items with more than 17769 entries in column: 0\n",
      "Resulting sparsity of A: 0.004997865931995296\n",
      "create lookup\n",
      "create true item df\n",
      "predicting\n",
      "predicting done, reindexing\n",
      "calculating metrics\n",
      "Metrics:  Recall@20: 0.35978085, Recall@50: 0.44187559, NDCG@100: 0.39129279\n",
      "Current Sparsity: 1.0\n",
      "Number of items with more than 17769 entries in column: 0\n",
      "Resulting sparsity of A: 0.00998490641086976\n",
      "create lookup\n",
      "create true item df\n",
      "predicting\n",
      "predicting done, reindexing\n",
      "calculating metrics\n",
      "Metrics:  Recall@20: 0.36267501, Recall@50: 0.44593750, NDCG@100: 0.39481643\n",
      "Current Sparsity: 2.0\n",
      "Number of items with more than 17769 entries in column: 0\n",
      "Resulting sparsity of A: 0.019980514754476587\n",
      "create lookup\n",
      "create true item df\n",
      "predicting\n",
      "predicting done, reindexing\n",
      "calculating metrics\n",
      "Metrics:  Recall@20: 0.36443918, Recall@50: 0.44816342, NDCG@100: 0.39670176\n",
      "Current Sparsity: 5.0\n",
      "Number of items with more than 17769 entries in column: 0\n",
      "Resulting sparsity of A: 0.04992035769881538\n",
      "create lookup\n",
      "create true item df\n",
      "predicting\n",
      "predicting done, reindexing\n",
      "calculating metrics\n",
      "Metrics:  Recall@20: 0.36521372, Recall@50: 0.44910397, NDCG@100: 0.39758849\n"
     ]
    }
   ],
   "source": [
    "run_sparse_cov_benchmark(result_path='/home/pmoritz/dev/modsem/benchmarks/netlix_sparse_cov_new.csv',  \n",
    "                                     X_train=X_train_netflix, \n",
    "                                     X_test_tr=X_test_tr_netflix, \n",
    "                                     fitted_model=model_EDLAE, \n",
    "                                     test_tr=test_tr_netflix, \n",
    "                                     test_te=test_te_netflix, \n",
    "                                     sparsity_threshold=sparsity_threshold_netflix, \n",
    "                                     max_in_col=model_EDLAE.B.shape[0])"
   ]
  },
  {
   "cell_type": "code",
   "execution_count": 27,
   "id": "a77db755-58d6-4b8f-b82d-5bc60558c738",
   "metadata": {},
   "outputs": [],
   "source": [
    "results_sparsecov_netflix = pd.read_csv('/home/pmoritz/dev/modsem/benchmarks/netlix_sparse_cov_new.csv', sep='|')"
   ]
  },
  {
   "cell_type": "code",
   "execution_count": 28,
   "id": "52b116cd-c2e3-43ef-b8d0-6b2a87474fc8",
   "metadata": {},
   "outputs": [
    {
     "data": {
      "text/html": [
       "<div>\n",
       "<style scoped>\n",
       "    .dataframe tbody tr th:only-of-type {\n",
       "        vertical-align: middle;\n",
       "    }\n",
       "\n",
       "    .dataframe tbody tr th {\n",
       "        vertical-align: top;\n",
       "    }\n",
       "\n",
       "    .dataframe thead th {\n",
       "        text-align: right;\n",
       "    }\n",
       "</style>\n",
       "<table border=\"1\" class=\"dataframe\">\n",
       "  <thead>\n",
       "    <tr style=\"text-align: right;\">\n",
       "      <th></th>\n",
       "      <th>sparsity</th>\n",
       "      <th>threshold</th>\n",
       "      <th>alphas</th>\n",
       "      <th>query_time</th>\n",
       "      <th>batch_time</th>\n",
       "      <th>recall@20</th>\n",
       "      <th>recall@50</th>\n",
       "      <th>ndcg@100</th>\n",
       "    </tr>\n",
       "  </thead>\n",
       "  <tbody>\n",
       "    <tr>\n",
       "      <th>0</th>\n",
       "      <td>0.001000</td>\n",
       "      <td>2.047</td>\n",
       "      <td>0.75</td>\n",
       "      <td>0.000054</td>\n",
       "      <td>0.005387</td>\n",
       "      <td>0.345687</td>\n",
       "      <td>0.423378</td>\n",
       "      <td>0.375113</td>\n",
       "    </tr>\n",
       "    <tr>\n",
       "      <th>1</th>\n",
       "      <td>0.004998</td>\n",
       "      <td>1.096</td>\n",
       "      <td>0.75</td>\n",
       "      <td>0.000087</td>\n",
       "      <td>0.013377</td>\n",
       "      <td>0.359781</td>\n",
       "      <td>0.441876</td>\n",
       "      <td>0.391293</td>\n",
       "    </tr>\n",
       "    <tr>\n",
       "      <th>2</th>\n",
       "      <td>0.009985</td>\n",
       "      <td>0.772</td>\n",
       "      <td>0.75</td>\n",
       "      <td>0.000113</td>\n",
       "      <td>0.019967</td>\n",
       "      <td>0.362675</td>\n",
       "      <td>0.445938</td>\n",
       "      <td>0.394816</td>\n",
       "    </tr>\n",
       "    <tr>\n",
       "      <th>3</th>\n",
       "      <td>0.019981</td>\n",
       "      <td>0.509</td>\n",
       "      <td>0.75</td>\n",
       "      <td>0.000153</td>\n",
       "      <td>0.029651</td>\n",
       "      <td>0.364439</td>\n",
       "      <td>0.448163</td>\n",
       "      <td>0.396702</td>\n",
       "    </tr>\n",
       "    <tr>\n",
       "      <th>4</th>\n",
       "      <td>0.049920</td>\n",
       "      <td>1.764</td>\n",
       "      <td>0.50</td>\n",
       "      <td>0.000265</td>\n",
       "      <td>0.055286</td>\n",
       "      <td>0.365214</td>\n",
       "      <td>0.449104</td>\n",
       "      <td>0.397588</td>\n",
       "    </tr>\n",
       "  </tbody>\n",
       "</table>\n",
       "</div>"
      ],
      "text/plain": [
       "   sparsity  threshold  alphas  query_time  batch_time  recall@20  recall@50  \\\n",
       "0  0.001000      2.047    0.75    0.000054    0.005387   0.345687   0.423378   \n",
       "1  0.004998      1.096    0.75    0.000087    0.013377   0.359781   0.441876   \n",
       "2  0.009985      0.772    0.75    0.000113    0.019967   0.362675   0.445938   \n",
       "3  0.019981      0.509    0.75    0.000153    0.029651   0.364439   0.448163   \n",
       "4  0.049920      1.764    0.50    0.000265    0.055286   0.365214   0.449104   \n",
       "\n",
       "   ndcg@100  \n",
       "0  0.375113  \n",
       "1  0.391293  \n",
       "2  0.394816  \n",
       "3  0.396702  \n",
       "4  0.397588  "
      ]
     },
     "execution_count": 28,
     "metadata": {},
     "output_type": "execute_result"
    }
   ],
   "source": [
    "results_sparsecov_netflix"
   ]
  },
  {
   "cell_type": "code",
   "execution_count": null,
   "id": "d6bae180-1cb6-4bf5-9c0a-1a926e2c1c65",
   "metadata": {},
   "outputs": [],
   "source": []
  },
  {
   "cell_type": "markdown",
   "id": "d9b06f94-d99a-4b48-bd3a-8cbeb6109e43",
   "metadata": {},
   "source": [
    "#### MSD"
   ]
  },
  {
   "cell_type": "code",
   "execution_count": 11,
   "id": "0a7fca17-bdaa-45c1-9225-056ae8483240",
   "metadata": {},
   "outputs": [],
   "source": [
    "hyperparam_search_msd = pd.read_csv(f'hyperparam_search/sparse_cov_msd.csv', sep='|')\n",
    "hyperparam_search_msd['sum'] = hyperparam_search_msd['recall@20'] + hyperparam_search_msd['recall@50'] + hyperparam_search_msd['ndcg@100']"
   ]
  },
  {
   "cell_type": "code",
   "execution_count": 12,
   "id": "d87aca40-092e-424d-ad11-0244f2f03478",
   "metadata": {},
   "outputs": [
    {
     "data": {
      "text/html": [
       "<div>\n",
       "<style scoped>\n",
       "    .dataframe tbody tr th:only-of-type {\n",
       "        vertical-align: middle;\n",
       "    }\n",
       "\n",
       "    .dataframe tbody tr th {\n",
       "        vertical-align: top;\n",
       "    }\n",
       "\n",
       "    .dataframe thead th {\n",
       "        text-align: right;\n",
       "    }\n",
       "</style>\n",
       "<table border=\"1\" class=\"dataframe\">\n",
       "  <thead>\n",
       "    <tr style=\"text-align: right;\">\n",
       "      <th></th>\n",
       "      <th>sparsity</th>\n",
       "      <th>threshold</th>\n",
       "      <th>alpha</th>\n",
       "      <th>recall@20</th>\n",
       "      <th>recall@50</th>\n",
       "      <th>ndcg@100</th>\n",
       "      <th>sum</th>\n",
       "    </tr>\n",
       "  </thead>\n",
       "  <tbody>\n",
       "    <tr>\n",
       "      <th>2</th>\n",
       "      <td>0.1</td>\n",
       "      <td>0.3700</td>\n",
       "      <td>0.75</td>\n",
       "      <td>0.327127</td>\n",
       "      <td>0.419308</td>\n",
       "      <td>0.382858</td>\n",
       "      <td>1.129293</td>\n",
       "    </tr>\n",
       "    <tr>\n",
       "      <th>1</th>\n",
       "      <td>0.1</td>\n",
       "      <td>2.0500</td>\n",
       "      <td>0.50</td>\n",
       "      <td>0.327066</td>\n",
       "      <td>0.419205</td>\n",
       "      <td>0.382677</td>\n",
       "      <td>1.128947</td>\n",
       "    </tr>\n",
       "    <tr>\n",
       "      <th>3</th>\n",
       "      <td>0.1</td>\n",
       "      <td>0.0704</td>\n",
       "      <td>1.00</td>\n",
       "      <td>0.326425</td>\n",
       "      <td>0.417829</td>\n",
       "      <td>0.381624</td>\n",
       "      <td>1.125878</td>\n",
       "    </tr>\n",
       "    <tr>\n",
       "      <th>0</th>\n",
       "      <td>0.1</td>\n",
       "      <td>12.0400</td>\n",
       "      <td>0.25</td>\n",
       "      <td>0.325377</td>\n",
       "      <td>0.416370</td>\n",
       "      <td>0.380646</td>\n",
       "      <td>1.122393</td>\n",
       "    </tr>\n",
       "  </tbody>\n",
       "</table>\n",
       "</div>"
      ],
      "text/plain": [
       "   sparsity  threshold  alpha  recall@20  recall@50  ndcg@100       sum\n",
       "2       0.1     0.3700   0.75   0.327127   0.419308  0.382858  1.129293\n",
       "1       0.1     2.0500   0.50   0.327066   0.419205  0.382677  1.128947\n",
       "3       0.1     0.0704   1.00   0.326425   0.417829  0.381624  1.125878\n",
       "0       0.1    12.0400   0.25   0.325377   0.416370  0.380646  1.122393"
      ]
     },
     "execution_count": 12,
     "metadata": {},
     "output_type": "execute_result"
    }
   ],
   "source": [
    "hyperparam_search_msd[hyperparam_search_msd.sparsity == 0.1].sort_values(by='sum', ascending=False)"
   ]
  },
  {
   "cell_type": "code",
   "execution_count": 13,
   "id": "72e36693-7f4d-4f83-96a3-49c9e95fac9b",
   "metadata": {},
   "outputs": [
    {
     "name": "stdout",
     "output_type": "stream",
     "text": [
      "finished inverse computation\n"
     ]
    }
   ],
   "source": [
    "sparsity_threshold_msd = {0.1: [0.37, 0.75],\n",
    "                          0.5: [0.609, 0.50],\n",
    "                          1.0: [0.399, 0.50],\n",
    "                          2.0: [0.0511, 0.75],\n",
    "                          5.0: [0.00644, 1.0]}\n",
    "\n",
    "model_EDLAE = EDLAE(p=0.25, lmbda=70)\n",
    "model_EDLAE.fit(train_msd, uid_str='uid', sid_str='sid', nItems=41140)"
   ]
  },
  {
   "cell_type": "code",
   "execution_count": 14,
   "id": "f944db29-d10e-404d-9a1c-752f3a42f0c3",
   "metadata": {},
   "outputs": [
    {
     "name": "stdout",
     "output_type": "stream",
     "text": [
      "Current Sparsity: 0.1\n",
      "Number of items with more than 41140 entries in column: 0\n",
      "Resulting sparsity of A: 0.0009994832495085965\n",
      "create lookup\n",
      "create true item df\n",
      "predicting\n",
      "predicting done, reindexing\n",
      "calculating metrics\n",
      "Metrics:  Recall@20: 0.32876085, Recall@50: 0.41958407, NDCG@100: 0.38431205\n",
      "Current Sparsity: 0.5\n",
      "Number of items with more than 41140 entries in column: 0\n",
      "Resulting sparsity of A: 0.00499654889135572\n",
      "create lookup\n",
      "create true item df\n",
      "predicting\n",
      "predicting done, reindexing\n",
      "calculating metrics\n",
      "Metrics:  Recall@20: 0.33315223, Recall@50: 0.42782471, NDCG@100: 0.39051469\n",
      "Current Sparsity: 1.0\n",
      "Number of items with more than 41140 entries in column: 0\n",
      "Resulting sparsity of A: 0.009994196158155666\n",
      "create lookup\n",
      "create true item df\n",
      "predicting\n",
      "predicting done, reindexing\n",
      "calculating metrics\n",
      "Metrics:  Recall@20: 0.33353189, Recall@50: 0.42922019, NDCG@100: 0.39124441\n",
      "Current Sparsity: 2.0\n",
      "Number of items with more than 41140 entries in column: 0\n",
      "Resulting sparsity of A: 0.01999949660253982\n",
      "create lookup\n",
      "create true item df\n",
      "predicting\n",
      "predicting done, reindexing\n",
      "calculating metrics\n",
      "Metrics:  Recall@20: 0.33393152, Recall@50: 0.42974623, NDCG@100: 0.39171573\n",
      "Current Sparsity: 5.0\n",
      "Number of items with more than 41140 entries in column: 0\n",
      "Resulting sparsity of A: 0.04997564726160053\n",
      "create lookup\n",
      "create true item df\n",
      "predicting\n",
      "predicting done, reindexing\n",
      "calculating metrics\n",
      "Metrics:  Recall@20: 0.33415517, Recall@50: 0.42988097, NDCG@100: 0.39188458\n"
     ]
    }
   ],
   "source": [
    "run_sparse_cov_benchmark(result_path='/home/pmoritz/dev/modsem/benchmarks/msd_sparse_cov_new.csv',  \n",
    "                                     X_train=X_train_msd, \n",
    "                                     X_test_tr=X_test_tr_msd, \n",
    "                                     fitted_model=model_EDLAE, \n",
    "                                     test_tr=test_tr_msd, \n",
    "                                     test_te=test_te_msd, \n",
    "                                     sparsity_threshold=sparsity_threshold_msd, \n",
    "                                     max_in_col=model_EDLAE.B.shape[0])"
   ]
  },
  {
   "cell_type": "code",
   "execution_count": 15,
   "id": "750da6d1-d6ad-4a05-a147-44b39ddcff2c",
   "metadata": {},
   "outputs": [],
   "source": [
    "results_sparsecov_msd = pd.read_csv('/home/pmoritz/dev/modsem/benchmarks/msd_sparse_cov_new.csv', sep='|')"
   ]
  },
  {
   "cell_type": "code",
   "execution_count": 16,
   "id": "229cb94b-0f5e-4667-8260-8a164fb38fd3",
   "metadata": {},
   "outputs": [
    {
     "data": {
      "text/html": [
       "<div>\n",
       "<style scoped>\n",
       "    .dataframe tbody tr th:only-of-type {\n",
       "        vertical-align: middle;\n",
       "    }\n",
       "\n",
       "    .dataframe tbody tr th {\n",
       "        vertical-align: top;\n",
       "    }\n",
       "\n",
       "    .dataframe thead th {\n",
       "        text-align: right;\n",
       "    }\n",
       "</style>\n",
       "<table border=\"1\" class=\"dataframe\">\n",
       "  <thead>\n",
       "    <tr style=\"text-align: right;\">\n",
       "      <th></th>\n",
       "      <th>sparsity</th>\n",
       "      <th>threshold</th>\n",
       "      <th>alphas</th>\n",
       "      <th>query_time</th>\n",
       "      <th>batch_time</th>\n",
       "      <th>recall@20</th>\n",
       "      <th>recall@50</th>\n",
       "      <th>ndcg@100</th>\n",
       "    </tr>\n",
       "  </thead>\n",
       "  <tbody>\n",
       "    <tr>\n",
       "      <th>0</th>\n",
       "      <td>0.000999</td>\n",
       "      <td>0.37000</td>\n",
       "      <td>0.75</td>\n",
       "      <td>0.000056</td>\n",
       "      <td>0.003136</td>\n",
       "      <td>0.328761</td>\n",
       "      <td>0.419584</td>\n",
       "      <td>0.384312</td>\n",
       "    </tr>\n",
       "    <tr>\n",
       "      <th>1</th>\n",
       "      <td>0.004997</td>\n",
       "      <td>0.60900</td>\n",
       "      <td>0.50</td>\n",
       "      <td>0.000156</td>\n",
       "      <td>0.014406</td>\n",
       "      <td>0.333152</td>\n",
       "      <td>0.427825</td>\n",
       "      <td>0.390515</td>\n",
       "    </tr>\n",
       "    <tr>\n",
       "      <th>2</th>\n",
       "      <td>0.009994</td>\n",
       "      <td>0.39900</td>\n",
       "      <td>0.50</td>\n",
       "      <td>0.000271</td>\n",
       "      <td>0.024603</td>\n",
       "      <td>0.333532</td>\n",
       "      <td>0.429220</td>\n",
       "      <td>0.391244</td>\n",
       "    </tr>\n",
       "    <tr>\n",
       "      <th>3</th>\n",
       "      <td>0.019999</td>\n",
       "      <td>0.05110</td>\n",
       "      <td>0.75</td>\n",
       "      <td>0.000345</td>\n",
       "      <td>0.032637</td>\n",
       "      <td>0.333932</td>\n",
       "      <td>0.429746</td>\n",
       "      <td>0.391716</td>\n",
       "    </tr>\n",
       "    <tr>\n",
       "      <th>4</th>\n",
       "      <td>0.049976</td>\n",
       "      <td>0.00644</td>\n",
       "      <td>1.00</td>\n",
       "      <td>0.000490</td>\n",
       "      <td>0.048523</td>\n",
       "      <td>0.334155</td>\n",
       "      <td>0.429881</td>\n",
       "      <td>0.391885</td>\n",
       "    </tr>\n",
       "  </tbody>\n",
       "</table>\n",
       "</div>"
      ],
      "text/plain": [
       "   sparsity  threshold  alphas  query_time  batch_time  recall@20  recall@50  \\\n",
       "0  0.000999    0.37000    0.75    0.000056    0.003136   0.328761   0.419584   \n",
       "1  0.004997    0.60900    0.50    0.000156    0.014406   0.333152   0.427825   \n",
       "2  0.009994    0.39900    0.50    0.000271    0.024603   0.333532   0.429220   \n",
       "3  0.019999    0.05110    0.75    0.000345    0.032637   0.333932   0.429746   \n",
       "4  0.049976    0.00644    1.00    0.000490    0.048523   0.334155   0.429881   \n",
       "\n",
       "   ndcg@100  \n",
       "0  0.384312  \n",
       "1  0.390515  \n",
       "2  0.391244  \n",
       "3  0.391716  \n",
       "4  0.391885  "
      ]
     },
     "execution_count": 16,
     "metadata": {},
     "output_type": "execute_result"
    }
   ],
   "source": [
    "results_sparsecov_msd"
   ]
  },
  {
   "cell_type": "markdown",
   "id": "e6c30890-6ef0-49cd-aaa9-df4a7f36a7ce",
   "metadata": {},
   "source": [
    "## ADMM Slim"
   ]
  },
  {
   "cell_type": "markdown",
   "id": "009d2c67-5f21-4fc5-85ba-5d2b86a7865d",
   "metadata": {},
   "source": [
    "### ML20M"
   ]
  },
  {
   "cell_type": "markdown",
   "id": "08b6fb13-ecec-4a27-883c-1d1d090dc79c",
   "metadata": {},
   "source": [
    "#### Sparsity 0.5%"
   ]
  },
  {
   "cell_type": "code",
   "execution_count": 14,
   "id": "5789d28a-db75-47f5-93fe-6a73df7c0a95",
   "metadata": {},
   "outputs": [
    {
     "data": {
      "text/html": [
       "<div>\n",
       "<style scoped>\n",
       "    .dataframe tbody tr th:only-of-type {\n",
       "        vertical-align: middle;\n",
       "    }\n",
       "\n",
       "    .dataframe tbody tr th {\n",
       "        vertical-align: top;\n",
       "    }\n",
       "\n",
       "    .dataframe thead th {\n",
       "        text-align: right;\n",
       "    }\n",
       "</style>\n",
       "<table border=\"1\" class=\"dataframe\">\n",
       "  <thead>\n",
       "    <tr style=\"text-align: right;\">\n",
       "      <th></th>\n",
       "      <th>Recall@20</th>\n",
       "      <th>Recall@50</th>\n",
       "      <th>NDCG@100</th>\n",
       "      <th>lambda2</th>\n",
       "      <th>rho</th>\n",
       "      <th>lambda1</th>\n",
       "      <th>sparsity</th>\n",
       "      <th>primal norm</th>\n",
       "      <th>dual norm</th>\n",
       "      <th>eps primal</th>\n",
       "      <th>eps dual</th>\n",
       "      <th>sum</th>\n",
       "    </tr>\n",
       "  </thead>\n",
       "  <tbody>\n",
       "    <tr>\n",
       "      <th>17</th>\n",
       "      <td>0.395977</td>\n",
       "      <td>0.522786</td>\n",
       "      <td>0.429802</td>\n",
       "      <td>100</td>\n",
       "      <td>1000</td>\n",
       "      <td>10.674</td>\n",
       "      <td>0.500036</td>\n",
       "      <td>0.032085</td>\n",
       "      <td>1.131068</td>\n",
       "      <td>0.021307</td>\n",
       "      <td>2.732413</td>\n",
       "      <td>1.348565</td>\n",
       "    </tr>\n",
       "    <tr>\n",
       "      <th>14</th>\n",
       "      <td>0.395973</td>\n",
       "      <td>0.522876</td>\n",
       "      <td>0.429895</td>\n",
       "      <td>100</td>\n",
       "      <td>800</td>\n",
       "      <td>10.597</td>\n",
       "      <td>0.499714</td>\n",
       "      <td>0.041746</td>\n",
       "      <td>1.152021</td>\n",
       "      <td>0.021309</td>\n",
       "      <td>2.705414</td>\n",
       "      <td>1.348744</td>\n",
       "    </tr>\n",
       "    <tr>\n",
       "      <th>11</th>\n",
       "      <td>0.396187</td>\n",
       "      <td>0.522881</td>\n",
       "      <td>0.429913</td>\n",
       "      <td>100</td>\n",
       "      <td>650</td>\n",
       "      <td>10.511</td>\n",
       "      <td>0.499400</td>\n",
       "      <td>0.052986</td>\n",
       "      <td>1.168467</td>\n",
       "      <td>0.021311</td>\n",
       "      <td>2.677414</td>\n",
       "      <td>1.348982</td>\n",
       "    </tr>\n",
       "    <tr>\n",
       "      <th>8</th>\n",
       "      <td>0.396364</td>\n",
       "      <td>0.522854</td>\n",
       "      <td>0.429988</td>\n",
       "      <td>100</td>\n",
       "      <td>500</td>\n",
       "      <td>10.378</td>\n",
       "      <td>0.499058</td>\n",
       "      <td>0.071500</td>\n",
       "      <td>1.265299</td>\n",
       "      <td>0.021315</td>\n",
       "      <td>2.637467</td>\n",
       "      <td>1.349207</td>\n",
       "    </tr>\n",
       "    <tr>\n",
       "      <th>16</th>\n",
       "      <td>0.396260</td>\n",
       "      <td>0.523131</td>\n",
       "      <td>0.430143</td>\n",
       "      <td>10</td>\n",
       "      <td>1000</td>\n",
       "      <td>10.674</td>\n",
       "      <td>0.487082</td>\n",
       "      <td>0.031761</td>\n",
       "      <td>1.318336</td>\n",
       "      <td>0.021450</td>\n",
       "      <td>2.711821</td>\n",
       "      <td>1.349534</td>\n",
       "    </tr>\n",
       "    <tr>\n",
       "      <th>5</th>\n",
       "      <td>0.396554</td>\n",
       "      <td>0.522903</td>\n",
       "      <td>0.430095</td>\n",
       "      <td>100</td>\n",
       "      <td>300</td>\n",
       "      <td>9.995</td>\n",
       "      <td>0.500068</td>\n",
       "      <td>0.129172</td>\n",
       "      <td>1.575584</td>\n",
       "      <td>0.021325</td>\n",
       "      <td>2.537735</td>\n",
       "      <td>1.349551</td>\n",
       "    </tr>\n",
       "    <tr>\n",
       "      <th>12</th>\n",
       "      <td>0.396205</td>\n",
       "      <td>0.523204</td>\n",
       "      <td>0.430195</td>\n",
       "      <td>0</td>\n",
       "      <td>800</td>\n",
       "      <td>10.597</td>\n",
       "      <td>0.485175</td>\n",
       "      <td>0.041203</td>\n",
       "      <td>1.436471</td>\n",
       "      <td>0.021481</td>\n",
       "      <td>2.682358</td>\n",
       "      <td>1.349604</td>\n",
       "    </tr>\n",
       "    <tr>\n",
       "      <th>13</th>\n",
       "      <td>0.396188</td>\n",
       "      <td>0.523229</td>\n",
       "      <td>0.430237</td>\n",
       "      <td>10</td>\n",
       "      <td>800</td>\n",
       "      <td>10.597</td>\n",
       "      <td>0.486773</td>\n",
       "      <td>0.041267</td>\n",
       "      <td>1.207110</td>\n",
       "      <td>0.021453</td>\n",
       "      <td>2.685077</td>\n",
       "      <td>1.349655</td>\n",
       "    </tr>\n",
       "    <tr>\n",
       "      <th>15</th>\n",
       "      <td>0.396262</td>\n",
       "      <td>0.523224</td>\n",
       "      <td>0.430178</td>\n",
       "      <td>0</td>\n",
       "      <td>1000</td>\n",
       "      <td>10.674</td>\n",
       "      <td>0.485472</td>\n",
       "      <td>0.031718</td>\n",
       "      <td>1.955548</td>\n",
       "      <td>0.021478</td>\n",
       "      <td>2.709080</td>\n",
       "      <td>1.349664</td>\n",
       "    </tr>\n",
       "    <tr>\n",
       "      <th>9</th>\n",
       "      <td>0.396251</td>\n",
       "      <td>0.523172</td>\n",
       "      <td>0.430248</td>\n",
       "      <td>0</td>\n",
       "      <td>650</td>\n",
       "      <td>10.511</td>\n",
       "      <td>0.484890</td>\n",
       "      <td>0.052233</td>\n",
       "      <td>1.283055</td>\n",
       "      <td>0.021485</td>\n",
       "      <td>2.654690</td>\n",
       "      <td>1.349671</td>\n",
       "    </tr>\n",
       "    <tr>\n",
       "      <th>6</th>\n",
       "      <td>0.396359</td>\n",
       "      <td>0.523044</td>\n",
       "      <td>0.430351</td>\n",
       "      <td>0</td>\n",
       "      <td>500</td>\n",
       "      <td>10.378</td>\n",
       "      <td>0.484734</td>\n",
       "      <td>0.070385</td>\n",
       "      <td>1.299522</td>\n",
       "      <td>0.021490</td>\n",
       "      <td>2.615260</td>\n",
       "      <td>1.349754</td>\n",
       "    </tr>\n",
       "    <tr>\n",
       "      <th>7</th>\n",
       "      <td>0.396295</td>\n",
       "      <td>0.523317</td>\n",
       "      <td>0.430300</td>\n",
       "      <td>10</td>\n",
       "      <td>500</td>\n",
       "      <td>10.378</td>\n",
       "      <td>0.486333</td>\n",
       "      <td>0.070514</td>\n",
       "      <td>1.286012</td>\n",
       "      <td>0.021461</td>\n",
       "      <td>2.617890</td>\n",
       "      <td>1.349912</td>\n",
       "    </tr>\n",
       "    <tr>\n",
       "      <th>10</th>\n",
       "      <td>0.396257</td>\n",
       "      <td>0.523352</td>\n",
       "      <td>0.430304</td>\n",
       "      <td>10</td>\n",
       "      <td>650</td>\n",
       "      <td>10.511</td>\n",
       "      <td>0.486496</td>\n",
       "      <td>0.052322</td>\n",
       "      <td>1.210562</td>\n",
       "      <td>0.021456</td>\n",
       "      <td>2.657373</td>\n",
       "      <td>1.349914</td>\n",
       "    </tr>\n",
       "    <tr>\n",
       "      <th>4</th>\n",
       "      <td>0.396348</td>\n",
       "      <td>0.523136</td>\n",
       "      <td>0.430452</td>\n",
       "      <td>10</td>\n",
       "      <td>300</td>\n",
       "      <td>9.995</td>\n",
       "      <td>0.487549</td>\n",
       "      <td>0.127146</td>\n",
       "      <td>1.600245</td>\n",
       "      <td>0.021477</td>\n",
       "      <td>2.519468</td>\n",
       "      <td>1.349936</td>\n",
       "    </tr>\n",
       "    <tr>\n",
       "      <th>3</th>\n",
       "      <td>0.396365</td>\n",
       "      <td>0.523120</td>\n",
       "      <td>0.430459</td>\n",
       "      <td>0</td>\n",
       "      <td>300</td>\n",
       "      <td>9.995</td>\n",
       "      <td>0.485932</td>\n",
       "      <td>0.126890</td>\n",
       "      <td>1.581510</td>\n",
       "      <td>0.021507</td>\n",
       "      <td>2.516984</td>\n",
       "      <td>1.349944</td>\n",
       "    </tr>\n",
       "    <tr>\n",
       "      <th>2</th>\n",
       "      <td>0.396726</td>\n",
       "      <td>0.522996</td>\n",
       "      <td>0.430306</td>\n",
       "      <td>100</td>\n",
       "      <td>200</td>\n",
       "      <td>9.525</td>\n",
       "      <td>0.504426</td>\n",
       "      <td>0.208297</td>\n",
       "      <td>1.974002</td>\n",
       "      <td>0.021339</td>\n",
       "      <td>2.432386</td>\n",
       "      <td>1.350027</td>\n",
       "    </tr>\n",
       "    <tr>\n",
       "      <th>0</th>\n",
       "      <td>0.396390</td>\n",
       "      <td>0.523196</td>\n",
       "      <td>0.430622</td>\n",
       "      <td>0</td>\n",
       "      <td>200</td>\n",
       "      <td>9.525</td>\n",
       "      <td>0.490506</td>\n",
       "      <td>0.204158</td>\n",
       "      <td>1.916636</td>\n",
       "      <td>0.021529</td>\n",
       "      <td>2.413301</td>\n",
       "      <td>1.350208</td>\n",
       "    </tr>\n",
       "    <tr>\n",
       "      <th>1</th>\n",
       "      <td>0.396526</td>\n",
       "      <td>0.523157</td>\n",
       "      <td>0.430566</td>\n",
       "      <td>10</td>\n",
       "      <td>200</td>\n",
       "      <td>9.525</td>\n",
       "      <td>0.492093</td>\n",
       "      <td>0.204629</td>\n",
       "      <td>1.909872</td>\n",
       "      <td>0.021497</td>\n",
       "      <td>2.415623</td>\n",
       "      <td>1.350248</td>\n",
       "    </tr>\n",
       "  </tbody>\n",
       "</table>\n",
       "</div>"
      ],
      "text/plain": [
       "    Recall@20  Recall@50  NDCG@100  lambda2   rho  lambda1  sparsity  \\\n",
       "17   0.395977   0.522786  0.429802      100  1000   10.674  0.500036   \n",
       "14   0.395973   0.522876  0.429895      100   800   10.597  0.499714   \n",
       "11   0.396187   0.522881  0.429913      100   650   10.511  0.499400   \n",
       "8    0.396364   0.522854  0.429988      100   500   10.378  0.499058   \n",
       "16   0.396260   0.523131  0.430143       10  1000   10.674  0.487082   \n",
       "5    0.396554   0.522903  0.430095      100   300    9.995  0.500068   \n",
       "12   0.396205   0.523204  0.430195        0   800   10.597  0.485175   \n",
       "13   0.396188   0.523229  0.430237       10   800   10.597  0.486773   \n",
       "15   0.396262   0.523224  0.430178        0  1000   10.674  0.485472   \n",
       "9    0.396251   0.523172  0.430248        0   650   10.511  0.484890   \n",
       "6    0.396359   0.523044  0.430351        0   500   10.378  0.484734   \n",
       "7    0.396295   0.523317  0.430300       10   500   10.378  0.486333   \n",
       "10   0.396257   0.523352  0.430304       10   650   10.511  0.486496   \n",
       "4    0.396348   0.523136  0.430452       10   300    9.995  0.487549   \n",
       "3    0.396365   0.523120  0.430459        0   300    9.995  0.485932   \n",
       "2    0.396726   0.522996  0.430306      100   200    9.525  0.504426   \n",
       "0    0.396390   0.523196  0.430622        0   200    9.525  0.490506   \n",
       "1    0.396526   0.523157  0.430566       10   200    9.525  0.492093   \n",
       "\n",
       "    primal norm  dual norm  eps primal  eps dual       sum  \n",
       "17     0.032085   1.131068    0.021307  2.732413  1.348565  \n",
       "14     0.041746   1.152021    0.021309  2.705414  1.348744  \n",
       "11     0.052986   1.168467    0.021311  2.677414  1.348982  \n",
       "8      0.071500   1.265299    0.021315  2.637467  1.349207  \n",
       "16     0.031761   1.318336    0.021450  2.711821  1.349534  \n",
       "5      0.129172   1.575584    0.021325  2.537735  1.349551  \n",
       "12     0.041203   1.436471    0.021481  2.682358  1.349604  \n",
       "13     0.041267   1.207110    0.021453  2.685077  1.349655  \n",
       "15     0.031718   1.955548    0.021478  2.709080  1.349664  \n",
       "9      0.052233   1.283055    0.021485  2.654690  1.349671  \n",
       "6      0.070385   1.299522    0.021490  2.615260  1.349754  \n",
       "7      0.070514   1.286012    0.021461  2.617890  1.349912  \n",
       "10     0.052322   1.210562    0.021456  2.657373  1.349914  \n",
       "4      0.127146   1.600245    0.021477  2.519468  1.349936  \n",
       "3      0.126890   1.581510    0.021507  2.516984  1.349944  \n",
       "2      0.208297   1.974002    0.021339  2.432386  1.350027  \n",
       "0      0.204158   1.916636    0.021529  2.413301  1.350208  \n",
       "1      0.204629   1.909872    0.021497  2.415623  1.350248  "
      ]
     },
     "execution_count": 14,
     "metadata": {},
     "output_type": "execute_result"
    }
   ],
   "source": [
    "res = pd.read_csv('/home/pmoritz/dev/modsem/hyperparam_search/hyperparam_search_SLIM_ml20m_05_100epoch_part4.csv', sep='|')\n",
    "res['sum'] = res['Recall@20'] + res['Recall@50'] + res['NDCG@100']\n",
    "res.sort_values(by='sum')"
   ]
  },
  {
   "cell_type": "code",
   "execution_count": 8,
   "id": "0817d2f7-d116-4478-9aea-37be3d5fb8a6",
   "metadata": {
    "tags": []
   },
   "outputs": [
    {
     "name": "stdout",
     "output_type": "stream",
     "text": [
      "Starting iteration 0\n",
      "Current Sparsity:0.002%\n",
      "Primal Residual Norm: 28.551044464111328, eps Primal: 0.02301251679229736\n",
      "Dual Residual Norm: 690.9571647644043, eps Dual: 0.5911350019531251\n",
      "++++++++++++++++++++++++++++++++++++++++++++++++++++++++++++++++++++++++++++++++++\n",
      "\n",
      "Starting iteration 1\n",
      "Current Sparsity:0.010%\n",
      "Primal Residual Norm: 16.595741271972656, eps Primal: 0.021947922142028807\n",
      "Dual Residual Norm: 974.726390838623, eps Dual: 0.8999373945312501\n",
      "++++++++++++++++++++++++++++++++++++++++++++++++++++++++++++++++++++++++++++++++++\n",
      "\n",
      "Starting iteration 2\n"
     ]
    },
    {
     "ename": "KeyboardInterrupt",
     "evalue": "",
     "output_type": "error",
     "traceback": [
      "\u001b[0;31m---------------------------------------------------------------------------\u001b[0m",
      "\u001b[0;31mKeyboardInterrupt\u001b[0m                         Traceback (most recent call last)",
      "Input \u001b[0;32mIn [8]\u001b[0m, in \u001b[0;36m<cell line: 2>\u001b[0;34m()\u001b[0m\n\u001b[1;32m      1\u001b[0m model_ADMM_EDLAE \u001b[38;5;241m=\u001b[39m ADMM_EDLAE(lambda1\u001b[38;5;241m=\u001b[39m\u001b[38;5;241m9.4\u001b[39m, lambda2\u001b[38;5;241m=\u001b[39m\u001b[38;5;241m10\u001b[39m, p\u001b[38;5;241m=\u001b[39m\u001b[38;5;241m0.33\u001b[39m, rho\u001b[38;5;241m=\u001b[39m\u001b[38;5;241m200\u001b[39m, eps_rel\u001b[38;5;241m=\u001b[39m\u001b[38;5;241m0.0001\u001b[39m, eps_abs\u001b[38;5;241m=\u001b[39m\u001b[38;5;241m0.000001\u001b[39m, tau\u001b[38;5;241m=\u001b[39m\u001b[38;5;241m2\u001b[39m, t\u001b[38;5;241m=\u001b[39m\u001b[38;5;241m10\u001b[39m)\n\u001b[0;32m----> 2\u001b[0m final_sparsity, R_primal_norm, R_dual_norm, eps_primal, eps_dual \u001b[38;5;241m=\u001b[39m \u001b[43mmodel_ADMM_EDLAE\u001b[49m\u001b[38;5;241;43m.\u001b[39;49m\u001b[43mfit\u001b[49m\u001b[43m(\u001b[49m\u001b[43mtrain_ML20M\u001b[49m\u001b[43m,\u001b[49m\u001b[43m \u001b[49m\u001b[38;5;124;43m'\u001b[39;49m\u001b[38;5;124;43muid\u001b[39;49m\u001b[38;5;124;43m'\u001b[39;49m\u001b[43m,\u001b[49m\u001b[43m \u001b[49m\u001b[38;5;124;43m'\u001b[39;49m\u001b[38;5;124;43msid\u001b[39;49m\u001b[38;5;124;43m'\u001b[39;49m\u001b[43m,\u001b[49m\u001b[43m \u001b[49m\u001b[38;5;241;43m20108\u001b[39;49m\u001b[43m,\u001b[49m\u001b[43m \u001b[49m\u001b[43mcheck_convergence\u001b[49m\u001b[38;5;241;43m=\u001b[39;49m\u001b[38;5;28;43;01mTrue\u001b[39;49;00m\u001b[43m,\u001b[49m\u001b[43m \u001b[49m\u001b[43madjust_rho\u001b[49m\u001b[38;5;241;43m=\u001b[39;49m\u001b[38;5;28;43;01mFalse\u001b[39;49;00m\u001b[43m,\u001b[49m\u001b[43m \u001b[49m\u001b[43mn_iter\u001b[49m\u001b[38;5;241;43m=\u001b[39;49m\u001b[38;5;241;43m100\u001b[39;49m\u001b[43m,\u001b[49m\u001b[43m \u001b[49m\u001b[43mreturn_info\u001b[49m\u001b[38;5;241;43m=\u001b[39;49m\u001b[38;5;28;43;01mTrue\u001b[39;49;00m\u001b[43m)\u001b[49m\n\u001b[1;32m      3\u001b[0m metr_dict \u001b[38;5;241m=\u001b[39m model_ADMM_EDLAE\u001b[38;5;241m.\u001b[39mevaluate_metrics(test_tr_ML20M, test_te_ML20M, \u001b[38;5;124m'\u001b[39m\u001b[38;5;124muid\u001b[39m\u001b[38;5;124m'\u001b[39m, \u001b[38;5;124m'\u001b[39m\u001b[38;5;124msid\u001b[39m\u001b[38;5;124m'\u001b[39m, metrics_lst)\n",
      "File \u001b[0;32m~/dev/modsem/Models.py:1209\u001b[0m, in \u001b[0;36mADMM_EDLAE.fit\u001b[0;34m(self, train_data, uid_str, sid_str, nItems, n_iter, check_convergence, adjust_rho, return_info)\u001b[0m\n\u001b[1;32m   1207\u001b[0m \u001b[38;5;28;01mif\u001b[39;00m \u001b[38;5;28mself\u001b[39m\u001b[38;5;241m.\u001b[39mcheck_convergence:\n\u001b[1;32m   1208\u001b[0m     C_old \u001b[38;5;241m=\u001b[39m C\u001b[38;5;241m.\u001b[39mcopy()\n\u001b[0;32m-> 1209\u001b[0m B_tilde \u001b[38;5;241m=\u001b[39m B_aux \u001b[38;5;241m+\u001b[39m \u001b[43mP\u001b[49m\u001b[38;5;241;43m.\u001b[39;49m\u001b[43mdot\u001b[49m\u001b[43m(\u001b[49m\u001b[38;5;28;43mself\u001b[39;49m\u001b[38;5;241;43m.\u001b[39;49m\u001b[43mrho\u001b[49m\u001b[43m \u001b[49m\u001b[38;5;241;43m*\u001b[39;49m\u001b[43m \u001b[49m\u001b[43mC\u001b[49m\u001b[43m \u001b[49m\u001b[38;5;241;43m-\u001b[39;49m\u001b[43m \u001b[49m\u001b[43mGamma\u001b[49m\u001b[43m)\u001b[49m\n\u001b[1;32m   1210\u001b[0m gamma \u001b[38;5;241m=\u001b[39m np\u001b[38;5;241m.\u001b[39mdiag(B_tilde) \u001b[38;5;241m/\u001b[39m diag_P\n\u001b[1;32m   1211\u001b[0m B \u001b[38;5;241m=\u001b[39m B_tilde \u001b[38;5;241m-\u001b[39m P \u001b[38;5;241m*\u001b[39m gamma\n",
      "\u001b[0;31mKeyboardInterrupt\u001b[0m: "
     ]
    }
   ],
   "source": [
    "model_ADMM_EDLAE = ADMM_EDLAE(lambda1=9.4, lambda2=10, p=0.33, rho=200, eps_rel=0.0001, eps_abs=0.000001, tau=2, t=10)\n",
    "final_sparsity, R_primal_norm, R_dual_norm, eps_primal, eps_dual = model_ADMM_EDLAE.fit(train_ML20M, 'uid', 'sid', 20108, check_convergence=True, adjust_rho=False, n_iter=100, return_info=True)\n",
    "metr_dict = model_ADMM_EDLAE.evaluate_metrics(test_tr_ML20M, test_te_ML20M, 'uid', 'sid', metrics_lst)"
   ]
  },
  {
   "cell_type": "code",
   "execution_count": 16,
   "id": "60d054a2-4a2a-4e8a-aff4-53dd689fe693",
   "metadata": {},
   "outputs": [
    {
     "data": {
      "text/plain": [
       "{'Recall(k=20)': 0.39226986579081347,\n",
       " 'Recall(k=50)': 0.5217241022201276,\n",
       " 'NDCG(k=100)': 0.42264110692414125}"
      ]
     },
     "execution_count": 16,
     "metadata": {},
     "output_type": "execute_result"
    }
   ],
   "source": [
    "metr_dict"
   ]
  },
  {
   "cell_type": "code",
   "execution_count": 17,
   "id": "2f419b74-a7ef-41bf-8cab-60669dfa704d",
   "metadata": {},
   "outputs": [
    {
     "data": {
      "text/plain": [
       "(0.011709010449703783, 7.130735830010962e-05)"
      ]
     },
     "execution_count": 17,
     "metadata": {},
     "output_type": "execute_result"
    }
   ],
   "source": [
    "timeit_sparse(sp.csr_matrix(model_ADMM_EDLAE.C), X_test=X_test_tr_ML20M, n_users_test=X_test_tr_ML20M.shape[0], max_k = 100, n_jobs=16)"
   ]
  },
  {
   "cell_type": "code",
   "execution_count": 18,
   "id": "8c32f518-c85c-4e30-840e-942c319bb6e7",
   "metadata": {},
   "outputs": [],
   "source": [
    "np.save(file='/home/pmoritz/dev/modsem/sparse_mat/' + 'ADMM_ml20m_05', arr=model_ADMM_EDLAE.C)"
   ]
  },
  {
   "cell_type": "markdown",
   "id": "ce2262a0-205c-428f-8fa0-2c2c1ef4b7c0",
   "metadata": {},
   "source": [
    "#### Sparsity 0.1%"
   ]
  },
  {
   "cell_type": "code",
   "execution_count": 19,
   "id": "b1d4872b-e13f-4a95-98f6-e354f58edc9d",
   "metadata": {},
   "outputs": [
    {
     "data": {
      "text/html": [
       "<div>\n",
       "<style scoped>\n",
       "    .dataframe tbody tr th:only-of-type {\n",
       "        vertical-align: middle;\n",
       "    }\n",
       "\n",
       "    .dataframe tbody tr th {\n",
       "        vertical-align: top;\n",
       "    }\n",
       "\n",
       "    .dataframe thead th {\n",
       "        text-align: right;\n",
       "    }\n",
       "</style>\n",
       "<table border=\"1\" class=\"dataframe\">\n",
       "  <thead>\n",
       "    <tr style=\"text-align: right;\">\n",
       "      <th></th>\n",
       "      <th>Recall@20</th>\n",
       "      <th>Recall@50</th>\n",
       "      <th>NDCG@100</th>\n",
       "      <th>lambda2</th>\n",
       "      <th>rho</th>\n",
       "      <th>lambda1</th>\n",
       "      <th>sparsity</th>\n",
       "      <th>primal norm</th>\n",
       "      <th>dual norm</th>\n",
       "      <th>eps primal</th>\n",
       "      <th>eps dual</th>\n",
       "      <th>sum</th>\n",
       "    </tr>\n",
       "  </thead>\n",
       "  <tbody>\n",
       "    <tr>\n",
       "      <th>17</th>\n",
       "      <td>0.386155</td>\n",
       "      <td>0.509544</td>\n",
       "      <td>0.420023</td>\n",
       "      <td>100</td>\n",
       "      <td>1000</td>\n",
       "      <td>40.29</td>\n",
       "      <td>0.102686</td>\n",
       "      <td>0.120966</td>\n",
       "      <td>3.755181</td>\n",
       "      <td>0.020996</td>\n",
       "      <td>5.306395</td>\n",
       "      <td>1.315722</td>\n",
       "    </tr>\n",
       "    <tr>\n",
       "      <th>16</th>\n",
       "      <td>0.386590</td>\n",
       "      <td>0.509666</td>\n",
       "      <td>0.420389</td>\n",
       "      <td>10</td>\n",
       "      <td>1000</td>\n",
       "      <td>40.29</td>\n",
       "      <td>0.100875</td>\n",
       "      <td>0.120352</td>\n",
       "      <td>3.807933</td>\n",
       "      <td>0.021043</td>\n",
       "      <td>5.281767</td>\n",
       "      <td>1.316646</td>\n",
       "    </tr>\n",
       "    <tr>\n",
       "      <th>14</th>\n",
       "      <td>0.386577</td>\n",
       "      <td>0.509711</td>\n",
       "      <td>0.420407</td>\n",
       "      <td>100</td>\n",
       "      <td>800</td>\n",
       "      <td>38.94</td>\n",
       "      <td>0.103289</td>\n",
       "      <td>0.151230</td>\n",
       "      <td>3.808599</td>\n",
       "      <td>0.021002</td>\n",
       "      <td>5.103034</td>\n",
       "      <td>1.316695</td>\n",
       "    </tr>\n",
       "    <tr>\n",
       "      <th>15</th>\n",
       "      <td>0.386563</td>\n",
       "      <td>0.509680</td>\n",
       "      <td>0.420473</td>\n",
       "      <td>0</td>\n",
       "      <td>1000</td>\n",
       "      <td>40.29</td>\n",
       "      <td>0.100658</td>\n",
       "      <td>0.120280</td>\n",
       "      <td>3.799656</td>\n",
       "      <td>0.021049</td>\n",
       "      <td>5.278837</td>\n",
       "      <td>1.316715</td>\n",
       "    </tr>\n",
       "    <tr>\n",
       "      <th>11</th>\n",
       "      <td>0.386895</td>\n",
       "      <td>0.509868</td>\n",
       "      <td>0.420610</td>\n",
       "      <td>100</td>\n",
       "      <td>650</td>\n",
       "      <td>37.97</td>\n",
       "      <td>0.102573</td>\n",
       "      <td>0.186397</td>\n",
       "      <td>3.792635</td>\n",
       "      <td>0.021006</td>\n",
       "      <td>4.932624</td>\n",
       "      <td>1.317372</td>\n",
       "    </tr>\n",
       "    <tr>\n",
       "      <th>13</th>\n",
       "      <td>0.386801</td>\n",
       "      <td>0.510032</td>\n",
       "      <td>0.420719</td>\n",
       "      <td>10</td>\n",
       "      <td>800</td>\n",
       "      <td>38.94</td>\n",
       "      <td>0.101447</td>\n",
       "      <td>0.150354</td>\n",
       "      <td>3.875206</td>\n",
       "      <td>0.021050</td>\n",
       "      <td>5.079174</td>\n",
       "      <td>1.317552</td>\n",
       "    </tr>\n",
       "    <tr>\n",
       "      <th>12</th>\n",
       "      <td>0.386782</td>\n",
       "      <td>0.510147</td>\n",
       "      <td>0.420793</td>\n",
       "      <td>0</td>\n",
       "      <td>800</td>\n",
       "      <td>38.94</td>\n",
       "      <td>0.101230</td>\n",
       "      <td>0.150251</td>\n",
       "      <td>3.886202</td>\n",
       "      <td>0.021057</td>\n",
       "      <td>5.076328</td>\n",
       "      <td>1.317722</td>\n",
       "    </tr>\n",
       "    <tr>\n",
       "      <th>10</th>\n",
       "      <td>0.386834</td>\n",
       "      <td>0.510048</td>\n",
       "      <td>0.420991</td>\n",
       "      <td>10</td>\n",
       "      <td>650</td>\n",
       "      <td>37.97</td>\n",
       "      <td>0.100755</td>\n",
       "      <td>0.185204</td>\n",
       "      <td>3.812402</td>\n",
       "      <td>0.021055</td>\n",
       "      <td>4.909637</td>\n",
       "      <td>1.317872</td>\n",
       "    </tr>\n",
       "    <tr>\n",
       "      <th>9</th>\n",
       "      <td>0.386822</td>\n",
       "      <td>0.510140</td>\n",
       "      <td>0.421021</td>\n",
       "      <td>0</td>\n",
       "      <td>650</td>\n",
       "      <td>37.97</td>\n",
       "      <td>0.100545</td>\n",
       "      <td>0.185062</td>\n",
       "      <td>3.810229</td>\n",
       "      <td>0.021062</td>\n",
       "      <td>4.906887</td>\n",
       "      <td>1.317983</td>\n",
       "    </tr>\n",
       "    <tr>\n",
       "      <th>8</th>\n",
       "      <td>0.387159</td>\n",
       "      <td>0.510083</td>\n",
       "      <td>0.420941</td>\n",
       "      <td>100</td>\n",
       "      <td>500</td>\n",
       "      <td>36.52</td>\n",
       "      <td>0.101843</td>\n",
       "      <td>0.241054</td>\n",
       "      <td>3.909089</td>\n",
       "      <td>0.021012</td>\n",
       "      <td>4.703737</td>\n",
       "      <td>1.318182</td>\n",
       "    </tr>\n",
       "    <tr>\n",
       "      <th>7</th>\n",
       "      <td>0.387158</td>\n",
       "      <td>0.510713</td>\n",
       "      <td>0.421406</td>\n",
       "      <td>10</td>\n",
       "      <td>500</td>\n",
       "      <td>36.52</td>\n",
       "      <td>0.100068</td>\n",
       "      <td>0.239291</td>\n",
       "      <td>4.016515</td>\n",
       "      <td>0.021063</td>\n",
       "      <td>4.682353</td>\n",
       "      <td>1.319276</td>\n",
       "    </tr>\n",
       "    <tr>\n",
       "      <th>6</th>\n",
       "      <td>0.387246</td>\n",
       "      <td>0.510800</td>\n",
       "      <td>0.421399</td>\n",
       "      <td>0</td>\n",
       "      <td>500</td>\n",
       "      <td>36.52</td>\n",
       "      <td>0.099841</td>\n",
       "      <td>0.239084</td>\n",
       "      <td>4.008397</td>\n",
       "      <td>0.021071</td>\n",
       "      <td>4.679792</td>\n",
       "      <td>1.319445</td>\n",
       "    </tr>\n",
       "    <tr>\n",
       "      <th>5</th>\n",
       "      <td>0.387672</td>\n",
       "      <td>0.510702</td>\n",
       "      <td>0.421565</td>\n",
       "      <td>100</td>\n",
       "      <td>300</td>\n",
       "      <td>32.76</td>\n",
       "      <td>0.102008</td>\n",
       "      <td>0.387157</td>\n",
       "      <td>4.176016</td>\n",
       "      <td>0.021030</td>\n",
       "      <td>4.208601</td>\n",
       "      <td>1.319939</td>\n",
       "    </tr>\n",
       "    <tr>\n",
       "      <th>3</th>\n",
       "      <td>0.388125</td>\n",
       "      <td>0.511304</td>\n",
       "      <td>0.421935</td>\n",
       "      <td>0</td>\n",
       "      <td>300</td>\n",
       "      <td>32.76</td>\n",
       "      <td>0.100061</td>\n",
       "      <td>0.383206</td>\n",
       "      <td>4.229637</td>\n",
       "      <td>0.021094</td>\n",
       "      <td>4.187842</td>\n",
       "      <td>1.321364</td>\n",
       "    </tr>\n",
       "    <tr>\n",
       "      <th>4</th>\n",
       "      <td>0.388176</td>\n",
       "      <td>0.511312</td>\n",
       "      <td>0.421876</td>\n",
       "      <td>10</td>\n",
       "      <td>300</td>\n",
       "      <td>32.76</td>\n",
       "      <td>0.100257</td>\n",
       "      <td>0.383623</td>\n",
       "      <td>4.220814</td>\n",
       "      <td>0.021086</td>\n",
       "      <td>4.190094</td>\n",
       "      <td>1.321364</td>\n",
       "    </tr>\n",
       "    <tr>\n",
       "      <th>20</th>\n",
       "      <td>0.388423</td>\n",
       "      <td>0.511215</td>\n",
       "      <td>0.421907</td>\n",
       "      <td>100</td>\n",
       "      <td>200</td>\n",
       "      <td>29.54</td>\n",
       "      <td>0.101667</td>\n",
       "      <td>0.561841</td>\n",
       "      <td>4.606543</td>\n",
       "      <td>0.021046</td>\n",
       "      <td>3.828336</td>\n",
       "      <td>1.321545</td>\n",
       "    </tr>\n",
       "    <tr>\n",
       "      <th>18</th>\n",
       "      <td>0.388828</td>\n",
       "      <td>0.511865</td>\n",
       "      <td>0.422377</td>\n",
       "      <td>0</td>\n",
       "      <td>200</td>\n",
       "      <td>29.54</td>\n",
       "      <td>0.099801</td>\n",
       "      <td>0.555237</td>\n",
       "      <td>4.529750</td>\n",
       "      <td>0.021117</td>\n",
       "      <td>3.811244</td>\n",
       "      <td>1.323070</td>\n",
       "    </tr>\n",
       "    <tr>\n",
       "      <th>19</th>\n",
       "      <td>0.388881</td>\n",
       "      <td>0.511887</td>\n",
       "      <td>0.422340</td>\n",
       "      <td>10</td>\n",
       "      <td>200</td>\n",
       "      <td>29.54</td>\n",
       "      <td>0.099989</td>\n",
       "      <td>0.555939</td>\n",
       "      <td>4.536950</td>\n",
       "      <td>0.021107</td>\n",
       "      <td>3.813133</td>\n",
       "      <td>1.323108</td>\n",
       "    </tr>\n",
       "    <tr>\n",
       "      <th>2</th>\n",
       "      <td>0.390150</td>\n",
       "      <td>0.515054</td>\n",
       "      <td>0.424422</td>\n",
       "      <td>100</td>\n",
       "      <td>200</td>\n",
       "      <td>23.20</td>\n",
       "      <td>0.143527</td>\n",
       "      <td>0.462525</td>\n",
       "      <td>3.872137</td>\n",
       "      <td>0.021102</td>\n",
       "      <td>3.475468</td>\n",
       "      <td>1.329625</td>\n",
       "    </tr>\n",
       "    <tr>\n",
       "      <th>1</th>\n",
       "      <td>0.390990</td>\n",
       "      <td>0.515620</td>\n",
       "      <td>0.424930</td>\n",
       "      <td>10</td>\n",
       "      <td>200</td>\n",
       "      <td>23.20</td>\n",
       "      <td>0.140885</td>\n",
       "      <td>0.456961</td>\n",
       "      <td>3.814588</td>\n",
       "      <td>0.021178</td>\n",
       "      <td>3.459719</td>\n",
       "      <td>1.331540</td>\n",
       "    </tr>\n",
       "    <tr>\n",
       "      <th>0</th>\n",
       "      <td>0.391170</td>\n",
       "      <td>0.515538</td>\n",
       "      <td>0.424976</td>\n",
       "      <td>0</td>\n",
       "      <td>200</td>\n",
       "      <td>23.20</td>\n",
       "      <td>0.140574</td>\n",
       "      <td>0.456296</td>\n",
       "      <td>3.828238</td>\n",
       "      <td>0.021190</td>\n",
       "      <td>3.457742</td>\n",
       "      <td>1.331683</td>\n",
       "    </tr>\n",
       "  </tbody>\n",
       "</table>\n",
       "</div>"
      ],
      "text/plain": [
       "    Recall@20  Recall@50  NDCG@100  lambda2   rho  lambda1  sparsity  \\\n",
       "17   0.386155   0.509544  0.420023      100  1000    40.29  0.102686   \n",
       "16   0.386590   0.509666  0.420389       10  1000    40.29  0.100875   \n",
       "14   0.386577   0.509711  0.420407      100   800    38.94  0.103289   \n",
       "15   0.386563   0.509680  0.420473        0  1000    40.29  0.100658   \n",
       "11   0.386895   0.509868  0.420610      100   650    37.97  0.102573   \n",
       "13   0.386801   0.510032  0.420719       10   800    38.94  0.101447   \n",
       "12   0.386782   0.510147  0.420793        0   800    38.94  0.101230   \n",
       "10   0.386834   0.510048  0.420991       10   650    37.97  0.100755   \n",
       "9    0.386822   0.510140  0.421021        0   650    37.97  0.100545   \n",
       "8    0.387159   0.510083  0.420941      100   500    36.52  0.101843   \n",
       "7    0.387158   0.510713  0.421406       10   500    36.52  0.100068   \n",
       "6    0.387246   0.510800  0.421399        0   500    36.52  0.099841   \n",
       "5    0.387672   0.510702  0.421565      100   300    32.76  0.102008   \n",
       "3    0.388125   0.511304  0.421935        0   300    32.76  0.100061   \n",
       "4    0.388176   0.511312  0.421876       10   300    32.76  0.100257   \n",
       "20   0.388423   0.511215  0.421907      100   200    29.54  0.101667   \n",
       "18   0.388828   0.511865  0.422377        0   200    29.54  0.099801   \n",
       "19   0.388881   0.511887  0.422340       10   200    29.54  0.099989   \n",
       "2    0.390150   0.515054  0.424422      100   200    23.20  0.143527   \n",
       "1    0.390990   0.515620  0.424930       10   200    23.20  0.140885   \n",
       "0    0.391170   0.515538  0.424976        0   200    23.20  0.140574   \n",
       "\n",
       "    primal norm  dual norm  eps primal  eps dual       sum  \n",
       "17     0.120966   3.755181    0.020996  5.306395  1.315722  \n",
       "16     0.120352   3.807933    0.021043  5.281767  1.316646  \n",
       "14     0.151230   3.808599    0.021002  5.103034  1.316695  \n",
       "15     0.120280   3.799656    0.021049  5.278837  1.316715  \n",
       "11     0.186397   3.792635    0.021006  4.932624  1.317372  \n",
       "13     0.150354   3.875206    0.021050  5.079174  1.317552  \n",
       "12     0.150251   3.886202    0.021057  5.076328  1.317722  \n",
       "10     0.185204   3.812402    0.021055  4.909637  1.317872  \n",
       "9      0.185062   3.810229    0.021062  4.906887  1.317983  \n",
       "8      0.241054   3.909089    0.021012  4.703737  1.318182  \n",
       "7      0.239291   4.016515    0.021063  4.682353  1.319276  \n",
       "6      0.239084   4.008397    0.021071  4.679792  1.319445  \n",
       "5      0.387157   4.176016    0.021030  4.208601  1.319939  \n",
       "3      0.383206   4.229637    0.021094  4.187842  1.321364  \n",
       "4      0.383623   4.220814    0.021086  4.190094  1.321364  \n",
       "20     0.561841   4.606543    0.021046  3.828336  1.321545  \n",
       "18     0.555237   4.529750    0.021117  3.811244  1.323070  \n",
       "19     0.555939   4.536950    0.021107  3.813133  1.323108  \n",
       "2      0.462525   3.872137    0.021102  3.475468  1.329625  \n",
       "1      0.456961   3.814588    0.021178  3.459719  1.331540  \n",
       "0      0.456296   3.828238    0.021190  3.457742  1.331683  "
      ]
     },
     "execution_count": 19,
     "metadata": {},
     "output_type": "execute_result"
    }
   ],
   "source": [
    "res = pd.read_csv('/home/pmoritz/dev/modsem/hyperparam_search/hyperparam_search_SLIM_ml20m_01_100epoch_part2.csv', sep='|')\n",
    "res['sum'] = res['Recall@20'] + res['Recall@50'] + res['NDCG@100']\n",
    "res.sort_values(by='sum')"
   ]
  },
  {
   "cell_type": "code",
   "execution_count": 20,
   "id": "957f5981-e9c8-4c12-a767-7265b322b4b6",
   "metadata": {
    "collapsed": true,
    "jupyter": {
     "outputs_hidden": true
    },
    "tags": []
   },
   "outputs": [
    {
     "name": "stdout",
     "output_type": "stream",
     "text": [
      "Starting iteration 0\n",
      "Current Sparsity:0.000%\n",
      "Primal Residual Norm: 28.970413208007812, eps Primal: 0.02301251679229736\n",
      "Dual Residual Norm: 183.28065872192383, eps Dual: 0.5995194257812501\n",
      "++++++++++++++++++++++++++++++++++++++++++++++++++++++++++++++++++++++++++++++++++\n",
      "\n",
      "Starting iteration 1\n",
      "Current Sparsity:0.000%\n",
      "Primal Residual Norm: 17.62369155883789, eps Primal: 0.021917449958801266\n",
      "Dual Residual Norm: 609.9852561950684, eps Dual: 0.9298198164062501\n",
      "++++++++++++++++++++++++++++++++++++++++++++++++++++++++++++++++++++++++++++++++++\n",
      "\n",
      "Starting iteration 2\n",
      "Current Sparsity:0.001%\n",
      "Primal Residual Norm: 13.403881072998047, eps Primal: 0.021551015575408932\n",
      "Dual Residual Norm: 487.16206550598145, eps Dual: 1.17023075390625\n",
      "++++++++++++++++++++++++++++++++++++++++++++++++++++++++++++++++++++++++++++++++++\n",
      "\n",
      "Starting iteration 3\n",
      "Current Sparsity:0.002%\n",
      "Primal Residual Norm: 11.03476333618164, eps Primal: 0.021373026664733882\n",
      "Dual Residual Norm: 415.7623767852783, eps Dual: 1.36223231640625\n",
      "++++++++++++++++++++++++++++++++++++++++++++++++++++++++++++++++++++++++++++++++++\n",
      "\n",
      "Starting iteration 4\n",
      "Current Sparsity:0.003%\n",
      "Primal Residual Norm: 9.444454193115234, eps Primal: 0.021270787246704097\n",
      "Dual Residual Norm: 361.268949508667, eps Dual: 1.52242880078125\n",
      "++++++++++++++++++++++++++++++++++++++++++++++++++++++++++++++++++++++++++++++++++\n",
      "\n",
      "Starting iteration 5\n",
      "Current Sparsity:0.005%\n",
      "Primal Residual Norm: 8.282934188842773, eps Primal: 0.021206487949371335\n",
      "Dual Residual Norm: 311.0447645187378, eps Dual: 1.6600296796875\n",
      "++++++++++++++++++++++++++++++++++++++++++++++++++++++++++++++++++++++++++++++++++\n",
      "\n",
      "Starting iteration 6\n",
      "Current Sparsity:0.006%\n",
      "Primal Residual Norm: 7.388172149658203, eps Primal: 0.021163622863769528\n",
      "Dual Residual Norm: 271.3069200515747, eps Dual: 1.7807062421875002\n",
      "++++++++++++++++++++++++++++++++++++++++++++++++++++++++++++++++++++++++++++++++++\n",
      "\n",
      "Starting iteration 7\n",
      "Current Sparsity:0.008%\n",
      "Primal Residual Norm: 6.671348571777344, eps Primal: 0.021134047801971433\n",
      "Dual Residual Norm: 236.87350749969482, eps Dual: 1.8876486250000002\n",
      "++++++++++++++++++++++++++++++++++++++++++++++++++++++++++++++++++++++++++++++++++\n",
      "\n",
      "Starting iteration 8\n",
      "Current Sparsity:0.010%\n",
      "Primal Residual Norm: 6.083285331726074, eps Primal: 0.02111311894226074\n",
      "Dual Residual Norm: 207.6275110244751, eps Dual: 1.9838167890625\n",
      "++++++++++++++++++++++++++++++++++++++++++++++++++++++++++++++++++++++++++++++++++\n",
      "\n",
      "Starting iteration 9\n",
      "Current Sparsity:0.012%\n",
      "Primal Residual Norm: 5.588416576385498, eps Primal: 0.02109805718231201\n",
      "Dual Residual Norm: 186.50280237197876, eps Dual: 2.0710269453125\n",
      "++++++++++++++++++++++++++++++++++++++++++++++++++++++++++++++++++++++++++++++++++\n",
      "\n",
      "Starting iteration 10\n",
      "Current Sparsity:0.014%\n",
      "Primal Residual Norm: 5.168473243713379, eps Primal: 0.02108715534973144\n",
      "Dual Residual Norm: 165.10366201400757, eps Dual: 2.1507121015625\n",
      "++++++++++++++++++++++++++++++++++++++++++++++++++++++++++++++++++++++++++++++++++\n",
      "\n",
      "Starting iteration 11\n",
      "Current Sparsity:0.015%\n",
      "Primal Residual Norm: 4.807750225067139, eps Primal: 0.021079234798431393\n",
      "Dual Residual Norm: 147.56790399551392, eps Dual: 2.223882609375\n",
      "++++++++++++++++++++++++++++++++++++++++++++++++++++++++++++++++++++++++++++++++++\n",
      "\n",
      "Starting iteration 12\n",
      "Current Sparsity:0.017%\n",
      "Primal Residual Norm: 4.492401599884033, eps Primal: 0.021073478420257565\n",
      "Dual Residual Norm: 133.95596742630005, eps Dual: 2.2915343671875\n",
      "++++++++++++++++++++++++++++++++++++++++++++++++++++++++++++++++++++++++++++++++++\n",
      "\n",
      "Starting iteration 13\n",
      "Current Sparsity:0.019%\n",
      "Primal Residual Norm: 4.214076042175293, eps Primal: 0.02106934271621704\n",
      "Dual Residual Norm: 121.00716829299927, eps Dual: 2.35419003125\n",
      "++++++++++++++++++++++++++++++++++++++++++++++++++++++++++++++++++++++++++++++++++\n",
      "\n",
      "Starting iteration 14\n",
      "Current Sparsity:0.021%\n",
      "Primal Residual Norm: 3.9656360149383545, eps Primal: 0.021066421707153317\n",
      "Dual Residual Norm: 112.21956014633179, eps Dual: 2.4124189375\n",
      "++++++++++++++++++++++++++++++++++++++++++++++++++++++++++++++++++++++++++++++++++\n",
      "\n",
      "Starting iteration 15\n",
      "Current Sparsity:0.023%\n",
      "Primal Residual Norm: 3.7439029216766357, eps Primal: 0.02106442623901367\n",
      "Dual Residual Norm: 102.3589015007019, eps Dual: 2.4669679609375\n",
      "++++++++++++++++++++++++++++++++++++++++++++++++++++++++++++++++++++++++++++++++++\n",
      "\n",
      "Starting iteration 16\n",
      "Current Sparsity:0.025%\n",
      "Primal Residual Norm: 3.5447795391082764, eps Primal: 0.021063136871337887\n",
      "Dual Residual Norm: 94.22264099121094, eps Dual: 2.5181437421875\n",
      "++++++++++++++++++++++++++++++++++++++++++++++++++++++++++++++++++++++++++++++++++\n",
      "\n",
      "Starting iteration 17\n",
      "Current Sparsity:0.027%\n",
      "Primal Residual Norm: 3.365037202835083, eps Primal: 0.021062390907287596\n",
      "Dual Residual Norm: 87.17603087425232, eps Dual: 2.56632596875\n",
      "++++++++++++++++++++++++++++++++++++++++++++++++++++++++++++++++++++++++++++++++++\n",
      "\n",
      "Starting iteration 18\n",
      "Current Sparsity:0.028%\n",
      "Primal Residual Norm: 3.2014453411102295, eps Primal: 0.021062063320159908\n",
      "Dual Residual Norm: 80.78161478042603, eps Dual: 2.6117671796875\n",
      "++++++++++++++++++++++++++++++++++++++++++++++++++++++++++++++++++++++++++++++++++\n",
      "\n",
      "Starting iteration 19\n",
      "Current Sparsity:0.030%\n",
      "Primal Residual Norm: 3.051476240158081, eps Primal: 0.021062061126708984\n",
      "Dual Residual Norm: 74.41148161888123, eps Dual: 2.6547675703125\n",
      "++++++++++++++++++++++++++++++++++++++++++++++++++++++++++++++++++++++++++++++++++\n",
      "\n",
      "Starting iteration 20\n",
      "Current Sparsity:0.032%\n",
      "Primal Residual Norm: 2.9137988090515137, eps Primal: 0.02106231041717529\n",
      "Dual Residual Norm: 70.04930377006531, eps Dual: 2.6955425703125\n",
      "++++++++++++++++++++++++++++++++++++++++++++++++++++++++++++++++++++++++++++++++++\n",
      "\n",
      "Starting iteration 21\n",
      "Current Sparsity:0.034%\n",
      "Primal Residual Norm: 2.7871663570404053, eps Primal: 0.021062758262634276\n",
      "Dual Residual Norm: 65.39458632469177, eps Dual: 2.734261515625\n",
      "++++++++++++++++++++++++++++++++++++++++++++++++++++++++++++++++++++++++++++++++++\n",
      "\n",
      "Starting iteration 22\n",
      "Current Sparsity:0.035%\n",
      "Primal Residual Norm: 2.670531749725342, eps Primal: 0.021063357170104977\n",
      "Dual Residual Norm: 61.012476682662964, eps Dual: 2.7711124921875\n",
      "++++++++++++++++++++++++++++++++++++++++++++++++++++++++++++++++++++++++++++++++++\n",
      "\n",
      "Starting iteration 23\n",
      "Current Sparsity:0.037%\n",
      "Primal Residual Norm: 2.5622942447662354, eps Primal: 0.021064072521209714\n",
      "Dual Residual Norm: 57.5423538684845, eps Dual: 2.8062556562500003\n",
      "++++++++++++++++++++++++++++++++++++++++++++++++++++++++++++++++++++++++++++++++++\n",
      "\n",
      "Starting iteration 24\n",
      "Current Sparsity:0.038%\n",
      "Primal Residual Norm: 2.4625296592712402, eps Primal: 0.021064873798370357\n",
      "Dual Residual Norm: 53.63816022872925, eps Dual: 2.8398015546875\n",
      "++++++++++++++++++++++++++++++++++++++++++++++++++++++++++++++++++++++++++++++++++\n",
      "\n",
      "Starting iteration 25\n",
      "Current Sparsity:0.040%\n",
      "Primal Residual Norm: 2.3695640563964844, eps Primal: 0.021065743358612058\n",
      "Dual Residual Norm: 50.62708854675293, eps Dual: 2.8718644453125\n",
      "++++++++++++++++++++++++++++++++++++++++++++++++++++++++++++++++++++++++++++++++++\n",
      "\n",
      "Starting iteration 26\n",
      "Current Sparsity:0.042%\n",
      "Primal Residual Norm: 2.2830519676208496, eps Primal: 0.021066659267425535\n",
      "Dual Residual Norm: 47.41945564746857, eps Dual: 2.9025550703125003\n",
      "++++++++++++++++++++++++++++++++++++++++++++++++++++++++++++++++++++++++++++++++++\n",
      "\n",
      "Starting iteration 27\n",
      "Current Sparsity:0.043%\n",
      "Primal Residual Norm: 2.201456308364868, eps Primal: 0.021067610366821286\n",
      "Dual Residual Norm: 45.6695020198822, eps Dual: 2.931961125\n",
      "++++++++++++++++++++++++++++++++++++++++++++++++++++++++++++++++++++++++++++++++++\n",
      "\n",
      "Starting iteration 28\n",
      "Current Sparsity:0.044%\n",
      "Primal Residual Norm: 2.1251332759857178, eps Primal: 0.021068584449768064\n",
      "Dual Residual Norm: 42.63390302658081, eps Dual: 2.960171671875\n",
      "++++++++++++++++++++++++++++++++++++++++++++++++++++++++++++++++++++++++++++++++++\n",
      "\n",
      "Starting iteration 29\n",
      "Current Sparsity:0.046%\n",
      "Primal Residual Norm: 2.053328037261963, eps Primal: 0.021069572265624996\n",
      "Dual Residual Norm: 40.70439338684082, eps Dual: 2.9872488203125003\n",
      "++++++++++++++++++++++++++++++++++++++++++++++++++++++++++++++++++++++++++++++++++\n",
      "\n",
      "Starting iteration 30\n",
      "Current Sparsity:0.047%\n",
      "Primal Residual Norm: 1.985900640487671, eps Primal: 0.021070567234039304\n",
      "Dual Residual Norm: 38.46856355667114, eps Dual: 3.0132917890625\n",
      "++++++++++++++++++++++++++++++++++++++++++++++++++++++++++++++++++++++++++++++++++\n",
      "\n",
      "Starting iteration 31\n",
      "Current Sparsity:0.049%\n",
      "Primal Residual Norm: 1.9222980737686157, eps Primal: 0.02107156258392334\n",
      "Dual Residual Norm: 36.801254749298096, eps Dual: 3.0383306562500003\n",
      "++++++++++++++++++++++++++++++++++++++++++++++++++++++++++++++++++++++++++++++++++\n",
      "\n",
      "Starting iteration 32\n",
      "Current Sparsity:0.050%\n",
      "Primal Residual Norm: 1.862619161605835, eps Primal: 0.02107255507278442\n",
      "Dual Residual Norm: 34.672775864601135, eps Dual: 3.0623642500000003\n",
      "++++++++++++++++++++++++++++++++++++++++++++++++++++++++++++++++++++++++++++++++++\n",
      "\n",
      "Starting iteration 33\n",
      "Current Sparsity:0.051%\n",
      "Primal Residual Norm: 1.8060932159423828, eps Primal: 0.021073538406372067\n",
      "Dual Residual Norm: 33.25016796588898, eps Dual: 3.0855343671875\n",
      "++++++++++++++++++++++++++++++++++++++++++++++++++++++++++++++++++++++++++++++++++\n",
      "\n",
      "Starting iteration 34\n",
      "Current Sparsity:0.053%\n",
      "Primal Residual Norm: 1.752560019493103, eps Primal: 0.021074511821746824\n",
      "Dual Residual Norm: 31.778761744499207, eps Dual: 3.10792284375\n",
      "++++++++++++++++++++++++++++++++++++++++++++++++++++++++++++++++++++++++++++++++++\n",
      "\n",
      "Starting iteration 35\n",
      "Current Sparsity:0.054%\n",
      "Primal Residual Norm: 1.7021853923797607, eps Primal: 0.021075469787597653\n",
      "Dual Residual Norm: 29.9505352973938, eps Dual: 3.1295660078125\n",
      "++++++++++++++++++++++++++++++++++++++++++++++++++++++++++++++++++++++++++++++++++\n",
      "\n",
      "Starting iteration 36\n",
      "Current Sparsity:0.055%\n",
      "Primal Residual Norm: 1.654369831085205, eps Primal: 0.021076415737152097\n",
      "Dual Residual Norm: 28.637760877609253, eps Dual: 3.1504876875\n",
      "++++++++++++++++++++++++++++++++++++++++++++++++++++++++++++++++++++++++++++++++++\n",
      "\n",
      "Starting iteration 37\n",
      "Current Sparsity:0.056%\n",
      "Primal Residual Norm: 1.6091753244400024, eps Primal: 0.021077344997406003\n",
      "Dual Residual Norm: 27.22342312335968, eps Dual: 3.1707326093750003\n",
      "++++++++++++++++++++++++++++++++++++++++++++++++++++++++++++++++++++++++++++++++++\n",
      "\n",
      "Starting iteration 38\n",
      "Current Sparsity:0.058%\n",
      "Primal Residual Norm: 1.5659605264663696, eps Primal: 0.021078254135131834\n",
      "Dual Residual Norm: 26.23952031135559, eps Dual: 3.1903382734375003\n",
      "++++++++++++++++++++++++++++++++++++++++++++++++++++++++++++++++++++++++++++++++++\n",
      "\n",
      "Starting iteration 39\n",
      "Current Sparsity:0.059%\n",
      "Primal Residual Norm: 1.5244542360305786, eps Primal: 0.02107914562988281\n",
      "Dual Residual Norm: 25.49719214439392, eps Dual: 3.2093492109375004\n",
      "++++++++++++++++++++++++++++++++++++++++++++++++++++++++++++++++++++++++++++++++++\n",
      "\n",
      "Starting iteration 40\n",
      "Current Sparsity:0.060%\n",
      "Primal Residual Norm: 1.4850380420684814, eps Primal: 0.02108001986312866\n",
      "Dual Residual Norm: 24.262012541294098, eps Dual: 3.2277769453125003\n",
      "++++++++++++++++++++++++++++++++++++++++++++++++++++++++++++++++++++++++++++++++++\n",
      "\n",
      "Starting iteration 41\n",
      "Current Sparsity:0.061%\n",
      "Primal Residual Norm: 1.4475657939910889, eps Primal: 0.021080873592376707\n",
      "Dual Residual Norm: 23.051559925079346, eps Dual: 3.245649796875\n",
      "++++++++++++++++++++++++++++++++++++++++++++++++++++++++++++++++++++++++++++++++++\n",
      "\n",
      "Starting iteration 42\n",
      "Current Sparsity:0.062%\n",
      "Primal Residual Norm: 1.4116559028625488, eps Primal: 0.021081709583282468\n",
      "Dual Residual Norm: 22.418560087680817, eps Dual: 3.2630095625\n",
      "++++++++++++++++++++++++++++++++++++++++++++++++++++++++++++++++++++++++++++++++++\n",
      "\n",
      "Starting iteration 43\n",
      "Current Sparsity:0.063%\n",
      "Primal Residual Norm: 1.3774635791778564, eps Primal: 0.02108252583312988\n",
      "Dual Residual Norm: 21.168431639671326, eps Dual: 3.279866203125\n",
      "++++++++++++++++++++++++++++++++++++++++++++++++++++++++++++++++++++++++++++++++++\n",
      "\n",
      "Starting iteration 44\n",
      "Current Sparsity:0.064%\n",
      "Primal Residual Norm: 1.3446669578552246, eps Primal: 0.02108332386779785\n",
      "Dual Residual Norm: 20.697511732578278, eps Dual: 3.2962558515625\n",
      "++++++++++++++++++++++++++++++++++++++++++++++++++++++++++++++++++++++++++++++++++\n",
      "\n",
      "Starting iteration 45\n",
      "Current Sparsity:0.065%\n",
      "Primal Residual Norm: 1.3133094310760498, eps Primal: 0.021084102542877195\n",
      "Dual Residual Norm: 19.875401258468628, eps Dual: 3.312181046875\n",
      "++++++++++++++++++++++++++++++++++++++++++++++++++++++++++++++++++++++++++++++++++\n",
      "\n",
      "Starting iteration 46\n",
      "Current Sparsity:0.066%\n",
      "Primal Residual Norm: 1.2832382917404175, eps Primal: 0.021084861667633053\n",
      "Dual Residual Norm: 19.165638089179993, eps Dual: 3.327686515625\n",
      "++++++++++++++++++++++++++++++++++++++++++++++++++++++++++++++++++++++++++++++++++\n",
      "\n",
      "Starting iteration 47\n",
      "Current Sparsity:0.067%\n",
      "Primal Residual Norm: 1.2543392181396484, eps Primal: 0.021085601718902586\n",
      "Dual Residual Norm: 18.66581439971924, eps Dual: 3.3427759687500003\n",
      "++++++++++++++++++++++++++++++++++++++++++++++++++++++++++++++++++++++++++++++++++\n",
      "\n",
      "Starting iteration 48\n",
      "Current Sparsity:0.068%\n",
      "Primal Residual Norm: 1.2268444299697876, eps Primal: 0.02108632508087158\n",
      "Dual Residual Norm: 17.40480214357376, eps Dual: 3.357467375\n",
      "++++++++++++++++++++++++++++++++++++++++++++++++++++++++++++++++++++++++++++++++++\n",
      "\n",
      "Starting iteration 49\n",
      "Current Sparsity:0.069%\n",
      "Primal Residual Norm: 1.2003376483917236, eps Primal: 0.0210870301322937\n",
      "Dual Residual Norm: 17.02403873205185, eps Dual: 3.3717705000000002\n",
      "++++++++++++++++++++++++++++++++++++++++++++++++++++++++++++++++++++++++++++++++++\n",
      "\n",
      "Starting iteration 50\n",
      "Current Sparsity:0.070%\n",
      "Primal Residual Norm: 1.1748093366622925, eps Primal: 0.021087716968536376\n",
      "Dual Residual Norm: 16.677796840667725, eps Dual: 3.3856982343750004\n",
      "++++++++++++++++++++++++++++++++++++++++++++++++++++++++++++++++++++++++++++++++++\n",
      "\n",
      "Starting iteration 51\n",
      "Current Sparsity:0.071%\n",
      "Primal Residual Norm: 1.1504197120666504, eps Primal: 0.021088386543273923\n",
      "Dual Residual Norm: 15.710198879241943, eps Dual: 3.399283\n",
      "++++++++++++++++++++++++++++++++++++++++++++++++++++++++++++++++++++++++++++++++++\n",
      "\n",
      "Starting iteration 52\n",
      "Current Sparsity:0.072%\n",
      "Primal Residual Norm: 1.1269770860671997, eps Primal: 0.02108904028701782\n",
      "Dual Residual Norm: 15.309412777423859, eps Dual: 3.412514640625\n",
      "++++++++++++++++++++++++++++++++++++++++++++++++++++++++++++++++++++++++++++++++++\n",
      "\n",
      "Starting iteration 53\n",
      "Current Sparsity:0.073%\n",
      "Primal Residual Norm: 1.104359745979309, eps Primal: 0.02108967743682861\n",
      "Dual Residual Norm: 14.773200452327728, eps Dual: 3.4254513593750002\n",
      "++++++++++++++++++++++++++++++++++++++++++++++++++++++++++++++++++++++++++++++++++\n",
      "\n",
      "Starting iteration 54\n",
      "Current Sparsity:0.074%\n",
      "Primal Residual Norm: 1.08250892162323, eps Primal: 0.021090297992706297\n",
      "Dual Residual Norm: 14.257064461708069, eps Dual: 3.43808925\n",
      "++++++++++++++++++++++++++++++++++++++++++++++++++++++++++++++++++++++++++++++++++\n",
      "\n",
      "Starting iteration 55\n",
      "Current Sparsity:0.074%\n",
      "Primal Residual Norm: 1.0614362955093384, eps Primal: 0.02109090452957153\n",
      "Dual Residual Norm: 13.75405341386795, eps Dual: 3.450435734375\n",
      "++++++++++++++++++++++++++++++++++++++++++++++++++++++++++++++++++++++++++++++++++\n",
      "\n",
      "Starting iteration 56\n",
      "Current Sparsity:0.075%\n",
      "Primal Residual Norm: 1.040942907333374, eps Primal: 0.021091494949340817\n",
      "Dual Residual Norm: 13.777577877044678, eps Dual: 3.4625056562500003\n",
      "++++++++++++++++++++++++++++++++++++++++++++++++++++++++++++++++++++++++++++++++++\n",
      "\n",
      "Starting iteration 57\n",
      "Current Sparsity:0.076%\n",
      "Primal Residual Norm: 1.0212517976760864, eps Primal: 0.021092071063995358\n",
      "Dual Residual Norm: 13.166025280952454, eps Dual: 3.474311515625\n",
      "++++++++++++++++++++++++++++++++++++++++++++++++++++++++++++++++++++++++++++++++++\n",
      "\n",
      "Starting iteration 58\n",
      "Current Sparsity:0.077%\n",
      "Primal Residual Norm: 1.0021692514419556, eps Primal: 0.021092632396697994\n",
      "Dual Residual Norm: 12.785583734512329, eps Dual: 3.4858478437500002\n",
      "++++++++++++++++++++++++++++++++++++++++++++++++++++++++++++++++++++++++++++++++++\n",
      "\n",
      "Starting iteration 59\n",
      "Current Sparsity:0.078%\n",
      "Primal Residual Norm: 0.983716607093811, eps Primal: 0.021093180568695066\n",
      "Dual Residual Norm: 12.44693249464035, eps Dual: 3.4971314375\n",
      "++++++++++++++++++++++++++++++++++++++++++++++++++++++++++++++++++++++++++++++++++\n",
      "\n",
      "Starting iteration 60\n",
      "Current Sparsity:0.078%\n",
      "Primal Residual Norm: 0.9658363461494446, eps Primal: 0.021093714530944822\n",
      "Dual Residual Norm: 12.149521708488464, eps Dual: 3.5081755781250004\n",
      "++++++++++++++++++++++++++++++++++++++++++++++++++++++++++++++++++++++++++++++++++\n",
      "\n",
      "Starting iteration 61\n",
      "Current Sparsity:0.079%\n",
      "Primal Residual Norm: 0.9486608505249023, eps Primal: 0.021094235618591306\n",
      "Dual Residual Norm: 11.609317362308502, eps Dual: 3.518988078125\n",
      "++++++++++++++++++++++++++++++++++++++++++++++++++++++++++++++++++++++++++++++++++\n",
      "\n",
      "Starting iteration 62\n",
      "Current Sparsity:0.080%\n",
      "Primal Residual Norm: 0.93207186460495, eps Primal: 0.021094744689941405\n",
      "Dual Residual Norm: 11.144547164440155, eps Dual: 3.5295662031250004\n",
      "++++++++++++++++++++++++++++++++++++++++++++++++++++++++++++++++++++++++++++++++++\n",
      "\n",
      "Starting iteration 63\n",
      "Current Sparsity:0.081%\n",
      "Primal Residual Norm: 0.9160119295120239, eps Primal: 0.021095241077423093\n",
      "Dual Residual Norm: 10.902663320302963, eps Dual: 3.53994003125\n",
      "++++++++++++++++++++++++++++++++++++++++++++++++++++++++++++++++++++++++++++++++++\n",
      "\n",
      "Starting iteration 64\n",
      "Current Sparsity:0.081%\n",
      "Primal Residual Norm: 0.9004848599433899, eps Primal: 0.0210957251625061\n",
      "Dual Residual Norm: 10.43734923005104, eps Dual: 3.5501025312500003\n",
      "++++++++++++++++++++++++++++++++++++++++++++++++++++++++++++++++++++++++++++++++++\n",
      "\n",
      "Starting iteration 65\n",
      "Current Sparsity:0.082%\n",
      "Primal Residual Norm: 0.8853908777236938, eps Primal: 0.021096198471069333\n",
      "Dual Residual Norm: 10.318533331155777, eps Dual: 3.5600665937500002\n",
      "++++++++++++++++++++++++++++++++++++++++++++++++++++++++++++++++++++++++++++++++++\n",
      "\n",
      "Starting iteration 66\n",
      "Current Sparsity:0.083%\n",
      "Primal Residual Norm: 0.8707950711250305, eps Primal: 0.021096660144805907\n",
      "Dual Residual Norm: 9.916601330041885, eps Dual: 3.5698298750000004\n",
      "++++++++++++++++++++++++++++++++++++++++++++++++++++++++++++++++++++++++++++++++++\n",
      "\n",
      "Starting iteration 67\n",
      "Current Sparsity:0.083%\n",
      "Primal Residual Norm: 0.8566048741340637, eps Primal: 0.02109711075592041\n",
      "Dual Residual Norm: 9.676193445920944, eps Dual: 3.5793994062500003\n",
      "++++++++++++++++++++++++++++++++++++++++++++++++++++++++++++++++++++++++++++++++++\n",
      "\n",
      "Starting iteration 68\n",
      "Current Sparsity:0.084%\n",
      "Primal Residual Norm: 0.8428330421447754, eps Primal: 0.02109755078125\n",
      "Dual Residual Norm: 9.476055204868317, eps Dual: 3.5887919843750002\n",
      "++++++++++++++++++++++++++++++++++++++++++++++++++++++++++++++++++++++++++++++++++\n",
      "\n",
      "Starting iteration 69\n",
      "Current Sparsity:0.085%\n",
      "Primal Residual Norm: 0.8293942809104919, eps Primal: 0.021097980220794676\n",
      "Dual Residual Norm: 9.437919408082962, eps Dual: 3.5980212812500003\n",
      "++++++++++++++++++++++++++++++++++++++++++++++++++++++++++++++++++++++++++++++++++\n",
      "\n",
      "Starting iteration 70\n",
      "Current Sparsity:0.085%\n",
      "Primal Residual Norm: 0.8164594769477844, eps Primal: 0.02109839974212646\n",
      "Dual Residual Norm: 8.970719575881958, eps Dual: 3.6070720625000003\n",
      "++++++++++++++++++++++++++++++++++++++++++++++++++++++++++++++++++++++++++++++++++\n",
      "\n",
      "Starting iteration 71\n",
      "Current Sparsity:0.086%\n",
      "Primal Residual Norm: 0.8039061427116394, eps Primal: 0.02109881058502197\n",
      "Dual Residual Norm: 8.658040314912796, eps Dual: 3.6159587812500003\n",
      "++++++++++++++++++++++++++++++++++++++++++++++++++++++++++++++++++++++++++++++++++\n",
      "\n",
      "Starting iteration 72\n",
      "Current Sparsity:0.087%\n",
      "Primal Residual Norm: 0.7916886210441589, eps Primal: 0.021099211223602293\n",
      "Dual Residual Norm: 8.561378717422485, eps Dual: 3.62467440625\n",
      "++++++++++++++++++++++++++++++++++++++++++++++++++++++++++++++++++++++++++++++++++\n",
      "\n",
      "Starting iteration 73\n",
      "Current Sparsity:0.087%\n",
      "Primal Residual Norm: 0.7797903418540955, eps Primal: 0.021099602516174314\n",
      "Dual Residual Norm: 8.353054523468018, eps Dual: 3.6332431562500003\n",
      "++++++++++++++++++++++++++++++++++++++++++++++++++++++++++++++++++++++++++++++++++\n",
      "\n",
      "Starting iteration 74\n",
      "Current Sparsity:0.088%\n",
      "Primal Residual Norm: 0.7681817412376404, eps Primal: 0.021099984939575194\n",
      "Dual Residual Norm: 8.046235144138336, eps Dual: 3.64164940625\n",
      "++++++++++++++++++++++++++++++++++++++++++++++++++++++++++++++++++++++++++++++++++\n",
      "\n",
      "Starting iteration 75\n",
      "Current Sparsity:0.088%\n",
      "Primal Residual Norm: 0.7568854689598083, eps Primal: 0.02110035849380493\n",
      "Dual Residual Norm: 7.880391180515289, eps Dual: 3.649911125\n",
      "++++++++++++++++++++++++++++++++++++++++++++++++++++++++++++++++++++++++++++++++++\n",
      "\n",
      "Starting iteration 76\n",
      "Current Sparsity:0.089%\n",
      "Primal Residual Norm: 0.7458738088607788, eps Primal: 0.021100723464965818\n",
      "Dual Residual Norm: 7.727039605379105, eps Dual: 3.6580345625\n",
      "++++++++++++++++++++++++++++++++++++++++++++++++++++++++++++++++++++++++++++++++++\n",
      "\n",
      "Starting iteration 77\n",
      "Current Sparsity:0.089%\n",
      "Primal Residual Norm: 0.7351412773132324, eps Primal: 0.021101080902099608\n",
      "Dual Residual Norm: 7.57325142621994, eps Dual: 3.666022453125\n",
      "++++++++++++++++++++++++++++++++++++++++++++++++++++++++++++++++++++++++++++++++++\n",
      "\n",
      "Starting iteration 78\n",
      "Current Sparsity:0.090%\n",
      "Primal Residual Norm: 0.7247120141983032, eps Primal: 0.02110143042373657\n",
      "Dual Residual Norm: 7.322767376899719, eps Dual: 3.6738720625\n",
      "++++++++++++++++++++++++++++++++++++++++++++++++++++++++++++++++++++++++++++++++++\n",
      "\n",
      "Starting iteration 79\n",
      "Current Sparsity:0.091%\n",
      "Primal Residual Norm: 0.7145891785621643, eps Primal: 0.021101772029876707\n",
      "Dual Residual Norm: 7.047758996486664, eps Dual: 3.6815876875\n",
      "++++++++++++++++++++++++++++++++++++++++++++++++++++++++++++++++++++++++++++++++++\n",
      "\n",
      "Starting iteration 80\n",
      "Current Sparsity:0.091%\n",
      "Primal Residual Norm: 0.7047256231307983, eps Primal: 0.021102106674194335\n",
      "Dual Residual Norm: 6.909961998462677, eps Dual: 3.689179875\n",
      "++++++++++++++++++++++++++++++++++++++++++++++++++++++++++++++++++++++++++++++++++\n",
      "\n",
      "Starting iteration 81\n",
      "Current Sparsity:0.092%\n",
      "Primal Residual Norm: 0.6950976252555847, eps Primal: 0.021102433498382565\n",
      "Dual Residual Norm: 6.7817069590091705, eps Dual: 3.696644328125\n",
      "++++++++++++++++++++++++++++++++++++++++++++++++++++++++++++++++++++++++++++++++++\n",
      "\n",
      "Starting iteration 82\n",
      "Current Sparsity:0.092%\n",
      "Primal Residual Norm: 0.685616672039032, eps Primal: 0.021102753837585447\n",
      "Dual Residual Norm: 6.871526688337326, eps Dual: 3.7039869062500004\n",
      "++++++++++++++++++++++++++++++++++++++++++++++++++++++++++++++++++++++++++++++++++\n",
      "\n",
      "Starting iteration 83\n",
      "Current Sparsity:0.093%\n",
      "Primal Residual Norm: 0.6764123439788818, eps Primal: 0.021103067119598386\n",
      "Dual Residual Norm: 6.630498915910721, eps Dual: 3.711214640625\n",
      "++++++++++++++++++++++++++++++++++++++++++++++++++++++++++++++++++++++++++++++++++\n",
      "\n",
      "Starting iteration 84\n",
      "Current Sparsity:0.093%\n",
      "Primal Residual Norm: 0.6674707531929016, eps Primal: 0.02110337372589111\n",
      "Dual Residual Norm: 6.411385536193848, eps Dual: 3.7183208906250003\n",
      "++++++++++++++++++++++++++++++++++++++++++++++++++++++++++++++++++++++++++++++++++\n",
      "\n",
      "Starting iteration 85\n",
      "Current Sparsity:0.094%\n",
      "Primal Residual Norm: 0.6587599515914917, eps Primal: 0.02110367356109619\n",
      "Dual Residual Norm: 6.188758462667465, eps Dual: 3.7253142500000003\n",
      "++++++++++++++++++++++++++++++++++++++++++++++++++++++++++++++++++++++++++++++++++\n",
      "\n",
      "Starting iteration 86\n",
      "Current Sparsity:0.094%\n",
      "Primal Residual Norm: 0.6502496600151062, eps Primal: 0.021103967864990233\n",
      "Dual Residual Norm: 6.118232011795044, eps Dual: 3.7321997968750003\n",
      "++++++++++++++++++++++++++++++++++++++++++++++++++++++++++++++++++++++++++++++++++\n",
      "\n",
      "Starting iteration 87\n",
      "Current Sparsity:0.095%\n",
      "Primal Residual Norm: 0.6419382691383362, eps Primal: 0.021104255397796628\n",
      "Dual Residual Norm: 5.913878604769707, eps Dual: 3.7389790937500003\n",
      "++++++++++++++++++++++++++++++++++++++++++++++++++++++++++++++++++++++++++++++++++\n",
      "\n",
      "Starting iteration 88\n",
      "Current Sparsity:0.095%\n",
      "Primal Residual Norm: 0.6338323950767517, eps Primal: 0.021104537780761715\n",
      "Dual Residual Norm: 5.783019959926605, eps Dual: 3.74566346875\n",
      "++++++++++++++++++++++++++++++++++++++++++++++++++++++++++++++++++++++++++++++++++\n",
      "\n",
      "Starting iteration 89\n",
      "Current Sparsity:0.096%\n",
      "Primal Residual Norm: 0.6258871555328369, eps Primal: 0.021104813392639157\n",
      "Dual Residual Norm: 5.754673853516579, eps Dual: 3.7522408125\n",
      "++++++++++++++++++++++++++++++++++++++++++++++++++++++++++++++++++++++++++++++++++\n",
      "\n",
      "Starting iteration 90\n",
      "Current Sparsity:0.096%\n",
      "Primal Residual Norm: 0.61814284324646, eps Primal: 0.021105083663940427\n",
      "Dual Residual Norm: 5.5196613073349, eps Dual: 3.7587279218750003\n",
      "++++++++++++++++++++++++++++++++++++++++++++++++++++++++++++++++++++++++++++++++++\n",
      "\n",
      "Starting iteration 91\n",
      "Current Sparsity:0.097%\n",
      "Primal Residual Norm: 0.6105555891990662, eps Primal: 0.021105348785400387\n",
      "Dual Residual Norm: 5.536426231265068, eps Dual: 3.7651220625\n",
      "++++++++++++++++++++++++++++++++++++++++++++++++++++++++++++++++++++++++++++++++++\n",
      "\n",
      "Starting iteration 92\n",
      "Current Sparsity:0.097%\n",
      "Primal Residual Norm: 0.6031445264816284, eps Primal: 0.021105608089447017\n",
      "Dual Residual Norm: 5.428849533200264, eps Dual: 3.771422453125\n",
      "++++++++++++++++++++++++++++++++++++++++++++++++++++++++++++++++++++++++++++++++++\n",
      "\n",
      "Starting iteration 93\n",
      "Current Sparsity:0.097%\n",
      "Primal Residual Norm: 0.5959321856498718, eps Primal: 0.021105862434387203\n",
      "Dual Residual Norm: 5.140537768602371, eps Dual: 3.777631828125\n",
      "++++++++++++++++++++++++++++++++++++++++++++++++++++++++++++++++++++++++++++++++++\n",
      "\n",
      "Starting iteration 94\n",
      "Current Sparsity:0.098%\n",
      "Primal Residual Norm: 0.5888478755950928, eps Primal: 0.021106111343383787\n",
      "Dual Residual Norm: 5.176519602537155, eps Dual: 3.7837591718750003\n",
      "++++++++++++++++++++++++++++++++++++++++++++++++++++++++++++++++++++++++++++++++++\n",
      "\n",
      "Starting iteration 95\n",
      "Current Sparsity:0.098%\n",
      "Primal Residual Norm: 0.5819687843322754, eps Primal: 0.021106355770111083\n",
      "Dual Residual Norm: 4.931947588920593, eps Dual: 3.78979628125\n",
      "++++++++++++++++++++++++++++++++++++++++++++++++++++++++++++++++++++++++++++++++++\n",
      "\n",
      "Starting iteration 96\n",
      "Current Sparsity:0.099%\n",
      "Primal Residual Norm: 0.5752402544021606, eps Primal: 0.0211065951423645\n",
      "Dual Residual Norm: 4.864829406142235, eps Dual: 3.795754484375\n",
      "++++++++++++++++++++++++++++++++++++++++++++++++++++++++++++++++++++++++++++++++++\n",
      "\n",
      "Starting iteration 97\n",
      "Current Sparsity:0.099%\n",
      "Primal Residual Norm: 0.5686365365982056, eps Primal: 0.021106829841613765\n",
      "Dual Residual Norm: 4.853330925107002, eps Dual: 3.80162440625\n",
      "++++++++++++++++++++++++++++++++++++++++++++++++++++++++++++++++++++++++++++++++++\n",
      "\n",
      "Starting iteration 98\n",
      "Current Sparsity:0.100%\n",
      "Primal Residual Norm: 0.5622126460075378, eps Primal: 0.021107060344696043\n",
      "Dual Residual Norm: 4.607197642326355, eps Dual: 3.8074158125000004\n",
      "++++++++++++++++++++++++++++++++++++++++++++++++++++++++++++++++++++++++++++++++++\n",
      "\n",
      "Starting iteration 99\n",
      "Current Sparsity:0.100%\n",
      "Primal Residual Norm: 0.5559389591217041, eps Primal: 0.021107286365509032\n",
      "Dual Residual Norm: 4.536954313516617, eps Dual: 3.813133\n",
      "++++++++++++++++++++++++++++++++++++++++++++++++++++++++++++++++++++++++++++++++++\n",
      "\n",
      "Training time: 34.94min\n",
      "create lookup\n",
      "create true item df\n",
      "predicting\n",
      "predicting done, reindexing\n",
      "calculating metrics\n"
     ]
    }
   ],
   "source": [
    "model_ADMM_EDLAE = ADMM_EDLAE(lambda1=29.54, lambda2=10, p=0.33, rho=200, eps_rel=0.0001, eps_abs=0.000001, tau=2, t=10)\n",
    "final_sparsity, R_primal_norm, R_dual_norm, eps_primal, eps_dual = model_ADMM_EDLAE.fit(train_ML20M, 'uid', 'sid', 20108, check_convergence=True, adjust_rho=False, n_iter=100, return_info=True)\n",
    "metr_dict = model_ADMM_EDLAE.evaluate_metrics(test_tr_ML20M, test_te_ML20M, 'uid', 'sid', metrics_lst)"
   ]
  },
  {
   "cell_type": "code",
   "execution_count": 21,
   "id": "91571e70-e164-4392-bd30-dc19158eaf64",
   "metadata": {},
   "outputs": [
    {
     "data": {
      "text/plain": [
       "{'Recall(k=20)': 0.38429536546528814,\n",
       " 'Recall(k=50)': 0.5117968961862935,\n",
       " 'NDCG(k=100)': 0.41470931145713796}"
      ]
     },
     "execution_count": 21,
     "metadata": {},
     "output_type": "execute_result"
    }
   ],
   "source": [
    "metr_dict"
   ]
  },
  {
   "cell_type": "code",
   "execution_count": 22,
   "id": "afb9deef-7b00-4079-af95-962bf54b03ed",
   "metadata": {},
   "outputs": [
    {
     "data": {
      "text/plain": [
       "(0.004849780020012986, 4.809655201999703e-05)"
      ]
     },
     "execution_count": 22,
     "metadata": {},
     "output_type": "execute_result"
    }
   ],
   "source": [
    "timeit_sparse(sp.csr_matrix(model_ADMM_EDLAE.C), X_test=X_test_tr_ML20M, n_users_test=X_test_tr_ML20M.shape[0], max_k = 100, n_jobs=16)"
   ]
  },
  {
   "cell_type": "code",
   "execution_count": 23,
   "id": "b0bfa6f3-ad03-4079-a8a6-816f7aef0272",
   "metadata": {},
   "outputs": [],
   "source": [
    "np.save(file='/home/pmoritz/dev/modsem/sparse_mat/' + 'ADMM_ml20m_01', arr=model_ADMM_EDLAE.C)"
   ]
  },
  {
   "cell_type": "markdown",
   "id": "2645b686-0c6b-4f80-be0d-bff81aca6f26",
   "metadata": {},
   "source": [
    "### Netflix"
   ]
  },
  {
   "cell_type": "markdown",
   "id": "c2fc9ab9-e8f5-4e6b-83e7-7a45a228abc6",
   "metadata": {
    "tags": []
   },
   "source": [
    "#### Sparsity 0.5%"
   ]
  },
  {
   "cell_type": "code",
   "execution_count": 24,
   "id": "389f4478-fc60-4fee-a356-ea992a45d2af",
   "metadata": {
    "tags": []
   },
   "outputs": [
    {
     "data": {
      "text/html": [
       "<div>\n",
       "<style scoped>\n",
       "    .dataframe tbody tr th:only-of-type {\n",
       "        vertical-align: middle;\n",
       "    }\n",
       "\n",
       "    .dataframe tbody tr th {\n",
       "        vertical-align: top;\n",
       "    }\n",
       "\n",
       "    .dataframe thead th {\n",
       "        text-align: right;\n",
       "    }\n",
       "</style>\n",
       "<table border=\"1\" class=\"dataframe\">\n",
       "  <thead>\n",
       "    <tr style=\"text-align: right;\">\n",
       "      <th></th>\n",
       "      <th>Recall@20</th>\n",
       "      <th>Recall@50</th>\n",
       "      <th>NDCG@100</th>\n",
       "      <th>lambda2</th>\n",
       "      <th>rho</th>\n",
       "      <th>lambda1</th>\n",
       "      <th>sparsity</th>\n",
       "      <th>primal norm</th>\n",
       "      <th>dual norm</th>\n",
       "      <th>eps primal</th>\n",
       "      <th>eps dual</th>\n",
       "      <th>sum</th>\n",
       "    </tr>\n",
       "  </thead>\n",
       "  <tbody>\n",
       "    <tr>\n",
       "      <th>17</th>\n",
       "      <td>0.362453</td>\n",
       "      <td>0.444298</td>\n",
       "      <td>0.394354</td>\n",
       "      <td>100</td>\n",
       "      <td>1000</td>\n",
       "      <td>44.40</td>\n",
       "      <td>0.503841</td>\n",
       "      <td>0.235235</td>\n",
       "      <td>9.605478</td>\n",
       "      <td>0.019476</td>\n",
       "      <td>9.884852</td>\n",
       "      <td>1.201104</td>\n",
       "    </tr>\n",
       "    <tr>\n",
       "      <th>16</th>\n",
       "      <td>0.362645</td>\n",
       "      <td>0.444462</td>\n",
       "      <td>0.394441</td>\n",
       "      <td>10</td>\n",
       "      <td>1000</td>\n",
       "      <td>44.40</td>\n",
       "      <td>0.499421</td>\n",
       "      <td>0.233755</td>\n",
       "      <td>9.684440</td>\n",
       "      <td>0.019560</td>\n",
       "      <td>9.850985</td>\n",
       "      <td>1.201548</td>\n",
       "    </tr>\n",
       "    <tr>\n",
       "      <th>15</th>\n",
       "      <td>0.362660</td>\n",
       "      <td>0.444525</td>\n",
       "      <td>0.394466</td>\n",
       "      <td>0</td>\n",
       "      <td>1000</td>\n",
       "      <td>44.40</td>\n",
       "      <td>0.498911</td>\n",
       "      <td>0.233579</td>\n",
       "      <td>9.702779</td>\n",
       "      <td>0.019572</td>\n",
       "      <td>9.846971</td>\n",
       "      <td>1.201651</td>\n",
       "    </tr>\n",
       "    <tr>\n",
       "      <th>14</th>\n",
       "      <td>0.362664</td>\n",
       "      <td>0.444594</td>\n",
       "      <td>0.394508</td>\n",
       "      <td>100</td>\n",
       "      <td>800</td>\n",
       "      <td>42.30</td>\n",
       "      <td>0.504630</td>\n",
       "      <td>0.294764</td>\n",
       "      <td>10.484141</td>\n",
       "      <td>0.019486</td>\n",
       "      <td>9.423507</td>\n",
       "      <td>1.201766</td>\n",
       "    </tr>\n",
       "    <tr>\n",
       "      <th>13</th>\n",
       "      <td>0.362774</td>\n",
       "      <td>0.444669</td>\n",
       "      <td>0.394668</td>\n",
       "      <td>10</td>\n",
       "      <td>800</td>\n",
       "      <td>42.30</td>\n",
       "      <td>0.500184</td>\n",
       "      <td>0.292895</td>\n",
       "      <td>10.430719</td>\n",
       "      <td>0.019573</td>\n",
       "      <td>9.392757</td>\n",
       "      <td>1.202112</td>\n",
       "    </tr>\n",
       "    <tr>\n",
       "      <th>11</th>\n",
       "      <td>0.362720</td>\n",
       "      <td>0.444775</td>\n",
       "      <td>0.394666</td>\n",
       "      <td>100</td>\n",
       "      <td>650</td>\n",
       "      <td>40.03</td>\n",
       "      <td>0.508465</td>\n",
       "      <td>0.360973</td>\n",
       "      <td>11.122497</td>\n",
       "      <td>0.019499</td>\n",
       "      <td>8.965727</td>\n",
       "      <td>1.202160</td>\n",
       "    </tr>\n",
       "    <tr>\n",
       "      <th>12</th>\n",
       "      <td>0.362756</td>\n",
       "      <td>0.444733</td>\n",
       "      <td>0.394681</td>\n",
       "      <td>0</td>\n",
       "      <td>800</td>\n",
       "      <td>42.30</td>\n",
       "      <td>0.499673</td>\n",
       "      <td>0.292673</td>\n",
       "      <td>10.420841</td>\n",
       "      <td>0.019586</td>\n",
       "      <td>9.389109</td>\n",
       "      <td>1.202170</td>\n",
       "    </tr>\n",
       "    <tr>\n",
       "      <th>10</th>\n",
       "      <td>0.362910</td>\n",
       "      <td>0.444888</td>\n",
       "      <td>0.394812</td>\n",
       "      <td>10</td>\n",
       "      <td>650</td>\n",
       "      <td>40.03</td>\n",
       "      <td>0.503972</td>\n",
       "      <td>0.358727</td>\n",
       "      <td>11.049777</td>\n",
       "      <td>0.019589</td>\n",
       "      <td>8.935871</td>\n",
       "      <td>1.202610</td>\n",
       "    </tr>\n",
       "    <tr>\n",
       "      <th>8</th>\n",
       "      <td>0.362755</td>\n",
       "      <td>0.445036</td>\n",
       "      <td>0.394826</td>\n",
       "      <td>100</td>\n",
       "      <td>500</td>\n",
       "      <td>37.63</td>\n",
       "      <td>0.503677</td>\n",
       "      <td>0.469794</td>\n",
       "      <td>12.032629</td>\n",
       "      <td>0.019512</td>\n",
       "      <td>8.419698</td>\n",
       "      <td>1.202617</td>\n",
       "    </tr>\n",
       "    <tr>\n",
       "      <th>9</th>\n",
       "      <td>0.362921</td>\n",
       "      <td>0.444943</td>\n",
       "      <td>0.394838</td>\n",
       "      <td>0</td>\n",
       "      <td>650</td>\n",
       "      <td>40.03</td>\n",
       "      <td>0.503470</td>\n",
       "      <td>0.358463</td>\n",
       "      <td>11.045733</td>\n",
       "      <td>0.019602</td>\n",
       "      <td>8.932304</td>\n",
       "      <td>1.202702</td>\n",
       "    </tr>\n",
       "    <tr>\n",
       "      <th>7</th>\n",
       "      <td>0.362916</td>\n",
       "      <td>0.445129</td>\n",
       "      <td>0.394979</td>\n",
       "      <td>10</td>\n",
       "      <td>500</td>\n",
       "      <td>37.63</td>\n",
       "      <td>0.499298</td>\n",
       "      <td>0.466758</td>\n",
       "      <td>11.969668</td>\n",
       "      <td>0.019606</td>\n",
       "      <td>8.392765</td>\n",
       "      <td>1.203024</td>\n",
       "    </tr>\n",
       "    <tr>\n",
       "      <th>6</th>\n",
       "      <td>0.362982</td>\n",
       "      <td>0.445215</td>\n",
       "      <td>0.395003</td>\n",
       "      <td>0</td>\n",
       "      <td>500</td>\n",
       "      <td>37.63</td>\n",
       "      <td>0.498779</td>\n",
       "      <td>0.466401</td>\n",
       "      <td>11.961891</td>\n",
       "      <td>0.019619</td>\n",
       "      <td>8.389531</td>\n",
       "      <td>1.203200</td>\n",
       "    </tr>\n",
       "    <tr>\n",
       "      <th>5</th>\n",
       "      <td>0.363212</td>\n",
       "      <td>0.445537</td>\n",
       "      <td>0.395122</td>\n",
       "      <td>100</td>\n",
       "      <td>300</td>\n",
       "      <td>32.13</td>\n",
       "      <td>0.503409</td>\n",
       "      <td>0.754632</td>\n",
       "      <td>12.969907</td>\n",
       "      <td>0.019546</td>\n",
       "      <td>7.287570</td>\n",
       "      <td>1.203872</td>\n",
       "    </tr>\n",
       "    <tr>\n",
       "      <th>2</th>\n",
       "      <td>0.363234</td>\n",
       "      <td>0.445595</td>\n",
       "      <td>0.395267</td>\n",
       "      <td>100</td>\n",
       "      <td>200</td>\n",
       "      <td>27.80</td>\n",
       "      <td>0.503135</td>\n",
       "      <td>1.077179</td>\n",
       "      <td>13.052805</td>\n",
       "      <td>0.019576</td>\n",
       "      <td>6.435137</td>\n",
       "      <td>1.204097</td>\n",
       "    </tr>\n",
       "    <tr>\n",
       "      <th>4</th>\n",
       "      <td>0.363336</td>\n",
       "      <td>0.445725</td>\n",
       "      <td>0.395283</td>\n",
       "      <td>10</td>\n",
       "      <td>300</td>\n",
       "      <td>32.13</td>\n",
       "      <td>0.499312</td>\n",
       "      <td>0.749633</td>\n",
       "      <td>12.930652</td>\n",
       "      <td>0.019649</td>\n",
       "      <td>7.266786</td>\n",
       "      <td>1.204344</td>\n",
       "    </tr>\n",
       "    <tr>\n",
       "      <th>3</th>\n",
       "      <td>0.363365</td>\n",
       "      <td>0.445726</td>\n",
       "      <td>0.395287</td>\n",
       "      <td>0</td>\n",
       "      <td>300</td>\n",
       "      <td>32.13</td>\n",
       "      <td>0.498801</td>\n",
       "      <td>0.749044</td>\n",
       "      <td>12.928927</td>\n",
       "      <td>0.019665</td>\n",
       "      <td>7.264257</td>\n",
       "      <td>1.204378</td>\n",
       "    </tr>\n",
       "    <tr>\n",
       "      <th>1</th>\n",
       "      <td>0.363446</td>\n",
       "      <td>0.445767</td>\n",
       "      <td>0.395469</td>\n",
       "      <td>10</td>\n",
       "      <td>200</td>\n",
       "      <td>27.80</td>\n",
       "      <td>0.499383</td>\n",
       "      <td>1.069654</td>\n",
       "      <td>13.099983</td>\n",
       "      <td>0.019690</td>\n",
       "      <td>6.419459</td>\n",
       "      <td>1.204682</td>\n",
       "    </tr>\n",
       "    <tr>\n",
       "      <th>0</th>\n",
       "      <td>0.363424</td>\n",
       "      <td>0.445797</td>\n",
       "      <td>0.395490</td>\n",
       "      <td>0</td>\n",
       "      <td>200</td>\n",
       "      <td>27.80</td>\n",
       "      <td>0.498917</td>\n",
       "      <td>1.068771</td>\n",
       "      <td>13.108499</td>\n",
       "      <td>0.019707</td>\n",
       "      <td>6.417491</td>\n",
       "      <td>1.204711</td>\n",
       "    </tr>\n",
       "  </tbody>\n",
       "</table>\n",
       "</div>"
      ],
      "text/plain": [
       "    Recall@20  Recall@50  NDCG@100  lambda2   rho  lambda1  sparsity  \\\n",
       "17   0.362453   0.444298  0.394354      100  1000    44.40  0.503841   \n",
       "16   0.362645   0.444462  0.394441       10  1000    44.40  0.499421   \n",
       "15   0.362660   0.444525  0.394466        0  1000    44.40  0.498911   \n",
       "14   0.362664   0.444594  0.394508      100   800    42.30  0.504630   \n",
       "13   0.362774   0.444669  0.394668       10   800    42.30  0.500184   \n",
       "11   0.362720   0.444775  0.394666      100   650    40.03  0.508465   \n",
       "12   0.362756   0.444733  0.394681        0   800    42.30  0.499673   \n",
       "10   0.362910   0.444888  0.394812       10   650    40.03  0.503972   \n",
       "8    0.362755   0.445036  0.394826      100   500    37.63  0.503677   \n",
       "9    0.362921   0.444943  0.394838        0   650    40.03  0.503470   \n",
       "7    0.362916   0.445129  0.394979       10   500    37.63  0.499298   \n",
       "6    0.362982   0.445215  0.395003        0   500    37.63  0.498779   \n",
       "5    0.363212   0.445537  0.395122      100   300    32.13  0.503409   \n",
       "2    0.363234   0.445595  0.395267      100   200    27.80  0.503135   \n",
       "4    0.363336   0.445725  0.395283       10   300    32.13  0.499312   \n",
       "3    0.363365   0.445726  0.395287        0   300    32.13  0.498801   \n",
       "1    0.363446   0.445767  0.395469       10   200    27.80  0.499383   \n",
       "0    0.363424   0.445797  0.395490        0   200    27.80  0.498917   \n",
       "\n",
       "    primal norm  dual norm  eps primal  eps dual       sum  \n",
       "17     0.235235   9.605478    0.019476  9.884852  1.201104  \n",
       "16     0.233755   9.684440    0.019560  9.850985  1.201548  \n",
       "15     0.233579   9.702779    0.019572  9.846971  1.201651  \n",
       "14     0.294764  10.484141    0.019486  9.423507  1.201766  \n",
       "13     0.292895  10.430719    0.019573  9.392757  1.202112  \n",
       "11     0.360973  11.122497    0.019499  8.965727  1.202160  \n",
       "12     0.292673  10.420841    0.019586  9.389109  1.202170  \n",
       "10     0.358727  11.049777    0.019589  8.935871  1.202610  \n",
       "8      0.469794  12.032629    0.019512  8.419698  1.202617  \n",
       "9      0.358463  11.045733    0.019602  8.932304  1.202702  \n",
       "7      0.466758  11.969668    0.019606  8.392765  1.203024  \n",
       "6      0.466401  11.961891    0.019619  8.389531  1.203200  \n",
       "5      0.754632  12.969907    0.019546  7.287570  1.203872  \n",
       "2      1.077179  13.052805    0.019576  6.435137  1.204097  \n",
       "4      0.749633  12.930652    0.019649  7.266786  1.204344  \n",
       "3      0.749044  12.928927    0.019665  7.264257  1.204378  \n",
       "1      1.069654  13.099983    0.019690  6.419459  1.204682  \n",
       "0      1.068771  13.108499    0.019707  6.417491  1.204711  "
      ]
     },
     "execution_count": 24,
     "metadata": {},
     "output_type": "execute_result"
    }
   ],
   "source": [
    "res = pd.read_csv('/home/pmoritz/dev/modsem/hyperparam_search/hyperparam_search_SLIM_netflix_05_100epoch_part2.csv', sep='|')\n",
    "res['sum'] = res['Recall@20'] + res['Recall@50'] + res['NDCG@100']\n",
    "res.sort_values(by='sum')"
   ]
  },
  {
   "cell_type": "code",
   "execution_count": 25,
   "id": "9f4c36cc-4bf1-4eef-b22b-9d125a295225",
   "metadata": {
    "collapsed": true,
    "jupyter": {
     "outputs_hidden": true
    },
    "tags": []
   },
   "outputs": [
    {
     "name": "stdout",
     "output_type": "stream",
     "text": [
      "Starting iteration 0\n",
      "Current Sparsity:0.001%\n",
      "Primal Residual Norm: 41.354164123535156, eps Primal: 0.02197297834777832\n",
      "Dual Residual Norm: 778.0642986297607, eps Dual: 0.8447979062500001\n",
      "++++++++++++++++++++++++++++++++++++++++++++++++++++++++++++++++++++++++++++++++++\n",
      "\n",
      "Starting iteration 1\n",
      "Current Sparsity:0.003%\n",
      "Primal Residual Norm: 25.733295440673828, eps Primal: 0.02060788339996338\n",
      "Dual Residual Norm: 1666.1262512207031, eps Dual: 1.324269390625\n",
      "++++++++++++++++++++++++++++++++++++++++++++++++++++++++++++++++++++++++++++++++++\n",
      "\n",
      "Starting iteration 2\n",
      "Current Sparsity:0.006%\n",
      "Primal Residual Norm: 19.85420036315918, eps Primal: 0.020207112258911135\n",
      "Dual Residual Norm: 994.3149566650391, eps Dual: 1.678497515625\n",
      "++++++++++++++++++++++++++++++++++++++++++++++++++++++++++++++++++++++++++++++++++\n",
      "\n",
      "Starting iteration 3\n",
      "Current Sparsity:0.009%\n",
      "Primal Residual Norm: 16.566713333129883, eps Primal: 0.020025547355651856\n",
      "Dual Residual Norm: 705.8422565460205, eps Dual: 1.966681890625\n",
      "++++++++++++++++++++++++++++++++++++++++++++++++++++++++++++++++++++++++++++++++++\n",
      "\n",
      "Starting iteration 4\n",
      "Current Sparsity:0.013%\n",
      "Primal Residual Norm: 14.374385833740234, eps Primal: 0.019921054023742675\n",
      "Dual Residual Norm: 553.9118766784668, eps Dual: 2.211933453125\n",
      "++++++++++++++++++++++++++++++++++++++++++++++++++++++++++++++++++++++++++++++++++\n",
      "\n",
      "Starting iteration 5\n",
      "Current Sparsity:0.018%\n",
      "Primal Residual Norm: 12.774460792541504, eps Primal: 0.01985358309173584\n",
      "Dual Residual Norm: 457.9352855682373, eps Dual: 2.4268102109375\n",
      "++++++++++++++++++++++++++++++++++++++++++++++++++++++++++++++++++++++++++++++++++\n",
      "\n",
      "Starting iteration 6\n",
      "Current Sparsity:0.022%\n",
      "Primal Residual Norm: 11.542000770568848, eps Primal: 0.01980727018737793\n",
      "Dual Residual Norm: 391.16241931915283, eps Dual: 2.6187551328125\n",
      "++++++++++++++++++++++++++++++++++++++++++++++++++++++++++++++++++++++++++++++++++\n",
      "\n",
      "Starting iteration 7\n",
      "Current Sparsity:0.027%\n",
      "Primal Residual Norm: 10.552942276000977, eps Primal: 0.01977421697998047\n",
      "Dual Residual Norm: 340.0282144546509, eps Dual: 2.7921051328125\n",
      "++++++++++++++++++++++++++++++++++++++++++++++++++++++++++++++++++++++++++++++++++\n",
      "\n",
      "Starting iteration 8\n",
      "Current Sparsity:0.032%\n",
      "Primal Residual Norm: 9.734910011291504, eps Primal: 0.01975001444244385\n",
      "Dual Residual Norm: 303.43384742736816, eps Dual: 2.9502391171875\n",
      "++++++++++++++++++++++++++++++++++++++++++++++++++++++++++++++++++++++++++++++++++\n",
      "\n",
      "Starting iteration 9\n",
      "Current Sparsity:0.037%\n",
      "Primal Residual Norm: 9.04350757598877, eps Primal: 0.01973195394897461\n",
      "Dual Residual Norm: 273.17559719085693, eps Dual: 3.0960051328125\n",
      "++++++++++++++++++++++++++++++++++++++++++++++++++++++++++++++++++++++++++++++++++\n",
      "\n",
      "Starting iteration 10\n",
      "Current Sparsity:0.043%\n",
      "Primal Residual Norm: 8.449568748474121, eps Primal: 0.019718282264709473\n",
      "Dual Residual Norm: 247.8067398071289, eps Dual: 3.23105728125\n",
      "++++++++++++++++++++++++++++++++++++++++++++++++++++++++++++++++++++++++++++++++++\n",
      "\n",
      "Starting iteration 11\n",
      "Current Sparsity:0.049%\n",
      "Primal Residual Norm: 7.933628082275391, eps Primal: 0.019707807106018067\n",
      "Dual Residual Norm: 225.58176517486572, eps Dual: 3.35691665625\n",
      "++++++++++++++++++++++++++++++++++++++++++++++++++++++++++++++++++++++++++++++++++\n",
      "\n",
      "Starting iteration 12\n",
      "Current Sparsity:0.055%\n",
      "Primal Residual Norm: 7.48080587387085, eps Primal: 0.01969971537017822\n",
      "Dual Residual Norm: 207.24985599517822, eps Dual: 3.47451353125\n",
      "++++++++++++++++++++++++++++++++++++++++++++++++++++++++++++++++++++++++++++++++++\n",
      "\n",
      "Starting iteration 13\n",
      "Current Sparsity:0.061%\n",
      "Primal Residual Norm: 7.077762126922607, eps Primal: 0.019693434852600097\n",
      "Dual Residual Norm: 192.34148263931274, eps Dual: 3.584778375\n",
      "++++++++++++++++++++++++++++++++++++++++++++++++++++++++++++++++++++++++++++++++++\n",
      "\n",
      "Starting iteration 14\n",
      "Current Sparsity:0.067%\n",
      "Primal Residual Norm: 6.715625762939453, eps Primal: 0.019688547843933105\n",
      "Dual Residual Norm: 179.43549156188965, eps Dual: 3.6884783750000003\n",
      "++++++++++++++++++++++++++++++++++++++++++++++++++++++++++++++++++++++++++++++++++\n",
      "\n",
      "Starting iteration 15\n",
      "Current Sparsity:0.073%\n",
      "Primal Residual Norm: 6.3881659507751465, eps Primal: 0.019684750312805175\n",
      "Dual Residual Norm: 168.41652393341064, eps Dual: 3.7864639218750002\n",
      "++++++++++++++++++++++++++++++++++++++++++++++++++++++++++++++++++++++++++++++++++\n",
      "\n",
      "Starting iteration 16\n",
      "Current Sparsity:0.080%\n",
      "Primal Residual Norm: 6.090935707092285, eps Primal: 0.019681806510925295\n",
      "Dual Residual Norm: 158.0613374710083, eps Dual: 3.879303375\n",
      "++++++++++++++++++++++++++++++++++++++++++++++++++++++++++++++++++++++++++++++++++\n",
      "\n",
      "Starting iteration 17\n",
      "Current Sparsity:0.086%\n",
      "Primal Residual Norm: 5.819397449493408, eps Primal: 0.019679537719726563\n",
      "Dual Residual Norm: 149.0428924560547, eps Dual: 3.9674037656250003\n",
      "++++++++++++++++++++++++++++++++++++++++++++++++++++++++++++++++++++++++++++++++++\n",
      "\n",
      "Starting iteration 18\n",
      "Current Sparsity:0.093%\n",
      "Primal Residual Norm: 5.569980144500732, eps Primal: 0.019677817863464356\n",
      "Dual Residual Norm: 140.70441722869873, eps Dual: 4.0511166562500005\n",
      "++++++++++++++++++++++++++++++++++++++++++++++++++++++++++++++++++++++++++++++++++\n",
      "\n",
      "Starting iteration 19\n",
      "Current Sparsity:0.100%\n",
      "Primal Residual Norm: 5.339761734008789, eps Primal: 0.019676532691955566\n",
      "Dual Residual Norm: 133.88314247131348, eps Dual: 4.130843609375001\n",
      "++++++++++++++++++++++++++++++++++++++++++++++++++++++++++++++++++++++++++++++++++\n",
      "\n",
      "Starting iteration 20\n",
      "Current Sparsity:0.107%\n",
      "Primal Residual Norm: 5.127657890319824, eps Primal: 0.019675607627868654\n",
      "Dual Residual Norm: 125.93162059783936, eps Dual: 4.2069525937500005\n",
      "++++++++++++++++++++++++++++++++++++++++++++++++++++++++++++++++++++++++++++++++++\n",
      "\n",
      "Starting iteration 21\n",
      "Current Sparsity:0.114%\n",
      "Primal Residual Norm: 4.930552005767822, eps Primal: 0.019674969047546387\n",
      "Dual Residual Norm: 119.29056644439697, eps Dual: 4.279674078125001\n",
      "++++++++++++++++++++++++++++++++++++++++++++++++++++++++++++++++++++++++++++++++++\n",
      "\n",
      "Starting iteration 22\n",
      "Current Sparsity:0.121%\n",
      "Primal Residual Norm: 4.7470479011535645, eps Primal: 0.019674571746826172\n",
      "Dual Residual Norm: 113.87695074081421, eps Dual: 4.3492518125\n",
      "++++++++++++++++++++++++++++++++++++++++++++++++++++++++++++++++++++++++++++++++++\n",
      "\n",
      "Starting iteration 23\n",
      "Current Sparsity:0.128%\n",
      "Primal Residual Norm: 4.575754165649414, eps Primal: 0.019674368423461916\n",
      "Dual Residual Norm: 108.96618366241455, eps Dual: 4.415884625\n",
      "++++++++++++++++++++++++++++++++++++++++++++++++++++++++++++++++++++++++++++++++++\n",
      "\n",
      "Starting iteration 24\n",
      "Current Sparsity:0.135%\n",
      "Primal Residual Norm: 4.415459156036377, eps Primal: 0.019674325317382814\n",
      "Dual Residual Norm: 103.88456583023071, eps Dual: 4.479626421875\n",
      "++++++++++++++++++++++++++++++++++++++++++++++++++++++++++++++++++++++++++++++++++\n",
      "\n",
      "Starting iteration 25\n",
      "Current Sparsity:0.142%\n",
      "Primal Residual Norm: 4.265761375427246, eps Primal: 0.01967441534423828\n",
      "Dual Residual Norm: 99.0766167640686, eps Dual: 4.5408061093750005\n",
      "++++++++++++++++++++++++++++++++++++++++++++++++++++++++++++++++++++++++++++++++++\n",
      "\n",
      "Starting iteration 26\n",
      "Current Sparsity:0.149%\n",
      "Primal Residual Norm: 4.125103950500488, eps Primal: 0.01967461122894287\n",
      "Dual Residual Norm: 94.40425038337708, eps Dual: 4.59952134375\n",
      "++++++++++++++++++++++++++++++++++++++++++++++++++++++++++++++++++++++++++++++++++\n",
      "\n",
      "Starting iteration 27\n",
      "Current Sparsity:0.156%\n",
      "Primal Residual Norm: 3.993021249771118, eps Primal: 0.019674896377563478\n",
      "Dual Residual Norm: 90.20599722862244, eps Dual: 4.656043218750001\n",
      "++++++++++++++++++++++++++++++++++++++++++++++++++++++++++++++++++++++++++++++++++\n",
      "\n",
      "Starting iteration 28\n",
      "Current Sparsity:0.163%\n",
      "Primal Residual Norm: 3.868312120437622, eps Primal: 0.019675255722045898\n",
      "Dual Residual Norm: 86.44174933433533, eps Dual: 4.710467828125001\n",
      "++++++++++++++++++++++++++++++++++++++++++++++++++++++++++++++++++++++++++++++++++\n",
      "\n",
      "Starting iteration 29\n",
      "Current Sparsity:0.170%\n",
      "Primal Residual Norm: 3.7498395442962646, eps Primal: 0.019675673622131348\n",
      "Dual Residual Norm: 83.63374471664429, eps Dual: 4.762972125000001\n",
      "++++++++++++++++++++++++++++++++++++++++++++++++++++++++++++++++++++++++++++++++++\n",
      "\n",
      "Starting iteration 30\n",
      "Current Sparsity:0.177%\n",
      "Primal Residual Norm: 3.6378402709960938, eps Primal: 0.01967613806152344\n",
      "Dual Residual Norm: 79.89115118980408, eps Dual: 4.813610015625001\n",
      "++++++++++++++++++++++++++++++++++++++++++++++++++++++++++++++++++++++++++++++++++\n",
      "\n",
      "Starting iteration 31\n",
      "Current Sparsity:0.184%\n",
      "Primal Residual Norm: 3.532028913497925, eps Primal: 0.019676642364501954\n",
      "Dual Residual Norm: 76.30378007888794, eps Dual: 4.86253775\n",
      "++++++++++++++++++++++++++++++++++++++++++++++++++++++++++++++++++++++++++++++++++\n",
      "\n",
      "Starting iteration 32\n",
      "Current Sparsity:0.191%\n",
      "Primal Residual Norm: 3.4315805435180664, eps Primal: 0.019677177375793456\n",
      "Dual Residual Norm: 73.57662320137024, eps Dual: 4.909765875000001\n",
      "++++++++++++++++++++++++++++++++++++++++++++++++++++++++++++++++++++++++++++++++++\n",
      "\n",
      "Starting iteration 33\n",
      "Current Sparsity:0.198%\n",
      "Primal Residual Norm: 3.3362364768981934, eps Primal: 0.019677740043640136\n",
      "Dual Residual Norm: 70.7237958908081, eps Dual: 4.955479546875001\n",
      "++++++++++++++++++++++++++++++++++++++++++++++++++++++++++++++++++++++++++++++++++\n",
      "\n",
      "Starting iteration 34\n",
      "Current Sparsity:0.204%\n",
      "Primal Residual Norm: 3.245465040206909, eps Primal: 0.019678320831298828\n",
      "Dual Residual Norm: 68.33932995796204, eps Dual: 4.999740093750001\n",
      "++++++++++++++++++++++++++++++++++++++++++++++++++++++++++++++++++++++++++++++++++\n",
      "\n",
      "Starting iteration 35\n",
      "Current Sparsity:0.211%\n",
      "Primal Residual Norm: 3.159355878829956, eps Primal: 0.01967891668701172\n",
      "Dual Residual Norm: 65.33323526382446, eps Dual: 5.042627203125001\n",
      "++++++++++++++++++++++++++++++++++++++++++++++++++++++++++++++++++++++++++++++++++\n",
      "\n",
      "Starting iteration 36\n",
      "Current Sparsity:0.217%\n",
      "Primal Residual Norm: 3.0772924423217773, eps Primal: 0.01967952417755127\n",
      "Dual Residual Norm: 63.29966187477112, eps Dual: 5.0841889218750005\n",
      "++++++++++++++++++++++++++++++++++++++++++++++++++++++++++++++++++++++++++++++++++\n",
      "\n",
      "Starting iteration 37\n",
      "Current Sparsity:0.224%\n",
      "Primal Residual Norm: 2.9989655017852783, eps Primal: 0.01968013910675049\n",
      "Dual Residual Norm: 60.69244146347046, eps Dual: 5.124506500000001\n",
      "++++++++++++++++++++++++++++++++++++++++++++++++++++++++++++++++++++++++++++++++++\n",
      "\n",
      "Starting iteration 38\n",
      "Current Sparsity:0.230%\n",
      "Primal Residual Norm: 2.9239561557769775, eps Primal: 0.019680758422851562\n",
      "Dual Residual Norm: 59.02127027511597, eps Dual: 5.163624859375001\n",
      "++++++++++++++++++++++++++++++++++++++++++++++++++++++++++++++++++++++++++++++++++\n",
      "\n",
      "Starting iteration 39\n",
      "Current Sparsity:0.237%\n",
      "Primal Residual Norm: 2.8521437644958496, eps Primal: 0.019681380981445312\n",
      "Dual Residual Norm: 57.094067335128784, eps Dual: 5.201608843750001\n",
      "++++++++++++++++++++++++++++++++++++++++++++++++++++++++++++++++++++++++++++++++++\n",
      "\n",
      "Starting iteration 40\n",
      "Current Sparsity:0.243%\n",
      "Primal Residual Norm: 2.7835137844085693, eps Primal: 0.019682003158569335\n",
      "Dual Residual Norm: 55.27160167694092, eps Dual: 5.2384861875\n",
      "++++++++++++++++++++++++++++++++++++++++++++++++++++++++++++++++++++++++++++++++++\n",
      "\n",
      "Starting iteration 41\n",
      "Current Sparsity:0.249%\n",
      "Primal Residual Norm: 2.7180254459381104, eps Primal: 0.01968262590789795\n",
      "Dual Residual Norm: 53.073710203170776, eps Dual: 5.274369390625001\n",
      "++++++++++++++++++++++++++++++++++++++++++++++++++++++++++++++++++++++++++++++++++\n",
      "\n",
      "Starting iteration 42\n",
      "Current Sparsity:0.255%\n",
      "Primal Residual Norm: 2.6554200649261475, eps Primal: 0.0196832448425293\n",
      "Dual Residual Norm: 50.915688276290894, eps Dual: 5.309259234375\n",
      "++++++++++++++++++++++++++++++++++++++++++++++++++++++++++++++++++++++++++++++++++\n",
      "\n",
      "Starting iteration 43\n",
      "Current Sparsity:0.261%\n",
      "Primal Residual Norm: 2.595184803009033, eps Primal: 0.019683860725402832\n",
      "Dual Residual Norm: 49.38568472862244, eps Dual: 5.343212750000001\n",
      "++++++++++++++++++++++++++++++++++++++++++++++++++++++++++++++++++++++++++++++++++\n",
      "\n",
      "Starting iteration 44\n",
      "Current Sparsity:0.267%\n",
      "Primal Residual Norm: 2.5372910499572754, eps Primal: 0.019684472984313965\n",
      "Dual Residual Norm: 47.953566908836365, eps Dual: 5.376260796875001\n",
      "++++++++++++++++++++++++++++++++++++++++++++++++++++++++++++++++++++++++++++++++++\n",
      "\n",
      "Starting iteration 45\n",
      "Current Sparsity:0.273%\n",
      "Primal Residual Norm: 2.48164701461792, eps Primal: 0.019685078758239747\n",
      "Dual Residual Norm: 46.40298783779144, eps Dual: 5.408451421875001\n",
      "++++++++++++++++++++++++++++++++++++++++++++++++++++++++++++++++++++++++++++++++++\n",
      "\n",
      "Starting iteration 46\n",
      "Current Sparsity:0.279%\n",
      "Primal Residual Norm: 2.428239107131958, eps Primal: 0.019685679191589357\n",
      "Dual Residual Norm: 44.90709602832794, eps Dual: 5.439820953125\n",
      "++++++++++++++++++++++++++++++++++++++++++++++++++++++++++++++++++++++++++++++++++\n",
      "\n",
      "Starting iteration 47\n",
      "Current Sparsity:0.285%\n",
      "Primal Residual Norm: 2.3767850399017334, eps Primal: 0.019686272567749023\n",
      "Dual Residual Norm: 43.528249859809875, eps Dual: 5.470406890625001\n",
      "++++++++++++++++++++++++++++++++++++++++++++++++++++++++++++++++++++++++++++++++++\n",
      "\n",
      "Starting iteration 48\n",
      "Current Sparsity:0.290%\n",
      "Primal Residual Norm: 2.327346086502075, eps Primal: 0.01968685774230957\n",
      "Dual Residual Norm: 42.18688905239105, eps Dual: 5.500231890625001\n",
      "++++++++++++++++++++++++++++++++++++++++++++++++++++++++++++++++++++++++++++++++++\n",
      "\n",
      "Starting iteration 49\n",
      "Current Sparsity:0.296%\n",
      "Primal Residual Norm: 2.27974009513855, eps Primal: 0.0196874362411499\n",
      "Dual Residual Norm: 40.91006815433502, eps Dual: 5.529328375\n",
      "++++++++++++++++++++++++++++++++++++++++++++++++++++++++++++++++++++++++++++++++++\n",
      "\n",
      "Starting iteration 50\n",
      "Current Sparsity:0.301%\n",
      "Primal Residual Norm: 2.2337453365325928, eps Primal: 0.019688006538391114\n",
      "Dual Residual Norm: 39.83514606952667, eps Dual: 5.557706890625001\n",
      "++++++++++++++++++++++++++++++++++++++++++++++++++++++++++++++++++++++++++++++++++\n",
      "\n",
      "Starting iteration 51\n",
      "Current Sparsity:0.307%\n",
      "Primal Residual Norm: 2.1893086433410645, eps Primal: 0.019688569969177245\n",
      "Dual Residual Norm: 38.84174823760986, eps Dual: 5.58537525\n",
      "++++++++++++++++++++++++++++++++++++++++++++++++++++++++++++++++++++++++++++++++++\n",
      "\n",
      "Starting iteration 52\n",
      "Current Sparsity:0.312%\n",
      "Primal Residual Norm: 2.146639823913574, eps Primal: 0.019689124435424806\n",
      "Dual Residual Norm: 37.36058473587036, eps Dual: 5.6122967343750005\n",
      "++++++++++++++++++++++++++++++++++++++++++++++++++++++++++++++++++++++++++++++++++\n",
      "\n",
      "Starting iteration 53\n",
      "Current Sparsity:0.317%\n",
      "Primal Residual Norm: 2.105274200439453, eps Primal: 0.01968967050933838\n",
      "Dual Residual Norm: 36.6179883480072, eps Dual: 5.638685015625001\n",
      "++++++++++++++++++++++++++++++++++++++++++++++++++++++++++++++++++++++++++++++++++\n",
      "\n",
      "Starting iteration 54\n",
      "Current Sparsity:0.323%\n",
      "Primal Residual Norm: 2.0654666423797607, eps Primal: 0.019690208000183104\n",
      "Dual Residual Norm: 35.42587459087372, eps Dual: 5.66446978125\n",
      "++++++++++++++++++++++++++++++++++++++++++++++++++++++++++++++++++++++++++++++++++\n",
      "\n",
      "Starting iteration 55\n",
      "Current Sparsity:0.328%\n",
      "Primal Residual Norm: 2.026909112930298, eps Primal: 0.019690737670898437\n",
      "Dual Residual Norm: 34.38318967819214, eps Dual: 5.689655328125001\n",
      "++++++++++++++++++++++++++++++++++++++++++++++++++++++++++++++++++++++++++++++++++\n",
      "\n",
      "Starting iteration 56\n",
      "Current Sparsity:0.333%\n",
      "Primal Residual Norm: 1.9895646572113037, eps Primal: 0.019691257041931153\n",
      "Dual Residual Norm: 33.560553193092346, eps Dual: 5.71431665625\n",
      "++++++++++++++++++++++++++++++++++++++++++++++++++++++++++++++++++++++++++++++++++\n",
      "\n",
      "Starting iteration 57\n",
      "Current Sparsity:0.338%\n",
      "Primal Residual Norm: 1.9532798528671265, eps Primal: 0.01969176840209961\n",
      "Dual Residual Norm: 32.95619189739227, eps Dual: 5.738456890625001\n",
      "++++++++++++++++++++++++++++++++++++++++++++++++++++++++++++++++++++++++++++++++++\n",
      "\n",
      "Starting iteration 58\n",
      "Current Sparsity:0.343%\n",
      "Primal Residual Norm: 1.918382167816162, eps Primal: 0.01969227136993408\n",
      "Dual Residual Norm: 31.734296679496765, eps Dual: 5.762079546875\n",
      "++++++++++++++++++++++++++++++++++++++++++++++++++++++++++++++++++++++++++++++++++\n",
      "\n",
      "Starting iteration 59\n",
      "Current Sparsity:0.348%\n",
      "Primal Residual Norm: 1.8845412731170654, eps Primal: 0.019692766708374023\n",
      "Dual Residual Norm: 30.96923530101776, eps Dual: 5.785214703125001\n",
      "++++++++++++++++++++++++++++++++++++++++++++++++++++++++++++++++++++++++++++++++++\n",
      "\n",
      "Starting iteration 60\n",
      "Current Sparsity:0.353%\n",
      "Primal Residual Norm: 1.851951241493225, eps Primal: 0.019693253082275392\n",
      "Dual Residual Norm: 29.905322194099426, eps Dual: 5.807874468750001\n",
      "++++++++++++++++++++++++++++++++++++++++++++++++++++++++++++++++++++++++++++++++++\n",
      "\n",
      "Starting iteration 61\n",
      "Current Sparsity:0.357%\n",
      "Primal Residual Norm: 1.8202623128890991, eps Primal: 0.019693730491638185\n",
      "Dual Residual Norm: 29.341575503349304, eps Dual: 5.830077984375\n",
      "++++++++++++++++++++++++++++++++++++++++++++++++++++++++++++++++++++++++++++++++++\n",
      "\n",
      "Starting iteration 62\n",
      "Current Sparsity:0.362%\n",
      "Primal Residual Norm: 1.789610743522644, eps Primal: 0.019694200843811037\n",
      "Dual Residual Norm: 28.471338748931885, eps Dual: 5.851826031250001\n",
      "++++++++++++++++++++++++++++++++++++++++++++++++++++++++++++++++++++++++++++++++++\n",
      "\n",
      "Starting iteration 63\n",
      "Current Sparsity:0.367%\n",
      "Primal Residual Norm: 1.7596231698989868, eps Primal: 0.019694662231445313\n",
      "Dual Residual Norm: 28.0125230550766, eps Dual: 5.873150640625001\n",
      "++++++++++++++++++++++++++++++++++++++++++++++++++++++++++++++++++++++++++++++++++\n",
      "\n",
      "Starting iteration 64\n",
      "Current Sparsity:0.371%\n",
      "Primal Residual Norm: 1.7305431365966797, eps Primal: 0.019695115798950197\n",
      "Dual Residual Norm: 27.261728048324585, eps Dual: 5.8940389218750004\n",
      "++++++++++++++++++++++++++++++++++++++++++++++++++++++++++++++++++++++++++++++++++\n",
      "\n",
      "Starting iteration 65\n",
      "Current Sparsity:0.376%\n",
      "Primal Residual Norm: 1.7024085521697998, eps Primal: 0.019695562118530272\n",
      "Dual Residual Norm: 26.430857181549072, eps Dual: 5.914537750000001\n",
      "++++++++++++++++++++++++++++++++++++++++++++++++++++++++++++++++++++++++++++++++++\n",
      "\n",
      "Starting iteration 66\n",
      "Current Sparsity:0.380%\n",
      "Primal Residual Norm: 1.6749813556671143, eps Primal: 0.019695999473571778\n",
      "Dual Residual Norm: 26.014655828475952, eps Dual: 5.934656500000001\n",
      "++++++++++++++++++++++++++++++++++++++++++++++++++++++++++++++++++++++++++++++++++\n",
      "\n",
      "Starting iteration 67\n",
      "Current Sparsity:0.385%\n",
      "Primal Residual Norm: 1.6483734846115112, eps Primal: 0.019696430152893067\n",
      "Dual Residual Norm: 25.220781564712524, eps Dual: 5.9543838437500005\n",
      "++++++++++++++++++++++++++++++++++++++++++++++++++++++++++++++++++++++++++++++++++\n",
      "\n",
      "Starting iteration 68\n",
      "Current Sparsity:0.389%\n",
      "Primal Residual Norm: 1.6225239038467407, eps Primal: 0.019696852249145507\n",
      "Dual Residual Norm: 24.593064188957214, eps Dual: 5.973747125000001\n",
      "++++++++++++++++++++++++++++++++++++++++++++++++++++++++++++++++++++++++++++++++++\n",
      "\n",
      "Starting iteration 69\n",
      "Current Sparsity:0.393%\n",
      "Primal Residual Norm: 1.5974609851837158, eps Primal: 0.019697266716003418\n",
      "Dual Residual Norm: 23.909276723861694, eps Dual: 5.992756890625\n",
      "++++++++++++++++++++++++++++++++++++++++++++++++++++++++++++++++++++++++++++++++++\n",
      "\n",
      "Starting iteration 70\n",
      "Current Sparsity:0.397%\n",
      "Primal Residual Norm: 1.5730119943618774, eps Primal: 0.019697675270080567\n",
      "Dual Residual Norm: 23.590801656246185, eps Dual: 6.01143228125\n",
      "++++++++++++++++++++++++++++++++++++++++++++++++++++++++++++++++++++++++++++++++++\n",
      "\n",
      "Starting iteration 71\n",
      "Current Sparsity:0.401%\n",
      "Primal Residual Norm: 1.549288272857666, eps Primal: 0.019698075813293456\n",
      "Dual Residual Norm: 22.74566739797592, eps Dual: 6.029772515625001\n",
      "++++++++++++++++++++++++++++++++++++++++++++++++++++++++++++++++++++++++++++++++++\n",
      "\n",
      "Starting iteration 72\n",
      "Current Sparsity:0.406%\n",
      "Primal Residual Norm: 1.5261117219924927, eps Primal: 0.019698469299316408\n",
      "Dual Residual Norm: 22.57682979106903, eps Dual: 6.047786187500001\n",
      "++++++++++++++++++++++++++++++++++++++++++++++++++++++++++++++++++++++++++++++++++\n",
      "\n",
      "Starting iteration 73\n",
      "Current Sparsity:0.410%\n",
      "Primal Residual Norm: 1.5034583806991577, eps Primal: 0.019698856300354003\n",
      "Dual Residual Norm: 22.130197286605835, eps Dual: 6.065492046875001\n",
      "++++++++++++++++++++++++++++++++++++++++++++++++++++++++++++++++++++++++++++++++++\n",
      "\n",
      "Starting iteration 74\n",
      "Current Sparsity:0.414%\n",
      "Primal Residual Norm: 1.4814426898956299, eps Primal: 0.01969923624420166\n",
      "Dual Residual Norm: 21.592000126838684, eps Dual: 6.08288775\n",
      "++++++++++++++++++++++++++++++++++++++++++++++++++++++++++++++++++++++++++++++++++\n",
      "\n",
      "Starting iteration 75\n",
      "Current Sparsity:0.418%\n",
      "Primal Residual Norm: 1.4599919319152832, eps Primal: 0.019699610084533692\n",
      "Dual Residual Norm: 21.041949093341827, eps Dual: 6.099985406250001\n",
      "++++++++++++++++++++++++++++++++++++++++++++++++++++++++++++++++++++++++++++++++++\n",
      "\n",
      "Starting iteration 76\n",
      "Current Sparsity:0.421%\n",
      "Primal Residual Norm: 1.4391275644302368, eps Primal: 0.019699977249145507\n",
      "Dual Residual Norm: 20.577068626880646, eps Dual: 6.116777203125\n",
      "++++++++++++++++++++++++++++++++++++++++++++++++++++++++++++++++++++++++++++++++++\n",
      "\n",
      "Starting iteration 77\n",
      "Current Sparsity:0.425%\n",
      "Primal Residual Norm: 1.4187572002410889, eps Primal: 0.01970033716583252\n",
      "Dual Residual Norm: 20.207828283309937, eps Dual: 6.133288531250001\n",
      "++++++++++++++++++++++++++++++++++++++++++++++++++++++++++++++++++++++++++++++++++\n",
      "\n",
      "Starting iteration 78\n",
      "Current Sparsity:0.429%\n",
      "Primal Residual Norm: 1.3989304304122925, eps Primal: 0.019700691932678222\n",
      "Dual Residual Norm: 19.68344748020172, eps Dual: 6.149522515625001\n",
      "++++++++++++++++++++++++++++++++++++++++++++++++++++++++++++++++++++++++++++++++++\n",
      "\n",
      "Starting iteration 79\n",
      "Current Sparsity:0.433%\n",
      "Primal Residual Norm: 1.3795453310012817, eps Primal: 0.019701039833068847\n",
      "Dual Residual Norm: 19.310693442821503, eps Dual: 6.1654877500000005\n",
      "++++++++++++++++++++++++++++++++++++++++++++++++++++++++++++++++++++++++++++++++++\n",
      "\n",
      "Starting iteration 80\n",
      "Current Sparsity:0.436%\n",
      "Primal Residual Norm: 1.3606739044189453, eps Primal: 0.019701382011413575\n",
      "Dual Residual Norm: 18.96933913230896, eps Dual: 6.1812154843750005\n",
      "++++++++++++++++++++++++++++++++++++++++++++++++++++++++++++++++++++++++++++++++++\n",
      "\n",
      "Starting iteration 81\n",
      "Current Sparsity:0.440%\n",
      "Primal Residual Norm: 1.3422855138778687, eps Primal: 0.019701718086242676\n",
      "Dual Residual Norm: 18.455025553703308, eps Dual: 6.196680718750001\n",
      "++++++++++++++++++++++++++++++++++++++++++++++++++++++++++++++++++++++++++++++++++\n",
      "\n",
      "Starting iteration 82\n",
      "Current Sparsity:0.444%\n",
      "Primal Residual Norm: 1.3243590593338013, eps Primal: 0.019702049011230467\n",
      "Dual Residual Norm: 18.03571879863739, eps Dual: 6.211903375\n",
      "++++++++++++++++++++++++++++++++++++++++++++++++++++++++++++++++++++++++++++++++++\n",
      "\n",
      "Starting iteration 83\n",
      "Current Sparsity:0.447%\n",
      "Primal Residual Norm: 1.3068222999572754, eps Primal: 0.019702373832702638\n",
      "Dual Residual Norm: 17.775098979473114, eps Dual: 6.226861968750001\n",
      "++++++++++++++++++++++++++++++++++++++++++++++++++++++++++++++++++++++++++++++++++\n",
      "\n",
      "Starting iteration 84\n",
      "Current Sparsity:0.451%\n",
      "Primal Residual Norm: 1.2897632122039795, eps Primal: 0.019702693504333495\n",
      "Dual Residual Norm: 17.314188182353973, eps Dual: 6.241611968750001\n",
      "++++++++++++++++++++++++++++++++++++++++++++++++++++++++++++++++++++++++++++++++++\n",
      "\n",
      "Starting iteration 85\n",
      "Current Sparsity:0.454%\n",
      "Primal Residual Norm: 1.2730437517166138, eps Primal: 0.019703007453918456\n",
      "Dual Residual Norm: 17.03178882598877, eps Dual: 6.256131890625\n",
      "++++++++++++++++++++++++++++++++++++++++++++++++++++++++++++++++++++++++++++++++++\n",
      "\n",
      "Starting iteration 86\n",
      "Current Sparsity:0.458%\n",
      "Primal Residual Norm: 1.25670325756073, eps Primal: 0.01970331625366211\n",
      "Dual Residual Norm: 16.799752414226532, eps Dual: 6.27043384375\n",
      "++++++++++++++++++++++++++++++++++++++++++++++++++++++++++++++++++++++++++++++++++\n",
      "\n",
      "Starting iteration 87\n",
      "Current Sparsity:0.461%\n",
      "Primal Residual Norm: 1.2408567667007446, eps Primal: 0.01970361971282959\n",
      "Dual Residual Norm: 16.254760324954987, eps Dual: 6.284521734375001\n",
      "++++++++++++++++++++++++++++++++++++++++++++++++++++++++++++++++++++++++++++++++++\n",
      "\n",
      "Starting iteration 88\n",
      "Current Sparsity:0.464%\n",
      "Primal Residual Norm: 1.2253848314285278, eps Primal: 0.019703918403625488\n",
      "Dual Residual Norm: 15.792873501777649, eps Dual: 6.2984025937500006\n",
      "++++++++++++++++++++++++++++++++++++++++++++++++++++++++++++++++++++++++++++++++++\n",
      "\n",
      "Starting iteration 89\n",
      "Current Sparsity:0.468%\n",
      "Primal Residual Norm: 1.2100571393966675, eps Primal: 0.019704211753845215\n",
      "Dual Residual Norm: 15.70836752653122, eps Dual: 6.312081500000001\n",
      "++++++++++++++++++++++++++++++++++++++++++++++++++++++++++++++++++++++++++++++++++\n",
      "\n",
      "Starting iteration 90\n",
      "Current Sparsity:0.471%\n",
      "Primal Residual Norm: 1.1949479579925537, eps Primal: 0.019704501098632813\n",
      "Dual Residual Norm: 15.752612054347992, eps Dual: 6.325564703125001\n",
      "++++++++++++++++++++++++++++++++++++++++++++++++++++++++++++++++++++++++++++++++++\n",
      "\n",
      "Starting iteration 91\n",
      "Current Sparsity:0.474%\n",
      "Primal Residual Norm: 1.1803357601165771, eps Primal: 0.01970478510284424\n",
      "Dual Residual Norm: 15.100258588790894, eps Dual: 6.338845953125\n",
      "++++++++++++++++++++++++++++++++++++++++++++++++++++++++++++++++++++++++++++++++++\n",
      "\n",
      "Starting iteration 92\n",
      "Current Sparsity:0.478%\n",
      "Primal Residual Norm: 1.16594660282135, eps Primal: 0.01970506472015381\n",
      "Dual Residual Norm: 14.988557994365692, eps Dual: 6.3519369687500005\n",
      "++++++++++++++++++++++++++++++++++++++++++++++++++++++++++++++++++++++++++++++++++\n",
      "\n",
      "Starting iteration 93\n",
      "Current Sparsity:0.481%\n",
      "Primal Residual Norm: 1.1518943309783936, eps Primal: 0.019705339378356935\n",
      "Dual Residual Norm: 14.674469828605652, eps Dual: 6.364829156250001\n",
      "++++++++++++++++++++++++++++++++++++++++++++++++++++++++++++++++++++++++++++++++++\n",
      "\n",
      "Starting iteration 94\n",
      "Current Sparsity:0.484%\n",
      "Primal Residual Norm: 1.1381580829620361, eps Primal: 0.019705609840393067\n",
      "Dual Residual Norm: 14.349459111690521, eps Dual: 6.377534625000001\n",
      "++++++++++++++++++++++++++++++++++++++++++++++++++++++++++++++++++++++++++++++++++\n",
      "\n",
      "Starting iteration 95\n",
      "Current Sparsity:0.487%\n",
      "Primal Residual Norm: 1.1248079538345337, eps Primal: 0.01970587553405762\n",
      "Dual Residual Norm: 13.989943265914917, eps Dual: 6.390051421875\n",
      "++++++++++++++++++++++++++++++++++++++++++++++++++++++++++++++++++++++++++++++++++\n",
      "\n",
      "Starting iteration 96\n",
      "Current Sparsity:0.490%\n",
      "Primal Residual Norm: 1.111722469329834, eps Primal: 0.01970613722229004\n",
      "Dual Residual Norm: 13.58729600906372, eps Dual: 6.402389703125\n",
      "++++++++++++++++++++++++++++++++++++++++++++++++++++++++++++++++++++++++++++++++++\n",
      "\n",
      "Starting iteration 97\n",
      "Current Sparsity:0.493%\n",
      "Primal Residual Norm: 1.098800539970398, eps Primal: 0.019706394523620607\n",
      "Dual Residual Norm: 13.570336997509003, eps Dual: 6.414565484375001\n",
      "++++++++++++++++++++++++++++++++++++++++++++++++++++++++++++++++++++++++++++++++++\n",
      "\n",
      "Starting iteration 98\n",
      "Current Sparsity:0.496%\n",
      "Primal Residual Norm: 1.086126446723938, eps Primal: 0.01970664820098877\n",
      "Dual Residual Norm: 13.407482206821442, eps Dual: 6.4265658750000005\n",
      "++++++++++++++++++++++++++++++++++++++++++++++++++++++++++++++++++++++++++++++++++\n",
      "\n",
      "Starting iteration 99\n",
      "Current Sparsity:0.499%\n",
      "Primal Residual Norm: 1.0737584829330444, eps Primal: 0.01970689806365967\n",
      "Dual Residual Norm: 13.10829222202301, eps Dual: 6.438420562500001\n",
      "++++++++++++++++++++++++++++++++++++++++++++++++++++++++++++++++++++++++++++++++++\n",
      "\n",
      "Training time: 31.68min\n",
      "create lookup\n",
      "create true item df\n",
      "predicting\n",
      "predicting done, reindexing\n",
      "calculating metrics\n"
     ]
    }
   ],
   "source": [
    "model_ADMM_EDLAE = ADMM_EDLAE(lambda1=27.80, lambda2=0, p=0.33, rho=200, eps_rel=0.0001, eps_abs=0.000001, tau=2, t=10)\n",
    "final_sparsity, R_primal_norm, R_dual_norm, eps_primal, eps_dual = model_ADMM_EDLAE.fit(train_netflix, 'uid', 'sid', 17769, check_convergence=True, adjust_rho=False, n_iter=100, return_info=True)\n",
    "metr_dict = model_ADMM_EDLAE.evaluate_metrics(test_tr_netflix, test_te_netflix, 'uid', 'sid', metrics_lst)"
   ]
  },
  {
   "cell_type": "code",
   "execution_count": 26,
   "id": "9d17705d-79e2-41e6-9f87-c254a709aa24",
   "metadata": {},
   "outputs": [
    {
     "data": {
      "text/plain": [
       "{'Recall(k=20)': 0.36454960255560515,\n",
       " 'Recall(k=50)': 0.44807026705527253,\n",
       " 'NDCG(k=100)': 0.3967389039744398}"
      ]
     },
     "execution_count": 26,
     "metadata": {},
     "output_type": "execute_result"
    }
   ],
   "source": [
    "metr_dict"
   ]
  },
  {
   "cell_type": "code",
   "execution_count": 27,
   "id": "d252f829-9630-449b-a69e-434d09d412f8",
   "metadata": {},
   "outputs": [
    {
     "data": {
      "text/plain": [
       "(0.009462311620009132, 6.655635586081189e-05)"
      ]
     },
     "execution_count": 27,
     "metadata": {},
     "output_type": "execute_result"
    }
   ],
   "source": [
    "timeit_sparse(sp.csr_matrix(model_ADMM_EDLAE.C), X_test=X_test_tr_netflix, n_users_test=X_test_tr_netflix.shape[0], max_k = 100, n_jobs=16)"
   ]
  },
  {
   "cell_type": "code",
   "execution_count": 28,
   "id": "69baecec-787c-4ffa-b77a-7d11325bc578",
   "metadata": {},
   "outputs": [],
   "source": [
    "np.save(file='/home/pmoritz/dev/modsem/sparse_mat/' + 'ADMM_netflix_05', arr=model_ADMM_EDLAE.C)"
   ]
  },
  {
   "cell_type": "markdown",
   "id": "04b709f0-9959-4614-80e5-5af5cd93023b",
   "metadata": {},
   "source": [
    "#### Sparsity 0.1%"
   ]
  },
  {
   "cell_type": "code",
   "execution_count": 29,
   "id": "4cd7bbd3-42b2-4f9f-8569-7b2c0f21a9b4",
   "metadata": {},
   "outputs": [
    {
     "data": {
      "text/html": [
       "<div>\n",
       "<style scoped>\n",
       "    .dataframe tbody tr th:only-of-type {\n",
       "        vertical-align: middle;\n",
       "    }\n",
       "\n",
       "    .dataframe tbody tr th {\n",
       "        vertical-align: top;\n",
       "    }\n",
       "\n",
       "    .dataframe thead th {\n",
       "        text-align: right;\n",
       "    }\n",
       "</style>\n",
       "<table border=\"1\" class=\"dataframe\">\n",
       "  <thead>\n",
       "    <tr style=\"text-align: right;\">\n",
       "      <th></th>\n",
       "      <th>Recall@20</th>\n",
       "      <th>Recall@50</th>\n",
       "      <th>NDCG@100</th>\n",
       "      <th>lambda2</th>\n",
       "      <th>rho</th>\n",
       "      <th>lambda1</th>\n",
       "      <th>sparsity</th>\n",
       "      <th>primal norm</th>\n",
       "      <th>dual norm</th>\n",
       "      <th>eps primal</th>\n",
       "      <th>eps dual</th>\n",
       "      <th>sum</th>\n",
       "    </tr>\n",
       "  </thead>\n",
       "  <tbody>\n",
       "    <tr>\n",
       "      <th>17</th>\n",
       "      <td>0.353160</td>\n",
       "      <td>0.432368</td>\n",
       "      <td>0.384191</td>\n",
       "      <td>100</td>\n",
       "      <td>1000</td>\n",
       "      <td>165.00</td>\n",
       "      <td>0.100072</td>\n",
       "      <td>0.698553</td>\n",
       "      <td>26.563698</td>\n",
       "      <td>0.019079</td>\n",
       "      <td>18.561589</td>\n",
       "      <td>1.169719</td>\n",
       "    </tr>\n",
       "    <tr>\n",
       "      <th>16</th>\n",
       "      <td>0.353384</td>\n",
       "      <td>0.432505</td>\n",
       "      <td>0.384312</td>\n",
       "      <td>10</td>\n",
       "      <td>1000</td>\n",
       "      <td>165.00</td>\n",
       "      <td>0.099542</td>\n",
       "      <td>0.696524</td>\n",
       "      <td>26.554145</td>\n",
       "      <td>0.019108</td>\n",
       "      <td>18.530033</td>\n",
       "      <td>1.170201</td>\n",
       "    </tr>\n",
       "    <tr>\n",
       "      <th>15</th>\n",
       "      <td>0.353382</td>\n",
       "      <td>0.432533</td>\n",
       "      <td>0.384316</td>\n",
       "      <td>0</td>\n",
       "      <td>1000</td>\n",
       "      <td>165.00</td>\n",
       "      <td>0.099484</td>\n",
       "      <td>0.696295</td>\n",
       "      <td>26.558079</td>\n",
       "      <td>0.019112</td>\n",
       "      <td>18.526411</td>\n",
       "      <td>1.170231</td>\n",
       "    </tr>\n",
       "    <tr>\n",
       "      <th>14</th>\n",
       "      <td>0.353542</td>\n",
       "      <td>0.432810</td>\n",
       "      <td>0.384621</td>\n",
       "      <td>100</td>\n",
       "      <td>800</td>\n",
       "      <td>150.00</td>\n",
       "      <td>0.100941</td>\n",
       "      <td>0.820014</td>\n",
       "      <td>26.467896</td>\n",
       "      <td>0.019104</td>\n",
       "      <td>16.901735</td>\n",
       "      <td>1.170973</td>\n",
       "    </tr>\n",
       "    <tr>\n",
       "      <th>13</th>\n",
       "      <td>0.353741</td>\n",
       "      <td>0.433022</td>\n",
       "      <td>0.384696</td>\n",
       "      <td>10</td>\n",
       "      <td>800</td>\n",
       "      <td>150.00</td>\n",
       "      <td>0.100391</td>\n",
       "      <td>0.817505</td>\n",
       "      <td>26.379398</td>\n",
       "      <td>0.019135</td>\n",
       "      <td>16.872980</td>\n",
       "      <td>1.171458</td>\n",
       "    </tr>\n",
       "    <tr>\n",
       "      <th>12</th>\n",
       "      <td>0.353732</td>\n",
       "      <td>0.433049</td>\n",
       "      <td>0.384715</td>\n",
       "      <td>0</td>\n",
       "      <td>800</td>\n",
       "      <td>150.00</td>\n",
       "      <td>0.100331</td>\n",
       "      <td>0.817219</td>\n",
       "      <td>26.389310</td>\n",
       "      <td>0.019139</td>\n",
       "      <td>16.869683</td>\n",
       "      <td>1.171497</td>\n",
       "    </tr>\n",
       "    <tr>\n",
       "      <th>11</th>\n",
       "      <td>0.353906</td>\n",
       "      <td>0.433162</td>\n",
       "      <td>0.384835</td>\n",
       "      <td>100</td>\n",
       "      <td>650</td>\n",
       "      <td>137.74</td>\n",
       "      <td>0.100475</td>\n",
       "      <td>0.954171</td>\n",
       "      <td>26.544772</td>\n",
       "      <td>0.019125</td>\n",
       "      <td>15.497910</td>\n",
       "      <td>1.171903</td>\n",
       "    </tr>\n",
       "    <tr>\n",
       "      <th>10</th>\n",
       "      <td>0.354057</td>\n",
       "      <td>0.433385</td>\n",
       "      <td>0.384925</td>\n",
       "      <td>10</td>\n",
       "      <td>650</td>\n",
       "      <td>137.74</td>\n",
       "      <td>0.099935</td>\n",
       "      <td>0.951114</td>\n",
       "      <td>26.826935</td>\n",
       "      <td>0.019159</td>\n",
       "      <td>15.471947</td>\n",
       "      <td>1.172366</td>\n",
       "    </tr>\n",
       "    <tr>\n",
       "      <th>9</th>\n",
       "      <td>0.354039</td>\n",
       "      <td>0.433392</td>\n",
       "      <td>0.384938</td>\n",
       "      <td>0</td>\n",
       "      <td>650</td>\n",
       "      <td>137.74</td>\n",
       "      <td>0.099872</td>\n",
       "      <td>0.950768</td>\n",
       "      <td>26.846227</td>\n",
       "      <td>0.019163</td>\n",
       "      <td>15.468955</td>\n",
       "      <td>1.172369</td>\n",
       "    </tr>\n",
       "    <tr>\n",
       "      <th>8</th>\n",
       "      <td>0.354260</td>\n",
       "      <td>0.433732</td>\n",
       "      <td>0.385086</td>\n",
       "      <td>100</td>\n",
       "      <td>500</td>\n",
       "      <td>122.12</td>\n",
       "      <td>0.100392</td>\n",
       "      <td>1.145761</td>\n",
       "      <td>27.035948</td>\n",
       "      <td>0.019155</td>\n",
       "      <td>13.805921</td>\n",
       "      <td>1.173079</td>\n",
       "    </tr>\n",
       "    <tr>\n",
       "      <th>7</th>\n",
       "      <td>0.354455</td>\n",
       "      <td>0.433833</td>\n",
       "      <td>0.385198</td>\n",
       "      <td>10</td>\n",
       "      <td>500</td>\n",
       "      <td>122.12</td>\n",
       "      <td>0.099851</td>\n",
       "      <td>1.141881</td>\n",
       "      <td>26.971275</td>\n",
       "      <td>0.019193</td>\n",
       "      <td>13.783413</td>\n",
       "      <td>1.173486</td>\n",
       "    </tr>\n",
       "    <tr>\n",
       "      <th>6</th>\n",
       "      <td>0.354487</td>\n",
       "      <td>0.433831</td>\n",
       "      <td>0.385195</td>\n",
       "      <td>0</td>\n",
       "      <td>500</td>\n",
       "      <td>122.12</td>\n",
       "      <td>0.099787</td>\n",
       "      <td>1.141441</td>\n",
       "      <td>26.949950</td>\n",
       "      <td>0.019197</td>\n",
       "      <td>13.780807</td>\n",
       "      <td>1.173513</td>\n",
       "    </tr>\n",
       "    <tr>\n",
       "      <th>5</th>\n",
       "      <td>0.354687</td>\n",
       "      <td>0.434452</td>\n",
       "      <td>0.385368</td>\n",
       "      <td>100</td>\n",
       "      <td>300</td>\n",
       "      <td>94.62</td>\n",
       "      <td>0.100057</td>\n",
       "      <td>1.607007</td>\n",
       "      <td>25.230798</td>\n",
       "      <td>0.019220</td>\n",
       "      <td>10.918035</td>\n",
       "      <td>1.174507</td>\n",
       "    </tr>\n",
       "    <tr>\n",
       "      <th>2</th>\n",
       "      <td>0.354687</td>\n",
       "      <td>0.434737</td>\n",
       "      <td>0.385364</td>\n",
       "      <td>100</td>\n",
       "      <td>200</td>\n",
       "      <td>75.94</td>\n",
       "      <td>0.099716</td>\n",
       "      <td>2.070447</td>\n",
       "      <td>22.407202</td>\n",
       "      <td>0.019277</td>\n",
       "      <td>9.010230</td>\n",
       "      <td>1.174788</td>\n",
       "    </tr>\n",
       "    <tr>\n",
       "      <th>4</th>\n",
       "      <td>0.354796</td>\n",
       "      <td>0.434618</td>\n",
       "      <td>0.385494</td>\n",
       "      <td>10</td>\n",
       "      <td>300</td>\n",
       "      <td>94.62</td>\n",
       "      <td>0.099534</td>\n",
       "      <td>1.600915</td>\n",
       "      <td>24.923258</td>\n",
       "      <td>0.019266</td>\n",
       "      <td>10.902281</td>\n",
       "      <td>1.174908</td>\n",
       "    </tr>\n",
       "    <tr>\n",
       "      <th>3</th>\n",
       "      <td>0.354821</td>\n",
       "      <td>0.434615</td>\n",
       "      <td>0.385516</td>\n",
       "      <td>0</td>\n",
       "      <td>300</td>\n",
       "      <td>94.62</td>\n",
       "      <td>0.099468</td>\n",
       "      <td>1.600218</td>\n",
       "      <td>24.911179</td>\n",
       "      <td>0.019272</td>\n",
       "      <td>10.900406</td>\n",
       "      <td>1.174951</td>\n",
       "    </tr>\n",
       "    <tr>\n",
       "      <th>1</th>\n",
       "      <td>0.354949</td>\n",
       "      <td>0.434929</td>\n",
       "      <td>0.385545</td>\n",
       "      <td>10</td>\n",
       "      <td>200</td>\n",
       "      <td>75.94</td>\n",
       "      <td>0.099192</td>\n",
       "      <td>2.061886</td>\n",
       "      <td>22.397859</td>\n",
       "      <td>0.019332</td>\n",
       "      <td>9.000173</td>\n",
       "      <td>1.175423</td>\n",
       "    </tr>\n",
       "    <tr>\n",
       "      <th>0</th>\n",
       "      <td>0.354947</td>\n",
       "      <td>0.434969</td>\n",
       "      <td>0.385568</td>\n",
       "      <td>0</td>\n",
       "      <td>200</td>\n",
       "      <td>75.94</td>\n",
       "      <td>0.099131</td>\n",
       "      <td>2.060906</td>\n",
       "      <td>22.362994</td>\n",
       "      <td>0.019339</td>\n",
       "      <td>8.998928</td>\n",
       "      <td>1.175485</td>\n",
       "    </tr>\n",
       "  </tbody>\n",
       "</table>\n",
       "</div>"
      ],
      "text/plain": [
       "    Recall@20  Recall@50  NDCG@100  lambda2   rho  lambda1  sparsity  \\\n",
       "17   0.353160   0.432368  0.384191      100  1000   165.00  0.100072   \n",
       "16   0.353384   0.432505  0.384312       10  1000   165.00  0.099542   \n",
       "15   0.353382   0.432533  0.384316        0  1000   165.00  0.099484   \n",
       "14   0.353542   0.432810  0.384621      100   800   150.00  0.100941   \n",
       "13   0.353741   0.433022  0.384696       10   800   150.00  0.100391   \n",
       "12   0.353732   0.433049  0.384715        0   800   150.00  0.100331   \n",
       "11   0.353906   0.433162  0.384835      100   650   137.74  0.100475   \n",
       "10   0.354057   0.433385  0.384925       10   650   137.74  0.099935   \n",
       "9    0.354039   0.433392  0.384938        0   650   137.74  0.099872   \n",
       "8    0.354260   0.433732  0.385086      100   500   122.12  0.100392   \n",
       "7    0.354455   0.433833  0.385198       10   500   122.12  0.099851   \n",
       "6    0.354487   0.433831  0.385195        0   500   122.12  0.099787   \n",
       "5    0.354687   0.434452  0.385368      100   300    94.62  0.100057   \n",
       "2    0.354687   0.434737  0.385364      100   200    75.94  0.099716   \n",
       "4    0.354796   0.434618  0.385494       10   300    94.62  0.099534   \n",
       "3    0.354821   0.434615  0.385516        0   300    94.62  0.099468   \n",
       "1    0.354949   0.434929  0.385545       10   200    75.94  0.099192   \n",
       "0    0.354947   0.434969  0.385568        0   200    75.94  0.099131   \n",
       "\n",
       "    primal norm  dual norm  eps primal   eps dual       sum  \n",
       "17     0.698553  26.563698    0.019079  18.561589  1.169719  \n",
       "16     0.696524  26.554145    0.019108  18.530033  1.170201  \n",
       "15     0.696295  26.558079    0.019112  18.526411  1.170231  \n",
       "14     0.820014  26.467896    0.019104  16.901735  1.170973  \n",
       "13     0.817505  26.379398    0.019135  16.872980  1.171458  \n",
       "12     0.817219  26.389310    0.019139  16.869683  1.171497  \n",
       "11     0.954171  26.544772    0.019125  15.497910  1.171903  \n",
       "10     0.951114  26.826935    0.019159  15.471947  1.172366  \n",
       "9      0.950768  26.846227    0.019163  15.468955  1.172369  \n",
       "8      1.145761  27.035948    0.019155  13.805921  1.173079  \n",
       "7      1.141881  26.971275    0.019193  13.783413  1.173486  \n",
       "6      1.141441  26.949950    0.019197  13.780807  1.173513  \n",
       "5      1.607007  25.230798    0.019220  10.918035  1.174507  \n",
       "2      2.070447  22.407202    0.019277   9.010230  1.174788  \n",
       "4      1.600915  24.923258    0.019266  10.902281  1.174908  \n",
       "3      1.600218  24.911179    0.019272  10.900406  1.174951  \n",
       "1      2.061886  22.397859    0.019332   9.000173  1.175423  \n",
       "0      2.060906  22.362994    0.019339   8.998928  1.175485  "
      ]
     },
     "execution_count": 29,
     "metadata": {},
     "output_type": "execute_result"
    }
   ],
   "source": [
    "res = pd.read_csv('/home/pmoritz/dev/modsem/hyperparam_search/hyperparam_search_SLIM_netflix_01_100epoch_part2.csv', sep='|')\n",
    "res['sum'] = res['Recall@20'] + res['Recall@50'] + res['NDCG@100']\n",
    "res.sort_values(by='sum')"
   ]
  },
  {
   "cell_type": "code",
   "execution_count": 30,
   "id": "ebf51b45-5126-4898-8f39-c49194f555c0",
   "metadata": {
    "collapsed": true,
    "jupyter": {
     "outputs_hidden": true
    },
    "tags": []
   },
   "outputs": [
    {
     "name": "stdout",
     "output_type": "stream",
     "text": [
      "Starting iteration 0\n",
      "Current Sparsity:0.000%\n",
      "Primal Residual Norm: 42.0366325378418, eps Primal: 0.02197297834777832\n",
      "Dual Residual Norm: 22.382277250289917, eps Dual: 0.85844644140625\n",
      "++++++++++++++++++++++++++++++++++++++++++++++++++++++++++++++++++++++++++++++++++\n",
      "\n",
      "Starting iteration 1\n",
      "Current Sparsity:0.000%\n",
      "Primal Residual Norm: 27.55567741394043, eps Primal: 0.020583121437072756\n",
      "Dual Residual Norm: 775.7424354553223, eps Dual: 1.3798559140625\n",
      "++++++++++++++++++++++++++++++++++++++++++++++++++++++++++++++++++++++++++++++++++\n",
      "\n",
      "Starting iteration 2\n",
      "Current Sparsity:0.001%\n",
      "Primal Residual Norm: 21.66269874572754, eps Primal: 0.020098130172729493\n",
      "Dual Residual Norm: 1075.577449798584, eps Dual: 1.7714100156250001\n",
      "++++++++++++++++++++++++++++++++++++++++++++++++++++++++++++++++++++++++++++++++++\n",
      "\n",
      "Starting iteration 3\n",
      "Current Sparsity:0.001%\n",
      "Primal Residual Norm: 18.36591911315918, eps Primal: 0.019861027473449706\n",
      "Dual Residual Norm: 753.9731502532959, eps Dual: 2.0947699765625\n",
      "++++++++++++++++++++++++++++++++++++++++++++++++++++++++++++++++++++++++++++++++++\n",
      "\n",
      "Starting iteration 4\n",
      "Current Sparsity:0.002%\n",
      "Primal Residual Norm: 16.18987274169922, eps Primal: 0.01971915048980713\n",
      "Dual Residual Norm: 583.6450099945068, eps Dual: 2.3748504453125\n",
      "++++++++++++++++++++++++++++++++++++++++++++++++++++++++++++++++++++++++++++++++++\n",
      "\n",
      "Starting iteration 5\n",
      "Current Sparsity:0.003%\n",
      "Primal Residual Norm: 14.61612606048584, eps Primal: 0.019624651283264162\n",
      "Dual Residual Norm: 471.532678604126, eps Dual: 2.6249299375\n",
      "++++++++++++++++++++++++++++++++++++++++++++++++++++++++++++++++++++++++++++++++++\n",
      "\n",
      "Starting iteration 6\n",
      "Current Sparsity:0.003%\n",
      "Primal Residual Norm: 13.400053024291992, eps Primal: 0.019557726806640627\n",
      "Dual Residual Norm: 405.3410530090332, eps Dual: 2.8516828671875\n",
      "++++++++++++++++++++++++++++++++++++++++++++++++++++++++++++++++++++++++++++++++++\n",
      "\n",
      "Starting iteration 7\n",
      "Current Sparsity:0.004%\n",
      "Primal Residual Norm: 12.418046951293945, eps Primal: 0.019508362525939942\n",
      "Dual Residual Norm: 362.0043754577637, eps Dual: 3.0601336484375\n",
      "++++++++++++++++++++++++++++++++++++++++++++++++++++++++++++++++++++++++++++++++++\n",
      "\n",
      "Starting iteration 8\n",
      "Current Sparsity:0.005%\n",
      "Primal Residual Norm: 11.600054740905762, eps Primal: 0.019470865005493165\n",
      "Dual Residual Norm: 329.64510917663574, eps Dual: 3.2536174375\n",
      "++++++++++++++++++++++++++++++++++++++++++++++++++++++++++++++++++++++++++++++++++\n",
      "\n",
      "Starting iteration 9\n",
      "Current Sparsity:0.006%\n",
      "Primal Residual Norm: 10.90878677368164, eps Primal: 0.019441819709777833\n",
      "Dual Residual Norm: 297.0654487609863, eps Dual: 3.434471734375\n",
      "++++++++++++++++++++++++++++++++++++++++++++++++++++++++++++++++++++++++++++++++++\n",
      "\n",
      "Starting iteration 10\n",
      "Current Sparsity:0.007%\n",
      "Primal Residual Norm: 10.313680648803711, eps Primal: 0.019418905586242676\n",
      "Dual Residual Norm: 273.78993034362793, eps Dual: 3.60401978125\n",
      "++++++++++++++++++++++++++++++++++++++++++++++++++++++++++++++++++++++++++++++++++\n",
      "\n",
      "Starting iteration 11\n",
      "Current Sparsity:0.008%\n",
      "Primal Residual Norm: 9.791335105895996, eps Primal: 0.0194005486907959\n",
      "Dual Residual Norm: 252.5289535522461, eps Dual: 3.763942046875\n",
      "++++++++++++++++++++++++++++++++++++++++++++++++++++++++++++++++++++++++++++++++++\n",
      "\n",
      "Starting iteration 12\n",
      "Current Sparsity:0.009%\n",
      "Primal Residual Norm: 9.32770824432373, eps Primal: 0.01938562292480469\n",
      "Dual Residual Norm: 238.2335901260376, eps Dual: 3.9156459531250003\n",
      "++++++++++++++++++++++++++++++++++++++++++++++++++++++++++++++++++++++++++++++++++\n",
      "\n",
      "Starting iteration 13\n",
      "Current Sparsity:0.009%\n",
      "Primal Residual Norm: 8.916276931762695, eps Primal: 0.019373358863830566\n",
      "Dual Residual Norm: 218.89538764953613, eps Dual: 4.059950250000001\n",
      "++++++++++++++++++++++++++++++++++++++++++++++++++++++++++++++++++++++++++++++++++\n",
      "\n",
      "Starting iteration 14\n",
      "Current Sparsity:0.010%\n",
      "Primal Residual Norm: 8.54299259185791, eps Primal: 0.01936319689178467\n",
      "Dual Residual Norm: 208.7820291519165, eps Dual: 4.197685015625001\n",
      "++++++++++++++++++++++++++++++++++++++++++++++++++++++++++++++++++++++++++++++++++\n",
      "\n",
      "Starting iteration 15\n",
      "Current Sparsity:0.012%\n",
      "Primal Residual Norm: 8.204315185546875, eps Primal: 0.01935470957183838\n",
      "Dual Residual Norm: 197.37372398376465, eps Dual: 4.329437359375\n",
      "++++++++++++++++++++++++++++++++++++++++++++++++++++++++++++++++++++++++++++++++++\n",
      "\n",
      "Starting iteration 16\n",
      "Current Sparsity:0.013%\n",
      "Primal Residual Norm: 7.8974151611328125, eps Primal: 0.01934760383987427\n",
      "Dual Residual Norm: 183.9549422264099, eps Dual: 4.455661578125\n",
      "++++++++++++++++++++++++++++++++++++++++++++++++++++++++++++++++++++++++++++++++++\n",
      "\n",
      "Starting iteration 17\n",
      "Current Sparsity:0.014%\n",
      "Primal Residual Norm: 7.615120887756348, eps Primal: 0.019341616481781006\n",
      "Dual Residual Norm: 173.64912033081055, eps Dual: 4.576658843750001\n",
      "++++++++++++++++++++++++++++++++++++++++++++++++++++++++++++++++++++++++++++++++++\n",
      "\n",
      "Starting iteration 18\n",
      "Current Sparsity:0.015%\n",
      "Primal Residual Norm: 7.356497764587402, eps Primal: 0.019336551612854004\n",
      "Dual Residual Norm: 164.28678035736084, eps Dual: 4.6929979062500005\n",
      "++++++++++++++++++++++++++++++++++++++++++++++++++++++++++++++++++++++++++++++++++\n",
      "\n",
      "Starting iteration 19\n",
      "Current Sparsity:0.016%\n",
      "Primal Residual Norm: 7.117641448974609, eps Primal: 0.019332254928588866\n",
      "Dual Residual Norm: 152.42961645126343, eps Dual: 4.805222906250001\n",
      "++++++++++++++++++++++++++++++++++++++++++++++++++++++++++++++++++++++++++++++++++\n",
      "\n",
      "Starting iteration 20\n",
      "Current Sparsity:0.017%\n",
      "Primal Residual Norm: 6.895120620727539, eps Primal: 0.01932859949493408\n",
      "Dual Residual Norm: 148.37489128112793, eps Dual: 4.913643218750001\n",
      "++++++++++++++++++++++++++++++++++++++++++++++++++++++++++++++++++++++++++++++++++\n",
      "\n",
      "Starting iteration 21\n",
      "Current Sparsity:0.018%\n",
      "Primal Residual Norm: 6.686781406402588, eps Primal: 0.019325494331359862\n",
      "Dual Residual Norm: 141.24069213867188, eps Dual: 5.018385015625\n",
      "++++++++++++++++++++++++++++++++++++++++++++++++++++++++++++++++++++++++++++++++++\n",
      "\n",
      "Starting iteration 22\n",
      "Current Sparsity:0.019%\n",
      "Primal Residual Norm: 6.49208927154541, eps Primal: 0.01932285799407959\n",
      "Dual Residual Norm: 135.72819232940674, eps Dual: 5.11985884375\n",
      "++++++++++++++++++++++++++++++++++++++++++++++++++++++++++++++++++++++++++++++++++\n",
      "\n",
      "Starting iteration 23\n",
      "Current Sparsity:0.020%\n",
      "Primal Residual Norm: 6.311357021331787, eps Primal: 0.019320621150970458\n",
      "Dual Residual Norm: 127.65581607818604, eps Dual: 5.2182549375\n",
      "++++++++++++++++++++++++++++++++++++++++++++++++++++++++++++++++++++++++++++++++++\n",
      "\n",
      "Starting iteration 24\n",
      "Current Sparsity:0.021%\n",
      "Primal Residual Norm: 6.14129114151001, eps Primal: 0.01931873087310791\n",
      "Dual Residual Norm: 121.86325788497925, eps Dual: 5.313720953125\n",
      "++++++++++++++++++++++++++++++++++++++++++++++++++++++++++++++++++++++++++++++++++\n",
      "\n",
      "Starting iteration 25\n",
      "Current Sparsity:0.022%\n",
      "Primal Residual Norm: 5.979777812957764, eps Primal: 0.019317138427734377\n",
      "Dual Residual Norm: 118.71644258499146, eps Dual: 5.4063768125000005\n",
      "++++++++++++++++++++++++++++++++++++++++++++++++++++++++++++++++++++++++++++++++++\n",
      "\n",
      "Starting iteration 26\n",
      "Current Sparsity:0.023%\n",
      "Primal Residual Norm: 5.828160762786865, eps Primal: 0.019315795654296874\n",
      "Dual Residual Norm: 112.87215948104858, eps Dual: 5.496369390625\n",
      "++++++++++++++++++++++++++++++++++++++++++++++++++++++++++++++++++++++++++++++++++\n",
      "\n",
      "Starting iteration 27\n",
      "Current Sparsity:0.024%\n",
      "Primal Residual Norm: 5.684154033660889, eps Primal: 0.01931467747116089\n",
      "Dual Residual Norm: 109.44138765335083, eps Dual: 5.583890875000001\n",
      "++++++++++++++++++++++++++++++++++++++++++++++++++++++++++++++++++++++++++++++++++\n",
      "\n",
      "Starting iteration 28\n",
      "Current Sparsity:0.026%\n",
      "Primal Residual Norm: 5.546910285949707, eps Primal: 0.019313754219055176\n",
      "Dual Residual Norm: 106.48508071899414, eps Dual: 5.669083843750001\n",
      "++++++++++++++++++++++++++++++++++++++++++++++++++++++++++++++++++++++++++++++++++\n",
      "\n",
      "Starting iteration 29\n",
      "Current Sparsity:0.027%\n",
      "Primal Residual Norm: 5.416698455810547, eps Primal: 0.019313002437591553\n",
      "Dual Residual Norm: 102.56998538970947, eps Dual: 5.7518213437500005\n",
      "++++++++++++++++++++++++++++++++++++++++++++++++++++++++++++++++++++++++++++++++++\n",
      "\n",
      "Starting iteration 30\n",
      "Current Sparsity:0.028%\n",
      "Primal Residual Norm: 5.29254150390625, eps Primal: 0.01931239876174927\n",
      "Dual Residual Norm: 98.44672679901123, eps Dual: 5.8325365781250005\n",
      "++++++++++++++++++++++++++++++++++++++++++++++++++++++++++++++++++++++++++++++++++\n",
      "\n",
      "Starting iteration 31\n",
      "Current Sparsity:0.029%\n",
      "Primal Residual Norm: 5.175304412841797, eps Primal: 0.01931192821884155\n",
      "Dual Residual Norm: 93.06069016456604, eps Dual: 5.911317046875\n",
      "++++++++++++++++++++++++++++++++++++++++++++++++++++++++++++++++++++++++++++++++++\n",
      "\n",
      "Starting iteration 32\n",
      "Current Sparsity:0.030%\n",
      "Primal Residual Norm: 5.063624858856201, eps Primal: 0.019311575645446777\n",
      "Dual Residual Norm: 90.25945663452148, eps Dual: 5.988230718750001\n",
      "++++++++++++++++++++++++++++++++++++++++++++++++++++++++++++++++++++++++++++++++++\n",
      "\n",
      "Starting iteration 33\n",
      "Current Sparsity:0.031%\n",
      "Primal Residual Norm: 4.95676326751709, eps Primal: 0.019311323780059814\n",
      "Dual Residual Norm: 87.1489405632019, eps Dual: 6.063365484375001\n",
      "++++++++++++++++++++++++++++++++++++++++++++++++++++++++++++++++++++++++++++++++++\n",
      "\n",
      "Starting iteration 34\n",
      "Current Sparsity:0.032%\n",
      "Primal Residual Norm: 4.854893207550049, eps Primal: 0.01931116423034668\n",
      "Dual Residual Norm: 84.13241505622864, eps Dual: 6.136842828125\n",
      "++++++++++++++++++++++++++++++++++++++++++++++++++++++++++++++++++++++++++++++++++\n",
      "\n",
      "Starting iteration 35\n",
      "Current Sparsity:0.033%\n",
      "Primal Residual Norm: 4.757258415222168, eps Primal: 0.01931108459854126\n",
      "Dual Residual Norm: 81.11658096313477, eps Dual: 6.208714312500001\n",
      "++++++++++++++++++++++++++++++++++++++++++++++++++++++++++++++++++++++++++++++++++\n",
      "\n",
      "Starting iteration 36\n",
      "Current Sparsity:0.034%\n",
      "Primal Residual Norm: 4.663577556610107, eps Primal: 0.01931107534790039\n",
      "Dual Residual Norm: 79.04301285743713, eps Dual: 6.279010015625\n",
      "++++++++++++++++++++++++++++++++++++++++++++++++++++++++++++++++++++++++++++++++++\n",
      "\n",
      "Starting iteration 37\n",
      "Current Sparsity:0.036%\n",
      "Primal Residual Norm: 4.573333740234375, eps Primal: 0.019311127990722658\n",
      "Dual Residual Norm: 77.01219916343689, eps Dual: 6.347742437500001\n",
      "++++++++++++++++++++++++++++++++++++++++++++++++++++++++++++++++++++++++++++++++++\n",
      "\n",
      "Starting iteration 38\n",
      "Current Sparsity:0.037%\n",
      "Primal Residual Norm: 4.486856460571289, eps Primal: 0.019311234992980958\n",
      "Dual Residual Norm: 74.53489303588867, eps Dual: 6.414889312500001\n",
      "++++++++++++++++++++++++++++++++++++++++++++++++++++++++++++++++++++++++++++++++++\n",
      "\n",
      "Starting iteration 39\n",
      "Current Sparsity:0.038%\n",
      "Primal Residual Norm: 4.403973579406738, eps Primal: 0.019311394065856934\n",
      "Dual Residual Norm: 72.07444906234741, eps Dual: 6.480764703125001\n",
      "++++++++++++++++++++++++++++++++++++++++++++++++++++++++++++++++++++++++++++++++++\n",
      "\n",
      "Starting iteration 40\n",
      "Current Sparsity:0.039%\n",
      "Primal Residual Norm: 4.32338809967041, eps Primal: 0.019311597675323488\n",
      "Dual Residual Norm: 70.89818716049194, eps Dual: 6.545321734375\n",
      "++++++++++++++++++++++++++++++++++++++++++++++++++++++++++++++++++++++++++++++++++\n",
      "\n",
      "Starting iteration 41\n",
      "Current Sparsity:0.040%\n",
      "Primal Residual Norm: 4.24606990814209, eps Primal: 0.019311841720581056\n",
      "Dual Residual Norm: 68.92058849334717, eps Dual: 6.608595562500001\n",
      "++++++++++++++++++++++++++++++++++++++++++++++++++++++++++++++++++++++++++++++++++\n",
      "\n",
      "Starting iteration 42\n",
      "Current Sparsity:0.041%\n",
      "Primal Residual Norm: 4.1717119216918945, eps Primal: 0.019312120098114012\n",
      "Dual Residual Norm: 66.54975414276123, eps Dual: 6.670640875000001\n",
      "++++++++++++++++++++++++++++++++++++++++++++++++++++++++++++++++++++++++++++++++++\n",
      "\n",
      "Starting iteration 43\n",
      "Current Sparsity:0.042%\n",
      "Primal Residual Norm: 4.10020637512207, eps Primal: 0.019312429374694823\n",
      "Dual Residual Norm: 64.487624168396, eps Dual: 6.731518218750001\n",
      "++++++++++++++++++++++++++++++++++++++++++++++++++++++++++++++++++++++++++++++++++\n",
      "\n",
      "Starting iteration 44\n",
      "Current Sparsity:0.043%\n",
      "Primal Residual Norm: 4.030872344970703, eps Primal: 0.01931276916885376\n",
      "Dual Residual Norm: 62.75709271430969, eps Dual: 6.791258062500001\n",
      "++++++++++++++++++++++++++++++++++++++++++++++++++++++++++++++++++++++++++++++++++\n",
      "\n",
      "Starting iteration 45\n",
      "Current Sparsity:0.044%\n",
      "Primal Residual Norm: 3.9636147022247314, eps Primal: 0.019313132614135742\n",
      "Dual Residual Norm: 62.005650997161865, eps Dual: 6.84985728125\n",
      "++++++++++++++++++++++++++++++++++++++++++++++++++++++++++++++++++++++++++++++++++\n",
      "\n",
      "Starting iteration 46\n",
      "Current Sparsity:0.046%\n",
      "Primal Residual Norm: 3.898646354675293, eps Primal: 0.01931351780319214\n",
      "Dual Residual Norm: 59.86417531967163, eps Dual: 6.9074205625000005\n",
      "++++++++++++++++++++++++++++++++++++++++++++++++++++++++++++++++++++++++++++++++++\n",
      "\n",
      "Starting iteration 47\n",
      "Current Sparsity:0.047%\n",
      "Primal Residual Norm: 3.836021900177002, eps Primal: 0.019313923400878907\n",
      "Dual Residual Norm: 58.19312334060669, eps Dual: 6.963968218750001\n",
      "++++++++++++++++++++++++++++++++++++++++++++++++++++++++++++++++++++++++++++++++++\n",
      "\n",
      "Starting iteration 48\n",
      "Current Sparsity:0.048%\n",
      "Primal Residual Norm: 3.775315046310425, eps Primal: 0.019314345401763917\n",
      "Dual Residual Norm: 56.89378380775452, eps Dual: 7.019534625\n",
      "++++++++++++++++++++++++++++++++++++++++++++++++++++++++++++++++++++++++++++++++++\n",
      "\n",
      "Starting iteration 49\n",
      "Current Sparsity:0.049%\n",
      "Primal Residual Norm: 3.7167747020721436, eps Primal: 0.019314783615112303\n",
      "Dual Residual Norm: 54.96278405189514, eps Dual: 7.074148687500001\n",
      "++++++++++++++++++++++++++++++++++++++++++++++++++++++++++++++++++++++++++++++++++\n",
      "\n",
      "Starting iteration 50\n",
      "Current Sparsity:0.050%\n",
      "Primal Residual Norm: 3.659837007522583, eps Primal: 0.01931523336791992\n",
      "Dual Residual Norm: 54.147255420684814, eps Dual: 7.127853375000001\n",
      "++++++++++++++++++++++++++++++++++++++++++++++++++++++++++++++++++++++++++++++++++\n",
      "\n",
      "Starting iteration 51\n",
      "Current Sparsity:0.051%\n",
      "Primal Residual Norm: 3.604501962661743, eps Primal: 0.01931569532775879\n",
      "Dual Residual Norm: 52.83304452896118, eps Dual: 7.180636968750001\n",
      "++++++++++++++++++++++++++++++++++++++++++++++++++++++++++++++++++++++++++++++++++\n",
      "\n",
      "Starting iteration 52\n",
      "Current Sparsity:0.052%\n",
      "Primal Residual Norm: 3.5506012439727783, eps Primal: 0.01931616806411743\n",
      "Dual Residual Norm: 51.79716944694519, eps Dual: 7.232522906250001\n",
      "++++++++++++++++++++++++++++++++++++++++++++++++++++++++++++++++++++++++++++++++++\n",
      "\n",
      "Starting iteration 53\n",
      "Current Sparsity:0.053%\n",
      "Primal Residual Norm: 3.4985158443450928, eps Primal: 0.019316651195526124\n",
      "Dual Residual Norm: 49.91992115974426, eps Dual: 7.283562750000001\n",
      "++++++++++++++++++++++++++++++++++++++++++++++++++++++++++++++++++++++++++++++++++\n",
      "\n",
      "Starting iteration 54\n",
      "Current Sparsity:0.054%\n",
      "Primal Residual Norm: 3.447826623916626, eps Primal: 0.019317140525817872\n",
      "Dual Residual Norm: 49.1907924413681, eps Dual: 7.333556500000001\n",
      "++++++++++++++++++++++++++++++++++++++++++++++++++++++++++++++++++++++++++++++++++\n",
      "\n",
      "Starting iteration 55\n",
      "Current Sparsity:0.055%\n",
      "Primal Residual Norm: 3.3985226154327393, eps Primal: 0.019317635387420654\n",
      "Dual Residual Norm: 47.80896008014679, eps Dual: 7.382818218750001\n",
      "++++++++++++++++++++++++++++++++++++++++++++++++++++++++++++++++++++++++++++++++++\n",
      "\n",
      "Starting iteration 56\n",
      "Current Sparsity:0.056%\n",
      "Primal Residual Norm: 3.35083270072937, eps Primal: 0.01931813730621338\n",
      "Dual Residual Norm: 46.60671055316925, eps Dual: 7.431278375000001\n",
      "++++++++++++++++++++++++++++++++++++++++++++++++++++++++++++++++++++++++++++++++++\n",
      "\n",
      "Starting iteration 57\n",
      "Current Sparsity:0.057%\n",
      "Primal Residual Norm: 3.303945779800415, eps Primal: 0.019318643898010253\n",
      "Dual Residual Norm: 46.539631485939026, eps Dual: 7.479019781250001\n",
      "++++++++++++++++++++++++++++++++++++++++++++++++++++++++++++++++++++++++++++++++++\n",
      "\n",
      "Starting iteration 58\n",
      "Current Sparsity:0.058%\n",
      "Primal Residual Norm: 3.2583603858947754, eps Primal: 0.019319153827667235\n",
      "Dual Residual Norm: 45.38032412528992, eps Dual: 7.526036968750001\n",
      "++++++++++++++++++++++++++++++++++++++++++++++++++++++++++++++++++++++++++++++++++\n",
      "\n",
      "Starting iteration 59\n",
      "Current Sparsity:0.059%\n",
      "Primal Residual Norm: 3.214082956314087, eps Primal: 0.019319667667388917\n",
      "Dual Residual Norm: 44.04066205024719, eps Dual: 7.572344000000001\n",
      "++++++++++++++++++++++++++++++++++++++++++++++++++++++++++++++++++++++++++++++++++\n",
      "\n",
      "Starting iteration 60\n",
      "Current Sparsity:0.061%\n",
      "Primal Residual Norm: 3.1708874702453613, eps Primal: 0.019320184463500978\n",
      "Dual Residual Norm: 43.33985447883606, eps Dual: 7.61796196875\n",
      "++++++++++++++++++++++++++++++++++++++++++++++++++++++++++++++++++++++++++++++++++\n",
      "\n",
      "Starting iteration 61\n",
      "Current Sparsity:0.062%\n",
      "Primal Residual Norm: 3.128791093826294, eps Primal: 0.019320702213287355\n",
      "Dual Residual Norm: 42.573755979537964, eps Dual: 7.662911187500001\n",
      "++++++++++++++++++++++++++++++++++++++++++++++++++++++++++++++++++++++++++++++++++\n",
      "\n",
      "Starting iteration 62\n",
      "Current Sparsity:0.063%\n",
      "Primal Residual Norm: 3.0878429412841797, eps Primal: 0.019321221965789795\n",
      "Dual Residual Norm: 41.48520827293396, eps Dual: 7.707215875000001\n",
      "++++++++++++++++++++++++++++++++++++++++++++++++++++++++++++++++++++++++++++++++++\n",
      "\n",
      "Starting iteration 63\n",
      "Current Sparsity:0.064%\n",
      "Primal Residual Norm: 3.047996997833252, eps Primal: 0.019321741146087645\n",
      "Dual Residual Norm: 40.73071777820587, eps Dual: 7.750868218750001\n",
      "++++++++++++++++++++++++++++++++++++++++++++++++++++++++++++++++++++++++++++++++++\n",
      "\n",
      "Starting iteration 64\n",
      "Current Sparsity:0.065%\n",
      "Primal Residual Norm: 3.0094189643859863, eps Primal: 0.019322261470794678\n",
      "Dual Residual Norm: 39.10163342952728, eps Dual: 7.793925250000001\n",
      "++++++++++++++++++++++++++++++++++++++++++++++++++++++++++++++++++++++++++++++++++\n",
      "\n",
      "Starting iteration 65\n",
      "Current Sparsity:0.066%\n",
      "Primal Residual Norm: 2.971386432647705, eps Primal: 0.019322781986236572\n",
      "Dual Residual Norm: 39.14895951747894, eps Dual: 7.836390875000001\n",
      "++++++++++++++++++++++++++++++++++++++++++++++++++++++++++++++++++++++++++++++++++\n",
      "\n",
      "Starting iteration 66\n",
      "Current Sparsity:0.067%\n",
      "Primal Residual Norm: 2.9340076446533203, eps Primal: 0.01932330154800415\n",
      "Dual Residual Norm: 38.9318585395813, eps Dual: 7.878240093750001\n",
      "++++++++++++++++++++++++++++++++++++++++++++++++++++++++++++++++++++++++++++++++++\n",
      "\n",
      "Starting iteration 67\n",
      "Current Sparsity:0.068%\n",
      "Primal Residual Norm: 2.8977108001708984, eps Primal: 0.019323819774627687\n",
      "Dual Residual Norm: 37.61549890041351, eps Dual: 7.9195283750000005\n",
      "++++++++++++++++++++++++++++++++++++++++++++++++++++++++++++++++++++++++++++++++++\n",
      "\n",
      "Starting iteration 68\n",
      "Current Sparsity:0.069%\n",
      "Primal Residual Norm: 2.862194299697876, eps Primal: 0.019324336856842043\n",
      "Dual Residual Norm: 36.97215020656586, eps Dual: 7.960234625000001\n",
      "++++++++++++++++++++++++++++++++++++++++++++++++++++++++++++++++++++++++++++++++++\n",
      "\n",
      "Starting iteration 69\n",
      "Current Sparsity:0.070%\n",
      "Primal Residual Norm: 2.827552318572998, eps Primal: 0.019324852699279787\n",
      "Dual Residual Norm: 36.33541762828827, eps Dual: 8.00036978125\n",
      "++++++++++++++++++++++++++++++++++++++++++++++++++++++++++++++++++++++++++++++++++\n",
      "\n",
      "Starting iteration 70\n",
      "Current Sparsity:0.071%\n",
      "Primal Residual Norm: 2.7936367988586426, eps Primal: 0.019325367778778076\n",
      "Dual Residual Norm: 35.689035058021545, eps Dual: 8.0399736875\n",
      "++++++++++++++++++++++++++++++++++++++++++++++++++++++++++++++++++++++++++++++++++\n",
      "\n",
      "Starting iteration 71\n",
      "Current Sparsity:0.072%\n",
      "Primal Residual Norm: 2.760620355606079, eps Primal: 0.01932588076019287\n",
      "Dual Residual Norm: 34.98709499835968, eps Dual: 8.07903853125\n",
      "++++++++++++++++++++++++++++++++++++++++++++++++++++++++++++++++++++++++++++++++++\n",
      "\n",
      "Starting iteration 72\n",
      "Current Sparsity:0.073%\n",
      "Primal Residual Norm: 2.728483200073242, eps Primal: 0.01932639212036133\n",
      "Dual Residual Norm: 33.691781759262085, eps Dual: 8.117597125\n",
      "++++++++++++++++++++++++++++++++++++++++++++++++++++++++++++++++++++++++++++++++++\n",
      "\n",
      "Starting iteration 73\n",
      "Current Sparsity:0.074%\n",
      "Primal Residual Norm: 2.696787118911743, eps Primal: 0.01932690014266968\n",
      "Dual Residual Norm: 33.82894694805145, eps Dual: 8.15566275\n",
      "++++++++++++++++++++++++++++++++++++++++++++++++++++++++++++++++++++++++++++++++++\n",
      "\n",
      "Starting iteration 74\n",
      "Current Sparsity:0.075%\n",
      "Primal Residual Norm: 2.665806293487549, eps Primal: 0.019327406162261963\n",
      "Dual Residual Norm: 33.223339915275574, eps Dual: 8.19320103125\n",
      "++++++++++++++++++++++++++++++++++++++++++++++++++++++++++++++++++++++++++++++++++\n",
      "\n",
      "Starting iteration 75\n",
      "Current Sparsity:0.076%\n",
      "Primal Residual Norm: 2.6356003284454346, eps Primal: 0.01932790941619873\n",
      "Dual Residual Norm: 32.204464077949524, eps Dual: 8.230279156249999\n",
      "++++++++++++++++++++++++++++++++++++++++++++++++++++++++++++++++++++++++++++++++++\n",
      "\n",
      "Starting iteration 76\n",
      "Current Sparsity:0.077%\n",
      "Primal Residual Norm: 2.6058080196380615, eps Primal: 0.019328409713745116\n",
      "Dual Residual Norm: 32.353195548057556, eps Dual: 8.26689790625\n",
      "++++++++++++++++++++++++++++++++++++++++++++++++++++++++++++++++++++++++++++++++++\n",
      "\n",
      "Starting iteration 77\n",
      "Current Sparsity:0.078%\n",
      "Primal Residual Norm: 2.5767600536346436, eps Primal: 0.019328907245635987\n",
      "Dual Residual Norm: 31.588399410247803, eps Dual: 8.303054156249999\n",
      "++++++++++++++++++++++++++++++++++++++++++++++++++++++++++++++++++++++++++++++++++\n",
      "\n",
      "Starting iteration 78\n",
      "Current Sparsity:0.079%\n",
      "Primal Residual Norm: 2.5484108924865723, eps Primal: 0.01932940153503418\n",
      "Dual Residual Norm: 30.73422610759735, eps Dual: 8.338776812499999\n",
      "++++++++++++++++++++++++++++++++++++++++++++++++++++++++++++++++++++++++++++++++++\n",
      "\n",
      "Starting iteration 79\n",
      "Current Sparsity:0.080%\n",
      "Primal Residual Norm: 2.520542621612549, eps Primal: 0.0193298922958374\n",
      "Dual Residual Norm: 30.523017048835754, eps Dual: 8.3740611875\n",
      "++++++++++++++++++++++++++++++++++++++++++++++++++++++++++++++++++++++++++++++++++\n",
      "\n",
      "Starting iteration 80\n",
      "Current Sparsity:0.081%\n",
      "Primal Residual Norm: 2.4934585094451904, eps Primal: 0.019330379718780516\n",
      "Dual Residual Norm: 29.392173886299133, eps Dual: 8.4089018125\n",
      "++++++++++++++++++++++++++++++++++++++++++++++++++++++++++++++++++++++++++++++++++\n",
      "\n",
      "Starting iteration 81\n",
      "Current Sparsity:0.082%\n",
      "Primal Residual Norm: 2.4666824340820312, eps Primal: 0.01933086399459839\n",
      "Dual Residual Norm: 29.506999254226685, eps Dual: 8.4433205625\n",
      "++++++++++++++++++++++++++++++++++++++++++++++++++++++++++++++++++++++++++++++++++\n",
      "\n",
      "Starting iteration 82\n",
      "Current Sparsity:0.083%\n",
      "Primal Residual Norm: 2.440406084060669, eps Primal: 0.01933134540939331\n",
      "Dual Residual Norm: 28.687161207199097, eps Dual: 8.4773393125\n",
      "++++++++++++++++++++++++++++++++++++++++++++++++++++++++++++++++++++++++++++++++++\n",
      "\n",
      "Starting iteration 83\n",
      "Current Sparsity:0.084%\n",
      "Primal Residual Norm: 2.4145212173461914, eps Primal: 0.01933182262802124\n",
      "Dual Residual Norm: 28.62069606781006, eps Dual: 8.51095259375\n",
      "++++++++++++++++++++++++++++++++++++++++++++++++++++++++++++++++++++++++++++++++++\n",
      "\n",
      "Starting iteration 84\n",
      "Current Sparsity:0.085%\n",
      "Primal Residual Norm: 2.388979196548462, eps Primal: 0.019332297176361084\n",
      "Dual Residual Norm: 28.44318449497223, eps Dual: 8.54415259375\n",
      "++++++++++++++++++++++++++++++++++++++++++++++++++++++++++++++++++++++++++++++++++\n",
      "\n",
      "Starting iteration 85\n",
      "Current Sparsity:0.086%\n",
      "Primal Residual Norm: 2.364086151123047, eps Primal: 0.019332767719268798\n",
      "Dual Residual Norm: 27.66427993774414, eps Dual: 8.576972125\n",
      "++++++++++++++++++++++++++++++++++++++++++++++++++++++++++++++++++++++++++++++++++\n",
      "\n",
      "Starting iteration 86\n",
      "Current Sparsity:0.087%\n",
      "Primal Residual Norm: 2.339751720428467, eps Primal: 0.01933323454284668\n",
      "Dual Residual Norm: 27.109313011169434, eps Dual: 8.60939946875\n",
      "++++++++++++++++++++++++++++++++++++++++++++++++++++++++++++++++++++++++++++++++++\n",
      "\n",
      "Starting iteration 87\n",
      "Current Sparsity:0.088%\n",
      "Primal Residual Norm: 2.3158698081970215, eps Primal: 0.019333698028564453\n",
      "Dual Residual Norm: 26.704001426696777, eps Dual: 8.64145259375\n",
      "++++++++++++++++++++++++++++++++++++++++++++++++++++++++++++++++++++++++++++++++++\n",
      "\n",
      "Starting iteration 88\n",
      "Current Sparsity:0.089%\n",
      "Primal Residual Norm: 2.2925283908843994, eps Primal: 0.01933415769958496\n",
      "Dual Residual Norm: 25.956186652183533, eps Dual: 8.673119\n",
      "++++++++++++++++++++++++++++++++++++++++++++++++++++++++++++++++++++++++++++++++++\n",
      "\n",
      "Starting iteration 89\n",
      "Current Sparsity:0.090%\n",
      "Primal Residual Norm: 2.2695295810699463, eps Primal: 0.019334614128112795\n",
      "Dual Residual Norm: 25.92933177947998, eps Dual: 8.70440884375\n",
      "++++++++++++++++++++++++++++++++++++++++++++++++++++++++++++++++++++++++++++++++++\n",
      "\n",
      "Starting iteration 90\n",
      "Current Sparsity:0.091%\n",
      "Primal Residual Norm: 2.246870279312134, eps Primal: 0.019335066932678224\n",
      "Dual Residual Norm: 25.577938556671143, eps Dual: 8.73534478125\n",
      "++++++++++++++++++++++++++++++++++++++++++++++++++++++++++++++++++++++++++++++++++\n",
      "\n",
      "Starting iteration 91\n",
      "Current Sparsity:0.092%\n",
      "Primal Residual Norm: 2.2246897220611572, eps Primal: 0.0193355153503418\n",
      "Dual Residual Norm: 25.097405910491943, eps Dual: 8.7659330625\n",
      "++++++++++++++++++++++++++++++++++++++++++++++++++++++++++++++++++++++++++++++++++\n",
      "\n",
      "Starting iteration 92\n",
      "Current Sparsity:0.093%\n",
      "Primal Residual Norm: 2.202934741973877, eps Primal: 0.019335959857940673\n",
      "Dual Residual Norm: 24.766233563423157, eps Dual: 8.79617134375\n",
      "++++++++++++++++++++++++++++++++++++++++++++++++++++++++++++++++++++++++++++++++++\n",
      "\n",
      "Starting iteration 93\n",
      "Current Sparsity:0.094%\n",
      "Primal Residual Norm: 2.181696891784668, eps Primal: 0.01933640083694458\n",
      "Dual Residual Norm: 24.21046942472458, eps Dual: 8.8260674375\n",
      "++++++++++++++++++++++++++++++++++++++++++++++++++++++++++++++++++++++++++++++++++\n",
      "\n",
      "Starting iteration 94\n",
      "Current Sparsity:0.095%\n",
      "Primal Residual Norm: 2.1605703830718994, eps Primal: 0.019336838668823242\n",
      "Dual Residual Norm: 24.31912124156952, eps Dual: 8.85564790625\n",
      "++++++++++++++++++++++++++++++++++++++++++++++++++++++++++++++++++++++++++++++++++\n",
      "\n",
      "Starting iteration 95\n",
      "Current Sparsity:0.095%\n",
      "Primal Residual Norm: 2.1399850845336914, eps Primal: 0.01933727220916748\n",
      "Dual Residual Norm: 23.491594195365906, eps Dual: 8.8849205625\n",
      "++++++++++++++++++++++++++++++++++++++++++++++++++++++++++++++++++++++++++++++++++\n",
      "\n",
      "Starting iteration 96\n",
      "Current Sparsity:0.096%\n",
      "Primal Residual Norm: 2.119617223739624, eps Primal: 0.019337703079223632\n",
      "Dual Residual Norm: 23.378559947013855, eps Dual: 8.91387525\n",
      "++++++++++++++++++++++++++++++++++++++++++++++++++++++++++++++++++++++++++++++++++\n",
      "\n",
      "Starting iteration 97\n",
      "Current Sparsity:0.097%\n",
      "Primal Residual Norm: 2.099717855453491, eps Primal: 0.01933812956237793\n",
      "Dual Residual Norm: 22.86698818206787, eps Dual: 8.9425268125\n",
      "++++++++++++++++++++++++++++++++++++++++++++++++++++++++++++++++++++++++++++++++++\n",
      "\n",
      "Starting iteration 98\n",
      "Current Sparsity:0.098%\n",
      "Primal Residual Norm: 2.080148696899414, eps Primal: 0.0193385520401001\n",
      "Dual Residual Norm: 22.47960865497589, eps Dual: 8.97087290625\n",
      "++++++++++++++++++++++++++++++++++++++++++++++++++++++++++++++++++++++++++++++++++\n",
      "\n",
      "Starting iteration 99\n",
      "Current Sparsity:0.099%\n",
      "Primal Residual Norm: 2.0609066486358643, eps Primal: 0.019338970798492432\n",
      "Dual Residual Norm: 22.362996637821198, eps Dual: 8.99892759375\n",
      "++++++++++++++++++++++++++++++++++++++++++++++++++++++++++++++++++++++++++++++++++\n",
      "\n",
      "Training time: 31.66min\n",
      "create lookup\n",
      "create true item df\n",
      "predicting\n",
      "predicting done, reindexing\n",
      "calculating metrics\n"
     ]
    }
   ],
   "source": [
    "model_ADMM_EDLAE = ADMM_EDLAE(lambda1=75.94, lambda2=0, p=0.33, rho=200, eps_rel=0.0001, eps_abs=0.000001, tau=2, t=10)\n",
    "final_sparsity, R_primal_norm, R_dual_norm, eps_primal, eps_dual = model_ADMM_EDLAE.fit(train_netflix, 'uid', 'sid', 17769, check_convergence=True, adjust_rho=False, n_iter=100, return_info=True)\n",
    "metr_dict = model_ADMM_EDLAE.evaluate_metrics(test_tr_netflix, test_te_netflix, 'uid', 'sid', metrics_lst)"
   ]
  },
  {
   "cell_type": "code",
   "execution_count": 31,
   "id": "8f7738f3-f772-41ba-b32d-250cfcbb19d5",
   "metadata": {},
   "outputs": [
    {
     "data": {
      "text/plain": [
       "{'Recall(k=20)': 0.3555992226211047,\n",
       " 'Recall(k=50)': 0.43775692117864984,\n",
       " 'NDCG(k=100)': 0.38712490919675174}"
      ]
     },
     "execution_count": 31,
     "metadata": {},
     "output_type": "execute_result"
    }
   ],
   "source": [
    "metr_dict"
   ]
  },
  {
   "cell_type": "code",
   "execution_count": 32,
   "id": "32c9bdbd-3a17-4aa2-b907-b20368fcbd36",
   "metadata": {},
   "outputs": [
    {
     "data": {
      "text/plain": [
       "(0.0043238201198983, 4.604400443975465e-05)"
      ]
     },
     "execution_count": 32,
     "metadata": {},
     "output_type": "execute_result"
    }
   ],
   "source": [
    "timeit_sparse(sp.csr_matrix(model_ADMM_EDLAE.C), X_test=X_test_tr_netflix, n_users_test=X_test_tr_netflix.shape[0], max_k = 100, n_jobs=16)"
   ]
  },
  {
   "cell_type": "code",
   "execution_count": 33,
   "id": "b5019766-0a8b-4282-ad66-7419eeaade24",
   "metadata": {},
   "outputs": [],
   "source": [
    "np.save(file='/home/pmoritz/dev/modsem/sparse_mat/' + 'ADMM_netflix_01', arr=model_ADMM_EDLAE.C)"
   ]
  },
  {
   "cell_type": "code",
   "execution_count": 40,
   "id": "f4344f3e-51ad-46f5-94cc-7c50846b6043",
   "metadata": {},
   "outputs": [
    {
     "name": "stdout",
     "output_type": "stream",
     "text": [
      "/home/pmoritz/dev/modsem\n"
     ]
    }
   ],
   "source": [
    "!pwd"
   ]
  },
  {
   "cell_type": "markdown",
   "id": "64fd33a0-481a-4635-941f-33f12ed2e273",
   "metadata": {
    "tags": []
   },
   "source": [
    "## Comparision of the Sparsity Patterns"
   ]
  },
  {
   "cell_type": "markdown",
   "id": "25c91999-83be-46cf-85ee-b87e24c4f1d7",
   "metadata": {},
   "source": [
    "### ML20M"
   ]
  },
  {
   "cell_type": "code",
   "execution_count": 11,
   "id": "bb17a50f-8c53-4d09-950b-011a744a491e",
   "metadata": {},
   "outputs": [
    {
     "name": "stdout",
     "output_type": "stream",
     "text": [
      "finished inverse computation\n",
      "create lookup\n",
      "create true item df\n",
      "predicting\n",
      "predicting done, reindexing\n",
      "calculating metrics\n",
      "My DLAE:  Recall@20: 0.39262427, Recall@50: 0.52320221, NDCG@100: 0.42414733\n"
     ]
    }
   ],
   "source": [
    "model_EDLAE = EDLAE(p=0.33, lmbda=300)\n",
    "model_EDLAE.fit(train_ML20M, uid_str='uid', sid_str='sid', nItems=20108)\n",
    "metr_EDLAE = model_EDLAE.evaluate_metrics(test_tr_ML20M, test_te_ML20M, 'uid', 'sid', metrics_lst)\n",
    "print(f'My DLAE:  Recall@20: {metr_EDLAE[\"Recall(k=20)\"]:.8f}, Recall@50: {metr_EDLAE[\"Recall(k=50)\"]:.8f}, NDCG@100: {metr_EDLAE[\"NDCG(k=100)\"]:.8f}')"
   ]
  },
  {
   "cell_type": "code",
   "execution_count": 12,
   "id": "fd7a1732-5f55-4a45-97ed-f58bc3b9f5b3",
   "metadata": {},
   "outputs": [],
   "source": [
    "B_dense = deepcopy(model_EDLAE.B)"
   ]
  },
  {
   "cell_type": "markdown",
   "id": "50f41464-4e16-4ca3-a0e1-93e48c8c9b76",
   "metadata": {},
   "source": [
    "#### Sparsity 0.5%"
   ]
  },
  {
   "cell_type": "code",
   "execution_count": 13,
   "id": "f381102a-79a1-44c9-bc38-fe6edef5a82c",
   "metadata": {},
   "outputs": [],
   "source": [
    "results_straightf_ml20m = pd.read_csv('/home/pmoritz/dev/modsem/benchmarks/ml20m_sparse_straightforward_new.csv', sep='|')\n",
    "results_sparsecov_ml20m = pd.read_csv('/home/pmoritz/dev/modsem/benchmarks/ml20m_sparse_cov_new.csv', sep='|')"
   ]
  },
  {
   "cell_type": "code",
   "execution_count": 14,
   "id": "958416ab-c036-456b-95ec-9afc442ab553",
   "metadata": {},
   "outputs": [
    {
     "data": {
      "text/html": [
       "<div>\n",
       "<style scoped>\n",
       "    .dataframe tbody tr th:only-of-type {\n",
       "        vertical-align: middle;\n",
       "    }\n",
       "\n",
       "    .dataframe tbody tr th {\n",
       "        vertical-align: top;\n",
       "    }\n",
       "\n",
       "    .dataframe thead th {\n",
       "        text-align: right;\n",
       "    }\n",
       "</style>\n",
       "<table border=\"1\" class=\"dataframe\">\n",
       "  <thead>\n",
       "    <tr style=\"text-align: right;\">\n",
       "      <th></th>\n",
       "      <th>sparsity</th>\n",
       "      <th>threshold</th>\n",
       "      <th>query_time</th>\n",
       "      <th>batch_time</th>\n",
       "      <th>recall@20</th>\n",
       "      <th>recall@50</th>\n",
       "      <th>ndcg@100</th>\n",
       "    </tr>\n",
       "  </thead>\n",
       "  <tbody>\n",
       "    <tr>\n",
       "      <th>0</th>\n",
       "      <td>0.000996</td>\n",
       "      <td>0.01220</td>\n",
       "      <td>0.000038</td>\n",
       "      <td>0.002182</td>\n",
       "      <td>0.371671</td>\n",
       "      <td>0.493390</td>\n",
       "      <td>0.402077</td>\n",
       "    </tr>\n",
       "    <tr>\n",
       "      <th>1</th>\n",
       "      <td>0.004983</td>\n",
       "      <td>0.00704</td>\n",
       "      <td>0.000043</td>\n",
       "      <td>0.003903</td>\n",
       "      <td>0.384487</td>\n",
       "      <td>0.508046</td>\n",
       "      <td>0.413661</td>\n",
       "    </tr>\n",
       "    <tr>\n",
       "      <th>2</th>\n",
       "      <td>0.009973</td>\n",
       "      <td>0.00522</td>\n",
       "      <td>0.000049</td>\n",
       "      <td>0.005279</td>\n",
       "      <td>0.388080</td>\n",
       "      <td>0.513011</td>\n",
       "      <td>0.417549</td>\n",
       "    </tr>\n",
       "    <tr>\n",
       "      <th>3</th>\n",
       "      <td>0.019977</td>\n",
       "      <td>0.00366</td>\n",
       "      <td>0.000054</td>\n",
       "      <td>0.007732</td>\n",
       "      <td>0.390239</td>\n",
       "      <td>0.518839</td>\n",
       "      <td>0.420696</td>\n",
       "    </tr>\n",
       "    <tr>\n",
       "      <th>4</th>\n",
       "      <td>0.049847</td>\n",
       "      <td>0.00208</td>\n",
       "      <td>0.000077</td>\n",
       "      <td>0.013323</td>\n",
       "      <td>0.391565</td>\n",
       "      <td>0.522446</td>\n",
       "      <td>0.423361</td>\n",
       "    </tr>\n",
       "  </tbody>\n",
       "</table>\n",
       "</div>"
      ],
      "text/plain": [
       "   sparsity  threshold  query_time  batch_time  recall@20  recall@50  ndcg@100\n",
       "0  0.000996    0.01220    0.000038    0.002182   0.371671   0.493390  0.402077\n",
       "1  0.004983    0.00704    0.000043    0.003903   0.384487   0.508046  0.413661\n",
       "2  0.009973    0.00522    0.000049    0.005279   0.388080   0.513011  0.417549\n",
       "3  0.019977    0.00366    0.000054    0.007732   0.390239   0.518839  0.420696\n",
       "4  0.049847    0.00208    0.000077    0.013323   0.391565   0.522446  0.423361"
      ]
     },
     "execution_count": 14,
     "metadata": {},
     "output_type": "execute_result"
    }
   ],
   "source": [
    "results_straightf_ml20m"
   ]
  },
  {
   "cell_type": "code",
   "execution_count": 15,
   "id": "cec6b06c-aaa2-4c45-913e-d9341c6501c5",
   "metadata": {},
   "outputs": [
    {
     "data": {
      "text/html": [
       "<div>\n",
       "<style scoped>\n",
       "    .dataframe tbody tr th:only-of-type {\n",
       "        vertical-align: middle;\n",
       "    }\n",
       "\n",
       "    .dataframe tbody tr th {\n",
       "        vertical-align: top;\n",
       "    }\n",
       "\n",
       "    .dataframe thead th {\n",
       "        text-align: right;\n",
       "    }\n",
       "</style>\n",
       "<table border=\"1\" class=\"dataframe\">\n",
       "  <thead>\n",
       "    <tr style=\"text-align: right;\">\n",
       "      <th></th>\n",
       "      <th>sparsity</th>\n",
       "      <th>threshold</th>\n",
       "      <th>alphas</th>\n",
       "      <th>query_time</th>\n",
       "      <th>batch_time</th>\n",
       "      <th>recall@20</th>\n",
       "      <th>recall@50</th>\n",
       "      <th>ndcg@100</th>\n",
       "    </tr>\n",
       "  </thead>\n",
       "  <tbody>\n",
       "    <tr>\n",
       "      <th>0</th>\n",
       "      <td>0.000999</td>\n",
       "      <td>6.58</td>\n",
       "      <td>0.50</td>\n",
       "      <td>0.000050</td>\n",
       "      <td>0.005312</td>\n",
       "      <td>0.375140</td>\n",
       "      <td>0.493187</td>\n",
       "      <td>0.401118</td>\n",
       "    </tr>\n",
       "    <tr>\n",
       "      <th>1</th>\n",
       "      <td>0.004980</td>\n",
       "      <td>2.64</td>\n",
       "      <td>0.50</td>\n",
       "      <td>0.000071</td>\n",
       "      <td>0.012431</td>\n",
       "      <td>0.387308</td>\n",
       "      <td>0.515931</td>\n",
       "      <td>0.418530</td>\n",
       "    </tr>\n",
       "    <tr>\n",
       "      <th>2</th>\n",
       "      <td>0.010000</td>\n",
       "      <td>9.23</td>\n",
       "      <td>0.25</td>\n",
       "      <td>0.000096</td>\n",
       "      <td>0.019320</td>\n",
       "      <td>0.390200</td>\n",
       "      <td>0.520014</td>\n",
       "      <td>0.421193</td>\n",
       "    </tr>\n",
       "    <tr>\n",
       "      <th>3</th>\n",
       "      <td>0.019968</td>\n",
       "      <td>4.73</td>\n",
       "      <td>0.25</td>\n",
       "      <td>0.000124</td>\n",
       "      <td>0.028070</td>\n",
       "      <td>0.391896</td>\n",
       "      <td>0.522009</td>\n",
       "      <td>0.422832</td>\n",
       "    </tr>\n",
       "    <tr>\n",
       "      <th>4</th>\n",
       "      <td>0.049844</td>\n",
       "      <td>1.69</td>\n",
       "      <td>0.25</td>\n",
       "      <td>0.000200</td>\n",
       "      <td>0.045912</td>\n",
       "      <td>0.392272</td>\n",
       "      <td>0.522881</td>\n",
       "      <td>0.423813</td>\n",
       "    </tr>\n",
       "  </tbody>\n",
       "</table>\n",
       "</div>"
      ],
      "text/plain": [
       "   sparsity  threshold  alphas  query_time  batch_time  recall@20  recall@50  \\\n",
       "0  0.000999       6.58    0.50    0.000050    0.005312   0.375140   0.493187   \n",
       "1  0.004980       2.64    0.50    0.000071    0.012431   0.387308   0.515931   \n",
       "2  0.010000       9.23    0.25    0.000096    0.019320   0.390200   0.520014   \n",
       "3  0.019968       4.73    0.25    0.000124    0.028070   0.391896   0.522009   \n",
       "4  0.049844       1.69    0.25    0.000200    0.045912   0.392272   0.522881   \n",
       "\n",
       "   ndcg@100  \n",
       "0  0.401118  \n",
       "1  0.418530  \n",
       "2  0.421193  \n",
       "3  0.422832  \n",
       "4  0.423813  "
      ]
     },
     "execution_count": 15,
     "metadata": {},
     "output_type": "execute_result"
    }
   ],
   "source": [
    "results_sparsecov_ml20m"
   ]
  },
  {
   "cell_type": "code",
   "execution_count": 16,
   "id": "ca8ac5fe-99b2-404f-9dbe-f6842e119450",
   "metadata": {},
   "outputs": [
    {
     "name": "stdout",
     "output_type": "stream",
     "text": [
      "Number of items with more than 20108 entries in column: 0\n",
      "Resulting sparsity of A: 0.004983465752016889\n"
     ]
    }
   ],
   "source": [
    "A_straightforward = sparsify(B_dense, threshold=0.00704, max_in_col=20108)\n",
    "B_straightforward = np.zeros(B_dense.shape, dtype=np.float32)\n",
    "B_straightforward[A_straightforward.nonzero()] = B_dense[A_straightforward.nonzero()]"
   ]
  },
  {
   "cell_type": "code",
   "execution_count": 17,
   "id": "a6a11f90-5098-41ec-b384-7057e041ac5b",
   "metadata": {},
   "outputs": [
    {
     "name": "stdout",
     "output_type": "stream",
     "text": [
      "create lookup\n",
      "create true item df\n",
      "predicting\n",
      "predicting done, reindexing\n",
      "calculating metrics\n",
      "My EDLAE:  Recall@20: 0.38448743, Recall@50: 0.50804613, NDCG@100: 0.41366124\n"
     ]
    }
   ],
   "source": [
    "model_EDLAE.B = B_straightforward\n",
    "metr_EDLAE_straight = model_EDLAE.evaluate_metrics(test_tr_ML20M, test_te_ML20M, 'uid', 'sid', metrics_lst)\n",
    "print(f'My EDLAE:  Recall@20: {metr_EDLAE_straight[\"Recall(k=20)\"]:.8f}, Recall@50: {metr_EDLAE_straight[\"Recall(k=50)\"]:.8f}, NDCG@100: {metr_EDLAE_straight[\"NDCG(k=100)\"]:.8f}')"
   ]
  },
  {
   "cell_type": "code",
   "execution_count": 31,
   "id": "1f574b5d-52a6-4621-8ce2-bbda7eafb5b8",
   "metadata": {},
   "outputs": [],
   "source": [
    "times_straightforward = timeit_sparse(sp.csr_matrix(B_straightforward), X_test=X_test_tr_ML20M, n_users_test=X_test_tr_ML20M.shape[0], max_k = 100, n_jobs=16)"
   ]
  },
  {
   "cell_type": "code",
   "execution_count": null,
   "id": "04bdf35f-ce09-4286-b059-f586320aa2e8",
   "metadata": {},
   "outputs": [],
   "source": []
  },
  {
   "cell_type": "code",
   "execution_count": null,
   "id": "149a2b22-9177-4d8b-8f20-847803c1a281",
   "metadata": {},
   "outputs": [],
   "source": []
  },
  {
   "cell_type": "code",
   "execution_count": 19,
   "id": "62b9a3a4-0cc0-4c52-bf29-3e7b909f55f9",
   "metadata": {},
   "outputs": [
    {
     "name": "stdout",
     "output_type": "stream",
     "text": [
      "Number of items with more than 20108 entries in column: 0\n",
      "Resulting sparsity of A: 0.004979679256581795\n"
     ]
    }
   ],
   "source": [
    "A_sparsecov = sparsity_pattern_cov(XtX=np.dot(X_train_ML20M.T, X_train_ML20M).toarray(), n_users=X_train_ML20M.shape[0], \n",
    "                                 max_in_col=20108, alpha=0.50, threshold=2.64)\n",
    "B_cov = np.zeros(B_dense.shape, dtype=np.float32)\n",
    "B_cov[A_sparsecov.nonzero()] = B_dense[A_sparsecov.nonzero()]"
   ]
  },
  {
   "cell_type": "code",
   "execution_count": 20,
   "id": "8edbac91-0a76-410f-855d-1fae28dc0a54",
   "metadata": {},
   "outputs": [
    {
     "name": "stdout",
     "output_type": "stream",
     "text": [
      "create lookup\n",
      "create true item df\n",
      "predicting\n",
      "predicting done, reindexing\n",
      "calculating metrics\n",
      "My EDLAE:  Recall@20: 0.38730758, Recall@50: 0.51593067, NDCG@100: 0.41853007\n"
     ]
    }
   ],
   "source": [
    "model_EDLAE.B = B_cov\n",
    "metr_EDLAE_cov = model_EDLAE.evaluate_metrics(test_tr_ML20M, test_te_ML20M, 'uid', 'sid', metrics_lst)\n",
    "print(f'My EDLAE:  Recall@20: {metr_EDLAE_cov[\"Recall(k=20)\"]:.8f}, Recall@50: {metr_EDLAE_cov[\"Recall(k=50)\"]:.8f}, NDCG@100: {metr_EDLAE_cov[\"NDCG(k=100)\"]:.8f}')"
   ]
  },
  {
   "cell_type": "code",
   "execution_count": 32,
   "id": "0838e5b7-cd6b-4cca-967e-d879d1596b6f",
   "metadata": {},
   "outputs": [],
   "source": [
    "times_cov = timeit_sparse(sp.csr_matrix(B_cov), X_test=X_test_tr_ML20M, n_users_test=X_test_tr_ML20M.shape[0], max_k = 100, n_jobs=16)"
   ]
  },
  {
   "cell_type": "code",
   "execution_count": null,
   "id": "eb458dd8-7968-4135-b91a-ca6297f8630c",
   "metadata": {},
   "outputs": [],
   "source": []
  },
  {
   "cell_type": "code",
   "execution_count": 22,
   "id": "7ce321d7-556d-409b-9294-4df56fd6350a",
   "metadata": {},
   "outputs": [],
   "source": [
    "B_admm = np.load(file='/home/pmoritz/dev/modsem/sparse_mat/' + 'ADMM_ml20m_05.npy')"
   ]
  },
  {
   "cell_type": "code",
   "execution_count": 23,
   "id": "8f92b866-f280-4251-b38e-ecb8446a1429",
   "metadata": {},
   "outputs": [
    {
     "name": "stdout",
     "output_type": "stream",
     "text": [
      "create lookup\n",
      "create true item df\n",
      "predicting\n",
      "predicting done, reindexing\n",
      "calculating metrics\n",
      "My EDLAE:  Recall@20: 0.39226987, Recall@50: 0.52172410, NDCG@100: 0.42264111\n"
     ]
    }
   ],
   "source": [
    "model_EDLAE.B = B_admm\n",
    "metr_EDLAE_admm = model_EDLAE.evaluate_metrics(test_tr_ML20M, test_te_ML20M, 'uid', 'sid', metrics_lst)\n",
    "print(f'My EDLAE:  Recall@20: {metr_EDLAE_admm[\"Recall(k=20)\"]:.8f}, Recall@50: {metr_EDLAE_admm[\"Recall(k=50)\"]:.8f}, NDCG@100: {metr_EDLAE_admm[\"NDCG(k=100)\"]:.8f}')"
   ]
  },
  {
   "cell_type": "code",
   "execution_count": 33,
   "id": "e1e46975-bcc0-4498-beea-4d94e68f0081",
   "metadata": {},
   "outputs": [],
   "source": [
    "times_admm = timeit_sparse(sp.csr_matrix(B_admm), X_test=X_test_tr_ML20M, n_users_test=X_test_tr_ML20M.shape[0], max_k = 100, n_jobs=16)"
   ]
  },
  {
   "cell_type": "code",
   "execution_count": 34,
   "id": "1f7497a5-cd0e-48cb-a615-f4c14d3a08ab",
   "metadata": {},
   "outputs": [
    {
     "data": {
      "text/plain": [
       "Text(0.5, 1.0, 'Zoom')"
      ]
     },
     "execution_count": 34,
     "metadata": {},
     "output_type": "execute_result"
    },
    {
     "data": {
      "image/png": "[encoded data removed]",
      "text/plain": [
       "<Figure size 2160x1296 with 6 Axes>"
      ]
     },
     "metadata": {
      "needs_background": "light"
     },
     "output_type": "display_data"
    }
   ],
   "source": [
    "fig, ax = plt.subplots(2,3, figsize=(30,18))\n",
    "ax[0,0].spy(B_straightforward)\n",
    "ax[0,0].set_title(f'Recall@20: {metr_EDLAE_straight[\"Recall(k=20)\"]:.3f},  Recall@50: {metr_EDLAE_straight[\"Recall(k=50)\"]:.3f},  NDCG@100: {metr_EDLAE_straight[\"NDCG(k=100)\"]:.3f}\\n' + \n",
    "                  f'Batch: {times_straightforward[0] * 1e3:.3f}ms,  Single: {times_straightforward[1] * 1e6:.3f}mus')\n",
    "ax[0,1].spy(B_cov)\n",
    "ax[0,1].set_title(f'Recall@20: {metr_EDLAE_cov[\"Recall(k=20)\"]:.3f},  Recall@50: {metr_EDLAE_cov[\"Recall(k=50)\"]:.3f},  NDCG@100: {metr_EDLAE_cov[\"NDCG(k=100)\"]:.3f}\\n' + \n",
    "                  f'Batch: {times_cov[0] * 1e3:.3f}ms,  Single: {times_cov[1] * 1e6:.3f}mus')\n",
    "ax[0,2].spy(B_admm)\n",
    "ax[0,2].set_title(f'Recall@20: {metr_EDLAE_admm[\"Recall(k=20)\"]:.3f},  Recall@50: {metr_EDLAE_admm[\"Recall(k=50)\"]:.3f},  NDCG@100: {metr_EDLAE_admm[\"NDCG(k=100)\"]:.3f}\\n' + \n",
    "                  f'Batch: {times_admm[0] * 1e3:.3f}ms,  Single: {times_admm[1] * 1e6:.3f}mus')\n",
    "ax[1,0].spy(B_straightforward[:10000, :10000])\n",
    "ax[1,0].set_title('Zoom')\n",
    "ax[1,1].spy(B_cov[:10000, :10000])\n",
    "ax[1,1].set_title('Zoom')\n",
    "ax[1,2].spy(B_admm[:10000, :10000])\n",
    "ax[1,2].set_title('Zoom')"
   ]
  },
  {
   "cell_type": "markdown",
   "id": "75647a27-85ba-4d71-8797-c4a11d62f365",
   "metadata": {},
   "source": [
    "#### Sparsity 0.1%"
   ]
  },
  {
   "cell_type": "code",
   "execution_count": 35,
   "id": "ae37ed4f-7fa3-40bb-b447-2d36ec1903a6",
   "metadata": {},
   "outputs": [],
   "source": [
    "results_straightf_ml20m = pd.read_csv('/home/pmoritz/dev/modsem/benchmarks/ml20m_sparse_straightforward_new.csv', sep='|')\n",
    "results_sparsecov_ml20m = pd.read_csv('/home/pmoritz/dev/modsem/benchmarks/ml20m_sparse_cov_new.csv', sep='|')"
   ]
  },
  {
   "cell_type": "code",
   "execution_count": 36,
   "id": "c086bacd-e7e8-47d3-b262-b10ed48948f0",
   "metadata": {},
   "outputs": [
    {
     "data": {
      "text/html": [
       "<div>\n",
       "<style scoped>\n",
       "    .dataframe tbody tr th:only-of-type {\n",
       "        vertical-align: middle;\n",
       "    }\n",
       "\n",
       "    .dataframe tbody tr th {\n",
       "        vertical-align: top;\n",
       "    }\n",
       "\n",
       "    .dataframe thead th {\n",
       "        text-align: right;\n",
       "    }\n",
       "</style>\n",
       "<table border=\"1\" class=\"dataframe\">\n",
       "  <thead>\n",
       "    <tr style=\"text-align: right;\">\n",
       "      <th></th>\n",
       "      <th>sparsity</th>\n",
       "      <th>threshold</th>\n",
       "      <th>query_time</th>\n",
       "      <th>batch_time</th>\n",
       "      <th>recall@20</th>\n",
       "      <th>recall@50</th>\n",
       "      <th>ndcg@100</th>\n",
       "    </tr>\n",
       "  </thead>\n",
       "  <tbody>\n",
       "    <tr>\n",
       "      <th>0</th>\n",
       "      <td>0.000996</td>\n",
       "      <td>0.01220</td>\n",
       "      <td>0.000038</td>\n",
       "      <td>0.002182</td>\n",
       "      <td>0.371671</td>\n",
       "      <td>0.493390</td>\n",
       "      <td>0.402077</td>\n",
       "    </tr>\n",
       "    <tr>\n",
       "      <th>1</th>\n",
       "      <td>0.004983</td>\n",
       "      <td>0.00704</td>\n",
       "      <td>0.000043</td>\n",
       "      <td>0.003903</td>\n",
       "      <td>0.384487</td>\n",
       "      <td>0.508046</td>\n",
       "      <td>0.413661</td>\n",
       "    </tr>\n",
       "    <tr>\n",
       "      <th>2</th>\n",
       "      <td>0.009973</td>\n",
       "      <td>0.00522</td>\n",
       "      <td>0.000049</td>\n",
       "      <td>0.005279</td>\n",
       "      <td>0.388080</td>\n",
       "      <td>0.513011</td>\n",
       "      <td>0.417549</td>\n",
       "    </tr>\n",
       "    <tr>\n",
       "      <th>3</th>\n",
       "      <td>0.019977</td>\n",
       "      <td>0.00366</td>\n",
       "      <td>0.000054</td>\n",
       "      <td>0.007732</td>\n",
       "      <td>0.390239</td>\n",
       "      <td>0.518839</td>\n",
       "      <td>0.420696</td>\n",
       "    </tr>\n",
       "    <tr>\n",
       "      <th>4</th>\n",
       "      <td>0.049847</td>\n",
       "      <td>0.00208</td>\n",
       "      <td>0.000077</td>\n",
       "      <td>0.013323</td>\n",
       "      <td>0.391565</td>\n",
       "      <td>0.522446</td>\n",
       "      <td>0.423361</td>\n",
       "    </tr>\n",
       "  </tbody>\n",
       "</table>\n",
       "</div>"
      ],
      "text/plain": [
       "   sparsity  threshold  query_time  batch_time  recall@20  recall@50  ndcg@100\n",
       "0  0.000996    0.01220    0.000038    0.002182   0.371671   0.493390  0.402077\n",
       "1  0.004983    0.00704    0.000043    0.003903   0.384487   0.508046  0.413661\n",
       "2  0.009973    0.00522    0.000049    0.005279   0.388080   0.513011  0.417549\n",
       "3  0.019977    0.00366    0.000054    0.007732   0.390239   0.518839  0.420696\n",
       "4  0.049847    0.00208    0.000077    0.013323   0.391565   0.522446  0.423361"
      ]
     },
     "execution_count": 36,
     "metadata": {},
     "output_type": "execute_result"
    }
   ],
   "source": [
    "results_straightf_ml20m"
   ]
  },
  {
   "cell_type": "code",
   "execution_count": 37,
   "id": "2343cff1-f790-4538-aaf2-f3e31919dabd",
   "metadata": {},
   "outputs": [
    {
     "data": {
      "text/html": [
       "<div>\n",
       "<style scoped>\n",
       "    .dataframe tbody tr th:only-of-type {\n",
       "        vertical-align: middle;\n",
       "    }\n",
       "\n",
       "    .dataframe tbody tr th {\n",
       "        vertical-align: top;\n",
       "    }\n",
       "\n",
       "    .dataframe thead th {\n",
       "        text-align: right;\n",
       "    }\n",
       "</style>\n",
       "<table border=\"1\" class=\"dataframe\">\n",
       "  <thead>\n",
       "    <tr style=\"text-align: right;\">\n",
       "      <th></th>\n",
       "      <th>sparsity</th>\n",
       "      <th>threshold</th>\n",
       "      <th>alphas</th>\n",
       "      <th>query_time</th>\n",
       "      <th>batch_time</th>\n",
       "      <th>recall@20</th>\n",
       "      <th>recall@50</th>\n",
       "      <th>ndcg@100</th>\n",
       "    </tr>\n",
       "  </thead>\n",
       "  <tbody>\n",
       "    <tr>\n",
       "      <th>0</th>\n",
       "      <td>0.000999</td>\n",
       "      <td>6.58</td>\n",
       "      <td>0.50</td>\n",
       "      <td>0.000050</td>\n",
       "      <td>0.005312</td>\n",
       "      <td>0.375140</td>\n",
       "      <td>0.493187</td>\n",
       "      <td>0.401118</td>\n",
       "    </tr>\n",
       "    <tr>\n",
       "      <th>1</th>\n",
       "      <td>0.004980</td>\n",
       "      <td>2.64</td>\n",
       "      <td>0.50</td>\n",
       "      <td>0.000071</td>\n",
       "      <td>0.012431</td>\n",
       "      <td>0.387308</td>\n",
       "      <td>0.515931</td>\n",
       "      <td>0.418530</td>\n",
       "    </tr>\n",
       "    <tr>\n",
       "      <th>2</th>\n",
       "      <td>0.010000</td>\n",
       "      <td>9.23</td>\n",
       "      <td>0.25</td>\n",
       "      <td>0.000096</td>\n",
       "      <td>0.019320</td>\n",
       "      <td>0.390200</td>\n",
       "      <td>0.520014</td>\n",
       "      <td>0.421193</td>\n",
       "    </tr>\n",
       "    <tr>\n",
       "      <th>3</th>\n",
       "      <td>0.019968</td>\n",
       "      <td>4.73</td>\n",
       "      <td>0.25</td>\n",
       "      <td>0.000124</td>\n",
       "      <td>0.028070</td>\n",
       "      <td>0.391896</td>\n",
       "      <td>0.522009</td>\n",
       "      <td>0.422832</td>\n",
       "    </tr>\n",
       "    <tr>\n",
       "      <th>4</th>\n",
       "      <td>0.049844</td>\n",
       "      <td>1.69</td>\n",
       "      <td>0.25</td>\n",
       "      <td>0.000200</td>\n",
       "      <td>0.045912</td>\n",
       "      <td>0.392272</td>\n",
       "      <td>0.522881</td>\n",
       "      <td>0.423813</td>\n",
       "    </tr>\n",
       "  </tbody>\n",
       "</table>\n",
       "</div>"
      ],
      "text/plain": [
       "   sparsity  threshold  alphas  query_time  batch_time  recall@20  recall@50  \\\n",
       "0  0.000999       6.58    0.50    0.000050    0.005312   0.375140   0.493187   \n",
       "1  0.004980       2.64    0.50    0.000071    0.012431   0.387308   0.515931   \n",
       "2  0.010000       9.23    0.25    0.000096    0.019320   0.390200   0.520014   \n",
       "3  0.019968       4.73    0.25    0.000124    0.028070   0.391896   0.522009   \n",
       "4  0.049844       1.69    0.25    0.000200    0.045912   0.392272   0.522881   \n",
       "\n",
       "   ndcg@100  \n",
       "0  0.401118  \n",
       "1  0.418530  \n",
       "2  0.421193  \n",
       "3  0.422832  \n",
       "4  0.423813  "
      ]
     },
     "execution_count": 37,
     "metadata": {},
     "output_type": "execute_result"
    }
   ],
   "source": [
    "results_sparsecov_ml20m"
   ]
  },
  {
   "cell_type": "code",
   "execution_count": 38,
   "id": "dd6f924a-e4a5-4222-8ca3-dde307a5e3d2",
   "metadata": {},
   "outputs": [
    {
     "name": "stdout",
     "output_type": "stream",
     "text": [
      "Number of items with more than 20108 entries in column: 0\n",
      "Resulting sparsity of A: 0.000995952174549456\n"
     ]
    }
   ],
   "source": [
    "A_straightforward = sparsify(B_dense, threshold=0.01220, max_in_col=20108)\n",
    "B_straightforward = np.zeros(B_dense.shape, dtype=np.float32)\n",
    "B_straightforward[A_straightforward.nonzero()] = B_dense[A_straightforward.nonzero()]"
   ]
  },
  {
   "cell_type": "code",
   "execution_count": 39,
   "id": "56ef4700-3281-4d49-9084-65ce6e4a2bb0",
   "metadata": {},
   "outputs": [
    {
     "name": "stdout",
     "output_type": "stream",
     "text": [
      "create lookup\n",
      "create true item df\n",
      "predicting\n",
      "predicting done, reindexing\n",
      "calculating metrics\n",
      "My EDLAE:  Recall@20: 0.37167060, Recall@50: 0.49339041, NDCG@100: 0.40207703\n"
     ]
    }
   ],
   "source": [
    "model_EDLAE.B = B_straightforward\n",
    "metr_EDLAE_straight = model_EDLAE.evaluate_metrics(test_tr_ML20M, test_te_ML20M, 'uid', 'sid', metrics_lst)\n",
    "print(f'My EDLAE:  Recall@20: {metr_EDLAE_straight[\"Recall(k=20)\"]:.8f}, Recall@50: {metr_EDLAE_straight[\"Recall(k=50)\"]:.8f}, NDCG@100: {metr_EDLAE_straight[\"NDCG(k=100)\"]:.8f}')"
   ]
  },
  {
   "cell_type": "code",
   "execution_count": 40,
   "id": "4b2a2e3f-f4e3-4eae-b15d-3549e369327d",
   "metadata": {},
   "outputs": [],
   "source": [
    "times_straightforward = timeit_sparse(sp.csr_matrix(B_straightforward), X_test=X_test_tr_ML20M, n_users_test=X_test_tr_ML20M.shape[0], max_k = 100, n_jobs=16)"
   ]
  },
  {
   "cell_type": "code",
   "execution_count": null,
   "id": "e1018b91-818a-4df0-8c29-251a9a0e424f",
   "metadata": {},
   "outputs": [],
   "source": []
  },
  {
   "cell_type": "code",
   "execution_count": null,
   "id": "d731f1fc-ee83-41f2-a851-7729229c693c",
   "metadata": {},
   "outputs": [],
   "source": []
  },
  {
   "cell_type": "code",
   "execution_count": 41,
   "id": "04d92cee-7fa5-463e-8c06-8ad62066548f",
   "metadata": {},
   "outputs": [
    {
     "name": "stdout",
     "output_type": "stream",
     "text": [
      "Number of items with more than 20108 entries in column: 0\n",
      "Resulting sparsity of A: 0.0009986652937475607\n"
     ]
    }
   ],
   "source": [
    "A_sparsecov = sparsity_pattern_cov(XtX=np.dot(X_train_ML20M.T, X_train_ML20M).toarray(), n_users=X_train_ML20M.shape[0], \n",
    "                                 max_in_col=20108, alpha=0.50, threshold=6.58)\n",
    "B_cov = np.zeros(B_dense.shape, dtype=np.float32)\n",
    "B_cov[A_sparsecov.nonzero()] = B_dense[A_sparsecov.nonzero()]"
   ]
  },
  {
   "cell_type": "code",
   "execution_count": 42,
   "id": "b9e965d7-fa10-44f9-827d-b12b71dd67d3",
   "metadata": {},
   "outputs": [
    {
     "name": "stdout",
     "output_type": "stream",
     "text": [
      "create lookup\n",
      "create true item df\n",
      "predicting\n",
      "predicting done, reindexing\n",
      "calculating metrics\n",
      "My EDLAE:  Recall@20: 0.37513973, Recall@50: 0.49318726, NDCG@100: 0.40111827\n"
     ]
    }
   ],
   "source": [
    "model_EDLAE.B = B_cov\n",
    "metr_EDLAE_cov = model_EDLAE.evaluate_metrics(test_tr_ML20M, test_te_ML20M, 'uid', 'sid', metrics_lst)\n",
    "print(f'My EDLAE:  Recall@20: {metr_EDLAE_cov[\"Recall(k=20)\"]:.8f}, Recall@50: {metr_EDLAE_cov[\"Recall(k=50)\"]:.8f}, NDCG@100: {metr_EDLAE_cov[\"NDCG(k=100)\"]:.8f}')"
   ]
  },
  {
   "cell_type": "code",
   "execution_count": 43,
   "id": "7d567c52-ddc9-4367-908d-52f37f3017cd",
   "metadata": {},
   "outputs": [],
   "source": [
    "times_cov = timeit_sparse(sp.csr_matrix(B_cov), X_test=X_test_tr_ML20M, n_users_test=X_test_tr_ML20M.shape[0], max_k = 100, n_jobs=16)"
   ]
  },
  {
   "cell_type": "code",
   "execution_count": null,
   "id": "93d1eca5-3c41-4f1d-8b38-1b5c69445f56",
   "metadata": {},
   "outputs": [],
   "source": []
  },
  {
   "cell_type": "code",
   "execution_count": 44,
   "id": "0d181d07-c799-48d8-91be-5db9508fb8cd",
   "metadata": {},
   "outputs": [],
   "source": [
    "B_admm = np.load(file='/home/pmoritz/dev/modsem/sparse_mat/' + 'ADMM_ml20m_01.npy')"
   ]
  },
  {
   "cell_type": "code",
   "execution_count": 45,
   "id": "51d753b2-1c1a-43c9-bfa5-73ca74de9f6d",
   "metadata": {},
   "outputs": [
    {
     "name": "stdout",
     "output_type": "stream",
     "text": [
      "create lookup\n",
      "create true item df\n",
      "predicting\n",
      "predicting done, reindexing\n",
      "calculating metrics\n",
      "My EDLAE:  Recall@20: 0.38429537, Recall@50: 0.51179690, NDCG@100: 0.41470931\n"
     ]
    }
   ],
   "source": [
    "model_EDLAE.B = B_admm\n",
    "metr_EDLAE_admm = model_EDLAE.evaluate_metrics(test_tr_ML20M, test_te_ML20M, 'uid', 'sid', metrics_lst)\n",
    "print(f'My EDLAE:  Recall@20: {metr_EDLAE_admm[\"Recall(k=20)\"]:.8f}, Recall@50: {metr_EDLAE_admm[\"Recall(k=50)\"]:.8f}, NDCG@100: {metr_EDLAE_admm[\"NDCG(k=100)\"]:.8f}')"
   ]
  },
  {
   "cell_type": "code",
   "execution_count": 46,
   "id": "de884adc-abf8-4ff2-a72e-d6a65622d677",
   "metadata": {},
   "outputs": [],
   "source": [
    "times_admm = timeit_sparse(sp.csr_matrix(B_admm), X_test=X_test_tr_ML20M, n_users_test=X_test_tr_ML20M.shape[0], max_k = 100, n_jobs=16)"
   ]
  },
  {
   "cell_type": "code",
   "execution_count": 48,
   "id": "3d3968d2-92b8-4c5d-83e0-50c49f316b36",
   "metadata": {},
   "outputs": [
    {
     "data": {
      "text/plain": [
       "Text(0.5, 1.0, 'Zoom')"
      ]
     },
     "execution_count": 48,
     "metadata": {},
     "output_type": "execute_result"
    },
    {
     "data": {
      "image/png": "[encoded data removed]",
      "text/plain": [
       "<Figure size 2160x1296 with 6 Axes>"
      ]
     },
     "metadata": {
      "needs_background": "light"
     },
     "output_type": "display_data"
    }
   ],
   "source": [
    "fig, ax = plt.subplots(2,3, figsize=(30,18))\n",
    "ax[0,0].spy(B_straightforward)\n",
    "ax[0,0].set_title(f'Recall@20: {metr_EDLAE_straight[\"Recall(k=20)\"]:.3f},  Recall@50: {metr_EDLAE_straight[\"Recall(k=50)\"]:.3f},  NDCG@100: {metr_EDLAE_straight[\"NDCG(k=100)\"]:.3f}\\n' + \n",
    "                  f'Batch: {times_straightforward[0] * 1e3:.3f}ms,  Single: {times_straightforward[1] * 1e6:.3f}mus')\n",
    "ax[0,1].spy(B_cov)\n",
    "ax[0,1].set_title(f'Recall@20: {metr_EDLAE_cov[\"Recall(k=20)\"]:.3f},  Recall@50: {metr_EDLAE_cov[\"Recall(k=50)\"]:.3f},  NDCG@100: {metr_EDLAE_cov[\"NDCG(k=100)\"]:.3f}\\n' + \n",
    "                  f'Batch: {times_cov[0] * 1e3:.3f}ms,  Single: {times_cov[1] * 1e6:.3f}mus')\n",
    "ax[0,2].spy(B_admm)\n",
    "ax[0,2].set_title(f'Recall@20: {metr_EDLAE_admm[\"Recall(k=20)\"]:.3f},  Recall@50: {metr_EDLAE_admm[\"Recall(k=50)\"]:.3f},  NDCG@100: {metr_EDLAE_admm[\"NDCG(k=100)\"]:.3f}\\n' + \n",
    "                  f'Batch: {times_admm[0] * 1e3:.3f}ms,  Single: {times_admm[1] * 1e6:.3f}mus')\n",
    "ax[1,0].spy(B_straightforward[:10000, :10000])\n",
    "ax[1,0].set_title('Zoom')\n",
    "ax[1,1].spy(B_cov[:10000, :10000])\n",
    "ax[1,1].set_title('Zoom')\n",
    "ax[1,2].spy(B_admm[:10000, :10000])\n",
    "ax[1,2].set_title('Zoom')"
   ]
  },
  {
   "cell_type": "code",
   "execution_count": null,
   "id": "1babef2d-06f2-4300-ba19-73e4b50f86eb",
   "metadata": {},
   "outputs": [],
   "source": []
  },
  {
   "cell_type": "code",
   "execution_count": null,
   "id": "e69a656d-24a3-4c6f-a13b-4cf19a389a23",
   "metadata": {},
   "outputs": [],
   "source": []
  },
  {
   "cell_type": "code",
   "execution_count": null,
   "id": "b2dc7506-9df9-4616-8486-bb5e0d03f5fe",
   "metadata": {},
   "outputs": [],
   "source": []
  },
  {
   "cell_type": "markdown",
   "id": "af53f825-ade6-4fdf-ae07-51e9fbfe00cc",
   "metadata": {},
   "source": [
    "### Netflix"
   ]
  },
  {
   "cell_type": "code",
   "execution_count": 49,
   "id": "5eea400e-277c-41c2-9dfa-a16c11fac371",
   "metadata": {},
   "outputs": [
    {
     "name": "stdout",
     "output_type": "stream",
     "text": [
      "finished inverse computation\n",
      "create lookup\n",
      "create true item df\n",
      "predicting\n",
      "predicting done, reindexing\n",
      "calculating metrics\n",
      "My DLAE:  Recall@20: 0.36553381, Recall@50: 0.44917571, NDCG@100: 0.39768706\n"
     ]
    }
   ],
   "source": [
    "model_EDLAE = EDLAE(p=0.33, lmbda=500)\n",
    "model_EDLAE.fit(train_netflix, uid_str='uid', sid_str='sid', nItems=17769)\n",
    "metr_EDLAE = model_EDLAE.evaluate_metrics(test_tr_netflix, test_te_netflix, 'uid', 'sid', metrics_lst)\n",
    "print(f'My DLAE:  Recall@20: {metr_EDLAE[\"Recall(k=20)\"]:.8f}, Recall@50: {metr_EDLAE[\"Recall(k=50)\"]:.8f}, NDCG@100: {metr_EDLAE[\"NDCG(k=100)\"]:.8f}')"
   ]
  },
  {
   "cell_type": "code",
   "execution_count": 50,
   "id": "8eedfb55-517e-4cdb-b2a0-28a804ca1d38",
   "metadata": {},
   "outputs": [],
   "source": [
    "B_dense = deepcopy(model_EDLAE.B)"
   ]
  },
  {
   "cell_type": "markdown",
   "id": "c07e047d-1ebd-491c-b86b-50e14d3bdcc4",
   "metadata": {},
   "source": [
    "#### Sparsity 0.5%"
   ]
  },
  {
   "cell_type": "code",
   "execution_count": 51,
   "id": "5a95a356-1f1f-4081-a236-a030143170cb",
   "metadata": {},
   "outputs": [],
   "source": [
    "results_straightf_netflix = pd.read_csv('/home/pmoritz/dev/modsem/benchmarks/netflix_sparse_straightforward_new.csv', sep='|')\n",
    "results_sparsecov_netflix = pd.read_csv('/home/pmoritz/dev/modsem/benchmarks/netflix_sparse_cov_new.csv', sep='|')"
   ]
  },
  {
   "cell_type": "code",
   "execution_count": 52,
   "id": "42cf1916-2e41-4685-857f-7bca503666f0",
   "metadata": {},
   "outputs": [
    {
     "data": {
      "text/html": [
       "<div>\n",
       "<style scoped>\n",
       "    .dataframe tbody tr th:only-of-type {\n",
       "        vertical-align: middle;\n",
       "    }\n",
       "\n",
       "    .dataframe tbody tr th {\n",
       "        vertical-align: top;\n",
       "    }\n",
       "\n",
       "    .dataframe thead th {\n",
       "        text-align: right;\n",
       "    }\n",
       "</style>\n",
       "<table border=\"1\" class=\"dataframe\">\n",
       "  <thead>\n",
       "    <tr style=\"text-align: right;\">\n",
       "      <th></th>\n",
       "      <th>sparsity</th>\n",
       "      <th>threshold</th>\n",
       "      <th>query_time</th>\n",
       "      <th>batch_time</th>\n",
       "      <th>recall@20</th>\n",
       "      <th>recall@50</th>\n",
       "      <th>ndcg@100</th>\n",
       "    </tr>\n",
       "  </thead>\n",
       "  <tbody>\n",
       "    <tr>\n",
       "      <th>0</th>\n",
       "      <td>0.000992</td>\n",
       "      <td>0.01290</td>\n",
       "      <td>0.000037</td>\n",
       "      <td>0.002497</td>\n",
       "      <td>0.344885</td>\n",
       "      <td>0.424491</td>\n",
       "      <td>0.376210</td>\n",
       "    </tr>\n",
       "    <tr>\n",
       "      <th>1</th>\n",
       "      <td>0.004982</td>\n",
       "      <td>0.00791</td>\n",
       "      <td>0.000041</td>\n",
       "      <td>0.003970</td>\n",
       "      <td>0.352183</td>\n",
       "      <td>0.434613</td>\n",
       "      <td>0.385183</td>\n",
       "    </tr>\n",
       "    <tr>\n",
       "      <th>2</th>\n",
       "      <td>0.009968</td>\n",
       "      <td>0.00621</td>\n",
       "      <td>0.000044</td>\n",
       "      <td>0.005168</td>\n",
       "      <td>0.355969</td>\n",
       "      <td>0.438597</td>\n",
       "      <td>0.388261</td>\n",
       "    </tr>\n",
       "    <tr>\n",
       "      <th>3</th>\n",
       "      <td>0.019993</td>\n",
       "      <td>0.00467</td>\n",
       "      <td>0.000049</td>\n",
       "      <td>0.006928</td>\n",
       "      <td>0.359929</td>\n",
       "      <td>0.442264</td>\n",
       "      <td>0.391517</td>\n",
       "    </tr>\n",
       "    <tr>\n",
       "      <th>4</th>\n",
       "      <td>0.049779</td>\n",
       "      <td>0.00292</td>\n",
       "      <td>0.000061</td>\n",
       "      <td>0.011384</td>\n",
       "      <td>0.363344</td>\n",
       "      <td>0.446394</td>\n",
       "      <td>0.395190</td>\n",
       "    </tr>\n",
       "  </tbody>\n",
       "</table>\n",
       "</div>"
      ],
      "text/plain": [
       "   sparsity  threshold  query_time  batch_time  recall@20  recall@50  ndcg@100\n",
       "0  0.000992    0.01290    0.000037    0.002497   0.344885   0.424491  0.376210\n",
       "1  0.004982    0.00791    0.000041    0.003970   0.352183   0.434613  0.385183\n",
       "2  0.009968    0.00621    0.000044    0.005168   0.355969   0.438597  0.388261\n",
       "3  0.019993    0.00467    0.000049    0.006928   0.359929   0.442264  0.391517\n",
       "4  0.049779    0.00292    0.000061    0.011384   0.363344   0.446394  0.395190"
      ]
     },
     "execution_count": 52,
     "metadata": {},
     "output_type": "execute_result"
    }
   ],
   "source": [
    "results_straightf_netflix"
   ]
  },
  {
   "cell_type": "code",
   "execution_count": 53,
   "id": "9e6aacb1-5973-4f8a-aade-61a42e2ddf67",
   "metadata": {},
   "outputs": [
    {
     "data": {
      "text/html": [
       "<div>\n",
       "<style scoped>\n",
       "    .dataframe tbody tr th:only-of-type {\n",
       "        vertical-align: middle;\n",
       "    }\n",
       "\n",
       "    .dataframe tbody tr th {\n",
       "        vertical-align: top;\n",
       "    }\n",
       "\n",
       "    .dataframe thead th {\n",
       "        text-align: right;\n",
       "    }\n",
       "</style>\n",
       "<table border=\"1\" class=\"dataframe\">\n",
       "  <thead>\n",
       "    <tr style=\"text-align: right;\">\n",
       "      <th></th>\n",
       "      <th>sparsity</th>\n",
       "      <th>threshold</th>\n",
       "      <th>alphas</th>\n",
       "      <th>query_time</th>\n",
       "      <th>batch_time</th>\n",
       "      <th>recall@20</th>\n",
       "      <th>recall@50</th>\n",
       "      <th>ndcg@100</th>\n",
       "    </tr>\n",
       "  </thead>\n",
       "  <tbody>\n",
       "    <tr>\n",
       "      <th>0</th>\n",
       "      <td>0.001000</td>\n",
       "      <td>2.047</td>\n",
       "      <td>0.75</td>\n",
       "      <td>0.000054</td>\n",
       "      <td>0.005387</td>\n",
       "      <td>0.345687</td>\n",
       "      <td>0.423378</td>\n",
       "      <td>0.375113</td>\n",
       "    </tr>\n",
       "    <tr>\n",
       "      <th>1</th>\n",
       "      <td>0.004998</td>\n",
       "      <td>1.096</td>\n",
       "      <td>0.75</td>\n",
       "      <td>0.000087</td>\n",
       "      <td>0.013377</td>\n",
       "      <td>0.359781</td>\n",
       "      <td>0.441876</td>\n",
       "      <td>0.391293</td>\n",
       "    </tr>\n",
       "    <tr>\n",
       "      <th>2</th>\n",
       "      <td>0.009985</td>\n",
       "      <td>0.772</td>\n",
       "      <td>0.75</td>\n",
       "      <td>0.000113</td>\n",
       "      <td>0.019967</td>\n",
       "      <td>0.362675</td>\n",
       "      <td>0.445938</td>\n",
       "      <td>0.394816</td>\n",
       "    </tr>\n",
       "    <tr>\n",
       "      <th>3</th>\n",
       "      <td>0.019981</td>\n",
       "      <td>0.509</td>\n",
       "      <td>0.75</td>\n",
       "      <td>0.000153</td>\n",
       "      <td>0.029651</td>\n",
       "      <td>0.364439</td>\n",
       "      <td>0.448163</td>\n",
       "      <td>0.396702</td>\n",
       "    </tr>\n",
       "    <tr>\n",
       "      <th>4</th>\n",
       "      <td>0.049920</td>\n",
       "      <td>1.764</td>\n",
       "      <td>0.50</td>\n",
       "      <td>0.000265</td>\n",
       "      <td>0.055286</td>\n",
       "      <td>0.365214</td>\n",
       "      <td>0.449104</td>\n",
       "      <td>0.397588</td>\n",
       "    </tr>\n",
       "  </tbody>\n",
       "</table>\n",
       "</div>"
      ],
      "text/plain": [
       "   sparsity  threshold  alphas  query_time  batch_time  recall@20  recall@50  \\\n",
       "0  0.001000      2.047    0.75    0.000054    0.005387   0.345687   0.423378   \n",
       "1  0.004998      1.096    0.75    0.000087    0.013377   0.359781   0.441876   \n",
       "2  0.009985      0.772    0.75    0.000113    0.019967   0.362675   0.445938   \n",
       "3  0.019981      0.509    0.75    0.000153    0.029651   0.364439   0.448163   \n",
       "4  0.049920      1.764    0.50    0.000265    0.055286   0.365214   0.449104   \n",
       "\n",
       "   ndcg@100  \n",
       "0  0.375113  \n",
       "1  0.391293  \n",
       "2  0.394816  \n",
       "3  0.396702  \n",
       "4  0.397588  "
      ]
     },
     "execution_count": 53,
     "metadata": {},
     "output_type": "execute_result"
    }
   ],
   "source": [
    "results_sparsecov_netflix"
   ]
  },
  {
   "cell_type": "code",
   "execution_count": 54,
   "id": "3ac993f9-6cde-448c-a623-bcbbe4dd3760",
   "metadata": {},
   "outputs": [
    {
     "name": "stdout",
     "output_type": "stream",
     "text": [
      "Number of items with more than 17769 entries in column: 0\n",
      "Resulting sparsity of A: 0.004982394212131266\n"
     ]
    }
   ],
   "source": [
    "A_straightforward = sparsify(B_dense, threshold=0.00791, max_in_col=17769)\n",
    "B_straightforward = np.zeros(B_dense.shape, dtype=np.float32)\n",
    "B_straightforward[A_straightforward.nonzero()] = B_dense[A_straightforward.nonzero()]"
   ]
  },
  {
   "cell_type": "code",
   "execution_count": 55,
   "id": "2a1cfd27-1445-4759-84c5-c118179c4307",
   "metadata": {},
   "outputs": [
    {
     "name": "stdout",
     "output_type": "stream",
     "text": [
      "create lookup\n",
      "create true item df\n",
      "predicting\n",
      "predicting done, reindexing\n",
      "calculating metrics\n",
      "My EDLAE:  Recall@20: 0.35218261, Recall@50: 0.43461337, NDCG@100: 0.38518350\n"
     ]
    }
   ],
   "source": [
    "model_EDLAE.B = B_straightforward\n",
    "metr_EDLAE_straight = model_EDLAE.evaluate_metrics(test_tr_netflix, test_te_netflix, 'uid', 'sid', metrics_lst)\n",
    "print(f'My EDLAE:  Recall@20: {metr_EDLAE_straight[\"Recall(k=20)\"]:.8f}, Recall@50: {metr_EDLAE_straight[\"Recall(k=50)\"]:.8f}, NDCG@100: {metr_EDLAE_straight[\"NDCG(k=100)\"]:.8f}')"
   ]
  },
  {
   "cell_type": "code",
   "execution_count": 56,
   "id": "503144c6-600a-40a4-957e-63ad2a8207d7",
   "metadata": {
    "tags": []
   },
   "outputs": [],
   "source": [
    "times_straightforward = timeit_sparse(sp.csr_matrix(B_straightforward), X_test=X_test_tr_netflix, n_users_test=X_test_tr_netflix.shape[0], max_k = 100, n_jobs=16)"
   ]
  },
  {
   "cell_type": "code",
   "execution_count": null,
   "id": "3baacd3a-5824-46e0-b423-16185b323a42",
   "metadata": {},
   "outputs": [],
   "source": []
  },
  {
   "cell_type": "code",
   "execution_count": null,
   "id": "184b29c9-7f14-43de-8e91-8fc2cb7ed0bd",
   "metadata": {},
   "outputs": [],
   "source": []
  },
  {
   "cell_type": "code",
   "execution_count": 57,
   "id": "6780ed53-1d07-45d9-b19c-06bd292b6013",
   "metadata": {},
   "outputs": [
    {
     "name": "stdout",
     "output_type": "stream",
     "text": [
      "Number of items with more than 17769 entries in column: 0\n",
      "Resulting sparsity of A: 0.004997865931995296\n"
     ]
    }
   ],
   "source": [
    "A_sparsecov = sparsity_pattern_cov(XtX=np.dot(X_train_netflix.T, X_train_netflix).toarray(), n_users=X_train_netflix.shape[0], \n",
    "                                 max_in_col=17769, alpha=0.75, threshold=1.096)\n",
    "B_cov = np.zeros(B_dense.shape, dtype=np.float32)\n",
    "B_cov[A_sparsecov.nonzero()] = B_dense[A_sparsecov.nonzero()]"
   ]
  },
  {
   "cell_type": "code",
   "execution_count": 58,
   "id": "933a7dd3-3bde-4dab-aedd-0a48b7085e98",
   "metadata": {},
   "outputs": [
    {
     "name": "stdout",
     "output_type": "stream",
     "text": [
      "create lookup\n",
      "create true item df\n",
      "predicting\n",
      "predicting done, reindexing\n",
      "calculating metrics\n",
      "My EDLAE:  Recall@20: 0.35978085, Recall@50: 0.44187559, NDCG@100: 0.39129279\n"
     ]
    }
   ],
   "source": [
    "model_EDLAE.B = B_cov\n",
    "metr_EDLAE_cov = model_EDLAE.evaluate_metrics(test_tr_netflix, test_te_netflix, 'uid', 'sid', metrics_lst)\n",
    "print(f'My EDLAE:  Recall@20: {metr_EDLAE_cov[\"Recall(k=20)\"]:.8f}, Recall@50: {metr_EDLAE_cov[\"Recall(k=50)\"]:.8f}, NDCG@100: {metr_EDLAE_cov[\"NDCG(k=100)\"]:.8f}')"
   ]
  },
  {
   "cell_type": "code",
   "execution_count": 59,
   "id": "144f43f5-58b8-441f-ac4b-e40100bb3629",
   "metadata": {},
   "outputs": [],
   "source": [
    "times_cov = timeit_sparse(sp.csr_matrix(B_cov), X_test=X_test_tr_netflix, n_users_test=X_test_tr_netflix.shape[0], max_k = 100, n_jobs=16)"
   ]
  },
  {
   "cell_type": "code",
   "execution_count": null,
   "id": "3635cc1a-3a8e-4092-968b-96829cbb18de",
   "metadata": {},
   "outputs": [],
   "source": []
  },
  {
   "cell_type": "code",
   "execution_count": 60,
   "id": "5486053f-7dca-46b5-bb50-155a8d86d170",
   "metadata": {},
   "outputs": [],
   "source": [
    "B_admm = np.load(file='/home/pmoritz/dev/modsem/sparse_mat/' + 'ADMM_netflix_05.npy')"
   ]
  },
  {
   "cell_type": "code",
   "execution_count": 61,
   "id": "f5d93b37-e575-4bb9-8e81-23c2f3d79952",
   "metadata": {},
   "outputs": [
    {
     "name": "stdout",
     "output_type": "stream",
     "text": [
      "create lookup\n",
      "create true item df\n",
      "predicting\n",
      "predicting done, reindexing\n",
      "calculating metrics\n",
      "My EDLAE:  Recall@20: 0.36454960, Recall@50: 0.44807027, NDCG@100: 0.39673890\n"
     ]
    }
   ],
   "source": [
    "model_EDLAE.B = B_admm\n",
    "metr_EDLAE_admm = model_EDLAE.evaluate_metrics(test_tr_netflix, test_te_netflix, 'uid', 'sid', metrics_lst)\n",
    "print(f'My EDLAE:  Recall@20: {metr_EDLAE_admm[\"Recall(k=20)\"]:.8f}, Recall@50: {metr_EDLAE_admm[\"Recall(k=50)\"]:.8f}, NDCG@100: {metr_EDLAE_admm[\"NDCG(k=100)\"]:.8f}')"
   ]
  },
  {
   "cell_type": "code",
   "execution_count": 62,
   "id": "7044a396-e4d6-4cd9-8faf-e18f6ae45aef",
   "metadata": {},
   "outputs": [],
   "source": [
    "times_admm = timeit_sparse(sp.csr_matrix(B_admm), X_test=X_test_tr_netflix, n_users_test=X_test_tr_netflix.shape[0], max_k = 100, n_jobs=16)"
   ]
  },
  {
   "cell_type": "code",
   "execution_count": 63,
   "id": "20544f5d-3aee-412b-a5a8-55e59c776d8d",
   "metadata": {},
   "outputs": [
    {
     "data": {
      "text/plain": [
       "Text(0.5, 1.0, 'Zoom')"
      ]
     },
     "execution_count": 63,
     "metadata": {},
     "output_type": "execute_result"
    },
    {
     "data": {
      "image/png": "[encoded data removed]",
      "text/plain": [
       "<Figure size 2160x1296 with 6 Axes>"
      ]
     },
     "metadata": {
      "needs_background": "light"
     },
     "output_type": "display_data"
    }
   ],
   "source": [
    "fig, ax = plt.subplots(2,3, figsize=(30,18))\n",
    "ax[0,0].spy(B_straightforward)\n",
    "ax[0,0].set_title(f'Recall@20: {metr_EDLAE_straight[\"Recall(k=20)\"]:.3f},  Recall@50: {metr_EDLAE_straight[\"Recall(k=50)\"]:.3f},  NDCG@100: {metr_EDLAE_straight[\"NDCG(k=100)\"]:.3f}\\n' + \n",
    "                  f'Batch: {times_straightforward[0] * 1e3:.3f}ms,  Single: {times_straightforward[1] * 1e6:.3f}mus')\n",
    "ax[0,1].spy(B_cov)\n",
    "ax[0,1].set_title(f'Recall@20: {metr_EDLAE_cov[\"Recall(k=20)\"]:.3f},  Recall@50: {metr_EDLAE_cov[\"Recall(k=50)\"]:.3f},  NDCG@100: {metr_EDLAE_cov[\"NDCG(k=100)\"]:.3f}\\n' + \n",
    "                  f'Batch: {times_cov[0] * 1e3:.3f}ms,  Single: {times_cov[1] * 1e6:.3f}mus')\n",
    "ax[0,2].spy(B_admm)\n",
    "ax[0,2].set_title(f'Recall@20: {metr_EDLAE_admm[\"Recall(k=20)\"]:.3f},  Recall@50: {metr_EDLAE_admm[\"Recall(k=50)\"]:.3f},  NDCG@100: {metr_EDLAE_admm[\"NDCG(k=100)\"]:.3f}\\n' + \n",
    "                  f'Batch: {times_admm[0] * 1e3:.3f}ms,  Single: {times_admm[1] * 1e6:.3f}mus')\n",
    "ax[1,0].spy(B_straightforward[:10000, :10000])\n",
    "ax[1,0].set_title('Zoom')\n",
    "ax[1,1].spy(B_cov[:10000, :10000])\n",
    "ax[1,1].set_title('Zoom')\n",
    "ax[1,2].spy(B_admm[:10000, :10000])\n",
    "ax[1,2].set_title('Zoom')"
   ]
  },
  {
   "cell_type": "markdown",
   "id": "59e2cd9a-e387-427e-8f1f-d1e181fded6b",
   "metadata": {},
   "source": [
    "#### Sparsity 0.1%"
   ]
  },
  {
   "cell_type": "code",
   "execution_count": 64,
   "id": "46bdcc2e-17ea-4706-9131-e04268d532ce",
   "metadata": {},
   "outputs": [],
   "source": [
    "results_straightf_netflix = pd.read_csv('/home/pmoritz/dev/modsem/benchmarks/netflix_sparse_straightforward_new.csv', sep='|')\n",
    "results_sparsecov_netflix = pd.read_csv('/home/pmoritz/dev/modsem/benchmarks/netflix_sparse_cov_new.csv', sep='|')"
   ]
  },
  {
   "cell_type": "code",
   "execution_count": 65,
   "id": "f2afb30a-29de-4201-919f-89ca5f35b7cd",
   "metadata": {},
   "outputs": [
    {
     "data": {
      "text/html": [
       "<div>\n",
       "<style scoped>\n",
       "    .dataframe tbody tr th:only-of-type {\n",
       "        vertical-align: middle;\n",
       "    }\n",
       "\n",
       "    .dataframe tbody tr th {\n",
       "        vertical-align: top;\n",
       "    }\n",
       "\n",
       "    .dataframe thead th {\n",
       "        text-align: right;\n",
       "    }\n",
       "</style>\n",
       "<table border=\"1\" class=\"dataframe\">\n",
       "  <thead>\n",
       "    <tr style=\"text-align: right;\">\n",
       "      <th></th>\n",
       "      <th>sparsity</th>\n",
       "      <th>threshold</th>\n",
       "      <th>query_time</th>\n",
       "      <th>batch_time</th>\n",
       "      <th>recall@20</th>\n",
       "      <th>recall@50</th>\n",
       "      <th>ndcg@100</th>\n",
       "    </tr>\n",
       "  </thead>\n",
       "  <tbody>\n",
       "    <tr>\n",
       "      <th>0</th>\n",
       "      <td>0.000992</td>\n",
       "      <td>0.01290</td>\n",
       "      <td>0.000037</td>\n",
       "      <td>0.002497</td>\n",
       "      <td>0.344885</td>\n",
       "      <td>0.424491</td>\n",
       "      <td>0.376210</td>\n",
       "    </tr>\n",
       "    <tr>\n",
       "      <th>1</th>\n",
       "      <td>0.004982</td>\n",
       "      <td>0.00791</td>\n",
       "      <td>0.000041</td>\n",
       "      <td>0.003970</td>\n",
       "      <td>0.352183</td>\n",
       "      <td>0.434613</td>\n",
       "      <td>0.385183</td>\n",
       "    </tr>\n",
       "    <tr>\n",
       "      <th>2</th>\n",
       "      <td>0.009968</td>\n",
       "      <td>0.00621</td>\n",
       "      <td>0.000044</td>\n",
       "      <td>0.005168</td>\n",
       "      <td>0.355969</td>\n",
       "      <td>0.438597</td>\n",
       "      <td>0.388261</td>\n",
       "    </tr>\n",
       "    <tr>\n",
       "      <th>3</th>\n",
       "      <td>0.019993</td>\n",
       "      <td>0.00467</td>\n",
       "      <td>0.000049</td>\n",
       "      <td>0.006928</td>\n",
       "      <td>0.359929</td>\n",
       "      <td>0.442264</td>\n",
       "      <td>0.391517</td>\n",
       "    </tr>\n",
       "    <tr>\n",
       "      <th>4</th>\n",
       "      <td>0.049779</td>\n",
       "      <td>0.00292</td>\n",
       "      <td>0.000061</td>\n",
       "      <td>0.011384</td>\n",
       "      <td>0.363344</td>\n",
       "      <td>0.446394</td>\n",
       "      <td>0.395190</td>\n",
       "    </tr>\n",
       "  </tbody>\n",
       "</table>\n",
       "</div>"
      ],
      "text/plain": [
       "   sparsity  threshold  query_time  batch_time  recall@20  recall@50  ndcg@100\n",
       "0  0.000992    0.01290    0.000037    0.002497   0.344885   0.424491  0.376210\n",
       "1  0.004982    0.00791    0.000041    0.003970   0.352183   0.434613  0.385183\n",
       "2  0.009968    0.00621    0.000044    0.005168   0.355969   0.438597  0.388261\n",
       "3  0.019993    0.00467    0.000049    0.006928   0.359929   0.442264  0.391517\n",
       "4  0.049779    0.00292    0.000061    0.011384   0.363344   0.446394  0.395190"
      ]
     },
     "execution_count": 65,
     "metadata": {},
     "output_type": "execute_result"
    }
   ],
   "source": [
    "results_straightf_netflix"
   ]
  },
  {
   "cell_type": "code",
   "execution_count": 66,
   "id": "fa7f37ed-3a28-4957-aacb-20ccbdfb4abf",
   "metadata": {},
   "outputs": [
    {
     "data": {
      "text/html": [
       "<div>\n",
       "<style scoped>\n",
       "    .dataframe tbody tr th:only-of-type {\n",
       "        vertical-align: middle;\n",
       "    }\n",
       "\n",
       "    .dataframe tbody tr th {\n",
       "        vertical-align: top;\n",
       "    }\n",
       "\n",
       "    .dataframe thead th {\n",
       "        text-align: right;\n",
       "    }\n",
       "</style>\n",
       "<table border=\"1\" class=\"dataframe\">\n",
       "  <thead>\n",
       "    <tr style=\"text-align: right;\">\n",
       "      <th></th>\n",
       "      <th>sparsity</th>\n",
       "      <th>threshold</th>\n",
       "      <th>alphas</th>\n",
       "      <th>query_time</th>\n",
       "      <th>batch_time</th>\n",
       "      <th>recall@20</th>\n",
       "      <th>recall@50</th>\n",
       "      <th>ndcg@100</th>\n",
       "    </tr>\n",
       "  </thead>\n",
       "  <tbody>\n",
       "    <tr>\n",
       "      <th>0</th>\n",
       "      <td>0.001000</td>\n",
       "      <td>2.047</td>\n",
       "      <td>0.75</td>\n",
       "      <td>0.000054</td>\n",
       "      <td>0.005387</td>\n",
       "      <td>0.345687</td>\n",
       "      <td>0.423378</td>\n",
       "      <td>0.375113</td>\n",
       "    </tr>\n",
       "    <tr>\n",
       "      <th>1</th>\n",
       "      <td>0.004998</td>\n",
       "      <td>1.096</td>\n",
       "      <td>0.75</td>\n",
       "      <td>0.000087</td>\n",
       "      <td>0.013377</td>\n",
       "      <td>0.359781</td>\n",
       "      <td>0.441876</td>\n",
       "      <td>0.391293</td>\n",
       "    </tr>\n",
       "    <tr>\n",
       "      <th>2</th>\n",
       "      <td>0.009985</td>\n",
       "      <td>0.772</td>\n",
       "      <td>0.75</td>\n",
       "      <td>0.000113</td>\n",
       "      <td>0.019967</td>\n",
       "      <td>0.362675</td>\n",
       "      <td>0.445938</td>\n",
       "      <td>0.394816</td>\n",
       "    </tr>\n",
       "    <tr>\n",
       "      <th>3</th>\n",
       "      <td>0.019981</td>\n",
       "      <td>0.509</td>\n",
       "      <td>0.75</td>\n",
       "      <td>0.000153</td>\n",
       "      <td>0.029651</td>\n",
       "      <td>0.364439</td>\n",
       "      <td>0.448163</td>\n",
       "      <td>0.396702</td>\n",
       "    </tr>\n",
       "    <tr>\n",
       "      <th>4</th>\n",
       "      <td>0.049920</td>\n",
       "      <td>1.764</td>\n",
       "      <td>0.50</td>\n",
       "      <td>0.000265</td>\n",
       "      <td>0.055286</td>\n",
       "      <td>0.365214</td>\n",
       "      <td>0.449104</td>\n",
       "      <td>0.397588</td>\n",
       "    </tr>\n",
       "  </tbody>\n",
       "</table>\n",
       "</div>"
      ],
      "text/plain": [
       "   sparsity  threshold  alphas  query_time  batch_time  recall@20  recall@50  \\\n",
       "0  0.001000      2.047    0.75    0.000054    0.005387   0.345687   0.423378   \n",
       "1  0.004998      1.096    0.75    0.000087    0.013377   0.359781   0.441876   \n",
       "2  0.009985      0.772    0.75    0.000113    0.019967   0.362675   0.445938   \n",
       "3  0.019981      0.509    0.75    0.000153    0.029651   0.364439   0.448163   \n",
       "4  0.049920      1.764    0.50    0.000265    0.055286   0.365214   0.449104   \n",
       "\n",
       "   ndcg@100  \n",
       "0  0.375113  \n",
       "1  0.391293  \n",
       "2  0.394816  \n",
       "3  0.396702  \n",
       "4  0.397588  "
      ]
     },
     "execution_count": 66,
     "metadata": {},
     "output_type": "execute_result"
    }
   ],
   "source": [
    "results_sparsecov_netflix"
   ]
  },
  {
   "cell_type": "code",
   "execution_count": 67,
   "id": "75aa7d67-91b9-4d47-b34e-b7550857eea6",
   "metadata": {},
   "outputs": [
    {
     "name": "stdout",
     "output_type": "stream",
     "text": [
      "Number of items with more than 17769 entries in column: 0\n",
      "Resulting sparsity of A: 0.000991643811199144\n"
     ]
    }
   ],
   "source": [
    "A_straightforward = sparsify(B_dense, threshold=0.01290, max_in_col=17769)\n",
    "B_straightforward = np.zeros(B_dense.shape, dtype=np.float32)\n",
    "B_straightforward[A_straightforward.nonzero()] = B_dense[A_straightforward.nonzero()]"
   ]
  },
  {
   "cell_type": "code",
   "execution_count": 68,
   "id": "3807624b-b2d0-411e-a0ed-55299c08e0f6",
   "metadata": {},
   "outputs": [
    {
     "name": "stdout",
     "output_type": "stream",
     "text": [
      "create lookup\n",
      "create true item df\n",
      "predicting\n",
      "predicting done, reindexing\n",
      "calculating metrics\n",
      "My EDLAE:  Recall@20: 0.34488452, Recall@50: 0.42449097, NDCG@100: 0.37621037\n"
     ]
    }
   ],
   "source": [
    "model_EDLAE.B = B_straightforward\n",
    "metr_EDLAE_straight = model_EDLAE.evaluate_metrics(test_tr_netflix, test_te_netflix, 'uid', 'sid', metrics_lst)\n",
    "print(f'My EDLAE:  Recall@20: {metr_EDLAE_straight[\"Recall(k=20)\"]:.8f}, Recall@50: {metr_EDLAE_straight[\"Recall(k=50)\"]:.8f}, NDCG@100: {metr_EDLAE_straight[\"NDCG(k=100)\"]:.8f}')"
   ]
  },
  {
   "cell_type": "code",
   "execution_count": 69,
   "id": "b861e6dc-79f7-490e-917d-e1fa62ea7be6",
   "metadata": {
    "tags": []
   },
   "outputs": [],
   "source": [
    "times_straightforward = timeit_sparse(sp.csr_matrix(B_straightforward), X_test=X_test_tr_netflix, n_users_test=X_test_tr_netflix.shape[0], max_k = 100, n_jobs=16)"
   ]
  },
  {
   "cell_type": "code",
   "execution_count": null,
   "id": "3e35ba65-9e0e-4c7e-92a6-d931bf3d3e65",
   "metadata": {},
   "outputs": [],
   "source": []
  },
  {
   "cell_type": "code",
   "execution_count": null,
   "id": "9477b1a3-8d34-4e34-8d56-2293d84e9ee9",
   "metadata": {},
   "outputs": [],
   "source": []
  },
  {
   "cell_type": "code",
   "execution_count": 70,
   "id": "2590307b-c657-4466-93d1-f7ba494d1b41",
   "metadata": {},
   "outputs": [
    {
     "name": "stdout",
     "output_type": "stream",
     "text": [
      "Number of items with more than 17769 entries in column: 0\n",
      "Resulting sparsity of A: 0.000999688472090574\n"
     ]
    }
   ],
   "source": [
    "A_sparsecov = sparsity_pattern_cov(XtX=np.dot(X_train_netflix.T, X_train_netflix).toarray(), n_users=X_train_netflix.shape[0], \n",
    "                                 max_in_col=17769, alpha=0.75, threshold=2.047)\n",
    "B_cov = np.zeros(B_dense.shape, dtype=np.float32)\n",
    "B_cov[A_sparsecov.nonzero()] = B_dense[A_sparsecov.nonzero()]"
   ]
  },
  {
   "cell_type": "code",
   "execution_count": 71,
   "id": "bfaa293f-4ba0-44a9-a7e8-08d11714755b",
   "metadata": {},
   "outputs": [
    {
     "name": "stdout",
     "output_type": "stream",
     "text": [
      "create lookup\n",
      "create true item df\n",
      "predicting\n",
      "predicting done, reindexing\n",
      "calculating metrics\n",
      "My EDLAE:  Recall@20: 0.34568683, Recall@50: 0.42337809, NDCG@100: 0.37511258\n"
     ]
    }
   ],
   "source": [
    "model_EDLAE.B = B_cov\n",
    "metr_EDLAE_cov = model_EDLAE.evaluate_metrics(test_tr_netflix, test_te_netflix, 'uid', 'sid', metrics_lst)\n",
    "print(f'My EDLAE:  Recall@20: {metr_EDLAE_cov[\"Recall(k=20)\"]:.8f}, Recall@50: {metr_EDLAE_cov[\"Recall(k=50)\"]:.8f}, NDCG@100: {metr_EDLAE_cov[\"NDCG(k=100)\"]:.8f}')"
   ]
  },
  {
   "cell_type": "code",
   "execution_count": 72,
   "id": "a243fa22-2c83-43c6-b01c-0491674d2b7e",
   "metadata": {},
   "outputs": [],
   "source": [
    "times_cov = timeit_sparse(sp.csr_matrix(B_cov), X_test=X_test_tr_netflix, n_users_test=X_test_tr_netflix.shape[0], max_k = 100, n_jobs=16)"
   ]
  },
  {
   "cell_type": "code",
   "execution_count": null,
   "id": "74b09888-f25e-4ba9-a2e7-3ead6d766f09",
   "metadata": {},
   "outputs": [],
   "source": []
  },
  {
   "cell_type": "code",
   "execution_count": 73,
   "id": "8e43b5e0-a4d2-485d-aecf-2bdde5cc7433",
   "metadata": {},
   "outputs": [],
   "source": [
    "B_admm = np.load(file='/home/pmoritz/dev/modsem/sparse_mat/' + 'ADMM_netflix_01.npy')"
   ]
  },
  {
   "cell_type": "code",
   "execution_count": 74,
   "id": "ddfb0b0e-c9f4-4f86-8a12-e0654e2c76e0",
   "metadata": {},
   "outputs": [
    {
     "name": "stdout",
     "output_type": "stream",
     "text": [
      "create lookup\n",
      "create true item df\n",
      "predicting\n",
      "predicting done, reindexing\n",
      "calculating metrics\n",
      "My EDLAE:  Recall@20: 0.35559922, Recall@50: 0.43775692, NDCG@100: 0.38712491\n"
     ]
    }
   ],
   "source": [
    "model_EDLAE.B = B_admm\n",
    "metr_EDLAE_admm = model_EDLAE.evaluate_metrics(test_tr_netflix, test_te_netflix, 'uid', 'sid', metrics_lst)\n",
    "print(f'My EDLAE:  Recall@20: {metr_EDLAE_admm[\"Recall(k=20)\"]:.8f}, Recall@50: {metr_EDLAE_admm[\"Recall(k=50)\"]:.8f}, NDCG@100: {metr_EDLAE_admm[\"NDCG(k=100)\"]:.8f}')"
   ]
  },
  {
   "cell_type": "code",
   "execution_count": 75,
   "id": "d956c850-6995-4dfa-a009-fcfcc9353a82",
   "metadata": {},
   "outputs": [],
   "source": [
    "times_admm = timeit_sparse(sp.csr_matrix(B_admm), X_test=X_test_tr_netflix, n_users_test=X_test_tr_netflix.shape[0], max_k = 100, n_jobs=16)"
   ]
  },
  {
   "cell_type": "code",
   "execution_count": 76,
   "id": "f17a20cd-b72a-4469-bab8-3162057b760a",
   "metadata": {},
   "outputs": [
    {
     "data": {
      "text/plain": [
       "Text(0.5, 1.0, 'Zoom')"
      ]
     },
     "execution_count": 76,
     "metadata": {},
     "output_type": "execute_result"
    },
    {
     "data": {
      "image/png": "[encoded data removed]",
      "text/plain": [
       "<Figure size 2160x1296 with 6 Axes>"
      ]
     },
     "metadata": {
      "needs_background": "light"
     },
     "output_type": "display_data"
    }
   ],
   "source": [
    "fig, ax = plt.subplots(2,3, figsize=(30,18))\n",
    "ax[0,0].spy(B_straightforward)\n",
    "ax[0,0].set_title(f'Recall@20: {metr_EDLAE_straight[\"Recall(k=20)\"]:.3f},  Recall@50: {metr_EDLAE_straight[\"Recall(k=50)\"]:.3f},  NDCG@100: {metr_EDLAE_straight[\"NDCG(k=100)\"]:.3f}\\n' + \n",
    "                  f'Batch: {times_straightforward[0] * 1e3:.3f}ms,  Single: {times_straightforward[1] * 1e6:.3f}mus')\n",
    "ax[0,1].spy(B_cov)\n",
    "ax[0,1].set_title(f'Recall@20: {metr_EDLAE_cov[\"Recall(k=20)\"]:.3f},  Recall@50: {metr_EDLAE_cov[\"Recall(k=50)\"]:.3f},  NDCG@100: {metr_EDLAE_cov[\"NDCG(k=100)\"]:.3f}\\n' + \n",
    "                  f'Batch: {times_cov[0] * 1e3:.3f}ms,  Single: {times_cov[1] * 1e6:.3f}mus')\n",
    "ax[0,2].spy(B_admm)\n",
    "ax[0,2].set_title(f'Recall@20: {metr_EDLAE_admm[\"Recall(k=20)\"]:.3f},  Recall@50: {metr_EDLAE_admm[\"Recall(k=50)\"]:.3f},  NDCG@100: {metr_EDLAE_admm[\"NDCG(k=100)\"]:.3f}\\n' + \n",
    "                  f'Batch: {times_admm[0] * 1e3:.3f}ms,  Single: {times_admm[1] * 1e6:.3f}mus')\n",
    "ax[1,0].spy(B_straightforward[:10000, :10000])\n",
    "ax[1,0].set_title('Zoom')\n",
    "ax[1,1].spy(B_cov[:10000, :10000])\n",
    "ax[1,1].set_title('Zoom')\n",
    "ax[1,2].spy(B_admm[:10000, :10000])\n",
    "ax[1,2].set_title('Zoom')"
   ]
  },
  {
   "cell_type": "code",
   "execution_count": null,
   "id": "b5f8edb4-0f54-4c41-8fe8-65c8bc29400e",
   "metadata": {},
   "outputs": [],
   "source": []
  },
  {
   "cell_type": "code",
   "execution_count": null,
   "id": "97fa987f-2767-47ca-80d0-3bcf402539d8",
   "metadata": {},
   "outputs": [],
   "source": []
  },
  {
   "cell_type": "markdown",
   "id": "9d83fd79-790a-4fc6-9319-7ec11e14c257",
   "metadata": {},
   "source": [
    "### MSD"
   ]
  },
  {
   "cell_type": "code",
   "execution_count": 11,
   "id": "dfbb3d14-3537-4afa-8d1d-d1e717b00e65",
   "metadata": {},
   "outputs": [
    {
     "name": "stdout",
     "output_type": "stream",
     "text": [
      "finished inverse computation\n",
      "create lookup\n",
      "create true item df\n",
      "predicting\n",
      "predicting done, reindexing\n",
      "calculating metrics\n",
      "My DLAE:  Recall@20: 0.33407616, Recall@50: 0.42947739, NDCG@100: 0.39150817\n"
     ]
    }
   ],
   "source": [
    "model_EDLAE = EDLAE(p=0.25, lmbda=70)\n",
    "model_EDLAE.fit(train_msd, uid_str='uid', sid_str='sid', nItems=41140)\n",
    "metr_EDLAE = model_EDLAE.evaluate_metrics(test_tr_msd, test_te_msd, 'uid', 'sid', metrics_lst)\n",
    "print(f'My DLAE:  Recall@20: {metr_EDLAE[\"Recall(k=20)\"]:.8f}, Recall@50: {metr_EDLAE[\"Recall(k=50)\"]:.8f}, NDCG@100: {metr_EDLAE[\"NDCG(k=100)\"]:.8f}')"
   ]
  },
  {
   "cell_type": "code",
   "execution_count": 17,
   "id": "6baec3d1-e72e-4fd2-a866-18f168ee4ad7",
   "metadata": {},
   "outputs": [],
   "source": [
    "B_dense = deepcopy(model_EDLAE.B)"
   ]
  },
  {
   "cell_type": "markdown",
   "id": "a0faed1f-7515-4974-9cc8-fffd03b0cb2c",
   "metadata": {
    "tags": []
   },
   "source": [
    "#### Sparsity 0.5%"
   ]
  },
  {
   "cell_type": "code",
   "execution_count": 12,
   "id": "8ec043e1-ff11-4e38-b626-8d072791cdc9",
   "metadata": {},
   "outputs": [],
   "source": [
    "results_straightf_msd = pd.read_csv('/home/pmoritz/dev/modsem/benchmarks/msd_sparse_straightforward_new.csv', sep='|')\n",
    "results_sparsecov_msd = pd.read_csv('/home/pmoritz/dev/modsem/benchmarks/msd_sparse_cov_new.csv', sep='|')"
   ]
  },
  {
   "cell_type": "code",
   "execution_count": 13,
   "id": "41ba7533-31d6-4f1b-83f7-9d3fc6cb63d8",
   "metadata": {},
   "outputs": [
    {
     "data": {
      "text/html": [
       "<div>\n",
       "<style scoped>\n",
       "    .dataframe tbody tr th:only-of-type {\n",
       "        vertical-align: middle;\n",
       "    }\n",
       "\n",
       "    .dataframe tbody tr th {\n",
       "        vertical-align: top;\n",
       "    }\n",
       "\n",
       "    .dataframe thead th {\n",
       "        text-align: right;\n",
       "    }\n",
       "</style>\n",
       "<table border=\"1\" class=\"dataframe\">\n",
       "  <thead>\n",
       "    <tr style=\"text-align: right;\">\n",
       "      <th></th>\n",
       "      <th>sparsity</th>\n",
       "      <th>threshold</th>\n",
       "      <th>query_time</th>\n",
       "      <th>batch_time</th>\n",
       "      <th>recall@20</th>\n",
       "      <th>recall@50</th>\n",
       "      <th>ndcg@100</th>\n",
       "    </tr>\n",
       "  </thead>\n",
       "  <tbody>\n",
       "    <tr>\n",
       "      <th>0</th>\n",
       "      <td>0.000996</td>\n",
       "      <td>0.01200</td>\n",
       "      <td>0.000046</td>\n",
       "      <td>0.002143</td>\n",
       "      <td>0.329580</td>\n",
       "      <td>0.421199</td>\n",
       "      <td>0.385550</td>\n",
       "    </tr>\n",
       "    <tr>\n",
       "      <th>1</th>\n",
       "      <td>0.004999</td>\n",
       "      <td>0.00695</td>\n",
       "      <td>0.000061</td>\n",
       "      <td>0.005023</td>\n",
       "      <td>0.332307</td>\n",
       "      <td>0.425618</td>\n",
       "      <td>0.388885</td>\n",
       "    </tr>\n",
       "    <tr>\n",
       "      <th>2</th>\n",
       "      <td>0.009965</td>\n",
       "      <td>0.00548</td>\n",
       "      <td>0.000084</td>\n",
       "      <td>0.007808</td>\n",
       "      <td>0.332764</td>\n",
       "      <td>0.426840</td>\n",
       "      <td>0.389641</td>\n",
       "    </tr>\n",
       "    <tr>\n",
       "      <th>3</th>\n",
       "      <td>0.019911</td>\n",
       "      <td>0.00421</td>\n",
       "      <td>0.000122</td>\n",
       "      <td>0.012880</td>\n",
       "      <td>0.333207</td>\n",
       "      <td>0.427856</td>\n",
       "      <td>0.390281</td>\n",
       "    </tr>\n",
       "    <tr>\n",
       "      <th>4</th>\n",
       "      <td>0.049860</td>\n",
       "      <td>0.00285</td>\n",
       "      <td>0.000236</td>\n",
       "      <td>0.025263</td>\n",
       "      <td>0.333736</td>\n",
       "      <td>0.428533</td>\n",
       "      <td>0.390753</td>\n",
       "    </tr>\n",
       "  </tbody>\n",
       "</table>\n",
       "</div>"
      ],
      "text/plain": [
       "   sparsity  threshold  query_time  batch_time  recall@20  recall@50  ndcg@100\n",
       "0  0.000996    0.01200    0.000046    0.002143   0.329580   0.421199  0.385550\n",
       "1  0.004999    0.00695    0.000061    0.005023   0.332307   0.425618  0.388885\n",
       "2  0.009965    0.00548    0.000084    0.007808   0.332764   0.426840  0.389641\n",
       "3  0.019911    0.00421    0.000122    0.012880   0.333207   0.427856  0.390281\n",
       "4  0.049860    0.00285    0.000236    0.025263   0.333736   0.428533  0.390753"
      ]
     },
     "execution_count": 13,
     "metadata": {},
     "output_type": "execute_result"
    }
   ],
   "source": [
    "results_straightf_msd"
   ]
  },
  {
   "cell_type": "code",
   "execution_count": 14,
   "id": "180b0e39-4210-4b28-b493-7873626d5935",
   "metadata": {},
   "outputs": [
    {
     "data": {
      "text/html": [
       "<div>\n",
       "<style scoped>\n",
       "    .dataframe tbody tr th:only-of-type {\n",
       "        vertical-align: middle;\n",
       "    }\n",
       "\n",
       "    .dataframe tbody tr th {\n",
       "        vertical-align: top;\n",
       "    }\n",
       "\n",
       "    .dataframe thead th {\n",
       "        text-align: right;\n",
       "    }\n",
       "</style>\n",
       "<table border=\"1\" class=\"dataframe\">\n",
       "  <thead>\n",
       "    <tr style=\"text-align: right;\">\n",
       "      <th></th>\n",
       "      <th>sparsity</th>\n",
       "      <th>threshold</th>\n",
       "      <th>alphas</th>\n",
       "      <th>query_time</th>\n",
       "      <th>batch_time</th>\n",
       "      <th>recall@20</th>\n",
       "      <th>recall@50</th>\n",
       "      <th>ndcg@100</th>\n",
       "    </tr>\n",
       "  </thead>\n",
       "  <tbody>\n",
       "    <tr>\n",
       "      <th>0</th>\n",
       "      <td>0.000999</td>\n",
       "      <td>0.37000</td>\n",
       "      <td>0.75</td>\n",
       "      <td>0.000056</td>\n",
       "      <td>0.003136</td>\n",
       "      <td>0.328761</td>\n",
       "      <td>0.419584</td>\n",
       "      <td>0.384312</td>\n",
       "    </tr>\n",
       "    <tr>\n",
       "      <th>1</th>\n",
       "      <td>0.004997</td>\n",
       "      <td>0.60900</td>\n",
       "      <td>0.50</td>\n",
       "      <td>0.000156</td>\n",
       "      <td>0.014406</td>\n",
       "      <td>0.333152</td>\n",
       "      <td>0.427825</td>\n",
       "      <td>0.390515</td>\n",
       "    </tr>\n",
       "    <tr>\n",
       "      <th>2</th>\n",
       "      <td>0.009994</td>\n",
       "      <td>0.39900</td>\n",
       "      <td>0.50</td>\n",
       "      <td>0.000271</td>\n",
       "      <td>0.024603</td>\n",
       "      <td>0.333532</td>\n",
       "      <td>0.429220</td>\n",
       "      <td>0.391244</td>\n",
       "    </tr>\n",
       "    <tr>\n",
       "      <th>3</th>\n",
       "      <td>0.019999</td>\n",
       "      <td>0.05110</td>\n",
       "      <td>0.75</td>\n",
       "      <td>0.000345</td>\n",
       "      <td>0.032637</td>\n",
       "      <td>0.333932</td>\n",
       "      <td>0.429746</td>\n",
       "      <td>0.391716</td>\n",
       "    </tr>\n",
       "    <tr>\n",
       "      <th>4</th>\n",
       "      <td>0.049976</td>\n",
       "      <td>0.00644</td>\n",
       "      <td>1.00</td>\n",
       "      <td>0.000490</td>\n",
       "      <td>0.048523</td>\n",
       "      <td>0.334155</td>\n",
       "      <td>0.429881</td>\n",
       "      <td>0.391885</td>\n",
       "    </tr>\n",
       "  </tbody>\n",
       "</table>\n",
       "</div>"
      ],
      "text/plain": [
       "   sparsity  threshold  alphas  query_time  batch_time  recall@20  recall@50  \\\n",
       "0  0.000999    0.37000    0.75    0.000056    0.003136   0.328761   0.419584   \n",
       "1  0.004997    0.60900    0.50    0.000156    0.014406   0.333152   0.427825   \n",
       "2  0.009994    0.39900    0.50    0.000271    0.024603   0.333532   0.429220   \n",
       "3  0.019999    0.05110    0.75    0.000345    0.032637   0.333932   0.429746   \n",
       "4  0.049976    0.00644    1.00    0.000490    0.048523   0.334155   0.429881   \n",
       "\n",
       "   ndcg@100  \n",
       "0  0.384312  \n",
       "1  0.390515  \n",
       "2  0.391244  \n",
       "3  0.391716  \n",
       "4  0.391885  "
      ]
     },
     "execution_count": 14,
     "metadata": {},
     "output_type": "execute_result"
    }
   ],
   "source": [
    "results_sparsecov_msd"
   ]
  },
  {
   "cell_type": "code",
   "execution_count": 18,
   "id": "a6c8c324-cac0-4364-916f-9464d4686d1b",
   "metadata": {},
   "outputs": [
    {
     "name": "stdout",
     "output_type": "stream",
     "text": [
      "Number of items with more than 41140 entries in column: 0\n",
      "Resulting sparsity of A: 0.004999415657173567\n"
     ]
    }
   ],
   "source": [
    "A_straightforward = sparsify(B_dense, threshold=0.00695, max_in_col=41140)\n",
    "B_straightforward = np.zeros(B_dense.shape, dtype=np.float32)\n",
    "B_straightforward[A_straightforward.nonzero()] = B_dense[A_straightforward.nonzero()]"
   ]
  },
  {
   "cell_type": "code",
   "execution_count": 19,
   "id": "c50e852e-7c18-4a25-8851-4ebb11d482dd",
   "metadata": {},
   "outputs": [
    {
     "name": "stdout",
     "output_type": "stream",
     "text": [
      "create lookup\n",
      "create true item df\n",
      "predicting\n",
      "predicting done, reindexing\n",
      "calculating metrics\n",
      "My EDLAE:  Recall@20: 0.33230736, Recall@50: 0.42561803, NDCG@100: 0.38888537\n"
     ]
    }
   ],
   "source": [
    "model_EDLAE.B = B_straightforward\n",
    "metr_EDLAE_straight = model_EDLAE.evaluate_metrics(test_tr_msd, test_te_msd, 'uid', 'sid', metrics_lst)\n",
    "print(f'My EDLAE:  Recall@20: {metr_EDLAE_straight[\"Recall(k=20)\"]:.8f}, Recall@50: {metr_EDLAE_straight[\"Recall(k=50)\"]:.8f}, NDCG@100: {metr_EDLAE_straight[\"NDCG(k=100)\"]:.8f}')"
   ]
  },
  {
   "cell_type": "code",
   "execution_count": 20,
   "id": "59922f2e-0fc2-4b09-bbda-8e32fbf0817b",
   "metadata": {
    "tags": []
   },
   "outputs": [],
   "source": [
    "times_straightforward = timeit_sparse(sp.csr_matrix(B_straightforward), X_test=X_test_tr_msd, n_users_test=X_test_tr_msd.shape[0], max_k = 100, n_jobs=16)"
   ]
  },
  {
   "cell_type": "code",
   "execution_count": null,
   "id": "4ff24477-cf0c-468e-bf0c-c33c8878a297",
   "metadata": {},
   "outputs": [],
   "source": []
  },
  {
   "cell_type": "code",
   "execution_count": null,
   "id": "f1842930-db6b-42f6-83db-e7f5f5d9b2a7",
   "metadata": {},
   "outputs": [],
   "source": []
  },
  {
   "cell_type": "code",
   "execution_count": 21,
   "id": "96438c55-7d4d-4166-9635-0249e55969ee",
   "metadata": {},
   "outputs": [
    {
     "name": "stdout",
     "output_type": "stream",
     "text": [
      "Number of items with more than 41140 entries in column: 0\n",
      "Resulting sparsity of A: 0.00499654889135572\n"
     ]
    }
   ],
   "source": [
    "A_sparsecov = sparsity_pattern_cov(XtX=np.dot(X_train_msd.T, X_train_msd).toarray(), n_users=X_train_msd.shape[0], \n",
    "                                 max_in_col=41140, alpha=0.5, threshold=0.60900)\n",
    "B_cov = np.zeros(B_dense.shape, dtype=np.float32)\n",
    "B_cov[A_sparsecov.nonzero()] = B_dense[A_sparsecov.nonzero()]"
   ]
  },
  {
   "cell_type": "code",
   "execution_count": 22,
   "id": "77853c1a-4459-4e72-9434-90e6b53b71e5",
   "metadata": {},
   "outputs": [
    {
     "name": "stdout",
     "output_type": "stream",
     "text": [
      "create lookup\n",
      "create true item df\n",
      "predicting\n",
      "predicting done, reindexing\n",
      "calculating metrics\n",
      "My EDLAE:  Recall@20: 0.33315223, Recall@50: 0.42782471, NDCG@100: 0.39051469\n"
     ]
    }
   ],
   "source": [
    "model_EDLAE.B = B_cov\n",
    "metr_EDLAE_cov = model_EDLAE.evaluate_metrics(test_tr_msd, test_te_msd, 'uid', 'sid', metrics_lst)\n",
    "print(f'My EDLAE:  Recall@20: {metr_EDLAE_cov[\"Recall(k=20)\"]:.8f}, Recall@50: {metr_EDLAE_cov[\"Recall(k=50)\"]:.8f}, NDCG@100: {metr_EDLAE_cov[\"NDCG(k=100)\"]:.8f}')"
   ]
  },
  {
   "cell_type": "code",
   "execution_count": 23,
   "id": "e0a51b68-fb44-4158-86d6-58863a8ca22c",
   "metadata": {},
   "outputs": [],
   "source": [
    "times_cov = timeit_sparse(sp.csr_matrix(B_cov), X_test=X_test_tr_msd, n_users_test=X_test_tr_msd.shape[0], max_k = 100, n_jobs=16)"
   ]
  },
  {
   "cell_type": "code",
   "execution_count": null,
   "id": "56abf99b-9b1f-4ed1-bfaf-0ed968a9bb3d",
   "metadata": {},
   "outputs": [],
   "source": []
  },
  {
   "cell_type": "code",
   "execution_count": 24,
   "id": "a6aa4652-3360-4d62-ab06-8b923f02e4be",
   "metadata": {},
   "outputs": [
    {
     "data": {
      "text/plain": [
       "Text(0.5, 1.0, 'Zoom')"
      ]
     },
     "execution_count": 24,
     "metadata": {},
     "output_type": "execute_result"
    },
    {
     "data": {
      "image/png": "[encoded data removed]",
      "text/plain": [
       "<Figure size 1440x1296 with 4 Axes>"
      ]
     },
     "metadata": {
      "needs_background": "light"
     },
     "output_type": "display_data"
    }
   ],
   "source": [
    "fig, ax = plt.subplots(2,2, figsize=(20,18))\n",
    "ax[0,0].spy(B_straightforward)\n",
    "ax[0,0].set_title(f'Recall@20: {metr_EDLAE_straight[\"Recall(k=20)\"]:.3f},  Recall@50: {metr_EDLAE_straight[\"Recall(k=50)\"]:.3f},  NDCG@100: {metr_EDLAE_straight[\"NDCG(k=100)\"]:.3f}\\n' + \n",
    "                  f'Batch: {times_straightforward[0] * 1e3:.3f}ms,  Single: {times_straightforward[1] * 1e6:.3f}mus')\n",
    "ax[0,1].spy(B_cov)\n",
    "ax[0,1].set_title(f'Recall@20: {metr_EDLAE_cov[\"Recall(k=20)\"]:.3f},  Recall@50: {metr_EDLAE_cov[\"Recall(k=50)\"]:.3f},  NDCG@100: {metr_EDLAE_cov[\"NDCG(k=100)\"]:.3f}\\n' + \n",
    "                  f'Batch: {times_cov[0] * 1e3:.3f}ms,  Single: {times_cov[1] * 1e6:.3f}mus')\n",
    "ax[1,0].spy(B_straightforward[:10000, :10000])\n",
    "ax[1,0].set_title('Zoom')\n",
    "ax[1,1].spy(B_cov[:10000, :10000])\n",
    "ax[1,1].set_title('Zoom')"
   ]
  },
  {
   "cell_type": "markdown",
   "id": "8a0ad0a9-77f0-42cd-a305-57e6b1af7f8d",
   "metadata": {
    "tags": []
   },
   "source": [
    "#### Sparsity 0.1%"
   ]
  },
  {
   "cell_type": "code",
   "execution_count": 25,
   "id": "7dc70e32-af4a-4698-9840-eb94f7708459",
   "metadata": {},
   "outputs": [],
   "source": [
    "results_straightf_msd = pd.read_csv('/home/pmoritz/dev/modsem/benchmarks/msd_sparse_straightforward_new.csv', sep='|')\n",
    "results_sparsecov_msd = pd.read_csv('/home/pmoritz/dev/modsem/benchmarks/msd_sparse_cov_new.csv', sep='|')"
   ]
  },
  {
   "cell_type": "code",
   "execution_count": 26,
   "id": "c4ef7391-1d6f-42cb-b906-97426f430a43",
   "metadata": {},
   "outputs": [
    {
     "data": {
      "text/html": [
       "<div>\n",
       "<style scoped>\n",
       "    .dataframe tbody tr th:only-of-type {\n",
       "        vertical-align: middle;\n",
       "    }\n",
       "\n",
       "    .dataframe tbody tr th {\n",
       "        vertical-align: top;\n",
       "    }\n",
       "\n",
       "    .dataframe thead th {\n",
       "        text-align: right;\n",
       "    }\n",
       "</style>\n",
       "<table border=\"1\" class=\"dataframe\">\n",
       "  <thead>\n",
       "    <tr style=\"text-align: right;\">\n",
       "      <th></th>\n",
       "      <th>sparsity</th>\n",
       "      <th>threshold</th>\n",
       "      <th>query_time</th>\n",
       "      <th>batch_time</th>\n",
       "      <th>recall@20</th>\n",
       "      <th>recall@50</th>\n",
       "      <th>ndcg@100</th>\n",
       "    </tr>\n",
       "  </thead>\n",
       "  <tbody>\n",
       "    <tr>\n",
       "      <th>0</th>\n",
       "      <td>0.000996</td>\n",
       "      <td>0.01200</td>\n",
       "      <td>0.000046</td>\n",
       "      <td>0.002143</td>\n",
       "      <td>0.329580</td>\n",
       "      <td>0.421199</td>\n",
       "      <td>0.385550</td>\n",
       "    </tr>\n",
       "    <tr>\n",
       "      <th>1</th>\n",
       "      <td>0.004999</td>\n",
       "      <td>0.00695</td>\n",
       "      <td>0.000061</td>\n",
       "      <td>0.005023</td>\n",
       "      <td>0.332307</td>\n",
       "      <td>0.425618</td>\n",
       "      <td>0.388885</td>\n",
       "    </tr>\n",
       "    <tr>\n",
       "      <th>2</th>\n",
       "      <td>0.009965</td>\n",
       "      <td>0.00548</td>\n",
       "      <td>0.000084</td>\n",
       "      <td>0.007808</td>\n",
       "      <td>0.332764</td>\n",
       "      <td>0.426840</td>\n",
       "      <td>0.389641</td>\n",
       "    </tr>\n",
       "    <tr>\n",
       "      <th>3</th>\n",
       "      <td>0.019911</td>\n",
       "      <td>0.00421</td>\n",
       "      <td>0.000122</td>\n",
       "      <td>0.012880</td>\n",
       "      <td>0.333207</td>\n",
       "      <td>0.427856</td>\n",
       "      <td>0.390281</td>\n",
       "    </tr>\n",
       "    <tr>\n",
       "      <th>4</th>\n",
       "      <td>0.049860</td>\n",
       "      <td>0.00285</td>\n",
       "      <td>0.000236</td>\n",
       "      <td>0.025263</td>\n",
       "      <td>0.333736</td>\n",
       "      <td>0.428533</td>\n",
       "      <td>0.390753</td>\n",
       "    </tr>\n",
       "  </tbody>\n",
       "</table>\n",
       "</div>"
      ],
      "text/plain": [
       "   sparsity  threshold  query_time  batch_time  recall@20  recall@50  ndcg@100\n",
       "0  0.000996    0.01200    0.000046    0.002143   0.329580   0.421199  0.385550\n",
       "1  0.004999    0.00695    0.000061    0.005023   0.332307   0.425618  0.388885\n",
       "2  0.009965    0.00548    0.000084    0.007808   0.332764   0.426840  0.389641\n",
       "3  0.019911    0.00421    0.000122    0.012880   0.333207   0.427856  0.390281\n",
       "4  0.049860    0.00285    0.000236    0.025263   0.333736   0.428533  0.390753"
      ]
     },
     "execution_count": 26,
     "metadata": {},
     "output_type": "execute_result"
    }
   ],
   "source": [
    "results_straightf_msd"
   ]
  },
  {
   "cell_type": "code",
   "execution_count": 27,
   "id": "f75af208-16f3-40f0-9499-888a9576547b",
   "metadata": {},
   "outputs": [
    {
     "data": {
      "text/html": [
       "<div>\n",
       "<style scoped>\n",
       "    .dataframe tbody tr th:only-of-type {\n",
       "        vertical-align: middle;\n",
       "    }\n",
       "\n",
       "    .dataframe tbody tr th {\n",
       "        vertical-align: top;\n",
       "    }\n",
       "\n",
       "    .dataframe thead th {\n",
       "        text-align: right;\n",
       "    }\n",
       "</style>\n",
       "<table border=\"1\" class=\"dataframe\">\n",
       "  <thead>\n",
       "    <tr style=\"text-align: right;\">\n",
       "      <th></th>\n",
       "      <th>sparsity</th>\n",
       "      <th>threshold</th>\n",
       "      <th>alphas</th>\n",
       "      <th>query_time</th>\n",
       "      <th>batch_time</th>\n",
       "      <th>recall@20</th>\n",
       "      <th>recall@50</th>\n",
       "      <th>ndcg@100</th>\n",
       "    </tr>\n",
       "  </thead>\n",
       "  <tbody>\n",
       "    <tr>\n",
       "      <th>0</th>\n",
       "      <td>0.000999</td>\n",
       "      <td>0.37000</td>\n",
       "      <td>0.75</td>\n",
       "      <td>0.000056</td>\n",
       "      <td>0.003136</td>\n",
       "      <td>0.328761</td>\n",
       "      <td>0.419584</td>\n",
       "      <td>0.384312</td>\n",
       "    </tr>\n",
       "    <tr>\n",
       "      <th>1</th>\n",
       "      <td>0.004997</td>\n",
       "      <td>0.60900</td>\n",
       "      <td>0.50</td>\n",
       "      <td>0.000156</td>\n",
       "      <td>0.014406</td>\n",
       "      <td>0.333152</td>\n",
       "      <td>0.427825</td>\n",
       "      <td>0.390515</td>\n",
       "    </tr>\n",
       "    <tr>\n",
       "      <th>2</th>\n",
       "      <td>0.009994</td>\n",
       "      <td>0.39900</td>\n",
       "      <td>0.50</td>\n",
       "      <td>0.000271</td>\n",
       "      <td>0.024603</td>\n",
       "      <td>0.333532</td>\n",
       "      <td>0.429220</td>\n",
       "      <td>0.391244</td>\n",
       "    </tr>\n",
       "    <tr>\n",
       "      <th>3</th>\n",
       "      <td>0.019999</td>\n",
       "      <td>0.05110</td>\n",
       "      <td>0.75</td>\n",
       "      <td>0.000345</td>\n",
       "      <td>0.032637</td>\n",
       "      <td>0.333932</td>\n",
       "      <td>0.429746</td>\n",
       "      <td>0.391716</td>\n",
       "    </tr>\n",
       "    <tr>\n",
       "      <th>4</th>\n",
       "      <td>0.049976</td>\n",
       "      <td>0.00644</td>\n",
       "      <td>1.00</td>\n",
       "      <td>0.000490</td>\n",
       "      <td>0.048523</td>\n",
       "      <td>0.334155</td>\n",
       "      <td>0.429881</td>\n",
       "      <td>0.391885</td>\n",
       "    </tr>\n",
       "  </tbody>\n",
       "</table>\n",
       "</div>"
      ],
      "text/plain": [
       "   sparsity  threshold  alphas  query_time  batch_time  recall@20  recall@50  \\\n",
       "0  0.000999    0.37000    0.75    0.000056    0.003136   0.328761   0.419584   \n",
       "1  0.004997    0.60900    0.50    0.000156    0.014406   0.333152   0.427825   \n",
       "2  0.009994    0.39900    0.50    0.000271    0.024603   0.333532   0.429220   \n",
       "3  0.019999    0.05110    0.75    0.000345    0.032637   0.333932   0.429746   \n",
       "4  0.049976    0.00644    1.00    0.000490    0.048523   0.334155   0.429881   \n",
       "\n",
       "   ndcg@100  \n",
       "0  0.384312  \n",
       "1  0.390515  \n",
       "2  0.391244  \n",
       "3  0.391716  \n",
       "4  0.391885  "
      ]
     },
     "execution_count": 27,
     "metadata": {},
     "output_type": "execute_result"
    }
   ],
   "source": [
    "results_sparsecov_msd"
   ]
  },
  {
   "cell_type": "code",
   "execution_count": 28,
   "id": "5a1287a9-914c-4ac1-bf49-6e4b5933e2f5",
   "metadata": {},
   "outputs": [
    {
     "name": "stdout",
     "output_type": "stream",
     "text": [
      "Number of items with more than 41140 entries in column: 0\n",
      "Resulting sparsity of A: 0.0009962667051738152\n"
     ]
    }
   ],
   "source": [
    "A_straightforward = sparsify(B_dense, threshold=0.01200, max_in_col=41140)\n",
    "B_straightforward = np.zeros(B_dense.shape, dtype=np.float32)\n",
    "B_straightforward[A_straightforward.nonzero()] = B_dense[A_straightforward.nonzero()]"
   ]
  },
  {
   "cell_type": "code",
   "execution_count": 29,
   "id": "653e03e7-20a9-4791-b33a-0747c049f5fe",
   "metadata": {},
   "outputs": [
    {
     "name": "stdout",
     "output_type": "stream",
     "text": [
      "create lookup\n",
      "create true item df\n",
      "predicting\n",
      "predicting done, reindexing\n",
      "calculating metrics\n",
      "My EDLAE:  Recall@20: 0.32958039, Recall@50: 0.42119861, NDCG@100: 0.38554988\n"
     ]
    }
   ],
   "source": [
    "model_EDLAE.B = B_straightforward\n",
    "metr_EDLAE_straight = model_EDLAE.evaluate_metrics(test_tr_msd, test_te_msd, 'uid', 'sid', metrics_lst)\n",
    "print(f'My EDLAE:  Recall@20: {metr_EDLAE_straight[\"Recall(k=20)\"]:.8f}, Recall@50: {metr_EDLAE_straight[\"Recall(k=50)\"]:.8f}, NDCG@100: {metr_EDLAE_straight[\"NDCG(k=100)\"]:.8f}')"
   ]
  },
  {
   "cell_type": "code",
   "execution_count": 30,
   "id": "180edae9-d0de-4120-af64-e51684e74112",
   "metadata": {
    "tags": []
   },
   "outputs": [],
   "source": [
    "times_straightforward = timeit_sparse(sp.csr_matrix(B_straightforward), X_test=X_test_tr_msd, n_users_test=X_test_tr_msd.shape[0], max_k = 100, n_jobs=16)"
   ]
  },
  {
   "cell_type": "code",
   "execution_count": null,
   "id": "5edccbfd-3386-4507-b87d-43b4d2e35d22",
   "metadata": {},
   "outputs": [],
   "source": []
  },
  {
   "cell_type": "code",
   "execution_count": null,
   "id": "bacda6e2-f052-4484-b3d8-50a04a98f9b7",
   "metadata": {},
   "outputs": [],
   "source": []
  },
  {
   "cell_type": "code",
   "execution_count": 31,
   "id": "b28a86c3-188a-45d1-b4bd-ea56beec9598",
   "metadata": {},
   "outputs": [
    {
     "name": "stdout",
     "output_type": "stream",
     "text": [
      "Number of items with more than 41140 entries in column: 0\n",
      "Resulting sparsity of A: 0.0009994832495085965\n"
     ]
    }
   ],
   "source": [
    "A_sparsecov = sparsity_pattern_cov(XtX=np.dot(X_train_msd.T, X_train_msd).toarray(), n_users=X_train_msd.shape[0], \n",
    "                                 max_in_col=41140, alpha=0.75, threshold=0.37000)\n",
    "B_cov = np.zeros(B_dense.shape, dtype=np.float32)\n",
    "B_cov[A_sparsecov.nonzero()] = B_dense[A_sparsecov.nonzero()]"
   ]
  },
  {
   "cell_type": "code",
   "execution_count": 32,
   "id": "eb48e50e-41a1-477c-a149-ccb9100cd297",
   "metadata": {},
   "outputs": [
    {
     "name": "stdout",
     "output_type": "stream",
     "text": [
      "create lookup\n",
      "create true item df\n",
      "predicting\n",
      "predicting done, reindexing\n",
      "calculating metrics\n",
      "My EDLAE:  Recall@20: 0.32876085, Recall@50: 0.41958407, NDCG@100: 0.38431205\n"
     ]
    }
   ],
   "source": [
    "model_EDLAE.B = B_cov\n",
    "metr_EDLAE_cov = model_EDLAE.evaluate_metrics(test_tr_msd, test_te_msd, 'uid', 'sid', metrics_lst)\n",
    "print(f'My EDLAE:  Recall@20: {metr_EDLAE_cov[\"Recall(k=20)\"]:.8f}, Recall@50: {metr_EDLAE_cov[\"Recall(k=50)\"]:.8f}, NDCG@100: {metr_EDLAE_cov[\"NDCG(k=100)\"]:.8f}')"
   ]
  },
  {
   "cell_type": "code",
   "execution_count": 33,
   "id": "0719b2c1-1e58-4c53-b810-6ac02835a921",
   "metadata": {},
   "outputs": [],
   "source": [
    "times_cov = timeit_sparse(sp.csr_matrix(B_cov), X_test=X_test_tr_msd, n_users_test=X_test_tr_msd.shape[0], max_k = 100, n_jobs=16)"
   ]
  },
  {
   "cell_type": "code",
   "execution_count": null,
   "id": "0d337352-f234-4d13-8c02-73909a52e371",
   "metadata": {},
   "outputs": [],
   "source": []
  },
  {
   "cell_type": "code",
   "execution_count": 34,
   "id": "e627d2e2-c9c6-4eda-bc3b-b8d1205a2931",
   "metadata": {},
   "outputs": [
    {
     "data": {
      "text/plain": [
       "Text(0.5, 1.0, 'Zoom')"
      ]
     },
     "execution_count": 34,
     "metadata": {},
     "output_type": "execute_result"
    },
    {
     "data": {
      "image/png": "[encoded data removed]",
      "text/plain": [
       "<Figure size 1440x1296 with 4 Axes>"
      ]
     },
     "metadata": {
      "needs_background": "light"
     },
     "output_type": "display_data"
    }
   ],
   "source": [
    "fig, ax = plt.subplots(2,2, figsize=(20,18))\n",
    "ax[0,0].spy(B_straightforward)\n",
    "ax[0,0].set_title(f'Recall@20: {metr_EDLAE_straight[\"Recall(k=20)\"]:.3f},  Recall@50: {metr_EDLAE_straight[\"Recall(k=50)\"]:.3f},  NDCG@100: {metr_EDLAE_straight[\"NDCG(k=100)\"]:.3f}\\n' + \n",
    "                  f'Batch: {times_straightforward[0] * 1e3:.3f}ms,  Single: {times_straightforward[1] * 1e6:.3f}mus')\n",
    "ax[0,1].spy(B_cov)\n",
    "ax[0,1].set_title(f'Recall@20: {metr_EDLAE_cov[\"Recall(k=20)\"]:.3f},  Recall@50: {metr_EDLAE_cov[\"Recall(k=50)\"]:.3f},  NDCG@100: {metr_EDLAE_cov[\"NDCG(k=100)\"]:.3f}\\n' + \n",
    "                  f'Batch: {times_cov[0] * 1e3:.3f}ms,  Single: {times_cov[1] * 1e6:.3f}mus')\n",
    "ax[1,0].spy(B_straightforward[:10000, :10000])\n",
    "ax[1,0].set_title('Zoom')\n",
    "ax[1,1].spy(B_cov[:10000, :10000])\n",
    "ax[1,1].set_title('Zoom')"
   ]
  },
  {
   "cell_type": "code",
   "execution_count": null,
   "id": "bb7e75b6-0e8a-4c5a-b803-5351db7395ad",
   "metadata": {},
   "outputs": [],
   "source": []
  },
  {
   "cell_type": "code",
   "execution_count": null,
   "id": "572a5ff0-210a-4fb1-bb00-89e52cc80fd4",
   "metadata": {},
   "outputs": [],
   "source": []
  },
  {
   "cell_type": "markdown",
   "id": "3676688a-b261-4466-80e6-3cf0995cc76e",
   "metadata": {},
   "source": [
    "## MRF"
   ]
  },
  {
   "cell_type": "code",
   "execution_count": null,
   "id": "b89e16fd-649b-49e8-b9a8-69397198bdd0",
   "metadata": {},
   "outputs": [],
   "source": [
    "def benchnmark_MRF(param_dicts, train, test_tr, test_te, n_items, filename):\n",
    "    sparsities, alphas, thresholds, rs, lmbdas, max_in_cols = [], [], [], [], [], []\n",
    "    training_times, batch_times, query_times = [], [], []\n",
    "    recall20, recall50, ndcg100 = [], [], []\n",
    "    for param_dict in param_dicts:\n",
    "        sparsity, alpha, threshold, = param_dict['sparsity'], param_dict['alpha'], param_dict['threshold']\n",
    "        r, lmbda, max_in_col =  param_dict['r'], param_dict['lambda'], param_dict['max_in_col']\n",
    "        model_MRF = MRFApprox(lmbda=lmbda)\n",
    "\n",
    "        def fit_wrapper():\n",
    "            model_MRF.fit(train, uid_str='uid', sid_str='sid', nItems=n_items, alpha=alpha,threshold=threshold, max_in_col=max_in_col, r=r)\n",
    "\n",
    "        timer = timeit.Timer(fit_wrapper)\n",
    "        n_timer, _ = timer.autorange()\n",
    "        training_time = min(timer.repeat(repeat=7, number=n_timer)) / n_timer\n",
    "\n",
    "        metrics_lst = ['Recall(k=20)', 'Recall(k=50)', 'NDCG(k=100)',]\n",
    "        metr_EDLAE = model_MRF.evaluate_metrics(test_tr, test_te, 'uid', 'sid', metrics_lst)\n",
    "        \n",
    "        calc_sparsity = len(model_MRF.B.nonzero()[0]) / (model_MRF.B.shape[0] * model_MRF.B.shape[1])\n",
    "\n",
    "        batch_time, query_time = timeit_sparse(model_sparse = model_MRF.B, \n",
    "                                               X_test = model_MRF.X_test, \n",
    "                                               n_users_test = model_MRF.X_test.shape[0], max_k = 100)\n",
    "\n",
    "        sparsities.append(calc_sparsity)\n",
    "        alphas.append(alpha)\n",
    "        thresholds.append(threshold)\n",
    "        rs.append(r)\n",
    "        lmbdas.append(lmbda)\n",
    "        max_in_cols.append(max_in_col)\n",
    "        training_times.append(training_time )\n",
    "        batch_times.append(batch_time)\n",
    "        query_times.append(query_time)\n",
    "        recall20.append(metr_EDLAE[\"Recall(k=20)\"])\n",
    "        recall50.append(metr_EDLAE[\"Recall(k=50)\"])\n",
    "        ndcg100.append(metr_EDLAE[\"NDCG(k=100)\"])\n",
    "\n",
    "    results = pd.DataFrame({'sparsity': sparsities,\n",
    "                            'alpha': alphas,\n",
    "                            'threshold': thresholds,\n",
    "                            'r': rs,\n",
    "                            'lambda': lmbdas,\n",
    "                            'max_in_col': max_in_cols,\n",
    "                            'training_time': training_times,\n",
    "                            'query_time': query_times, \n",
    "                            'batch_time': batch_times,\n",
    "                            'recall@20': recall20,\n",
    "                            'recall@50': recall50,\n",
    "                            'ndcg@100': ndcg100,})\n",
    "    results.to_csv(f'benchmarks/{filename}', index=False, sep='|')  "
   ]
  },
  {
   "cell_type": "markdown",
   "id": "0a8330d6-88e5-42ff-a28f-0a3ba0e5b79b",
   "metadata": {},
   "source": [
    "### ML20M"
   ]
  },
  {
   "cell_type": "code",
   "execution_count": null,
   "id": "58351055-fb2c-4a13-9aac-b8c274d99c39",
   "metadata": {},
   "outputs": [],
   "source": []
  },
  {
   "cell_type": "markdown",
   "id": "4630e880-0df2-4a9e-84fc-4e4b09f4bc78",
   "metadata": {},
   "source": [
    "### Netflix"
   ]
  },
  {
   "cell_type": "code",
   "execution_count": null,
   "id": "545f94a1-d498-4c94-825a-b76b0e3f5f45",
   "metadata": {},
   "outputs": [],
   "source": []
  },
  {
   "cell_type": "markdown",
   "id": "7ac1fd95-2828-4e0a-9708-785aad943650",
   "metadata": {},
   "source": [
    "### MSD"
   ]
  },
  {
   "cell_type": "code",
   "execution_count": null,
   "id": "f93af345-3cfa-457c-aac7-bd2e15e188c6",
   "metadata": {},
   "outputs": [],
   "source": []
  },
  {
   "cell_type": "code",
   "execution_count": null,
   "id": "860f1d01-7a48-4498-8bb5-5ae502e54dbf",
   "metadata": {},
   "outputs": [],
   "source": []
  },
  {
   "cell_type": "code",
   "execution_count": null,
   "id": "5d19efd4-6ca4-46a4-91f8-03c2051b3203",
   "metadata": {},
   "outputs": [],
   "source": []
  },
  {
   "cell_type": "markdown",
   "id": "2216eacf-8c7b-44a8-a603-6b9125f34880",
   "metadata": {
    "tags": []
   },
   "source": [
    "## Variational Autoencoder - RecVae\n",
    "Matches the results from the paper. Might be improved by further hyperparam optimization. Seems like they optimized the model for ML20M and then just changed the gamma param."
   ]
  },
  {
   "cell_type": "code",
   "execution_count": 12,
   "id": "d36e2361-ead6-4df0-ad58-46a07e18ff44",
   "metadata": {},
   "outputs": [],
   "source": [
    "import torch\n",
    "import sys\n",
    "\n",
    "from RecVAE.model import VAE"
   ]
  },
  {
   "cell_type": "code",
   "execution_count": 13,
   "id": "afd2af32-f52a-4c27-946b-c40808d2f774",
   "metadata": {},
   "outputs": [],
   "source": [
    "def generate(batch_size, device, data_in, data_out=None, shuffle=False, samples_perc_per_epoch=1):\n",
    "    assert 0 < samples_perc_per_epoch <= 1\n",
    "    \n",
    "    total_samples = data_in.shape[0]\n",
    "    samples_per_epoch = int(total_samples * samples_perc_per_epoch)\n",
    "    \n",
    "    if shuffle:\n",
    "        idxlist = np.arange(total_samples)\n",
    "        np.random.shuffle(idxlist)\n",
    "        idxlist = idxlist[:samples_per_epoch]\n",
    "    else:\n",
    "        idxlist = np.arange(samples_per_epoch)\n",
    "    \n",
    "    for st_idx in range(0, samples_per_epoch, batch_size):\n",
    "        end_idx = min(st_idx + batch_size, samples_per_epoch)\n",
    "        idx = idxlist[st_idx:end_idx]\n",
    "\n",
    "        yield Batch(device, idx, data_in, data_out)\n",
    "\n",
    "class Batch:\n",
    "    def __init__(self, device, idx, data_in, data_out=None):\n",
    "        self._device = device\n",
    "        self._idx = idx\n",
    "        self._data_in = data_in\n",
    "        self._data_out = data_out\n",
    "    \n",
    "    def get_idx(self):\n",
    "        return self._idx\n",
    "    \n",
    "    def get_idx_to_dev(self):\n",
    "        return torch.LongTensor(self.get_idx()).to(self._device)\n",
    "        \n",
    "    def get_ratings(self, is_out=False):\n",
    "        data = self._data_out if is_out else self._data_in\n",
    "        return data[self._idx]\n",
    "    \n",
    "    def get_ratings_to_dev(self, is_out=False):\n",
    "        return torch.Tensor(\n",
    "            self.get_ratings(is_out).toarray()\n",
    "        ).to(self._device)\n",
    "\n",
    "def evaluate_VAE(model, data_in, data_out, device, metrics_lst = ['Recall(k=20)', 'Recall(k=50)', 'NDCG(k=100)',], samples_perc_per_epoch=1, batch_size=500):\n",
    "    model.to(device)\n",
    "    model.eval()\n",
    "    metric_callers = {}\n",
    "    scores = {}\n",
    "    max_topk = 0\n",
    "    for metric in metrics_lst:\n",
    "        try:\n",
    "            metric_callers[metric] = eval(metric)\n",
    "            max_topk = max(max_topk, int(metric.split(\"k=\")[-1].strip(\")\")))\n",
    "            scores[metric] = []\n",
    "        except:\n",
    "            raise NotImplementedError('metrics={} not implemented.'.format(metric))\n",
    "    \n",
    "    for batch in generate(batch_size=batch_size,\n",
    "                          device=device,\n",
    "                          data_in=data_in,\n",
    "                          data_out=data_out,\n",
    "                          samples_perc_per_epoch=samples_perc_per_epoch\n",
    "                         ):\n",
    "        \n",
    "        ratings_in = batch.get_ratings_to_dev()\n",
    "        ratings_out = batch.get_ratings(is_out=True)\n",
    "    \n",
    "        ratings_pred = model(ratings_in, calculate_loss=False).cpu().detach().numpy()\n",
    "                \n",
    "        if not (data_in is data_out):\n",
    "            ratings_pred[batch.get_ratings().nonzero()] = -np.inf\n",
    "            \n",
    "        \n",
    "        topk = argpartition(-ratings_pred, max_topk - 1, axis=1)[:, :max_topk]\n",
    "\n",
    "        # we need to sort manually\n",
    "        n_batch = ratings_out.shape[0]\n",
    "        sorted_idx = (-ratings_pred)[np.arange(n_batch)[:, None], topk].argsort()\n",
    "        topk = topk[np.arange(n_batch)[:, None], sorted_idx]\n",
    "        \n",
    "        for row in range(ratings_out.shape[0]):\n",
    "            pred_items = topk[row, :]\n",
    "            ratings_out_row  = ratings_out[row, :]\n",
    "            _, true_items, _ = sp.find(ratings_out_row)\n",
    "            \n",
    "            for metric in metrics_lst:\n",
    "                scores[metric].append(metric_callers[metric](pred_items, true_items))\n",
    "\n",
    "    for metric in scores.keys():\n",
    "        scores[metric] = np.mean(scores[metric])\n",
    "        \n",
    "    return scores"
   ]
  },
  {
   "cell_type": "markdown",
   "id": "2dce8850-722b-4a0e-84e8-01783b9590fe",
   "metadata": {},
   "source": [
    "### ML20M"
   ]
  },
  {
   "cell_type": "code",
   "execution_count": 14,
   "id": "1493465a-0f43-4809-a3d3-567535f7bb6f",
   "metadata": {},
   "outputs": [],
   "source": [
    "model_kwargs = {\n",
    "    'hidden_dim': 600,\n",
    "    'latent_dim': 200,\n",
    "    'input_dim': 20108\n",
    "}"
   ]
  },
  {
   "cell_type": "code",
   "execution_count": 15,
   "id": "5dafdda9-ab44-4af8-95c5-c670faae4c21",
   "metadata": {},
   "outputs": [
    {
     "data": {
      "text/plain": [
       "<All keys matched successfully>"
      ]
     },
     "execution_count": 15,
     "metadata": {},
     "output_type": "execute_result"
    }
   ],
   "source": [
    "model_best = VAE(**model_kwargs)\n",
    "model_best.load_state_dict(torch.load('RecVAE/ml20m_best'))"
   ]
  },
  {
   "cell_type": "code",
   "execution_count": 16,
   "id": "22a7244f-5c36-4280-a2a1-2d8ca93c8a4a",
   "metadata": {},
   "outputs": [],
   "source": [
    "gpu = torch.device(\"cuda:0\")"
   ]
  },
  {
   "cell_type": "code",
   "execution_count": 17,
   "id": "598998d7-1389-4bba-b4bf-cab2a3ec6af9",
   "metadata": {},
   "outputs": [
    {
     "data": {
      "text/plain": [
       "{'Recall(k=20)': 0.41422593409041947,\n",
       " 'Recall(k=50)': 0.554342493936054,\n",
       " 'NDCG(k=100)': 0.44284833890062303}"
      ]
     },
     "execution_count": 17,
     "metadata": {},
     "output_type": "execute_result"
    }
   ],
   "source": [
    "evaluate_VAE(model=model_best, \n",
    "             data_in=X_test_tr_ML20M, \n",
    "             data_out=X_test_te_ML20M, \n",
    "             device=gpu, #='cpu',\n",
    "             metrics_lst = ['Recall(k=20)', 'Recall(k=50)', 'NDCG(k=100)',], \n",
    "             samples_perc_per_epoch=1, \n",
    "             batch_size=500)"
   ]
  },
  {
   "cell_type": "markdown",
   "id": "0f20eb12-0e6a-47b9-814a-804939215c6d",
   "metadata": {},
   "source": [
    "#### GPU Times"
   ]
  },
  {
   "cell_type": "code",
   "execution_count": 18,
   "id": "b5418979-6db0-4bfb-88fb-89a26222949d",
   "metadata": {},
   "outputs": [
    {
     "data": {
      "text/plain": [
       "(0.007976332239923067, 0.0005040700495999772)"
      ]
     },
     "execution_count": 18,
     "metadata": {},
     "output_type": "execute_result"
    }
   ],
   "source": [
    "timeit_dense_VAE(model_best, \n",
    "                 device=gpu, \n",
    "                 X_test_tr=X_test_tr_ML20M, \n",
    "                 n_users_test=X_test_tr_ML20M.shape[0], \n",
    "                 max_k = 100)"
   ]
  },
  {
   "cell_type": "markdown",
   "id": "0494226d-989a-4c14-857d-791d427a5967",
   "metadata": {},
   "source": [
    "#### CPU Times"
   ]
  },
  {
   "cell_type": "code",
   "execution_count": 19,
   "id": "84871d85-d1da-4bc1-9945-5b06e0328c97",
   "metadata": {},
   "outputs": [
    {
     "data": {
      "text/plain": [
       "(0.06844658839982003, 0.0013716692335001427)"
      ]
     },
     "execution_count": 19,
     "metadata": {},
     "output_type": "execute_result"
    }
   ],
   "source": [
    "timeit_dense_VAE(model_best, \n",
    "                 device='cpu', \n",
    "                 X_test_tr=X_test_tr_ML20M, \n",
    "                 n_users_test=X_test_tr_ML20M.shape[0], \n",
    "                 max_k = 100)"
   ]
  },
  {
   "cell_type": "code",
   "execution_count": null,
   "id": "97d383d7-a2e6-49b3-b3e6-ec80bbb743a3",
   "metadata": {},
   "outputs": [],
   "source": []
  },
  {
   "cell_type": "code",
   "execution_count": null,
   "id": "6c88bcdf-8465-4b9c-bfee-42f0c9190ff1",
   "metadata": {},
   "outputs": [],
   "source": []
  },
  {
   "cell_type": "markdown",
   "id": "d87a9b48-bcc8-46bc-bc0a-2afea3e19399",
   "metadata": {},
   "source": [
    "### Netflix"
   ]
  },
  {
   "cell_type": "code",
   "execution_count": 20,
   "id": "d4605487-16e9-457f-be73-520648ff5f3a",
   "metadata": {},
   "outputs": [],
   "source": [
    "model_kwargs = {\n",
    "    'hidden_dim': 600,\n",
    "    'latent_dim': 200,\n",
    "    'input_dim': 17769\n",
    "}"
   ]
  },
  {
   "cell_type": "code",
   "execution_count": 21,
   "id": "449c8041-a447-4fb1-8ca0-1a56bc9bc921",
   "metadata": {},
   "outputs": [
    {
     "data": {
      "text/plain": [
       "<All keys matched successfully>"
      ]
     },
     "execution_count": 21,
     "metadata": {},
     "output_type": "execute_result"
    }
   ],
   "source": [
    "model_best = VAE(**model_kwargs)\n",
    "model_best.load_state_dict(torch.load('RecVAE/netflix_best'))"
   ]
  },
  {
   "cell_type": "code",
   "execution_count": 22,
   "id": "c3eb8848-378f-4530-9295-d764448810c2",
   "metadata": {},
   "outputs": [],
   "source": [
    "gpu = torch.device(\"cuda:0\")"
   ]
  },
  {
   "cell_type": "code",
   "execution_count": 23,
   "id": "e6de12f7-d380-4b3a-a4b6-005d7d9ecda4",
   "metadata": {},
   "outputs": [
    {
     "data": {
      "text/plain": [
       "{'Recall(k=20)': 0.36266024174140277,\n",
       " 'Recall(k=50)': 0.4533128744640806,\n",
       " 'NDCG(k=100)': 0.39479793227199245}"
      ]
     },
     "execution_count": 23,
     "metadata": {},
     "output_type": "execute_result"
    }
   ],
   "source": [
    "evaluate_VAE(model=model_best, \n",
    "             data_in=X_test_tr_netflix, \n",
    "             data_out=X_test_te_netflix, \n",
    "             device=gpu, #='cpu',\n",
    "             metrics_lst = ['Recall(k=20)', 'Recall(k=50)', 'NDCG(k=100)',], \n",
    "             samples_perc_per_epoch=1, \n",
    "             batch_size=500)"
   ]
  },
  {
   "cell_type": "markdown",
   "id": "e511fd36-9701-43b1-b6f4-6bcfb3f65699",
   "metadata": {},
   "source": [
    "#### GPU Times"
   ]
  },
  {
   "cell_type": "code",
   "execution_count": 24,
   "id": "f9b59b28-4743-4aa6-ae48-b20bff159ff3",
   "metadata": {},
   "outputs": [
    {
     "data": {
      "text/plain": [
       "(0.006986608479928691, 0.0004566206084011356)"
      ]
     },
     "execution_count": 24,
     "metadata": {},
     "output_type": "execute_result"
    }
   ],
   "source": [
    "timeit_dense_VAE(model_best, \n",
    "                 device=gpu, \n",
    "                 X_test_tr=X_test_tr_netflix, \n",
    "                 n_users_test=X_test_tr_netflix.shape[0], \n",
    "                 max_k = 100)"
   ]
  },
  {
   "cell_type": "markdown",
   "id": "6563313b-6427-4119-a8dd-f665ef026c26",
   "metadata": {},
   "source": [
    "#### CPU Times"
   ]
  },
  {
   "cell_type": "code",
   "execution_count": 25,
   "id": "bbd79ed8-c8ed-4eb9-80a9-3a078341e204",
   "metadata": {},
   "outputs": [
    {
     "data": {
      "text/plain": [
       "(0.06142326380067971, 0.001217555672985327)"
      ]
     },
     "execution_count": 25,
     "metadata": {},
     "output_type": "execute_result"
    }
   ],
   "source": [
    "timeit_dense_VAE(model_best, \n",
    "                 device='cpu', \n",
    "                 X_test_tr=X_test_tr_netflix, \n",
    "                 n_users_test=X_test_tr_netflix.shape[0], \n",
    "                 max_k = 100)"
   ]
  },
  {
   "cell_type": "code",
   "execution_count": null,
   "id": "3a2c50b4-efef-4c53-8de1-9efa7171638e",
   "metadata": {},
   "outputs": [],
   "source": []
  },
  {
   "cell_type": "code",
   "execution_count": null,
   "id": "f0647690-a7bb-4a24-8920-30171239aa86",
   "metadata": {},
   "outputs": [],
   "source": []
  },
  {
   "cell_type": "code",
   "execution_count": null,
   "id": "0ab80a51-e2d2-4011-b7b9-6db01357bc0a",
   "metadata": {},
   "outputs": [],
   "source": []
  },
  {
   "cell_type": "markdown",
   "id": "803bf9d6-c7e6-42c7-a1d4-822c599228b9",
   "metadata": {},
   "source": [
    "### MSD"
   ]
  },
  {
   "cell_type": "code",
   "execution_count": 26,
   "id": "5a55ec77-e8a8-4e11-b694-eaeacab2a175",
   "metadata": {},
   "outputs": [],
   "source": [
    "model_kwargs = {\n",
    "    'hidden_dim': 600,\n",
    "    'latent_dim': 200,\n",
    "    'input_dim': 41140\n",
    "}"
   ]
  },
  {
   "cell_type": "code",
   "execution_count": 27,
   "id": "04256613-a562-48da-a259-a5f97e5673f3",
   "metadata": {},
   "outputs": [
    {
     "data": {
      "text/plain": [
       "<All keys matched successfully>"
      ]
     },
     "execution_count": 27,
     "metadata": {},
     "output_type": "execute_result"
    }
   ],
   "source": [
    "model_best = VAE(**model_kwargs)\n",
    "model_best.load_state_dict(torch.load('RecVAE/msd_best'))"
   ]
  },
  {
   "cell_type": "code",
   "execution_count": 28,
   "id": "1951279a-ff35-453f-8c2d-29629a1c1d36",
   "metadata": {},
   "outputs": [],
   "source": [
    "gpu = torch.device(\"cuda:0\")"
   ]
  },
  {
   "cell_type": "code",
   "execution_count": 29,
   "id": "6b816bd3-ab9f-4b75-8160-dad078b4f21b",
   "metadata": {},
   "outputs": [
    {
     "data": {
      "text/plain": [
       "{'Recall(k=20)': 0.27711796495266,\n",
       " 'Recall(k=50)': 0.37538190093131724,\n",
       " 'NDCG(k=100)': 0.32709714843412047}"
      ]
     },
     "execution_count": 29,
     "metadata": {},
     "output_type": "execute_result"
    }
   ],
   "source": [
    "evaluate_VAE(model=model_best, \n",
    "             data_in=X_test_tr_msd, \n",
    "             data_out=X_test_te_msd, \n",
    "             device=gpu, #='cpu',\n",
    "             metrics_lst = ['Recall(k=20)', 'Recall(k=50)', 'NDCG(k=100)',], \n",
    "             samples_perc_per_epoch=1, \n",
    "             batch_size=500)"
   ]
  },
  {
   "cell_type": "markdown",
   "id": "14a42996-001b-4c02-8279-7e943364df1a",
   "metadata": {},
   "source": [
    "Matches results from the paper. Might be improved by further hyperparam optimization. Seems like they optimized the model for ML20M and then just changed the gamma param."
   ]
  },
  {
   "cell_type": "markdown",
   "id": "5edf73e8-be66-4bfa-861b-8355514fe30b",
   "metadata": {},
   "source": [
    "#### GPU Times"
   ]
  },
  {
   "cell_type": "code",
   "execution_count": 30,
   "id": "0d07373e-8da6-4d9b-9f8e-31b19ff057da",
   "metadata": {},
   "outputs": [
    {
     "data": {
      "text/plain": [
       "(0.024473337250674375, 0.00048650301440211476)"
      ]
     },
     "execution_count": 30,
     "metadata": {},
     "output_type": "execute_result"
    }
   ],
   "source": [
    "timeit_dense_VAE(model_best, \n",
    "                 device=gpu, \n",
    "                 X_test_tr=X_test_tr_msd, \n",
    "                 n_users_test=X_test_tr_msd.shape[0], \n",
    "                 max_k = 100)"
   ]
  },
  {
   "cell_type": "markdown",
   "id": "d5f19567-bfe3-4a50-ac20-27384e6fcb93",
   "metadata": {},
   "source": [
    "#### CPU Times"
   ]
  },
  {
   "cell_type": "code",
   "execution_count": 31,
   "id": "d2851fbd-32d3-46de-b168-a79e8859ff0f",
   "metadata": {},
   "outputs": [
    {
     "data": {
      "text/plain": [
       "(0.13757240600534715, 0.003775026771982084)"
      ]
     },
     "execution_count": 31,
     "metadata": {},
     "output_type": "execute_result"
    }
   ],
   "source": [
    "timeit_dense_VAE(model_best, \n",
    "                 device='cpu', \n",
    "                 X_test_tr=X_test_tr_msd, \n",
    "                 n_users_test=X_test_tr_msd.shape[0], \n",
    "                 max_k = 100)"
   ]
  },
  {
   "cell_type": "code",
   "execution_count": null,
   "id": "752bae21-a972-42a9-8a96-2008921fbb7e",
   "metadata": {},
   "outputs": [],
   "source": []
  },
  {
   "cell_type": "code",
   "execution_count": null,
   "id": "1797190c-967e-4510-876c-23fcb33c2e8c",
   "metadata": {},
   "outputs": [],
   "source": []
  }
 ],
 "metadata": {
  "kernelspec": {
   "display_name": "Python 3 (ipykernel)",
   "language": "python",
   "name": "python3"
  },
  "language_info": {
   "codemirror_mode": {
    "name": "ipython",
    "version": 3
   },
   "file_extension": ".py",
   "mimetype": "text/x-python",
   "name": "python",
   "nbconvert_exporter": "python",
   "pygments_lexer": "ipython3",
   "version": "3.9.12"
  },
  "toc-autonumbering": true
 },
 "nbformat": 4,
 "nbformat_minor": 5
}
